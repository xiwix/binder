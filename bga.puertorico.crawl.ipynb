{
 "cells": [
  {
   "cell_type": "code",
   "execution_count": null,
   "metadata": {},
   "outputs": [],
   "source": [
    "%%bash\n",
    "pip install lxml\n",
    "#pip install requests\n",
    "#pip install futures\n",
    "pip install jsonpath-rw\n",
    "pip install jsonpath-rw-ext"
   ]
  },
  {
   "cell_type": "code",
   "execution_count": 9,
   "metadata": {},
   "outputs": [],
   "source": [
    "import requests\n",
    "import concurrent.futures\n",
    "\n",
    "from lxml import html\n",
    "from IPython.display import JSON,HTML\n",
    "\n",
    "from jsonpath_rw import jsonpath, parse\n",
    "import jsonpath_rw_ext as jsonp\n",
    "import collections\n",
    "import os"
   ]
  },
  {
   "cell_type": "code",
   "execution_count": 10,
   "metadata": {},
   "outputs": [],
   "source": [
    "import json\n",
    "from json import JSONEncoder, JSONDecoder\n",
    "import pickle\n",
    "\n",
    "class PythonObjectEncoder(JSONEncoder):\n",
    "    def default(self, obj):\n",
    "        if isinstance(obj, (list, dict, str, unicode, int, float, bool, type(None))):\n",
    "            return JSONEncoder.default(self, obj)\n",
    "        return {'_python_object': pickle.dumps(obj)}\n",
    "\n",
    "def as_python_object(dct):\n",
    "    if '_python_object' in dct:\n",
    "        return pickle.loads(str(dct['_python_object']))\n",
    "    return dct\n",
    "\n",
    "def save_to_json_file(filename, content):\n",
    "    temp = json.dumps(content, cls=PythonObjectEncoder)\n",
    "    return save_to_file(filename, temp)\n",
    "\n",
    "def save_to_file(filename, content):\n",
    "    with open(filename, 'w') as file:\n",
    "        file.write(content)\n",
    "    return \"saved \" + filename    \n",
    "\n",
    "def load_from_json_file(file_name):\n",
    "    content = load_from_file(file_name)\n",
    "    result = json.load(content, object_hook=as_python_object)\n",
    "    return result\n",
    "\n",
    "def load_from_file(file_name):\n",
    "    content = open(file_name)\n",
    "    return content\n",
    "\n",
    "def as_json(content):\n",
    "    return json.loads(content)"
   ]
  },
  {
   "cell_type": "code",
   "execution_count": 30,
   "metadata": {},
   "outputs": [],
   "source": [
    "def select_all(key):\n",
    "    return lambda data: jsonp.match(key, data)\n",
    "\n",
    "def select_one(key):\n",
    "    return lambda data: jsonp.match1(key, data)\n",
    "\n",
    "def contains(key, value):\n",
    "    return lambda data: jsonp.match1(key, data) == value\n",
    "\n",
    "def all_of(*filters):\n",
    "    def fn(data):\n",
    "        for f in filters:\n",
    "            if not f(data):\n",
    "                return False\n",
    "        return True  \n",
    "    return fn"
   ]
  },
  {
   "cell_type": "code",
   "execution_count": 11,
   "metadata": {},
   "outputs": [],
   "source": [
    "points = [1, 5, 20, 100, 500]\n",
    "\n",
    "import sys\n",
    "\n",
    "def print_progress(i):\n",
    "    if (i % points[0] == 0):\n",
    "        if (i % points[1] == 0):\n",
    "            sys.stdout.write(' ')\n",
    "            if (i % points[2] == 0):\n",
    "                sys.stdout.write('  ')\n",
    "                if (i % points[3] == 0):\n",
    "                    sys.stdout.write('\\n')\n",
    "                    if (i % points[4] == 0):\n",
    "                        sys.stdout.write('\\n')\n",
    "        sys.stdout.write('.')\n",
    "        sys.stdout.flush()                        "
   ]
  },
  {
   "cell_type": "code",
   "execution_count": 13,
   "metadata": {},
   "outputs": [],
   "source": [
    "def load_latest_tables(batch, from_time, from_id=1):\n",
    "    url = site + '/message/board?type=lastresult&social=false&dojo.preventCache=1537975056450&id=14'+\\\n",
    "        '&page=0&per_page={per_page}&from_time={from_time}&from_id={from_id}'.format(per_page=batch, from_id=from_id, from_time=from_time)\n",
    "    page = s.get(url).text\n",
    "    return as_json(page)"
   ]
  },
  {
   "cell_type": "code",
   "execution_count": 18,
   "metadata": {},
   "outputs": [],
   "source": [
    "def load_batch(amout, from_time=1550000000):\n",
    "    result = []\n",
    "    x = load_latest_tables(amout, from_time)\n",
    "    for t in x['data']:\n",
    "        tree = html.fromstring(t['html'])\n",
    "        ll = tree.xpath('//a/@href')\n",
    "        ids = [l[l.find('=')+1:] for l in ll]\n",
    "        (ids[0], ids[1], len(ids)-1, t['timestamp'])\n",
    "        result.append({\n",
    "            'table': ids[0], \n",
    "            'player': ids[1], \n",
    "            'player_amount': len(ids)-1, \n",
    "            'timestamp': t['timestamp']\n",
    "        })\n",
    "    return result"
   ]
  },
  {
   "cell_type": "code",
   "execution_count": 19,
   "metadata": {},
   "outputs": [],
   "source": [
    "def table_iterator(stop=30, batch=5000, ts=1550000000):\n",
    "#     print('starting with ' + str(dict(stop=stop, batch=batch, ts = ts)))\n",
    "    for i in range(stop // batch):\n",
    "        for t in load_batch(batch, ts):\n",
    "            yield t\n",
    "        if t:\n",
    "            ts = t['timestamp']\n",
    "        print_progress(i)\n",
    "    for t in load_batch(stop % batch, ts):\n",
    "        yield t"
   ]
  },
  {
   "cell_type": "code",
   "execution_count": 79,
   "metadata": {},
   "outputs": [],
   "source": [
    "def get_table_info(tbl):\n",
    "    url = site + '/table/table/tableinfos.html?id={table}&dojo.preventCache=1537970039954'.format(table=tbl)\n",
    "    page = s.get(url).text\n",
    "    data = as_json(page)['data']\n",
    "    return data\n",
    "\n",
    "def get_table_datas(table, player, version):\n",
    "    url = site + '/archive/replay/{version}/?table={table}&player={player}&comments=1' \\\n",
    "        .format(table=table, player=player, version=version)\n",
    "    page = s.get(url).text\n",
    "\n",
    "    tree = html.fromstring(page)\n",
    "    nodes = tree.xpath('//div[@id=\"overall-content\"]/script')\n",
    "    if not nodes:\n",
    "        nodes = tree.xpath('//b[@id=\"bga_fatal_error_descr\"]')\n",
    "        raise Exception(nodes[0].text_content())\n",
    "    text = nodes[0].text_content()\n",
    "    \n",
    "    start = text.find('completesetup')\n",
    "    end = text.find('\\n', start)\n",
    "    return as_json('[' +text[start+14:end-2]+']')\n",
    "\n",
    "def get_game_log(table):\n",
    "    url = site + '/archive/archive/logs.html?table={table}&translated=false&dojo.preventCache=1537972617341' \\\n",
    "        .format(table=table)\n",
    "    page = s.get(url).text\n",
    "    return as_json(page)"
   ]
  },
  {
   "cell_type": "code",
   "execution_count": 31,
   "metadata": {},
   "outputs": [],
   "source": [
    "def valid(info):\n",
    "    return all_of(\n",
    "        contains('$.options.\"100\".value', '0'),\n",
    "        contains('$.options.\"101\".value', '0'),\n",
    "        contains('$.options.\"102\".value', '0'),\n",
    "        contains('$.options.\"103\".value', '0')                      \n",
    "    )(info)"
   ]
  },
  {
   "cell_type": "code",
   "execution_count": 23,
   "metadata": {},
   "outputs": [],
   "source": [
    "def load_table_datas(table, player):\n",
    "    info = get_table_info(table)\n",
    "    if not valid(info):\n",
    "        return None\n",
    "    datas = get_table_datas(table, player, info['siteversion'])\n",
    "    log = get_game_log(table)\n",
    "    return {\n",
    "        'table': table,\n",
    "        'info': info,\n",
    "        'datas': datas,\n",
    "        'log': log\n",
    "    }"
   ]
  },
  {
   "cell_type": "code",
   "execution_count": 54,
   "metadata": {},
   "outputs": [],
   "source": [
    "def prepare_table_datas(table, player, **kvargs):\n",
    "    info = get_table_info(table)\n",
    "    if not valid(info):\n",
    "        return None\n",
    "    return {\n",
    "        'table': table,\n",
    "        'player': player,\n",
    "        'version': info['siteversion']\n",
    "    }"
   ]
  },
  {
   "cell_type": "code",
   "execution_count": 32,
   "metadata": {},
   "outputs": [],
   "source": [
    "import os.path\n",
    "\n",
    "def load_table(t):\n",
    "    tbl = t['table']\n",
    "    fn = 'pr/pr_{}.json'.format(tbl)\n",
    "    if os.path.exists(fn):\n",
    "        pass\n",
    "    d = load_table_datas(tbl, t['player'])\n",
    "    if d:\n",
    "        save_to_json_file(fn, d)"
   ]
  },
  {
   "cell_type": "code",
   "execution_count": 25,
   "metadata": {},
   "outputs": [
    {
     "data": {
      "text/plain": [
       "<Response [200]>"
      ]
     },
     "execution_count": 25,
     "metadata": {},
     "output_type": "execute_result"
    }
   ],
   "source": [
    "site = '/moc.aneraemagdraob.ne//:sptth'[::-1]\n",
    "# user = {'email' : 'tolar', 'password' : 'here'}\n",
    "# user = {'email' : 'RMelin', 'password' : 'Melin123', 'email': 'e7087812@nwytg.net'}\n",
    "user = {'email' : 'RobertNN', 'password' : 'RobertN123', 'email': 'e7107542@nwytg.net'}\n",
    "filename = \"pr_tables.json\"\n",
    "\n",
    "s = requests.Session()\n",
    "s.post(site + 'account/account/login.html', data = user)"
   ]
  },
  {
   "cell_type": "raw",
   "metadata": {},
   "source": [
    "result = load_from_json_file(filename)\n",
    "ts = result[-1]['timestamp'] if result else 1550000000\n",
    "\n",
    "result += [i for i in table_iterator(int(1e4), ts=ts)]\n",
    "print('', len(result))\n",
    "save_to_json_file(filename, result)\n",
    "print(result[-1]) # ('40883526', '1520860289', 2)"
   ]
  },
  {
   "cell_type": "code",
   "execution_count": 26,
   "metadata": {},
   "outputs": [
    {
     "data": {
      "text/plain": [
       "100616"
      ]
     },
     "execution_count": 26,
     "metadata": {},
     "output_type": "execute_result"
    }
   ],
   "source": [
    "l = [x for x in load_from_json_file(filename) if x['player_amount'] == 4]\n",
    "len(l)"
   ]
  },
  {
   "cell_type": "code",
   "execution_count": 82,
   "metadata": {},
   "outputs": [
    {
     "name": "stdout",
     "output_type": "stream",
     "text": [
      "608\n"
     ]
    }
   ],
   "source": [
    "%%bash\n",
    "ls pr | wc -l "
   ]
  },
  {
   "cell_type": "code",
   "execution_count": 56,
   "metadata": {},
   "outputs": [],
   "source": [
    "x = prepare_table_datas(**l[1120])"
   ]
  },
  {
   "cell_type": "code",
   "execution_count": 47,
   "metadata": {},
   "outputs": [
    {
     "name": "stdout",
     "output_type": "stream",
     "text": [
      "1120\n",
      "1122\n",
      "1123\n",
      "1128\n"
     ]
    }
   ],
   "source": [
    "for i,t in enumerate(l[1100:1130]):\n",
    "    fn = 'pr/pr_{}.json'.format(t['table'])\n",
    "    if not os.path.exists(fn):\n",
    "        info = get_table_info(t['table'])\n",
    "        if valid(info):\n",
    "            print(1100+i)"
   ]
  },
  {
   "cell_type": "code",
   "execution_count": 81,
   "metadata": {},
   "outputs": [
    {
     "name": "stdout",
     "output_type": "stream",
     "text": [
      "   \n",
      "\n",
      "."
     ]
    },
    {
     "ename": "Exception",
     "evalue": "You have reached a limit (replay)",
     "output_type": "error",
     "traceback": [
      "\u001b[0;31m---------------------------------------------------------------------------\u001b[0m",
      "\u001b[0;31mException\u001b[0m                                 Traceback (most recent call last)",
      "\u001b[0;32m<ipython-input-81-18a8d704bee8>\u001b[0m in \u001b[0;36m<module>\u001b[0;34m()\u001b[0m\n\u001b[1;32m      1\u001b[0m \u001b[0;32mfor\u001b[0m \u001b[0mi\u001b[0m\u001b[0;34m,\u001b[0m\u001b[0mt\u001b[0m \u001b[0;32min\u001b[0m \u001b[0menumerate\u001b[0m\u001b[0;34m(\u001b[0m\u001b[0ml\u001b[0m\u001b[0;34m[\u001b[0m\u001b[0;36m1120\u001b[0m\u001b[0;34m:\u001b[0m\u001b[0;36m1130\u001b[0m\u001b[0;34m]\u001b[0m\u001b[0;34m)\u001b[0m\u001b[0;34m:\u001b[0m\u001b[0;34m\u001b[0m\u001b[0m\n\u001b[1;32m      2\u001b[0m     \u001b[0mprint_progress\u001b[0m\u001b[0;34m(\u001b[0m\u001b[0mi\u001b[0m\u001b[0;34m)\u001b[0m\u001b[0;34m\u001b[0m\u001b[0m\n\u001b[0;32m----> 3\u001b[0;31m     \u001b[0mload_table\u001b[0m\u001b[0;34m(\u001b[0m\u001b[0mt\u001b[0m\u001b[0;34m)\u001b[0m\u001b[0;34m\u001b[0m\u001b[0m\n\u001b[0m",
      "\u001b[0;32m<ipython-input-32-be3317a38864>\u001b[0m in \u001b[0;36mload_table\u001b[0;34m(t)\u001b[0m\n\u001b[1;32m      6\u001b[0m     \u001b[0;32mif\u001b[0m \u001b[0mos\u001b[0m\u001b[0;34m.\u001b[0m\u001b[0mpath\u001b[0m\u001b[0;34m.\u001b[0m\u001b[0mexists\u001b[0m\u001b[0;34m(\u001b[0m\u001b[0mfn\u001b[0m\u001b[0;34m)\u001b[0m\u001b[0;34m:\u001b[0m\u001b[0;34m\u001b[0m\u001b[0m\n\u001b[1;32m      7\u001b[0m         \u001b[0;32mpass\u001b[0m\u001b[0;34m\u001b[0m\u001b[0m\n\u001b[0;32m----> 8\u001b[0;31m     \u001b[0md\u001b[0m \u001b[0;34m=\u001b[0m \u001b[0mload_table_datas\u001b[0m\u001b[0;34m(\u001b[0m\u001b[0mtbl\u001b[0m\u001b[0;34m,\u001b[0m \u001b[0mt\u001b[0m\u001b[0;34m[\u001b[0m\u001b[0;34m'player'\u001b[0m\u001b[0;34m]\u001b[0m\u001b[0;34m)\u001b[0m\u001b[0;34m\u001b[0m\u001b[0m\n\u001b[0m\u001b[1;32m      9\u001b[0m     \u001b[0;32mif\u001b[0m \u001b[0md\u001b[0m\u001b[0;34m:\u001b[0m\u001b[0;34m\u001b[0m\u001b[0m\n\u001b[1;32m     10\u001b[0m         \u001b[0msave_to_json_file\u001b[0m\u001b[0;34m(\u001b[0m\u001b[0mfn\u001b[0m\u001b[0;34m,\u001b[0m \u001b[0md\u001b[0m\u001b[0;34m)\u001b[0m\u001b[0;34m\u001b[0m\u001b[0m\n",
      "\u001b[0;32m<ipython-input-23-c200ec5ee764>\u001b[0m in \u001b[0;36mload_table_datas\u001b[0;34m(table, player)\u001b[0m\n\u001b[1;32m      4\u001b[0m         \u001b[0;32mif\u001b[0m \u001b[0;32mnot\u001b[0m \u001b[0mvalid\u001b[0m\u001b[0;34m(\u001b[0m\u001b[0minfo\u001b[0m\u001b[0;34m)\u001b[0m\u001b[0;34m:\u001b[0m\u001b[0;34m\u001b[0m\u001b[0m\n\u001b[1;32m      5\u001b[0m             \u001b[0;32mreturn\u001b[0m \u001b[0;32mNone\u001b[0m\u001b[0;34m\u001b[0m\u001b[0m\n\u001b[0;32m----> 6\u001b[0;31m         \u001b[0mdatas\u001b[0m \u001b[0;34m=\u001b[0m \u001b[0mget_table_datas\u001b[0m\u001b[0;34m(\u001b[0m\u001b[0mtable\u001b[0m\u001b[0;34m,\u001b[0m \u001b[0mplayer\u001b[0m\u001b[0;34m,\u001b[0m \u001b[0minfo\u001b[0m\u001b[0;34m[\u001b[0m\u001b[0;34m'siteversion'\u001b[0m\u001b[0;34m]\u001b[0m\u001b[0;34m)\u001b[0m\u001b[0;34m\u001b[0m\u001b[0m\n\u001b[0m\u001b[1;32m      7\u001b[0m         \u001b[0mlog\u001b[0m \u001b[0;34m=\u001b[0m \u001b[0mget_game_log\u001b[0m\u001b[0;34m(\u001b[0m\u001b[0mtable\u001b[0m\u001b[0;34m)\u001b[0m\u001b[0;34m\u001b[0m\u001b[0m\n\u001b[1;32m      8\u001b[0m         return {\n",
      "\u001b[0;32m<ipython-input-79-e2400eb202eb>\u001b[0m in \u001b[0;36mget_table_datas\u001b[0;34m(table, player, version)\u001b[0m\n\u001b[1;32m     13\u001b[0m     \u001b[0;32mif\u001b[0m \u001b[0;32mnot\u001b[0m \u001b[0mnodes\u001b[0m\u001b[0;34m:\u001b[0m\u001b[0;34m\u001b[0m\u001b[0m\n\u001b[1;32m     14\u001b[0m         \u001b[0mnodes\u001b[0m \u001b[0;34m=\u001b[0m \u001b[0mtree\u001b[0m\u001b[0;34m.\u001b[0m\u001b[0mxpath\u001b[0m\u001b[0;34m(\u001b[0m\u001b[0;34m'//b[@id=\"bga_fatal_error_descr\"]'\u001b[0m\u001b[0;34m)\u001b[0m\u001b[0;34m\u001b[0m\u001b[0m\n\u001b[0;32m---> 15\u001b[0;31m         \u001b[0;32mraise\u001b[0m \u001b[0mException\u001b[0m\u001b[0;34m(\u001b[0m\u001b[0mnodes\u001b[0m\u001b[0;34m[\u001b[0m\u001b[0;36m0\u001b[0m\u001b[0;34m]\u001b[0m\u001b[0;34m.\u001b[0m\u001b[0mtext_content\u001b[0m\u001b[0;34m(\u001b[0m\u001b[0;34m)\u001b[0m\u001b[0;34m)\u001b[0m\u001b[0;34m\u001b[0m\u001b[0m\n\u001b[0m\u001b[1;32m     16\u001b[0m     \u001b[0mtext\u001b[0m \u001b[0;34m=\u001b[0m \u001b[0mnodes\u001b[0m\u001b[0;34m[\u001b[0m\u001b[0;36m0\u001b[0m\u001b[0;34m]\u001b[0m\u001b[0;34m.\u001b[0m\u001b[0mtext_content\u001b[0m\u001b[0;34m(\u001b[0m\u001b[0;34m)\u001b[0m\u001b[0;34m\u001b[0m\u001b[0m\n\u001b[1;32m     17\u001b[0m \u001b[0;34m\u001b[0m\u001b[0m\n",
      "\u001b[0;31mException\u001b[0m: You have reached a limit (replay)"
     ]
    }
   ],
   "source": [
    "for i,t in enumerate(l[1120:1130]):\n",
    "    print_progress(i)\n",
    "    load_table(t)"
   ]
  },
  {
   "cell_type": "code",
   "execution_count": null,
   "metadata": {},
   "outputs": [],
   "source": [
    "%%bash\n",
    "# tar -cvzf pr_4.tgz pr\n",
    "# tar -cvzf pr_tables.tgz pr_tables.json\n",
    "tar -xzf pr_tables.tgz\n",
    "tar -xvzf pr_4.tgz | wc -l"
   ]
  },
  {
   "cell_type": "code",
   "execution_count": null,
   "metadata": {},
   "outputs": [],
   "source": []
  }
 ],
 "metadata": {
  "kernelspec": {
   "display_name": "Python 3",
   "language": "python",
   "name": "python3"
  },
  "language_info": {
   "codemirror_mode": {
    "name": "ipython",
    "version": 3
   },
   "file_extension": ".py",
   "mimetype": "text/x-python",
   "name": "python",
   "nbconvert_exporter": "python",
   "pygments_lexer": "ipython3",
   "version": "3.6.6"
  }
 },
 "nbformat": 4,
 "nbformat_minor": 2
}
