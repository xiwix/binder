{
 "cells": [
  {
   "cell_type": "markdown",
   "metadata": {},
   "source": [
    "## Init & utils"
   ]
  },
  {
   "cell_type": "code",
   "execution_count": null,
   "metadata": {},
   "outputs": [],
   "source": [
    "# !tar -xvzf pr_4.tgz | wc -l"
   ]
  },
  {
   "cell_type": "code",
   "execution_count": null,
   "metadata": {},
   "outputs": [],
   "source": [
    "import collections\n",
    "\n",
    "from jsonpath_rw import jsonpath, parse\n",
    "import jsonpath_rw_ext as jsonp"
   ]
  },
  {
   "cell_type": "code",
   "execution_count": null,
   "metadata": {},
   "outputs": [],
   "source": [
    "import os\n",
    "import json \n",
    "from json import JSONEncoder, JSONDecoder\n",
    "import pickle\n",
    "\n",
    "class PythonObjectEncoder(JSONEncoder):\n",
    "    def default(self, obj):\n",
    "        if isinstance(obj, (list, dict, str, unicode, int, float, bool, type(None))):\n",
    "            return JSONEncoder.default(self, obj)\n",
    "        return {'_python_object': pickle.dumps(obj)}\n",
    "\n",
    "def as_python_object(dct):\n",
    "    if '_python_object' in dct:\n",
    "        return pickle.loads(str(dct['_python_object']))\n",
    "    return dct\n",
    "\n",
    "def save_to_json_file(filename, content):\n",
    "    temp = json.dumps(content, cls=PythonObjectEncoder)\n",
    "    with open(filename, 'w') as file:\n",
    "        file.write(temp)\n",
    "    return \"saved \" + filename    \n",
    "\n",
    "def load_from_json_file(file_name):\n",
    "    with open(file_name) as f:\n",
    "        return json.load(f, object_hook=as_python_object)"
   ]
  },
  {
   "cell_type": "markdown",
   "metadata": {},
   "source": [
    "## Printing"
   ]
  },
  {
   "cell_type": "code",
   "execution_count": null,
   "metadata": {},
   "outputs": [],
   "source": [
    "from pprint import pprint\n",
    "from IPython.display import JSON\n",
    "\n",
    "width = 180\n",
    "def print_line(char=' '):\n",
    "    print(char*width)"
   ]
  },
  {
   "cell_type": "code",
   "execution_count": null,
   "metadata": {},
   "outputs": [],
   "source": [
    "points = [1, 5, 20, 100, 500, 100]\n",
    "\n",
    "import sys\n",
    "import time\n",
    "from datetime import datetime\n",
    "\n",
    "def print_progress(i, timer_log=None, total=None):\n",
    "    if (i % points[0] == 0):\n",
    "        if i > 0 and (i % points[1] == 0):\n",
    "            sys.stdout.write(' ')\n",
    "            if (i % points[2] == 0):\n",
    "                sys.stdout.write('  ')\n",
    "                if (i % points[3] == 0):\n",
    "                    if total:                            \n",
    "                        timer_log = print_stats(total, i, points[5], timer_log)\n",
    "                    else:\n",
    "                        sys.stdout.write('\\n')\n",
    "                    if (i % points[4] == 0):\n",
    "                        sys.stdout.write('\\n')\n",
    "        sys.stdout.write('.')\n",
    "        sys.stdout.flush()   \n",
    "    return timer_log\n",
    "        \n",
    "def print_stats(total, processed, bunch, last_time, **kwargs):\n",
    "    now = time.time()\n",
    "    speed = (now - last_time) / 60.0\n",
    "    eta = (now - last_time) * (total - processed) / bunch\n",
    "    print('eta: {eta:%M:%S} ({speed:.1f} min/{bunch})'.format(speed = speed, eta = datetime.fromtimestamp(eta), bunch=bunch))\n",
    "    return now\n",
    "\n",
    "def with_progress(l, size=None):\n",
    "    timer_log = time.time()\n",
    "    for i,v in enumerate(l):\n",
    "        timer_log = print_progress(i, timer_log, size)\n",
    "        yield v"
   ]
  },
  {
   "cell_type": "markdown",
   "metadata": {},
   "source": [
    "## Data manipulations"
   ]
  },
  {
   "cell_type": "code",
   "execution_count": null,
   "metadata": {
    "collapsed": false
   },
   "outputs": [],
   "source": [
    "def collect_data(files, collector):\n",
    "    for f in files:\n",
    "        data = load_from_json_file(f)\n",
    "        data['file_name'] = f\n",
    "        yield collector(data)\n",
    "\n",
    "def flattern(data):\n",
    "    return [l2 for l1 in data for l2 in l1]\n",
    "\n",
    "def get_nodes(data, ptr):\n",
    "    return list(select_all(ptr)(data))"
   ]
  },
  {
   "cell_type": "code",
   "execution_count": null,
   "metadata": {},
   "outputs": [],
   "source": [
    "def select_all(key):\n",
    "    return lambda data: jsonp.match(key, data)\n",
    "\n",
    "def select_one(key):\n",
    "    return lambda data: jsonp.match1(key, data)\n",
    "\n",
    "def contains(key, value):\n",
    "    return lambda data: jsonp.match1(key, data) == value\n",
    "\n",
    "def all_of(*filters):\n",
    "    def fn(data):\n",
    "        for f in filters:\n",
    "            if not f(data):\n",
    "                return False\n",
    "        return True  \n",
    "    return fn"
   ]
  },
  {
   "cell_type": "code",
   "execution_count": null,
   "metadata": {},
   "outputs": [],
   "source": [
    "def for_each(data, *funs):\n",
    "    for fun in funs:\n",
    "        data = fun(data)\n",
    "    return data"
   ]
  },
  {
   "cell_type": "markdown",
   "metadata": {},
   "source": [
    "## Prepare data & clean up"
   ]
  },
  {
   "cell_type": "code",
   "execution_count": null,
   "metadata": {},
   "outputs": [],
   "source": [
    "%load_ext memory_profiler\n",
    "%load_ext autotime"
   ]
  },
  {
   "cell_type": "code",
   "execution_count": null,
   "metadata": {},
   "outputs": [],
   "source": [
    "from os import listdir\n",
    "from os.path import isfile, join\n",
    "\n",
    "game = 'pr'\n",
    "games = [join(game, f) for f in listdir(game) if f.endswith('.json')]\n",
    "games.sort()\n",
    "len(games)"
   ]
  },
  {
   "cell_type": "code",
   "execution_count": null,
   "metadata": {},
   "outputs": [],
   "source": [
    "rmc = []\n",
    "for f in with_progress(games, len(games)):\n",
    "    d = load_from_json_file(f)\n",
    "    if not d:\n",
    "        rmc.append(f)\n",
    "    elif not contains('$.info.result.endgame_reason', 'normal_end')(d):\n",
    "        rmc.append(f)\n",
    "    elif select_one('$..data[?(@.type == \"gameStateChange\" & @.args.action == \"stGameEnd\")].args.args.table.neutralized')(d['log']) != '0':\n",
    "        rmc.append(f)\n",
    "    elif not all_of(\n",
    "        contains('$.\"100\".value', '0'),\n",
    "        contains('$.\"101\".value', '0'),\n",
    "        contains('$.\"102\".value', '0'),\n",
    "        contains('$.\"103\".value', '0')                       \n",
    "    )(d['info']['options']):\n",
    "        rmc.append(f)\n",
    "len(rmc)"
   ]
  },
  {
   "cell_type": "code",
   "execution_count": null,
   "metadata": {},
   "outputs": [],
   "source": [
    "for f in rmc:\n",
    "    os.remove(f)\n",
    "\n",
    "!rm pr_4.tgz\n",
    "!tar -cvzf pr_4.tgz pr | wc -l"
   ]
  },
  {
   "cell_type": "markdown",
   "metadata": {},
   "source": [
    "### check single file"
   ]
  },
  {
   "cell_type": "code",
   "execution_count": null,
   "metadata": {},
   "outputs": [],
   "source": [
    "f = games[1]\n",
    "# f = 'pr/pr_44010638.json'\n",
    "# f = 'pr/pr_42000779.json'\n",
    "data1 = load_from_json_file(f)\n",
    "game_log = data1['log']['data']['data']['data']\n",
    "stat = game_log[-1]['data'][-2]['args']['args']"
   ]
  },
  {
   "cell_type": "code",
   "execution_count": null,
   "metadata": {},
   "outputs": [],
   "source": [
    "JSON(stat)"
   ]
  },
  {
   "cell_type": "markdown",
   "metadata": {},
   "source": [
    "### validate"
   ]
  },
  {
   "cell_type": "code",
   "execution_count": null,
   "metadata": {},
   "outputs": [],
   "source": [
    "def copy_ids(src, dst):\n",
    "    dst['table_id']  = src['table']\n",
    "    dst['file_name'] = src['file_name']\n",
    "    return dst    \n",
    "\n",
    "def get_logs(data):\n",
    "    result = select_one('$[*].log.data.data')(data)\n",
    "    copy_ids(data, result)\n",
    "    return result\n",
    "\n",
    "def get_stats(data):\n",
    "    result = select_one('$..data[?(@.type == \"gameStateChange\" & @.args.action == \"stGameEnd\")].args.args')(data)\n",
    "    copy_ids(data, result)\n",
    "    return result"
   ]
  },
  {
   "cell_type": "code",
   "execution_count": null,
   "metadata": {},
   "outputs": [],
   "source": [
    "sz = len(games)\n",
    "stats = list(collect_data(with_progress(games[:sz], sz), get_stats))\n",
    "print()"
   ]
  },
  {
   "cell_type": "code",
   "execution_count": null,
   "metadata": {},
   "outputs": [],
   "source": [
    "chk = [data for data in with_progress(stats) if data['table']['neutralized'] != '0']\n",
    "print(len(chk))\n",
    "pprint(chk[:5], depth=3, width=180)"
   ]
  }
 ],
 "metadata": {
  "kernelspec": {
   "display_name": "Python 3",
   "language": "python",
   "name": "python3"
  },
  "language_info": {
   "codemirror_mode": {
    "name": "ipython",
    "version": 3
   },
   "file_extension": ".py",
   "mimetype": "text/x-python",
   "name": "python",
   "nbconvert_exporter": "python",
   "pygments_lexer": "ipython3",
   "version": "3.6.6"
  }
 },
 "nbformat": 4,
 "nbformat_minor": 2
}
