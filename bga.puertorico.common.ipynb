{
 "cells": [
  {
   "cell_type": "markdown",
   "metadata": {},
   "source": [
    "## Files"
   ]
  },
  {
   "cell_type": "raw",
   "metadata": {},
   "source": [
    "%%bash\n",
    "git lfs pull\n",
    "tar -xvzf pr_4.tgz | wc -l\n",
    "tar -xvzf pr_data.tar.gz"
   ]
  },
  {
   "cell_type": "code",
   "execution_count": null,
   "metadata": {},
   "outputs": [],
   "source": [
    "import collections\n",
    "\n",
    "from jsonpath_rw import jsonpath, parse\n",
    "import jsonpath_rw_ext as jsonp"
   ]
  },
  {
   "cell_type": "code",
   "execution_count": null,
   "metadata": {},
   "outputs": [],
   "source": [
    "import os\n",
    "import json \n",
    "from json import JSONEncoder, JSONDecoder\n",
    "import pickle\n",
    "\n",
    "class PythonObjectEncoder(JSONEncoder):\n",
    "    def default(self, obj):\n",
    "        if isinstance(obj, (list, dict, str, unicode, int, float, bool, type(None))):\n",
    "            return JSONEncoder.default(self, obj)\n",
    "        return {'_python_object': pickle.dumps(obj)}\n",
    "\n",
    "def as_python_object(dct):\n",
    "    if '_python_object' in dct:\n",
    "        return pickle.loads(str(dct['_python_object']))\n",
    "    return dct\n",
    "\n",
    "def save_to_json_file(filename, content):\n",
    "    temp = json.dumps(content, cls=PythonObjectEncoder)\n",
    "    with open(filename, 'w') as file:\n",
    "        file.write(temp)\n",
    "    return \"saved \" + filename    \n",
    "\n",
    "def load_from_json_file(file_name):\n",
    "    with open(file_name) as f:\n",
    "        return json.load(f, object_hook=as_python_object)"
   ]
  },
  {
   "cell_type": "code",
   "execution_count": null,
   "metadata": {},
   "outputs": [],
   "source": [
    "def cached_to_disk(data_provider, file_name):\n",
    "    if os.path.exists(file_name):\n",
    "        return load_from_json_file(file_name)\n",
    "    else:\n",
    "        result = data_provider()\n",
    "        save_to_json_file(file_name, result)\n",
    "        return result        "
   ]
  },
  {
   "cell_type": "code",
   "execution_count": null,
   "metadata": {},
   "outputs": [],
   "source": [
    "import copy\n",
    "\n",
    "def inc_dict_val(d, k, v):\n",
    "    d[k] = int(d.get(k, 0)) + int(v)\n",
    "\n",
    "def alter_dict(D, **F):\n",
    "    result = copy.deepcopy(D)    \n",
    "    result.update(**F)\n",
    "    return result   \n",
    "\n",
    "def map_dict(src, *args, **kvargs):\n",
    "    dst = dict()\n",
    "    for v in args:\n",
    "        dst[v] = src[v]\n",
    "    for k,v in kvargs.items():\n",
    "        dst[k] = src[v]\n",
    "    return dst\n",
    "\n",
    "def remove_from_dict(d, key):\n",
    "    if key in d:\n",
    "        del d[key]"
   ]
  },
  {
   "cell_type": "code",
   "execution_count": null,
   "metadata": {},
   "outputs": [],
   "source": [
    "from IPython.display import Audio\n",
    "\n",
    "class InvisibleAudio(Audio):\n",
    "    def _repr_html_(self):\n",
    "        audio = super()._repr_html_()\n",
    "        audio = audio.replace('<audio', f'<audio onended=\"this.parentNode.removeChild(this)\"')\n",
    "        return f'<div style=\"display:none\">{audio}</div>'\n",
    "\n",
    "def notify(sound_file = './notify.mp3'):\n",
    "    display(InvisibleAudio(sound_file, autoplay=True))"
   ]
  },
  {
   "cell_type": "markdown",
   "metadata": {},
   "source": [
    "## Printing"
   ]
  },
  {
   "cell_type": "code",
   "execution_count": null,
   "metadata": {},
   "outputs": [],
   "source": [
    "from pprint import pprint\n",
    "from IPython.display import JSON,HTML\n",
    "\n",
    "width = 180\n",
    "def print_line(char=' '):\n",
    "    print(char*width)"
   ]
  },
  {
   "cell_type": "code",
   "execution_count": null,
   "metadata": {},
   "outputs": [],
   "source": [
    "import re\n",
    "\n",
    "def print_log(log, consumer=print, **args):\n",
    "    if log:\n",
    "        params = {g:'' for g in re.findall('\\$\\{([^}]+)\\}', log)}\n",
    "        params.update(args)\n",
    "        consumer(log.replace('$', '').format(**params))"
   ]
  },
  {
   "cell_type": "code",
   "execution_count": null,
   "metadata": {},
   "outputs": [],
   "source": [
    "from jsondiff import diff\n",
    "\n",
    "def print_diff(old_dict, new_dict, consumer=print):     \n",
    "    consumer(get_diff(old_dict, new_dict))\n",
    "    \n",
    "def get_diff(old_dict, new_dict):     \n",
    "    return diff(old_dict, new_dict, syntax='symmetric')"
   ]
  },
  {
   "cell_type": "code",
   "execution_count": null,
   "metadata": {},
   "outputs": [],
   "source": [
    "points = [1, 5, 20, 100, 500, 100]\n",
    "\n",
    "import sys\n",
    "import time\n",
    "from datetime import datetime\n",
    "\n",
    "def print_progress(i, timer_log=None, total=None):\n",
    "    if (i % points[0] == 0):\n",
    "        if i > 0 and (i % points[1] == 0):\n",
    "            sys.stdout.write(' ')\n",
    "            if (i % points[2] == 0):\n",
    "                sys.stdout.write('  ')\n",
    "                if (i % points[3] == 0):\n",
    "                    if total:                            \n",
    "                        timer_log = print_stats(total, i, points[5], timer_log)\n",
    "                    else:\n",
    "                        sys.stdout.write('\\n')\n",
    "                    if (i % points[4] == 0):\n",
    "                        sys.stdout.write(str(i)+'\\n')\n",
    "        sys.stdout.write('.')\n",
    "        sys.stdout.flush()   \n",
    "    return timer_log\n",
    "        \n",
    "def print_stats(total, processed, bunch, last_time, **kwargs):\n",
    "    now = time.time()\n",
    "    speed = (now - last_time) / 60.0\n",
    "    eta = (now - last_time) * (total - processed) / bunch\n",
    "    print('eta: {eta:%M:%S} ({speed:.1f} min/{bunch})'.format(speed = speed, eta = datetime.fromtimestamp(eta), bunch=bunch))\n",
    "    return now\n",
    "\n",
    "def with_progress(l, size=None):\n",
    "    timer_log = time.time()\n",
    "    for i,v in enumerate(l):\n",
    "        timer_log = print_progress(i, timer_log, size)\n",
    "        yield v\n",
    "    notify()"
   ]
  },
  {
   "cell_type": "code",
   "execution_count": null,
   "metadata": {},
   "outputs": [],
   "source": [
    "from IPython.display import display_html\n",
    "def display_side_by_side(*args):\n",
    "    html_str=''\n",
    "    for df in args:\n",
    "        html_str+=df.to_html()\n",
    "    display_html(html_str.replace('table','table style=\"display:inline; padding-right: 100px;\"'),raw=True)"
   ]
  },
  {
   "cell_type": "markdown",
   "metadata": {},
   "source": [
    "## Data manipulations"
   ]
  },
  {
   "cell_type": "code",
   "execution_count": null,
   "metadata": {
    "collapsed": false
   },
   "outputs": [],
   "source": [
    "def collect_data(files, collector):\n",
    "    for f in files:\n",
    "        data = load_from_json_file(f)\n",
    "        data['file_name'] = f\n",
    "        yield collector(data)\n",
    "\n",
    "def flattern(data):\n",
    "    return [l2 for l1 in data for l2 in l1]\n",
    "\n",
    "def get_nodes(data, ptr):\n",
    "    return list(select_all(ptr)(data))"
   ]
  },
  {
   "cell_type": "code",
   "execution_count": null,
   "metadata": {},
   "outputs": [],
   "source": [
    "def select_all(key):\n",
    "    return lambda data: jsonp.match(key, data)\n",
    "\n",
    "def select_one(key):\n",
    "    return lambda data: jsonp.match1(key, data)\n",
    "\n",
    "def contains(key, value):\n",
    "    return lambda data: jsonp.match1(key, data) == value\n",
    "\n",
    "def all_of(*filters):\n",
    "    def fn(data):\n",
    "        for f in filters:\n",
    "            if not f(data):\n",
    "                return False\n",
    "        return True  \n",
    "    return fn"
   ]
  },
  {
   "cell_type": "code",
   "execution_count": null,
   "metadata": {},
   "outputs": [],
   "source": [
    "def for_each(data, *funs):\n",
    "    for fun in funs:\n",
    "        data = fun(data)\n",
    "    return data"
   ]
  },
  {
   "cell_type": "code",
   "execution_count": null,
   "metadata": {},
   "outputs": [],
   "source": [
    "def copy_ids(src, dst):\n",
    "    dst['table_id']  = src['table']\n",
    "    dst['file_name'] = src['file_name']\n",
    "    return dst    \n",
    "\n",
    "def get_logs(data):\n",
    "    result = select_one('$[*].log.data.data')(data)\n",
    "    copy_ids(data, result)\n",
    "    return result\n",
    "\n",
    "def get_stats(data):\n",
    "    result = select_one('$..data[?(@.type == \"gameStateChange\" & @.args.action == \"stGameEnd\")].args.args')(data)\n",
    "    copy_ids(data, result)\n",
    "    return result"
   ]
  },
  {
   "cell_type": "code",
   "execution_count": null,
   "metadata": {},
   "outputs": [],
   "source": [
    "from itertools import groupby\n",
    "from operator import itemgetter\n",
    "\n",
    "def grouped(group_key, value_to_group, value_src, cast=str):   \n",
    "    tuples = [(cast(v[group_key]), v[value_to_group]) for v in value_src]\n",
    "    return grouped_(tuples)\n",
    "\n",
    "def grouped_(tuples):   \n",
    "    sorted_tuples = sorted(tuples)\n",
    "    grouped_tuples = groupby(sorted_tuples, itemgetter(0))\n",
    "    return {k: sorted([x for _, x in g]) for k, g in grouped_tuples}   "
   ]
  }
 ],
 "metadata": {
  "kernelspec": {
   "display_name": "Python 3",
   "language": "python",
   "name": "python3"
  },
  "language_info": {
   "codemirror_mode": {
    "name": "ipython",
    "version": 3
   },
   "file_extension": ".py",
   "mimetype": "text/x-python",
   "name": "python",
   "nbconvert_exporter": "python",
   "pygments_lexer": "ipython3",
   "version": "3.6.6"
  }
 },
 "nbformat": 4,
 "nbformat_minor": 2
}
