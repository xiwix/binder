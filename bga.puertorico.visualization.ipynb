{
 "cells": [
  {
   "cell_type": "markdown",
   "metadata": {},
   "source": [
    "## Init & utils"
   ]
  },
  {
   "cell_type": "code",
   "execution_count": 32,
   "metadata": {
    "scrolled": true
   },
   "outputs": [
    {
     "name": "stdout",
     "output_type": "stream",
     "text": [
      "Requirement already up-to-date: pip in /srv/conda/lib/python3.6/site-packages (18.0)\n",
      "Requirement already satisfied: jsonpath-rw in /srv/conda/lib/python3.6/site-packages (1.4.0)\n",
      "Requirement already satisfied: six in /srv/conda/lib/python3.6/site-packages (from jsonpath-rw) (1.11.0)\n",
      "Requirement already satisfied: ply in /srv/conda/lib/python3.6/site-packages (from jsonpath-rw) (3.11)\n",
      "Requirement already satisfied: decorator in /srv/conda/lib/python3.6/site-packages (from jsonpath-rw) (4.3.0)\n",
      "Requirement already satisfied: jsonpath-rw-ext in /srv/conda/lib/python3.6/site-packages (1.1.3)\n",
      "Requirement already satisfied: jsonpath-rw>=1.2.0 in /srv/conda/lib/python3.6/site-packages (from jsonpath-rw-ext) (1.4.0)\n",
      "Requirement already satisfied: pbr>=1.8 in /srv/conda/lib/python3.6/site-packages (from jsonpath-rw-ext) (4.2.0)\n",
      "Requirement already satisfied: ply in /srv/conda/lib/python3.6/site-packages (from jsonpath-rw>=1.2.0->jsonpath-rw-ext) (3.11)\n",
      "Requirement already satisfied: six in /srv/conda/lib/python3.6/site-packages (from jsonpath-rw>=1.2.0->jsonpath-rw-ext) (1.11.0)\n",
      "Requirement already satisfied: decorator in /srv/conda/lib/python3.6/site-packages (from jsonpath-rw>=1.2.0->jsonpath-rw-ext) (4.3.0)\n",
      "Requirement already satisfied: jsondiff in /srv/conda/lib/python3.6/site-packages (1.1.2)\n",
      "Requirement already satisfied: seaborn in /srv/conda/lib/python3.6/site-packages (0.9.0)\n",
      "Requirement already satisfied: matplotlib>=1.4.3 in /srv/conda/lib/python3.6/site-packages (from seaborn) (3.0.0)\n",
      "Requirement already satisfied: scipy>=0.14.0 in /srv/conda/lib/python3.6/site-packages (from seaborn) (1.1.0)\n",
      "Requirement already satisfied: numpy>=1.9.3 in /srv/conda/lib/python3.6/site-packages (from seaborn) (1.15.2)\n",
      "Requirement already satisfied: pandas>=0.15.2 in /srv/conda/lib/python3.6/site-packages (from seaborn) (0.23.4)\n",
      "Requirement already satisfied: python-dateutil>=2.1 in /srv/conda/lib/python3.6/site-packages (from matplotlib>=1.4.3->seaborn) (2.7.3)\n",
      "Requirement already satisfied: cycler>=0.10 in /srv/conda/lib/python3.6/site-packages (from matplotlib>=1.4.3->seaborn) (0.10.0)\n",
      "Requirement already satisfied: pyparsing!=2.0.4,!=2.1.2,!=2.1.6,>=2.0.1 in /srv/conda/lib/python3.6/site-packages (from matplotlib>=1.4.3->seaborn) (2.2.1)\n",
      "Requirement already satisfied: kiwisolver>=1.0.1 in /srv/conda/lib/python3.6/site-packages (from matplotlib>=1.4.3->seaborn) (1.0.1)\n",
      "Requirement already satisfied: pytz>=2011k in /srv/conda/lib/python3.6/site-packages (from pandas>=0.15.2->seaborn) (2018.5)\n",
      "Requirement already satisfied: six>=1.5 in /srv/conda/lib/python3.6/site-packages (from python-dateutil>=2.1->matplotlib>=1.4.3->seaborn) (1.11.0)\n",
      "Requirement already satisfied: setuptools in /srv/conda/lib/python3.6/site-packages (from kiwisolver>=1.0.1->matplotlib>=1.4.3->seaborn) (40.2.0)\n"
     ]
    }
   ],
   "source": [
    "%%bash\n",
    "pip install --upgrade pip\n",
    "pip install jsonpath-rw\n",
    "pip install jsonpath-rw-ext\n",
    "pip install jsondiff\n",
    "pip install seaborn"
   ]
  },
  {
   "cell_type": "code",
   "execution_count": 33,
   "metadata": {},
   "outputs": [],
   "source": [
    "import json \n",
    "from json import JSONEncoder, JSONDecoder\n",
    "import pickle\n",
    "\n",
    "class PythonObjectEncoder(JSONEncoder):\n",
    "    def default(self, obj):\n",
    "        if isinstance(obj, (list, dict, str, unicode, int, float, bool, type(None))):\n",
    "            return JSONEncoder.default(self, obj)\n",
    "        return {'_python_object': pickle.dumps(obj)}\n",
    "\n",
    "def as_python_object(dct):\n",
    "    if '_python_object' in dct:\n",
    "        return pickle.loads(str(dct['_python_object']))\n",
    "    return dct\n",
    "\n",
    "def save_to_json_file(filename, content):\n",
    "    temp = json.dumps(content, cls=PythonObjectEncoder)\n",
    "    return save_to_file(filename, temp)\n",
    "\n",
    "def save_to_file(filename, content):\n",
    "    with open(filename, 'w') as file:\n",
    "        file.write(content)\n",
    "    return \"saved \" + filename    \n",
    "\n",
    "def load_from_json_file(file_name):\n",
    "    content = load_from_file(file_name)\n",
    "    return json.load(content, object_hook=as_python_object)\n",
    "\n",
    "def load_from_file(file_name):\n",
    "    return open(file_name)"
   ]
  },
  {
   "cell_type": "code",
   "execution_count": 34,
   "metadata": {},
   "outputs": [],
   "source": [
    "import copy\n",
    "\n",
    "def inc_dict_val(d, k, v):\n",
    "    d[k] = int(d.get(k, 0)) + int(v)\n",
    "\n",
    "def alter_dict(D, **F):\n",
    "    result = copy.deepcopy(D)    \n",
    "    result.update(**F)\n",
    "    return result   \n",
    "\n",
    "def map_dict(src, *args, **kvargs):\n",
    "    dst = dict()\n",
    "    for v in args:\n",
    "        dst[v] = src[v]\n",
    "    for k,v in kvargs.items():\n",
    "        dst[k] = src[v]\n",
    "    return dst\n",
    "\n",
    "def remove_from_dict(d, key):\n",
    "    if key in d:\n",
    "        del d[key]\n",
    "\n",
    "def inc_dict_value(d, prop, delta=1):\n",
    "    d[prop] = d.get(prop, 0) + int(delta)"
   ]
  },
  {
   "cell_type": "markdown",
   "metadata": {},
   "source": [
    "## Printing"
   ]
  },
  {
   "cell_type": "code",
   "execution_count": 35,
   "metadata": {},
   "outputs": [],
   "source": [
    "from pprint import pprint\n",
    "from IPython.display import JSON\n",
    "width = 180"
   ]
  },
  {
   "cell_type": "code",
   "execution_count": 36,
   "metadata": {},
   "outputs": [],
   "source": [
    "import re\n",
    "\n",
    "def print_log(log, consumer=print, **args):\n",
    "    if log:\n",
    "        params = {g:'' for g in re.findall('\\$\\{([^}]+)\\}', log)}\n",
    "        params.update(args)\n",
    "        consumer(log.replace('$', '').format(**params))"
   ]
  },
  {
   "cell_type": "code",
   "execution_count": 37,
   "metadata": {},
   "outputs": [],
   "source": [
    "from jsondiff import diff\n",
    "\n",
    "def print_diff(old_dict, new_dict, consumer=print):     \n",
    "    consumer(get_diff(old_dict, new_dict))\n",
    "    \n",
    "def get_diff(old_dict, new_dict):     \n",
    "    return diff(old_dict, new_dict, syntax='symmetric')"
   ]
  },
  {
   "cell_type": "markdown",
   "metadata": {},
   "source": [
    "## Generic game functions"
   ]
  },
  {
   "cell_type": "code",
   "execution_count": 38,
   "metadata": {},
   "outputs": [],
   "source": [
    "def load_game(fn):\n",
    "    return load_from_json_file(fn)['data']['data']['data']"
   ]
  },
  {
   "cell_type": "code",
   "execution_count": 39,
   "metadata": {},
   "outputs": [],
   "source": [
    "def get_step(game, move_id=0, sub_move_id=0, **kvargs):\n",
    "    return game[move_id]['data'][sub_move_id]"
   ]
  },
  {
   "cell_type": "code",
   "execution_count": 40,
   "metadata": {},
   "outputs": [],
   "source": [
    "def move_to_next_step(game, game_state):\n",
    "    move_id     = game_state.get('move_id', 0)\n",
    "    sub_move_id = game_state.get('sub_move_id', 0) + 1\n",
    "    \n",
    "    if len(game[move_id]['data']) <= sub_move_id:\n",
    "        move_id    += 1\n",
    "        sub_move_id = 0\n",
    "    \n",
    "    return alter_dict(game_state,\n",
    "        move_id     = move_id,\n",
    "        sub_move_id = sub_move_id\n",
    "    )"
   ]
  },
  {
   "cell_type": "code",
   "execution_count": 41,
   "metadata": {},
   "outputs": [],
   "source": [
    "def default_action(game_state, step):\n",
    "    print(\"Unknown action '%s' :(\" % step['type'])\n",
    "    display(JSON({'state': game_state, 'step': step}, indent=4))\n",
    "    return None"
   ]
  },
  {
   "cell_type": "code",
   "execution_count": 42,
   "metadata": {},
   "outputs": [],
   "source": [
    "def apply_step(game_state, step):\n",
    "    if not step['args']: \n",
    "        step['args'] = dict()\n",
    "    elif not isinstance(step['args'], dict): \n",
    "        step['args'] = {str(i):v for i,v in enumerate(step['args'])}\n",
    "    print_log(step['log'], **step['args'])\n",
    "    a = actions.get(step['type'], None)\n",
    "    if a:\n",
    "        return a(game_state, **step['args'])\n",
    "    else:\n",
    "        return default_action(game_state, step)        "
   ]
  },
  {
   "cell_type": "markdown",
   "metadata": {},
   "source": [
    "## Puerto rico game functions"
   ]
  },
  {
   "cell_type": "markdown",
   "metadata": {},
   "source": [
    "## initialization"
   ]
  },
  {
   "cell_type": "code",
   "execution_count": 43,
   "metadata": {},
   "outputs": [],
   "source": [
    "good_types = ['corn', 'indigo', 'sugar', 'tobacco', 'coffee']\n",
    "\n",
    "def setup_buildings(buildings, **kvargs):\n",
    "    result = {}\n",
    "    def inc(d, k): d[k] = 1 + d.get(k, 0) \n",
    "    for id,b in buildings.items():\n",
    "        inc(result, b['bld_type'])\n",
    "    return result\n",
    "\n",
    "def setup_plantations(plantations_to_set, **kvargs):\n",
    "    result = [p['res_type'] for id,p in plantations_to_set.items()]\n",
    "    return result\n",
    "\n",
    "def setup_ships(ships, **kvargs): \n",
    "    result = {v['shp_capacity']: dict() for k,v in ships.items()}\n",
    "    return result\n",
    "\n",
    "def setup_stock(**kvargs):\n",
    "    result = []\n",
    "    return result\n",
    "\n",
    "def setup_VPs(counters, **kvargs): \n",
    "    return int(counters['shipping_points_bank']['counter_value'])\n",
    "\n",
    "def setup_bank(counters, **kvargs): \n",
    "    return int(counters['doubloons_bank']['counter_value'])\n",
    "\n",
    "def setup_workers(counters, **kvargs): \n",
    "    result = {\n",
    "        'available': int(counters['colonists_bank']['counter_value']),\n",
    "        'arriving':  int(counters['colonists_ship']['counter_value'])\n",
    "    }\n",
    "    return result\n",
    "\n",
    "def setup_goods(counters, **kvargs): \n",
    "    result = {\n",
    "        'coffee'  : int(counters['resource_coffee_bank']['counter_value']),\n",
    "        'corn'    : int(counters['resource_corn_bank']['counter_value']),\n",
    "        'indigo'  : int(counters['resource_indigo_bank']['counter_value']),\n",
    "        'sugar'   : int(counters['resource_sugar_bank']['counter_value']),\n",
    "        'tobacco' : int(counters['resource_tobacco_bank']['counter_value']),\n",
    "    }\n",
    "    return result\n",
    "\n",
    "def setup_roles(role_tooltips, **kvargs):\n",
    "    result = {k:{'money': v['money'], 'rol_type': v['rol_type']} for k,v in role_tooltips.items()}\n",
    "    return result\n",
    "    \n",
    "def setup_playerorder(playerorder, **kvargs):\n",
    "    result = [str(v) for v in playerorder]\n",
    "    return result\n",
    "\n",
    "def setup_player(index, username, money, plantaion, **kvargs):\n",
    "    result = {\n",
    "        '_': username,\n",
    "        'money': int(money),\n",
    "        'building_vp': 0,\n",
    "        'delivery_vp': 0,\n",
    "        'buildings': {'commercial': {}, 'factories': {g:{'jobs':0, 'workers':0} for g in good_types}},\n",
    "        'goods': {g:0 for g in good_types},\n",
    "        'plantations': {g:1 if g == plantaion else 0 for g in (good_types + ['rock'])},\n",
    "        'potential_vp': {'commercial': 0, 'factories': 0, 'workers': 0},\n",
    "        'slots': {'buildings': 0, 'plantations': 1},\n",
    "        'workers': {'total': 0, 'unemployed': 0}\n",
    "    }\n",
    "    return result\n",
    "\n",
    "def setup_players(players, playerorder, counters, plantations_owned, **kvargs):\n",
    "    result = {}\n",
    "    for index,id in enumerate(playerorder):\n",
    "        id = str(id)\n",
    "        money = counters['doubloons_player_'+id]['counter_value']\n",
    "        plantation = [v['res_type'] for k,v in plantations_owned.items() if v['player_id'] == id][0]\n",
    "        result[id] = setup_player(index, players[id]['name'], money, plantation)\n",
    "    return result\n",
    "\n",
    "def setup_table(datas):\n",
    "    r = {\n",
    "        'buildings': setup_buildings(**datas),\n",
    "        'plantations': setup_plantations(**datas),\n",
    "        'ships': setup_ships(**datas),\n",
    "        'stock': setup_stock(**datas),\n",
    "        'VPs': setup_VPs(**datas),\n",
    "        'money': setup_bank(**datas),\n",
    "        'workers': setup_workers(**datas),\n",
    "        'goods': setup_goods(**datas),\n",
    "        'roles': setup_roles(**datas),\n",
    "        'playerorder': setup_playerorder(**datas)\n",
    "    }\n",
    "    return r\n",
    "\n",
    "def setup(datas):\n",
    "    return {\n",
    "        'move_id': 0,\n",
    "        'sub_move_id': 0,\n",
    "        'table': setup_table(datas),\n",
    "        'players': setup_players(**datas),\n",
    "        'governor': datas['governor']\n",
    "    }"
   ]
  },
  {
   "cell_type": "code",
   "execution_count": 44,
   "metadata": {},
   "outputs": [],
   "source": [
    "def setup_lookups(buildings, plantations_owned, **kvargs):\n",
    "    global building_lookup\n",
    "    building_lookup = {k:{\n",
    "        'name': b['bld_type'],\n",
    "        'type': 'factories' if b['res_type'] else 'commercial',\n",
    "        'res_type': b['res_type'],\n",
    "        'potential_vp': 1 if b['bld_valence'] == \"1\" else 2,\n",
    "        'tile_size': 2 if b['bld_max_discount'] == \"4\" else 1,\n",
    "        'jobs': int(b['bld_valence']),\n",
    "        'cost': int(b['bld_cost']),\n",
    "        'max_discount': int(b['bld_max_discount']),\n",
    "        'vp': int(b['bld_score'])\n",
    "    } for k,b in buildings.items()}\n",
    "    \n",
    "    global plantation_lookup\n",
    "    plantation_lookup = {k:p['res_type'] for k,p in plantations_owned.items()}"
   ]
  },
  {
   "cell_type": "code",
   "execution_count": 69,
   "metadata": {},
   "outputs": [],
   "source": [
    "new_game_state = 1\n",
    "if not 'actions' in globals():\n",
    "    global actions\n",
    "    actions = dict()    \n",
    "\n",
    "game_log = load_game('table_27174212.json')\n",
    "datas = load_from_json_file('datas_27174212.json')[7]\n",
    "game_state = setup(datas)\n",
    "setup_lookups(**datas)"
   ]
  },
  {
   "cell_type": "markdown",
   "metadata": {},
   "source": [
    "### Unverified"
   ]
  },
  {
   "cell_type": "code",
   "execution_count": 46,
   "metadata": {},
   "outputs": [],
   "source": [
    "def do_nothing(log=None):\n",
    "    def dn(state, **args):\n",
    "        print_log(log, **args)\n",
    "        return state\n",
    "    return dn\n",
    "log = ' - d:${description:70} t:${type}, n:${name}'#', a:${action}'#', possible_actions:${possibleactions}'\n",
    "\n",
    "actions['leaveGameState']      = do_nothing('<-[leaveGameState ]' + log)\n",
    "actions['gameStateChange']     = do_nothing('->[gameStateChange]' + log)\n",
    "actions['updateReflexionTime'] = do_nothing('  [updateReflexionTime]')\n",
    "actions['message' ]            = do_nothing('  [message]')\n",
    "actions['gameStateMultipleActiveUpdate'] = do_nothing('  gameStateMultipleActiveUpdate')"
   ]
  },
  {
   "cell_type": "code",
   "execution_count": 47,
   "metadata": {},
   "outputs": [],
   "source": [
    "def draftCompleted(state, **args):\n",
    "    return state\n",
    "\n",
    "actions['draftCompleted'] = draftCompleted"
   ]
  },
  {
   "cell_type": "code",
   "execution_count": 48,
   "metadata": {
    "scrolled": false
   },
   "outputs": [],
   "source": [
    "def roleSelected(state, rol_id, rol_type, unavailable_roles, **args):\n",
    "    new_state = alter_dict(state)\n",
    "    new_state['table']['roles'][rol_id]['selected'] = True\n",
    "    return new_state\n",
    "\n",
    "actions['roleSelected'] = roleSelected"
   ]
  },
  {
   "cell_type": "code",
   "execution_count": 49,
   "metadata": {},
   "outputs": [],
   "source": [
    "def plantationSettlement(state, player_id, **args):\n",
    "    new_state = alter_dict(state)\n",
    "    pl = get_player(new_state, player_id)\n",
    "#     update_counter(new_state['table'], **args)\n",
    "    pick_field(new_state['table'], pl, **args)\n",
    "    return new_state\n",
    "\n",
    "def get_player(state, player_id, **args):\n",
    "    return state['players'][str(player_id)]\n",
    "\n",
    "def pick_field(table, player, res_type, pla_id, **args):\n",
    "    player['plantations'][res_type] = 1 + player['plantations'][res_type]\n",
    "    inc_dict_value(player['slots'], 'plantations', 1)\n",
    "    if res_type in table['plantations']:\n",
    "        table['plantations'].remove(res_type)\n",
    "    plantation_lookup[pla_id] = res_type\n",
    "\n",
    "\n",
    "def update_counter(target, counter_name=None, counter_delta=0, **args):\n",
    "    if counter_name is not None:\n",
    "        inc_dict_val(target, counter_name, counter_delta)\n",
    "\n",
    "actions['plantationSettlement'] = plantationSettlement\n",
    "# print_diff(game_state, plantationSettlement(game_state, **next_step['args']))\n",
    "# next_step = get_step(game_log, 3, 0)"
   ]
  },
  {
   "cell_type": "code",
   "execution_count": 50,
   "metadata": {},
   "outputs": [],
   "source": [
    "def discardPlantations(state, **args):\n",
    "    return state\n",
    "\n",
    "actions['discardPlantations'] = discardPlantations"
   ]
  },
  {
   "cell_type": "code",
   "execution_count": 51,
   "metadata": {},
   "outputs": [],
   "source": [
    "def drawPlantations(state, plantations_to_set, **args):\n",
    "    new_state = alter_dict(state)\n",
    "    new_state['table']['plantations'] = setup_plantations(plantations_to_set)\n",
    "    return new_state\n",
    "\n",
    "actions['drawPlantations'] = drawPlantations\n",
    "# print_diff(game_state, drawPlantations(game_state, **next_step['args']))"
   ]
  },
  {
   "cell_type": "code",
   "execution_count": 52,
   "metadata": {},
   "outputs": [],
   "source": [
    "def buildingBought(state, **kvargs):\n",
    "    new_state = alter_dict(state)\n",
    "    pl = get_player(new_state, **kvargs)\n",
    "    add_building_to_player(pl, **kvargs)\n",
    "    remove_building_from_table(new_state, **kvargs)\n",
    "    remove_money_from_player(pl, **kvargs)\n",
    "    add_money_to_bank(new_state, **kvargs)\n",
    "#     display(JSON(new_state['table']), JSON(pl), JSON(kvargs))\n",
    "    return new_state\n",
    "\n",
    "def add_building_to_player(player, bld_type_tr, score_delta, bld_id, **kvargs):\n",
    "    b = building_lookup[bld_id]\n",
    "    inc_dict_value(player['slots'], 'buildings', b['tile_size'])\n",
    "    inc_dict_value(player, 'building_vp', score_delta)\n",
    "    inc_dict_value(player['potential_vp'], b['type'], b['potential_vp'])\n",
    "    if b['type'] == 'commercial':\n",
    "        player['buildings']['commercial'][b['name']] = False  \n",
    "    else:\n",
    "        inc_dict_value(player['buildings']['factories'][b['res_type']], 'jobs', b['jobs'])\n",
    "\n",
    "def remove_building_from_table(state, bld_type_tr, **kvargs):\n",
    "    inc_dict_value(state['table']['buildings'], bld_type_tr, -1)\n",
    "    \n",
    "def remove_money_from_player(player, cost:int, **kvargs):\n",
    "    inc_dict_value(player, 'money', -int(cost))\n",
    "    \n",
    "def add_money_to_bank(state, cost, **kvargs):\n",
    "    inc_dict_value(state['table'], 'money', cost)\n",
    "    \n",
    "actions['buildingBought'] = buildingBought\n",
    "# pprint(get_diff(game_state, buildingBought(game_state, **next_step['args'])), width=10)"
   ]
  },
  {
   "cell_type": "code",
   "execution_count": 53,
   "metadata": {},
   "outputs": [],
   "source": [
    "def colonistsEarnedFromShip(state, delta, **kvargs):\n",
    "    new_state = alter_dict(state)\n",
    "    pl = get_player(new_state, **kvargs)\n",
    "    inc_dict_value(pl['workers'], 'total', delta)\n",
    "    inc_dict_value(pl['workers'], 'unemployed', delta)\n",
    "    inc_dict_value(new_state['table']['workers'], 'arriving', -delta)\n",
    "    return new_state\n",
    "\n",
    "def colonistsEarnedFromSupply(state, delta, **kvargs):\n",
    "    new_state = alter_dict(state)\n",
    "    pl = get_player(new_state, **kvargs)\n",
    "    inc_dict_value(pl['workers'], 'total', delta)\n",
    "    inc_dict_value(pl['workers'], 'unemployed', delta)\n",
    "    inc_dict_value(new_state['table']['workers'], 'available', -delta)\n",
    "    return new_state\n",
    "\n",
    "actions['colonistsEarnedFromSupply'] = colonistsEarnedFromSupply\n",
    "actions['colonistsEarnedFromShip'] = colonistsEarnedFromShip\n",
    "\n",
    "# pprint(get_diff(game_state, colonistsEarnedFromSupply(game_state, **next_step['args'])), width=10)"
   ]
  },
  {
   "cell_type": "code",
   "execution_count": null,
   "metadata": {},
   "outputs": [],
   "source": [
    "def colonistToBuilding(state, bld_id, delta, **kvargs):\n",
    "    new_state = alter_dict(state)\n",
    "    b = datas['buildings'][bld_id]\n",
    "    pl = get_player(new_state, **kvargs)\n",
    "    pb = pl['buildings'][b['res_type']]\n",
    "\n",
    "    if b['res_type'] != 'commercial':\n",
    "        inc_dict_value(pb[b['res_type']], 'workers', delta)\n",
    "    else:\n",
    "        pb[b['name']] = True\n",
    "    inc_dict_value(pl['workers'], 'unemployed', -delta)\n",
    "    return new_state\n",
    "\n",
    "def colonistToPlantation(state, bld_id, delta, **kvargs):\n",
    "    new_state = alter_dict(state)\n",
    "    pl = get_player(new_state, **kvargs)\n",
    "    pp\n",
    "    b = datas['buildings'][bld_id]\n",
    "    if b['res_type']:\n",
    "        inc_dict_value(pl['buildings']['factories'][b['res_type']], 'workers', delta)\n",
    "    else:\n",
    "        pl['buildings']['commercial'][b['bld_type']] = True\n",
    "    inc_dict_value(pl['workers'], 'unemployed', -delta)\n",
    "    return new_state\n",
    "\n",
    "actions['colonistToBuilding'] = colonistToBuilding\n",
    "actions['colonistToPlantation'] = colonistToPlantation\n",
    "# pprint(get_diff(game_state, colonistToBuilding(game_state, **next_step['args'])), width=10)"
   ]
  },
  {
   "cell_type": "markdown",
   "metadata": {},
   "source": [
    "\n",
    "# ACTIVE DEVELOPMENT ZONE\n"
   ]
  },
  {
   "cell_type": "code",
   "execution_count": 56,
   "metadata": {},
   "outputs": [],
   "source": [
    "def show_state(state):\n",
    "    print('move {move_id}.{sub_move_id}'.format(**state))\n",
    "    display(JSON(state))\n",
    "#     pprint(state, depth=4, width=width)\n",
    "#     for k,p in state['players'].items():\n",
    "#         show_player(p) \n",
    "    \n",
    "def show_player(pl):\n",
    "    msg = \"\"\"[{score}] {_} \n",
    "        goods:       {goods}\n",
    "        plantations: {fields}\n",
    "        buildings:   {buildings}\"\"\"\n",
    "    \n",
    "    print(msg.format(**pl))\n",
    "\n",
    "# show_state(game_state)"
   ]
  },
  {
   "cell_type": "code",
   "execution_count": 58,
   "metadata": {
    "scrolled": false
   },
   "outputs": [],
   "source": [
    "new_game_state = 1"
   ]
  },
  {
   "cell_type": "code",
   "execution_count": 70,
   "metadata": {
    "scrolled": false
   },
   "outputs": [
    {
     "name": "stdout",
     "output_type": "stream",
     "text": [
      "->[gameStateChange] - d:Game setup                                                             t:manager, n:gameSetup\n",
      "->[gameStateChange] - d:                                                                       t:game, n:nextPlayerForDraft\n",
      "Buildings have been drafted. The game starts!\n",
      "->[gameStateChange] - d:Activating the next player to select a role                            t:game, n:nextPlayerForRoleSelection\n",
      "  [updateReflexionTime]\n",
      "->[gameStateChange] - d:${actplayer} must select a role                                        t:activeplayer, n:playerRoleSelection\n",
      "\n",
      "====================================================================================================================================================================================\n",
      "move 1.0\n"
     ]
    },
    {
     "data": {
      "application/json": {
       "governor": "84157219",
       "move_id": 1,
       "players": {
        "38055077": {
         "_": "cooper1966",
         "building_vp": 0,
         "buildings": {
          "commercial": {},
          "factories": {
           "coffee": {
            "jobs": 0,
            "workers": 0
           },
           "corn": {
            "jobs": 0,
            "workers": 0
           },
           "indigo": {
            "jobs": 0,
            "workers": 0
           },
           "sugar": {
            "jobs": 0,
            "workers": 0
           },
           "tobacco": {
            "jobs": 0,
            "workers": 0
           }
          }
         },
         "delivery_vp": 0,
         "goods": {
          "coffee": 0,
          "corn": 0,
          "indigo": 0,
          "sugar": 0,
          "tobacco": 0
         },
         "money": 4,
         "plantations": {
          "coffee": 0,
          "corn": 0,
          "indigo": 1,
          "rock": 0,
          "sugar": 0,
          "tobacco": 0
         },
         "potential_vp": {
          "commercial": 0,
          "factories": 0,
          "workers": 0
         },
         "slots": {
          "buildings": 0,
          "plantations": 1
         },
         "workers": {
          "total": 0,
          "unemployed": 0
         }
        },
        "84157219": {
         "_": "pauldavis92",
         "building_vp": 0,
         "buildings": {
          "commercial": {},
          "factories": {
           "coffee": {
            "jobs": 0,
            "workers": 0
           },
           "corn": {
            "jobs": 0,
            "workers": 0
           },
           "indigo": {
            "jobs": 0,
            "workers": 0
           },
           "sugar": {
            "jobs": 0,
            "workers": 0
           },
           "tobacco": {
            "jobs": 0,
            "workers": 0
           }
          }
         },
         "delivery_vp": 0,
         "goods": {
          "coffee": 0,
          "corn": 0,
          "indigo": 0,
          "sugar": 0,
          "tobacco": 0
         },
         "money": 4,
         "plantations": {
          "coffee": 0,
          "corn": 0,
          "indigo": 1,
          "rock": 0,
          "sugar": 0,
          "tobacco": 0
         },
         "potential_vp": {
          "commercial": 0,
          "factories": 0,
          "workers": 0
         },
         "slots": {
          "buildings": 0,
          "plantations": 1
         },
         "workers": {
          "total": 0,
          "unemployed": 0
         }
        },
        "84338003": {
         "_": "anthos79",
         "building_vp": 0,
         "buildings": {
          "commercial": {},
          "factories": {
           "coffee": {
            "jobs": 0,
            "workers": 0
           },
           "corn": {
            "jobs": 0,
            "workers": 0
           },
           "indigo": {
            "jobs": 0,
            "workers": 0
           },
           "sugar": {
            "jobs": 0,
            "workers": 0
           },
           "tobacco": {
            "jobs": 0,
            "workers": 0
           }
          }
         },
         "delivery_vp": 0,
         "goods": {
          "coffee": 0,
          "corn": 0,
          "indigo": 0,
          "sugar": 0,
          "tobacco": 0
         },
         "money": 4,
         "plantations": {
          "coffee": 0,
          "corn": 1,
          "indigo": 0,
          "rock": 0,
          "sugar": 0,
          "tobacco": 0
         },
         "potential_vp": {
          "commercial": 0,
          "factories": 0,
          "workers": 0
         },
         "slots": {
          "buildings": 0,
          "plantations": 1
         },
         "workers": {
          "total": 0,
          "unemployed": 0
         }
        },
        "84338781": {
         "_": "Nocturno",
         "building_vp": 0,
         "buildings": {
          "commercial": {},
          "factories": {
           "coffee": {
            "jobs": 0,
            "workers": 0
           },
           "corn": {
            "jobs": 0,
            "workers": 0
           },
           "indigo": {
            "jobs": 0,
            "workers": 0
           },
           "sugar": {
            "jobs": 0,
            "workers": 0
           },
           "tobacco": {
            "jobs": 0,
            "workers": 0
           }
          }
         },
         "delivery_vp": 0,
         "goods": {
          "coffee": 0,
          "corn": 0,
          "indigo": 0,
          "sugar": 0,
          "tobacco": 0
         },
         "money": 4,
         "plantations": {
          "coffee": 0,
          "corn": 0,
          "indigo": 1,
          "rock": 0,
          "sugar": 0,
          "tobacco": 0
         },
         "potential_vp": {
          "commercial": 0,
          "factories": 0,
          "workers": 0
         },
         "slots": {
          "buildings": 0,
          "plantations": 1
         },
         "workers": {
          "total": 0,
          "unemployed": 0
         }
        },
        "84366500": {
         "_": "moonriver78",
         "building_vp": 0,
         "buildings": {
          "commercial": {},
          "factories": {
           "coffee": {
            "jobs": 0,
            "workers": 0
           },
           "corn": {
            "jobs": 0,
            "workers": 0
           },
           "indigo": {
            "jobs": 0,
            "workers": 0
           },
           "sugar": {
            "jobs": 0,
            "workers": 0
           },
           "tobacco": {
            "jobs": 0,
            "workers": 0
           }
          }
         },
         "delivery_vp": 0,
         "goods": {
          "coffee": 0,
          "corn": 0,
          "indigo": 0,
          "sugar": 0,
          "tobacco": 0
         },
         "money": 4,
         "plantations": {
          "coffee": 0,
          "corn": 1,
          "indigo": 0,
          "rock": 0,
          "sugar": 0,
          "tobacco": 0
         },
         "potential_vp": {
          "commercial": 0,
          "factories": 0,
          "workers": 0
         },
         "slots": {
          "buildings": 0,
          "plantations": 1
         },
         "workers": {
          "total": 0,
          "unemployed": 0
         }
        }
       },
       "sub_move_id": 0,
       "table": {
        "VPs": 126,
        "buildings": {
         "city hall": 1,
         "coffee roaster": 3,
         "construction hut": 2,
         "customs house": 1,
         "factory": 2,
         "fortress": 1,
         "guild hall": 1,
         "hacienda": 2,
         "harbor": 2,
         "hospice": 2,
         "indigo plant": 3,
         "large market": 2,
         "large warehouse": 2,
         "office": 2,
         "residence": 1,
         "small indigo plant": 4,
         "small market": 2,
         "small sugar mill": 4,
         "small warehouse": 2,
         "sugar mill": 3,
         "tobacco storage": 3,
         "university": 2,
         "wharf": 2
        },
        "goods": {
         "coffee": 9,
         "corn": 10,
         "indigo": 11,
         "sugar": 11,
         "tobacco": 9
        },
        "money": 66,
        "plantations": [
         "indigo",
         "indigo",
         "indigo",
         "tobacco",
         "tobacco",
         "coffee"
        ],
        "playerorder": [
         "84338003",
         "84366500",
         "84157219",
         "84338781",
         "38055077"
        ],
        "roles": {
         "1": {
          "money": "0",
          "rol_type": "captain"
         },
         "2": {
          "money": "0",
          "rol_type": "trader"
         },
         "3": {
          "money": "0",
          "rol_type": "craftsman"
         },
         "4": {
          "money": "0",
          "rol_type": "settler"
         },
         "5": {
          "money": "0",
          "rol_type": "builder"
         },
         "6": {
          "money": "0",
          "rol_type": "mayor"
         },
         "7": {
          "money": "0",
          "rol_type": "prospector"
         },
         "8": {
          "money": "0",
          "rol_type": "prospector"
         }
        },
        "ships": {
         "6": {},
         "7": {},
         "8": {}
        },
        "stock": [],
        "workers": {
         "arriving": 5,
         "available": 95
        }
       }
      },
      "text/plain": [
       "<IPython.core.display.JSON object>"
      ]
     },
     "metadata": {
      "application/json": {
       "expanded": false
      }
     },
     "output_type": "display_data"
    },
    {
     "name": "stdout",
     "output_type": "stream",
     "text": [
      "pauldavis92 selected the settler\n",
      "\n",
      "{'table': {'roles': {'4': {insert: {'selected': True}}}}}\n",
      "------------------------------------------------------------------------------------------------------------------------------------------------------------------------------------\n",
      "->[gameStateChange] - d:${actplayer} can get a plantation from the deck (hacienda)             t:activeplayer, n:playerSettlerHacienda\n",
      "->[gameStateChange] - d:${actplayer} must select a plantation                                  t:activeplayer, n:playerSettlerPlantationSelection\n",
      "\n",
      "====================================================================================================================================================================================\n",
      "move 2.0\n"
     ]
    },
    {
     "data": {
      "application/json": {
       "governor": "84157219",
       "move_id": 2,
       "players": {
        "38055077": {
         "_": "cooper1966",
         "building_vp": 0,
         "buildings": {
          "commercial": {},
          "factories": {
           "coffee": {
            "jobs": 0,
            "workers": 0
           },
           "corn": {
            "jobs": 0,
            "workers": 0
           },
           "indigo": {
            "jobs": 0,
            "workers": 0
           },
           "sugar": {
            "jobs": 0,
            "workers": 0
           },
           "tobacco": {
            "jobs": 0,
            "workers": 0
           }
          }
         },
         "delivery_vp": 0,
         "goods": {
          "coffee": 0,
          "corn": 0,
          "indigo": 0,
          "sugar": 0,
          "tobacco": 0
         },
         "money": 4,
         "plantations": {
          "coffee": 0,
          "corn": 0,
          "indigo": 1,
          "rock": 0,
          "sugar": 0,
          "tobacco": 0
         },
         "potential_vp": {
          "commercial": 0,
          "factories": 0,
          "workers": 0
         },
         "slots": {
          "buildings": 0,
          "plantations": 1
         },
         "workers": {
          "total": 0,
          "unemployed": 0
         }
        },
        "84157219": {
         "_": "pauldavis92",
         "building_vp": 0,
         "buildings": {
          "commercial": {},
          "factories": {
           "coffee": {
            "jobs": 0,
            "workers": 0
           },
           "corn": {
            "jobs": 0,
            "workers": 0
           },
           "indigo": {
            "jobs": 0,
            "workers": 0
           },
           "sugar": {
            "jobs": 0,
            "workers": 0
           },
           "tobacco": {
            "jobs": 0,
            "workers": 0
           }
          }
         },
         "delivery_vp": 0,
         "goods": {
          "coffee": 0,
          "corn": 0,
          "indigo": 0,
          "sugar": 0,
          "tobacco": 0
         },
         "money": 4,
         "plantations": {
          "coffee": 0,
          "corn": 0,
          "indigo": 1,
          "rock": 0,
          "sugar": 0,
          "tobacco": 0
         },
         "potential_vp": {
          "commercial": 0,
          "factories": 0,
          "workers": 0
         },
         "slots": {
          "buildings": 0,
          "plantations": 1
         },
         "workers": {
          "total": 0,
          "unemployed": 0
         }
        },
        "84338003": {
         "_": "anthos79",
         "building_vp": 0,
         "buildings": {
          "commercial": {},
          "factories": {
           "coffee": {
            "jobs": 0,
            "workers": 0
           },
           "corn": {
            "jobs": 0,
            "workers": 0
           },
           "indigo": {
            "jobs": 0,
            "workers": 0
           },
           "sugar": {
            "jobs": 0,
            "workers": 0
           },
           "tobacco": {
            "jobs": 0,
            "workers": 0
           }
          }
         },
         "delivery_vp": 0,
         "goods": {
          "coffee": 0,
          "corn": 0,
          "indigo": 0,
          "sugar": 0,
          "tobacco": 0
         },
         "money": 4,
         "plantations": {
          "coffee": 0,
          "corn": 1,
          "indigo": 0,
          "rock": 0,
          "sugar": 0,
          "tobacco": 0
         },
         "potential_vp": {
          "commercial": 0,
          "factories": 0,
          "workers": 0
         },
         "slots": {
          "buildings": 0,
          "plantations": 1
         },
         "workers": {
          "total": 0,
          "unemployed": 0
         }
        },
        "84338781": {
         "_": "Nocturno",
         "building_vp": 0,
         "buildings": {
          "commercial": {},
          "factories": {
           "coffee": {
            "jobs": 0,
            "workers": 0
           },
           "corn": {
            "jobs": 0,
            "workers": 0
           },
           "indigo": {
            "jobs": 0,
            "workers": 0
           },
           "sugar": {
            "jobs": 0,
            "workers": 0
           },
           "tobacco": {
            "jobs": 0,
            "workers": 0
           }
          }
         },
         "delivery_vp": 0,
         "goods": {
          "coffee": 0,
          "corn": 0,
          "indigo": 0,
          "sugar": 0,
          "tobacco": 0
         },
         "money": 4,
         "plantations": {
          "coffee": 0,
          "corn": 0,
          "indigo": 1,
          "rock": 0,
          "sugar": 0,
          "tobacco": 0
         },
         "potential_vp": {
          "commercial": 0,
          "factories": 0,
          "workers": 0
         },
         "slots": {
          "buildings": 0,
          "plantations": 1
         },
         "workers": {
          "total": 0,
          "unemployed": 0
         }
        },
        "84366500": {
         "_": "moonriver78",
         "building_vp": 0,
         "buildings": {
          "commercial": {},
          "factories": {
           "coffee": {
            "jobs": 0,
            "workers": 0
           },
           "corn": {
            "jobs": 0,
            "workers": 0
           },
           "indigo": {
            "jobs": 0,
            "workers": 0
           },
           "sugar": {
            "jobs": 0,
            "workers": 0
           },
           "tobacco": {
            "jobs": 0,
            "workers": 0
           }
          }
         },
         "delivery_vp": 0,
         "goods": {
          "coffee": 0,
          "corn": 0,
          "indigo": 0,
          "sugar": 0,
          "tobacco": 0
         },
         "money": 4,
         "plantations": {
          "coffee": 0,
          "corn": 1,
          "indigo": 0,
          "rock": 0,
          "sugar": 0,
          "tobacco": 0
         },
         "potential_vp": {
          "commercial": 0,
          "factories": 0,
          "workers": 0
         },
         "slots": {
          "buildings": 0,
          "plantations": 1
         },
         "workers": {
          "total": 0,
          "unemployed": 0
         }
        }
       },
       "sub_move_id": 0,
       "table": {
        "VPs": 126,
        "buildings": {
         "city hall": 1,
         "coffee roaster": 3,
         "construction hut": 2,
         "customs house": 1,
         "factory": 2,
         "fortress": 1,
         "guild hall": 1,
         "hacienda": 2,
         "harbor": 2,
         "hospice": 2,
         "indigo plant": 3,
         "large market": 2,
         "large warehouse": 2,
         "office": 2,
         "residence": 1,
         "small indigo plant": 4,
         "small market": 2,
         "small sugar mill": 4,
         "small warehouse": 2,
         "sugar mill": 3,
         "tobacco storage": 3,
         "university": 2,
         "wharf": 2
        },
        "goods": {
         "coffee": 9,
         "corn": 10,
         "indigo": 11,
         "sugar": 11,
         "tobacco": 9
        },
        "money": 66,
        "plantations": [
         "indigo",
         "indigo",
         "indigo",
         "tobacco",
         "tobacco",
         "coffee"
        ],
        "playerorder": [
         "84338003",
         "84366500",
         "84157219",
         "84338781",
         "38055077"
        ],
        "roles": {
         "1": {
          "money": "0",
          "rol_type": "captain"
         },
         "2": {
          "money": "0",
          "rol_type": "trader"
         },
         "3": {
          "money": "0",
          "rol_type": "craftsman"
         },
         "4": {
          "money": "0",
          "rol_type": "settler",
          "selected": true
         },
         "5": {
          "money": "0",
          "rol_type": "builder"
         },
         "6": {
          "money": "0",
          "rol_type": "mayor"
         },
         "7": {
          "money": "0",
          "rol_type": "prospector"
         },
         "8": {
          "money": "0",
          "rol_type": "prospector"
         }
        },
        "ships": {
         "6": {},
         "7": {},
         "8": {}
        },
        "stock": [],
        "workers": {
         "arriving": 5,
         "available": 95
        }
       }
      },
      "text/plain": [
       "<IPython.core.display.JSON object>"
      ]
     },
     "metadata": {
      "application/json": {
       "expanded": false
      }
     },
     "output_type": "display_data"
    },
    {
     "name": "stdout",
     "output_type": "stream",
     "text": [
      "pauldavis92 got a new quarry\n",
      "\n",
      "{'players': {'84157219': {'plantations': {'rock': [0,\n",
      "                                                   1]},\n",
      "                          'slots': {'plantations': [1,\n",
      "                                                    2]}}}}\n",
      "------------------------------------------------------------------------------------------------------------------------------------------------------------------------------------\n",
      "->[gameStateChange] - d:${actplayer} can get a colonist from the supply or ship (hospice)      t:activeplayer, n:playerSettlerHospice\n",
      "->[gameStateChange] - d:${actplayer} can discard a plantation (hunting lodge)                  t:activeplayer, n:playerSettlerHuntingLodge\n",
      "->[gameStateChange] - d:Checking for end of phase                                              t:game, n:checkEndOfRolePlayTurn\n",
      "->[gameStateChange] - d:Activating the next player to play this phase                          t:game, n:nextPlayerForRolePlay\n",
      "  [updateReflexionTime]\n",
      "->[gameStateChange] - d:${actplayer} can get a plantation from the deck (hacienda)             t:activeplayer, n:playerSettlerHacienda\n",
      "->[gameStateChange] - d:${actplayer} must select a plantation                                  t:activeplayer, n:playerSettlerPlantationSelection\n",
      "\n",
      "====================================================================================================================================================================================\n",
      "move 3.0\n"
     ]
    },
    {
     "data": {
      "application/json": {
       "governor": "84157219",
       "move_id": 3,
       "players": {
        "38055077": {
         "_": "cooper1966",
         "building_vp": 0,
         "buildings": {
          "commercial": {},
          "factories": {
           "coffee": {
            "jobs": 0,
            "workers": 0
           },
           "corn": {
            "jobs": 0,
            "workers": 0
           },
           "indigo": {
            "jobs": 0,
            "workers": 0
           },
           "sugar": {
            "jobs": 0,
            "workers": 0
           },
           "tobacco": {
            "jobs": 0,
            "workers": 0
           }
          }
         },
         "delivery_vp": 0,
         "goods": {
          "coffee": 0,
          "corn": 0,
          "indigo": 0,
          "sugar": 0,
          "tobacco": 0
         },
         "money": 4,
         "plantations": {
          "coffee": 0,
          "corn": 0,
          "indigo": 1,
          "rock": 0,
          "sugar": 0,
          "tobacco": 0
         },
         "potential_vp": {
          "commercial": 0,
          "factories": 0,
          "workers": 0
         },
         "slots": {
          "buildings": 0,
          "plantations": 1
         },
         "workers": {
          "total": 0,
          "unemployed": 0
         }
        },
        "84157219": {
         "_": "pauldavis92",
         "building_vp": 0,
         "buildings": {
          "commercial": {},
          "factories": {
           "coffee": {
            "jobs": 0,
            "workers": 0
           },
           "corn": {
            "jobs": 0,
            "workers": 0
           },
           "indigo": {
            "jobs": 0,
            "workers": 0
           },
           "sugar": {
            "jobs": 0,
            "workers": 0
           },
           "tobacco": {
            "jobs": 0,
            "workers": 0
           }
          }
         },
         "delivery_vp": 0,
         "goods": {
          "coffee": 0,
          "corn": 0,
          "indigo": 0,
          "sugar": 0,
          "tobacco": 0
         },
         "money": 4,
         "plantations": {
          "coffee": 0,
          "corn": 0,
          "indigo": 1,
          "rock": 1,
          "sugar": 0,
          "tobacco": 0
         },
         "potential_vp": {
          "commercial": 0,
          "factories": 0,
          "workers": 0
         },
         "slots": {
          "buildings": 0,
          "plantations": 2
         },
         "workers": {
          "total": 0,
          "unemployed": 0
         }
        },
        "84338003": {
         "_": "anthos79",
         "building_vp": 0,
         "buildings": {
          "commercial": {},
          "factories": {
           "coffee": {
            "jobs": 0,
            "workers": 0
           },
           "corn": {
            "jobs": 0,
            "workers": 0
           },
           "indigo": {
            "jobs": 0,
            "workers": 0
           },
           "sugar": {
            "jobs": 0,
            "workers": 0
           },
           "tobacco": {
            "jobs": 0,
            "workers": 0
           }
          }
         },
         "delivery_vp": 0,
         "goods": {
          "coffee": 0,
          "corn": 0,
          "indigo": 0,
          "sugar": 0,
          "tobacco": 0
         },
         "money": 4,
         "plantations": {
          "coffee": 0,
          "corn": 1,
          "indigo": 0,
          "rock": 0,
          "sugar": 0,
          "tobacco": 0
         },
         "potential_vp": {
          "commercial": 0,
          "factories": 0,
          "workers": 0
         },
         "slots": {
          "buildings": 0,
          "plantations": 1
         },
         "workers": {
          "total": 0,
          "unemployed": 0
         }
        },
        "84338781": {
         "_": "Nocturno",
         "building_vp": 0,
         "buildings": {
          "commercial": {},
          "factories": {
           "coffee": {
            "jobs": 0,
            "workers": 0
           },
           "corn": {
            "jobs": 0,
            "workers": 0
           },
           "indigo": {
            "jobs": 0,
            "workers": 0
           },
           "sugar": {
            "jobs": 0,
            "workers": 0
           },
           "tobacco": {
            "jobs": 0,
            "workers": 0
           }
          }
         },
         "delivery_vp": 0,
         "goods": {
          "coffee": 0,
          "corn": 0,
          "indigo": 0,
          "sugar": 0,
          "tobacco": 0
         },
         "money": 4,
         "plantations": {
          "coffee": 0,
          "corn": 0,
          "indigo": 1,
          "rock": 0,
          "sugar": 0,
          "tobacco": 0
         },
         "potential_vp": {
          "commercial": 0,
          "factories": 0,
          "workers": 0
         },
         "slots": {
          "buildings": 0,
          "plantations": 1
         },
         "workers": {
          "total": 0,
          "unemployed": 0
         }
        },
        "84366500": {
         "_": "moonriver78",
         "building_vp": 0,
         "buildings": {
          "commercial": {},
          "factories": {
           "coffee": {
            "jobs": 0,
            "workers": 0
           },
           "corn": {
            "jobs": 0,
            "workers": 0
           },
           "indigo": {
            "jobs": 0,
            "workers": 0
           },
           "sugar": {
            "jobs": 0,
            "workers": 0
           },
           "tobacco": {
            "jobs": 0,
            "workers": 0
           }
          }
         },
         "delivery_vp": 0,
         "goods": {
          "coffee": 0,
          "corn": 0,
          "indigo": 0,
          "sugar": 0,
          "tobacco": 0
         },
         "money": 4,
         "plantations": {
          "coffee": 0,
          "corn": 1,
          "indigo": 0,
          "rock": 0,
          "sugar": 0,
          "tobacco": 0
         },
         "potential_vp": {
          "commercial": 0,
          "factories": 0,
          "workers": 0
         },
         "slots": {
          "buildings": 0,
          "plantations": 1
         },
         "workers": {
          "total": 0,
          "unemployed": 0
         }
        }
       },
       "sub_move_id": 0,
       "table": {
        "VPs": 126,
        "buildings": {
         "city hall": 1,
         "coffee roaster": 3,
         "construction hut": 2,
         "customs house": 1,
         "factory": 2,
         "fortress": 1,
         "guild hall": 1,
         "hacienda": 2,
         "harbor": 2,
         "hospice": 2,
         "indigo plant": 3,
         "large market": 2,
         "large warehouse": 2,
         "office": 2,
         "residence": 1,
         "small indigo plant": 4,
         "small market": 2,
         "small sugar mill": 4,
         "small warehouse": 2,
         "sugar mill": 3,
         "tobacco storage": 3,
         "university": 2,
         "wharf": 2
        },
        "goods": {
         "coffee": 9,
         "corn": 10,
         "indigo": 11,
         "sugar": 11,
         "tobacco": 9
        },
        "money": 66,
        "plantations": [
         "indigo",
         "indigo",
         "indigo",
         "tobacco",
         "tobacco",
         "coffee"
        ],
        "playerorder": [
         "84338003",
         "84366500",
         "84157219",
         "84338781",
         "38055077"
        ],
        "roles": {
         "1": {
          "money": "0",
          "rol_type": "captain"
         },
         "2": {
          "money": "0",
          "rol_type": "trader"
         },
         "3": {
          "money": "0",
          "rol_type": "craftsman"
         },
         "4": {
          "money": "0",
          "rol_type": "settler",
          "selected": true
         },
         "5": {
          "money": "0",
          "rol_type": "builder"
         },
         "6": {
          "money": "0",
          "rol_type": "mayor"
         },
         "7": {
          "money": "0",
          "rol_type": "prospector"
         },
         "8": {
          "money": "0",
          "rol_type": "prospector"
         }
        },
        "ships": {
         "6": {},
         "7": {},
         "8": {}
        },
        "stock": [],
        "workers": {
         "arriving": 5,
         "available": 95
        }
       }
      },
      "text/plain": [
       "<IPython.core.display.JSON object>"
      ]
     },
     "metadata": {
      "application/json": {
       "expanded": false
      }
     },
     "output_type": "display_data"
    },
    {
     "name": "stdout",
     "output_type": "stream",
     "text": [
      "Nocturno got a new plantation (tobacco)\n",
      "\n",
      "{'players': {'84338781': {'plantations': {'tobacco': [0,\n",
      "                                                      1]},\n",
      "                          'slots': {'plantations': [1,\n",
      "                                                    2]}}},\n",
      " 'table': {'plantations': {delete: [(3,\n",
      "                                     'tobacco')]}}}\n",
      "------------------------------------------------------------------------------------------------------------------------------------------------------------------------------------\n",
      "->[gameStateChange] - d:${actplayer} can get a colonist from the supply or ship (hospice)      t:activeplayer, n:playerSettlerHospice\n",
      "->[gameStateChange] - d:${actplayer} can discard a plantation (hunting lodge)                  t:activeplayer, n:playerSettlerHuntingLodge\n",
      "->[gameStateChange] - d:Checking for end of phase                                              t:game, n:checkEndOfRolePlayTurn\n",
      "->[gameStateChange] - d:Activating the next player to play this phase                          t:game, n:nextPlayerForRolePlay\n",
      "  [updateReflexionTime]\n",
      "->[gameStateChange] - d:${actplayer} can get a plantation from the deck (hacienda)             t:activeplayer, n:playerSettlerHacienda\n",
      "->[gameStateChange] - d:${actplayer} must select a plantation                                  t:activeplayer, n:playerSettlerPlantationSelection\n",
      "\n",
      "====================================================================================================================================================================================\n",
      "move 4.0\n"
     ]
    },
    {
     "data": {
      "application/json": {
       "governor": "84157219",
       "move_id": 4,
       "players": {
        "38055077": {
         "_": "cooper1966",
         "building_vp": 0,
         "buildings": {
          "commercial": {},
          "factories": {
           "coffee": {
            "jobs": 0,
            "workers": 0
           },
           "corn": {
            "jobs": 0,
            "workers": 0
           },
           "indigo": {
            "jobs": 0,
            "workers": 0
           },
           "sugar": {
            "jobs": 0,
            "workers": 0
           },
           "tobacco": {
            "jobs": 0,
            "workers": 0
           }
          }
         },
         "delivery_vp": 0,
         "goods": {
          "coffee": 0,
          "corn": 0,
          "indigo": 0,
          "sugar": 0,
          "tobacco": 0
         },
         "money": 4,
         "plantations": {
          "coffee": 0,
          "corn": 0,
          "indigo": 1,
          "rock": 0,
          "sugar": 0,
          "tobacco": 0
         },
         "potential_vp": {
          "commercial": 0,
          "factories": 0,
          "workers": 0
         },
         "slots": {
          "buildings": 0,
          "plantations": 1
         },
         "workers": {
          "total": 0,
          "unemployed": 0
         }
        },
        "84157219": {
         "_": "pauldavis92",
         "building_vp": 0,
         "buildings": {
          "commercial": {},
          "factories": {
           "coffee": {
            "jobs": 0,
            "workers": 0
           },
           "corn": {
            "jobs": 0,
            "workers": 0
           },
           "indigo": {
            "jobs": 0,
            "workers": 0
           },
           "sugar": {
            "jobs": 0,
            "workers": 0
           },
           "tobacco": {
            "jobs": 0,
            "workers": 0
           }
          }
         },
         "delivery_vp": 0,
         "goods": {
          "coffee": 0,
          "corn": 0,
          "indigo": 0,
          "sugar": 0,
          "tobacco": 0
         },
         "money": 4,
         "plantations": {
          "coffee": 0,
          "corn": 0,
          "indigo": 1,
          "rock": 1,
          "sugar": 0,
          "tobacco": 0
         },
         "potential_vp": {
          "commercial": 0,
          "factories": 0,
          "workers": 0
         },
         "slots": {
          "buildings": 0,
          "plantations": 2
         },
         "workers": {
          "total": 0,
          "unemployed": 0
         }
        },
        "84338003": {
         "_": "anthos79",
         "building_vp": 0,
         "buildings": {
          "commercial": {},
          "factories": {
           "coffee": {
            "jobs": 0,
            "workers": 0
           },
           "corn": {
            "jobs": 0,
            "workers": 0
           },
           "indigo": {
            "jobs": 0,
            "workers": 0
           },
           "sugar": {
            "jobs": 0,
            "workers": 0
           },
           "tobacco": {
            "jobs": 0,
            "workers": 0
           }
          }
         },
         "delivery_vp": 0,
         "goods": {
          "coffee": 0,
          "corn": 0,
          "indigo": 0,
          "sugar": 0,
          "tobacco": 0
         },
         "money": 4,
         "plantations": {
          "coffee": 0,
          "corn": 1,
          "indigo": 0,
          "rock": 0,
          "sugar": 0,
          "tobacco": 0
         },
         "potential_vp": {
          "commercial": 0,
          "factories": 0,
          "workers": 0
         },
         "slots": {
          "buildings": 0,
          "plantations": 1
         },
         "workers": {
          "total": 0,
          "unemployed": 0
         }
        },
        "84338781": {
         "_": "Nocturno",
         "building_vp": 0,
         "buildings": {
          "commercial": {},
          "factories": {
           "coffee": {
            "jobs": 0,
            "workers": 0
           },
           "corn": {
            "jobs": 0,
            "workers": 0
           },
           "indigo": {
            "jobs": 0,
            "workers": 0
           },
           "sugar": {
            "jobs": 0,
            "workers": 0
           },
           "tobacco": {
            "jobs": 0,
            "workers": 0
           }
          }
         },
         "delivery_vp": 0,
         "goods": {
          "coffee": 0,
          "corn": 0,
          "indigo": 0,
          "sugar": 0,
          "tobacco": 0
         },
         "money": 4,
         "plantations": {
          "coffee": 0,
          "corn": 0,
          "indigo": 1,
          "rock": 0,
          "sugar": 0,
          "tobacco": 1
         },
         "potential_vp": {
          "commercial": 0,
          "factories": 0,
          "workers": 0
         },
         "slots": {
          "buildings": 0,
          "plantations": 2
         },
         "workers": {
          "total": 0,
          "unemployed": 0
         }
        },
        "84366500": {
         "_": "moonriver78",
         "building_vp": 0,
         "buildings": {
          "commercial": {},
          "factories": {
           "coffee": {
            "jobs": 0,
            "workers": 0
           },
           "corn": {
            "jobs": 0,
            "workers": 0
           },
           "indigo": {
            "jobs": 0,
            "workers": 0
           },
           "sugar": {
            "jobs": 0,
            "workers": 0
           },
           "tobacco": {
            "jobs": 0,
            "workers": 0
           }
          }
         },
         "delivery_vp": 0,
         "goods": {
          "coffee": 0,
          "corn": 0,
          "indigo": 0,
          "sugar": 0,
          "tobacco": 0
         },
         "money": 4,
         "plantations": {
          "coffee": 0,
          "corn": 1,
          "indigo": 0,
          "rock": 0,
          "sugar": 0,
          "tobacco": 0
         },
         "potential_vp": {
          "commercial": 0,
          "factories": 0,
          "workers": 0
         },
         "slots": {
          "buildings": 0,
          "plantations": 1
         },
         "workers": {
          "total": 0,
          "unemployed": 0
         }
        }
       },
       "sub_move_id": 0,
       "table": {
        "VPs": 126,
        "buildings": {
         "city hall": 1,
         "coffee roaster": 3,
         "construction hut": 2,
         "customs house": 1,
         "factory": 2,
         "fortress": 1,
         "guild hall": 1,
         "hacienda": 2,
         "harbor": 2,
         "hospice": 2,
         "indigo plant": 3,
         "large market": 2,
         "large warehouse": 2,
         "office": 2,
         "residence": 1,
         "small indigo plant": 4,
         "small market": 2,
         "small sugar mill": 4,
         "small warehouse": 2,
         "sugar mill": 3,
         "tobacco storage": 3,
         "university": 2,
         "wharf": 2
        },
        "goods": {
         "coffee": 9,
         "corn": 10,
         "indigo": 11,
         "sugar": 11,
         "tobacco": 9
        },
        "money": 66,
        "plantations": [
         "indigo",
         "indigo",
         "indigo",
         "tobacco",
         "coffee"
        ],
        "playerorder": [
         "84338003",
         "84366500",
         "84157219",
         "84338781",
         "38055077"
        ],
        "roles": {
         "1": {
          "money": "0",
          "rol_type": "captain"
         },
         "2": {
          "money": "0",
          "rol_type": "trader"
         },
         "3": {
          "money": "0",
          "rol_type": "craftsman"
         },
         "4": {
          "money": "0",
          "rol_type": "settler",
          "selected": true
         },
         "5": {
          "money": "0",
          "rol_type": "builder"
         },
         "6": {
          "money": "0",
          "rol_type": "mayor"
         },
         "7": {
          "money": "0",
          "rol_type": "prospector"
         },
         "8": {
          "money": "0",
          "rol_type": "prospector"
         }
        },
        "ships": {
         "6": {},
         "7": {},
         "8": {}
        },
        "stock": [],
        "workers": {
         "arriving": 5,
         "available": 95
        }
       }
      },
      "text/plain": [
       "<IPython.core.display.JSON object>"
      ]
     },
     "metadata": {
      "application/json": {
       "expanded": false
      }
     },
     "output_type": "display_data"
    },
    {
     "name": "stdout",
     "output_type": "stream",
     "text": [
      "cooper1966 got a new plantation (tobacco)\n",
      "\n",
      "{'players': {'38055077': {'plantations': {'tobacco': [0,\n",
      "                                                      1]},\n",
      "                          'slots': {'plantations': [1,\n",
      "                                                    2]}}},\n",
      " 'table': {'plantations': {delete: [(3,\n",
      "                                     'tobacco')]}}}\n",
      "------------------------------------------------------------------------------------------------------------------------------------------------------------------------------------\n",
      "->[gameStateChange] - d:${actplayer} can get a colonist from the supply or ship (hospice)      t:activeplayer, n:playerSettlerHospice\n",
      "->[gameStateChange] - d:${actplayer} can discard a plantation (hunting lodge)                  t:activeplayer, n:playerSettlerHuntingLodge\n",
      "->[gameStateChange] - d:Checking for end of phase                                              t:game, n:checkEndOfRolePlayTurn\n",
      "->[gameStateChange] - d:Activating the next player to play this phase                          t:game, n:nextPlayerForRolePlay\n",
      "  [updateReflexionTime]\n",
      "->[gameStateChange] - d:${actplayer} can get a plantation from the deck (hacienda)             t:activeplayer, n:playerSettlerHacienda\n",
      "->[gameStateChange] - d:${actplayer} must select a plantation                                  t:activeplayer, n:playerSettlerPlantationSelection\n",
      "\n",
      "====================================================================================================================================================================================\n",
      "move 5.0\n"
     ]
    },
    {
     "data": {
      "application/json": {
       "governor": "84157219",
       "move_id": 5,
       "players": {
        "38055077": {
         "_": "cooper1966",
         "building_vp": 0,
         "buildings": {
          "commercial": {},
          "factories": {
           "coffee": {
            "jobs": 0,
            "workers": 0
           },
           "corn": {
            "jobs": 0,
            "workers": 0
           },
           "indigo": {
            "jobs": 0,
            "workers": 0
           },
           "sugar": {
            "jobs": 0,
            "workers": 0
           },
           "tobacco": {
            "jobs": 0,
            "workers": 0
           }
          }
         },
         "delivery_vp": 0,
         "goods": {
          "coffee": 0,
          "corn": 0,
          "indigo": 0,
          "sugar": 0,
          "tobacco": 0
         },
         "money": 4,
         "plantations": {
          "coffee": 0,
          "corn": 0,
          "indigo": 1,
          "rock": 0,
          "sugar": 0,
          "tobacco": 1
         },
         "potential_vp": {
          "commercial": 0,
          "factories": 0,
          "workers": 0
         },
         "slots": {
          "buildings": 0,
          "plantations": 2
         },
         "workers": {
          "total": 0,
          "unemployed": 0
         }
        },
        "84157219": {
         "_": "pauldavis92",
         "building_vp": 0,
         "buildings": {
          "commercial": {},
          "factories": {
           "coffee": {
            "jobs": 0,
            "workers": 0
           },
           "corn": {
            "jobs": 0,
            "workers": 0
           },
           "indigo": {
            "jobs": 0,
            "workers": 0
           },
           "sugar": {
            "jobs": 0,
            "workers": 0
           },
           "tobacco": {
            "jobs": 0,
            "workers": 0
           }
          }
         },
         "delivery_vp": 0,
         "goods": {
          "coffee": 0,
          "corn": 0,
          "indigo": 0,
          "sugar": 0,
          "tobacco": 0
         },
         "money": 4,
         "plantations": {
          "coffee": 0,
          "corn": 0,
          "indigo": 1,
          "rock": 1,
          "sugar": 0,
          "tobacco": 0
         },
         "potential_vp": {
          "commercial": 0,
          "factories": 0,
          "workers": 0
         },
         "slots": {
          "buildings": 0,
          "plantations": 2
         },
         "workers": {
          "total": 0,
          "unemployed": 0
         }
        },
        "84338003": {
         "_": "anthos79",
         "building_vp": 0,
         "buildings": {
          "commercial": {},
          "factories": {
           "coffee": {
            "jobs": 0,
            "workers": 0
           },
           "corn": {
            "jobs": 0,
            "workers": 0
           },
           "indigo": {
            "jobs": 0,
            "workers": 0
           },
           "sugar": {
            "jobs": 0,
            "workers": 0
           },
           "tobacco": {
            "jobs": 0,
            "workers": 0
           }
          }
         },
         "delivery_vp": 0,
         "goods": {
          "coffee": 0,
          "corn": 0,
          "indigo": 0,
          "sugar": 0,
          "tobacco": 0
         },
         "money": 4,
         "plantations": {
          "coffee": 0,
          "corn": 1,
          "indigo": 0,
          "rock": 0,
          "sugar": 0,
          "tobacco": 0
         },
         "potential_vp": {
          "commercial": 0,
          "factories": 0,
          "workers": 0
         },
         "slots": {
          "buildings": 0,
          "plantations": 1
         },
         "workers": {
          "total": 0,
          "unemployed": 0
         }
        },
        "84338781": {
         "_": "Nocturno",
         "building_vp": 0,
         "buildings": {
          "commercial": {},
          "factories": {
           "coffee": {
            "jobs": 0,
            "workers": 0
           },
           "corn": {
            "jobs": 0,
            "workers": 0
           },
           "indigo": {
            "jobs": 0,
            "workers": 0
           },
           "sugar": {
            "jobs": 0,
            "workers": 0
           },
           "tobacco": {
            "jobs": 0,
            "workers": 0
           }
          }
         },
         "delivery_vp": 0,
         "goods": {
          "coffee": 0,
          "corn": 0,
          "indigo": 0,
          "sugar": 0,
          "tobacco": 0
         },
         "money": 4,
         "plantations": {
          "coffee": 0,
          "corn": 0,
          "indigo": 1,
          "rock": 0,
          "sugar": 0,
          "tobacco": 1
         },
         "potential_vp": {
          "commercial": 0,
          "factories": 0,
          "workers": 0
         },
         "slots": {
          "buildings": 0,
          "plantations": 2
         },
         "workers": {
          "total": 0,
          "unemployed": 0
         }
        },
        "84366500": {
         "_": "moonriver78",
         "building_vp": 0,
         "buildings": {
          "commercial": {},
          "factories": {
           "coffee": {
            "jobs": 0,
            "workers": 0
           },
           "corn": {
            "jobs": 0,
            "workers": 0
           },
           "indigo": {
            "jobs": 0,
            "workers": 0
           },
           "sugar": {
            "jobs": 0,
            "workers": 0
           },
           "tobacco": {
            "jobs": 0,
            "workers": 0
           }
          }
         },
         "delivery_vp": 0,
         "goods": {
          "coffee": 0,
          "corn": 0,
          "indigo": 0,
          "sugar": 0,
          "tobacco": 0
         },
         "money": 4,
         "plantations": {
          "coffee": 0,
          "corn": 1,
          "indigo": 0,
          "rock": 0,
          "sugar": 0,
          "tobacco": 0
         },
         "potential_vp": {
          "commercial": 0,
          "factories": 0,
          "workers": 0
         },
         "slots": {
          "buildings": 0,
          "plantations": 1
         },
         "workers": {
          "total": 0,
          "unemployed": 0
         }
        }
       },
       "sub_move_id": 0,
       "table": {
        "VPs": 126,
        "buildings": {
         "city hall": 1,
         "coffee roaster": 3,
         "construction hut": 2,
         "customs house": 1,
         "factory": 2,
         "fortress": 1,
         "guild hall": 1,
         "hacienda": 2,
         "harbor": 2,
         "hospice": 2,
         "indigo plant": 3,
         "large market": 2,
         "large warehouse": 2,
         "office": 2,
         "residence": 1,
         "small indigo plant": 4,
         "small market": 2,
         "small sugar mill": 4,
         "small warehouse": 2,
         "sugar mill": 3,
         "tobacco storage": 3,
         "university": 2,
         "wharf": 2
        },
        "goods": {
         "coffee": 9,
         "corn": 10,
         "indigo": 11,
         "sugar": 11,
         "tobacco": 9
        },
        "money": 66,
        "plantations": [
         "indigo",
         "indigo",
         "indigo",
         "coffee"
        ],
        "playerorder": [
         "84338003",
         "84366500",
         "84157219",
         "84338781",
         "38055077"
        ],
        "roles": {
         "1": {
          "money": "0",
          "rol_type": "captain"
         },
         "2": {
          "money": "0",
          "rol_type": "trader"
         },
         "3": {
          "money": "0",
          "rol_type": "craftsman"
         },
         "4": {
          "money": "0",
          "rol_type": "settler",
          "selected": true
         },
         "5": {
          "money": "0",
          "rol_type": "builder"
         },
         "6": {
          "money": "0",
          "rol_type": "mayor"
         },
         "7": {
          "money": "0",
          "rol_type": "prospector"
         },
         "8": {
          "money": "0",
          "rol_type": "prospector"
         }
        },
        "ships": {
         "6": {},
         "7": {},
         "8": {}
        },
        "stock": [],
        "workers": {
         "arriving": 5,
         "available": 95
        }
       }
      },
      "text/plain": [
       "<IPython.core.display.JSON object>"
      ]
     },
     "metadata": {
      "application/json": {
       "expanded": false
      }
     },
     "output_type": "display_data"
    },
    {
     "name": "stdout",
     "output_type": "stream",
     "text": [
      "anthos79 got a new plantation (coffee)\n",
      "\n",
      "{'players': {'84338003': {'plantations': {'coffee': [0,\n",
      "                                                     1]},\n",
      "                          'slots': {'plantations': [1,\n",
      "                                                    2]}}},\n",
      " 'table': {'plantations': {delete: [(3,\n",
      "                                     'coffee')]}}}\n",
      "------------------------------------------------------------------------------------------------------------------------------------------------------------------------------------\n",
      "->[gameStateChange] - d:${actplayer} can get a colonist from the supply or ship (hospice)      t:activeplayer, n:playerSettlerHospice\n",
      "->[gameStateChange] - d:${actplayer} can discard a plantation (hunting lodge)                  t:activeplayer, n:playerSettlerHuntingLodge\n",
      "->[gameStateChange] - d:Checking for end of phase                                              t:game, n:checkEndOfRolePlayTurn\n",
      "->[gameStateChange] - d:Activating the next player to play this phase                          t:game, n:nextPlayerForRolePlay\n",
      "  [updateReflexionTime]\n",
      "->[gameStateChange] - d:${actplayer} can get a plantation from the deck (hacienda)             t:activeplayer, n:playerSettlerHacienda\n",
      "->[gameStateChange] - d:${actplayer} must select a plantation                                  t:activeplayer, n:playerSettlerPlantationSelection\n",
      "\n",
      "====================================================================================================================================================================================\n",
      "move 6.0\n"
     ]
    },
    {
     "data": {
      "application/json": {
       "governor": "84157219",
       "move_id": 6,
       "players": {
        "38055077": {
         "_": "cooper1966",
         "building_vp": 0,
         "buildings": {
          "commercial": {},
          "factories": {
           "coffee": {
            "jobs": 0,
            "workers": 0
           },
           "corn": {
            "jobs": 0,
            "workers": 0
           },
           "indigo": {
            "jobs": 0,
            "workers": 0
           },
           "sugar": {
            "jobs": 0,
            "workers": 0
           },
           "tobacco": {
            "jobs": 0,
            "workers": 0
           }
          }
         },
         "delivery_vp": 0,
         "goods": {
          "coffee": 0,
          "corn": 0,
          "indigo": 0,
          "sugar": 0,
          "tobacco": 0
         },
         "money": 4,
         "plantations": {
          "coffee": 0,
          "corn": 0,
          "indigo": 1,
          "rock": 0,
          "sugar": 0,
          "tobacco": 1
         },
         "potential_vp": {
          "commercial": 0,
          "factories": 0,
          "workers": 0
         },
         "slots": {
          "buildings": 0,
          "plantations": 2
         },
         "workers": {
          "total": 0,
          "unemployed": 0
         }
        },
        "84157219": {
         "_": "pauldavis92",
         "building_vp": 0,
         "buildings": {
          "commercial": {},
          "factories": {
           "coffee": {
            "jobs": 0,
            "workers": 0
           },
           "corn": {
            "jobs": 0,
            "workers": 0
           },
           "indigo": {
            "jobs": 0,
            "workers": 0
           },
           "sugar": {
            "jobs": 0,
            "workers": 0
           },
           "tobacco": {
            "jobs": 0,
            "workers": 0
           }
          }
         },
         "delivery_vp": 0,
         "goods": {
          "coffee": 0,
          "corn": 0,
          "indigo": 0,
          "sugar": 0,
          "tobacco": 0
         },
         "money": 4,
         "plantations": {
          "coffee": 0,
          "corn": 0,
          "indigo": 1,
          "rock": 1,
          "sugar": 0,
          "tobacco": 0
         },
         "potential_vp": {
          "commercial": 0,
          "factories": 0,
          "workers": 0
         },
         "slots": {
          "buildings": 0,
          "plantations": 2
         },
         "workers": {
          "total": 0,
          "unemployed": 0
         }
        },
        "84338003": {
         "_": "anthos79",
         "building_vp": 0,
         "buildings": {
          "commercial": {},
          "factories": {
           "coffee": {
            "jobs": 0,
            "workers": 0
           },
           "corn": {
            "jobs": 0,
            "workers": 0
           },
           "indigo": {
            "jobs": 0,
            "workers": 0
           },
           "sugar": {
            "jobs": 0,
            "workers": 0
           },
           "tobacco": {
            "jobs": 0,
            "workers": 0
           }
          }
         },
         "delivery_vp": 0,
         "goods": {
          "coffee": 0,
          "corn": 0,
          "indigo": 0,
          "sugar": 0,
          "tobacco": 0
         },
         "money": 4,
         "plantations": {
          "coffee": 1,
          "corn": 1,
          "indigo": 0,
          "rock": 0,
          "sugar": 0,
          "tobacco": 0
         },
         "potential_vp": {
          "commercial": 0,
          "factories": 0,
          "workers": 0
         },
         "slots": {
          "buildings": 0,
          "plantations": 2
         },
         "workers": {
          "total": 0,
          "unemployed": 0
         }
        },
        "84338781": {
         "_": "Nocturno",
         "building_vp": 0,
         "buildings": {
          "commercial": {},
          "factories": {
           "coffee": {
            "jobs": 0,
            "workers": 0
           },
           "corn": {
            "jobs": 0,
            "workers": 0
           },
           "indigo": {
            "jobs": 0,
            "workers": 0
           },
           "sugar": {
            "jobs": 0,
            "workers": 0
           },
           "tobacco": {
            "jobs": 0,
            "workers": 0
           }
          }
         },
         "delivery_vp": 0,
         "goods": {
          "coffee": 0,
          "corn": 0,
          "indigo": 0,
          "sugar": 0,
          "tobacco": 0
         },
         "money": 4,
         "plantations": {
          "coffee": 0,
          "corn": 0,
          "indigo": 1,
          "rock": 0,
          "sugar": 0,
          "tobacco": 1
         },
         "potential_vp": {
          "commercial": 0,
          "factories": 0,
          "workers": 0
         },
         "slots": {
          "buildings": 0,
          "plantations": 2
         },
         "workers": {
          "total": 0,
          "unemployed": 0
         }
        },
        "84366500": {
         "_": "moonriver78",
         "building_vp": 0,
         "buildings": {
          "commercial": {},
          "factories": {
           "coffee": {
            "jobs": 0,
            "workers": 0
           },
           "corn": {
            "jobs": 0,
            "workers": 0
           },
           "indigo": {
            "jobs": 0,
            "workers": 0
           },
           "sugar": {
            "jobs": 0,
            "workers": 0
           },
           "tobacco": {
            "jobs": 0,
            "workers": 0
           }
          }
         },
         "delivery_vp": 0,
         "goods": {
          "coffee": 0,
          "corn": 0,
          "indigo": 0,
          "sugar": 0,
          "tobacco": 0
         },
         "money": 4,
         "plantations": {
          "coffee": 0,
          "corn": 1,
          "indigo": 0,
          "rock": 0,
          "sugar": 0,
          "tobacco": 0
         },
         "potential_vp": {
          "commercial": 0,
          "factories": 0,
          "workers": 0
         },
         "slots": {
          "buildings": 0,
          "plantations": 1
         },
         "workers": {
          "total": 0,
          "unemployed": 0
         }
        }
       },
       "sub_move_id": 0,
       "table": {
        "VPs": 126,
        "buildings": {
         "city hall": 1,
         "coffee roaster": 3,
         "construction hut": 2,
         "customs house": 1,
         "factory": 2,
         "fortress": 1,
         "guild hall": 1,
         "hacienda": 2,
         "harbor": 2,
         "hospice": 2,
         "indigo plant": 3,
         "large market": 2,
         "large warehouse": 2,
         "office": 2,
         "residence": 1,
         "small indigo plant": 4,
         "small market": 2,
         "small sugar mill": 4,
         "small warehouse": 2,
         "sugar mill": 3,
         "tobacco storage": 3,
         "university": 2,
         "wharf": 2
        },
        "goods": {
         "coffee": 9,
         "corn": 10,
         "indigo": 11,
         "sugar": 11,
         "tobacco": 9
        },
        "money": 66,
        "plantations": [
         "indigo",
         "indigo",
         "indigo"
        ],
        "playerorder": [
         "84338003",
         "84366500",
         "84157219",
         "84338781",
         "38055077"
        ],
        "roles": {
         "1": {
          "money": "0",
          "rol_type": "captain"
         },
         "2": {
          "money": "0",
          "rol_type": "trader"
         },
         "3": {
          "money": "0",
          "rol_type": "craftsman"
         },
         "4": {
          "money": "0",
          "rol_type": "settler",
          "selected": true
         },
         "5": {
          "money": "0",
          "rol_type": "builder"
         },
         "6": {
          "money": "0",
          "rol_type": "mayor"
         },
         "7": {
          "money": "0",
          "rol_type": "prospector"
         },
         "8": {
          "money": "0",
          "rol_type": "prospector"
         }
        },
        "ships": {
         "6": {},
         "7": {},
         "8": {}
        },
        "stock": [],
        "workers": {
         "arriving": 5,
         "available": 95
        }
       }
      },
      "text/plain": [
       "<IPython.core.display.JSON object>"
      ]
     },
     "metadata": {
      "application/json": {
       "expanded": false
      }
     },
     "output_type": "display_data"
    },
    {
     "name": "stdout",
     "output_type": "stream",
     "text": [
      "moonriver78 got a new plantation (indigo)\n",
      "\n",
      "{'players': {'84366500': {'plantations': {'indigo': [0,\n",
      "                                                     1]},\n",
      "                          'slots': {'plantations': [1,\n",
      "                                                    2]}}},\n",
      " 'table': {'plantations': {delete: [(0,\n",
      "                                     'indigo')]}}}\n",
      "------------------------------------------------------------------------------------------------------------------------------------------------------------------------------------\n",
      "->[gameStateChange] - d:${actplayer} can get a colonist from the supply or ship (hospice)      t:activeplayer, n:playerSettlerHospice\n",
      "->[gameStateChange] - d:${actplayer} can discard a plantation (hunting lodge)                  t:activeplayer, n:playerSettlerHuntingLodge\n",
      "->[gameStateChange] - d:Checking for end of phase                                              t:game, n:checkEndOfRolePlayTurn\n",
      "Discarding plantations\n",
      "Drawing plantations\n",
      "\n",
      "{'table': {'plantations': {delete: [(0,\n",
      "                                     'indigo')],\n",
      "                           insert: [(0,\n",
      "                                     'corn'),\n",
      "                                    (1,\n",
      "                                     'corn'),\n",
      "                                    (3,\n",
      "                                     'sugar'),\n",
      "                                    (4,\n",
      "                                     'tobacco'),\n",
      "                                    (5,\n",
      "                                     'tobacco')]}}}\n",
      "------------------------------------------------------------------------------------------------------------------------------------------------------------------------------------\n",
      "Settler phase ends\n",
      "  [message]\n",
      "->[gameStateChange] - d:Activating the next player to select a role                            t:game, n:nextPlayerForRoleSelection\n",
      "  [updateReflexionTime]\n",
      "->[gameStateChange] - d:${actplayer} must select a role                                        t:activeplayer, n:playerRoleSelection\n",
      "\n",
      "====================================================================================================================================================================================\n",
      "move 7.0\n"
     ]
    },
    {
     "data": {
      "application/json": {
       "governor": "84157219",
       "move_id": 7,
       "players": {
        "38055077": {
         "_": "cooper1966",
         "building_vp": 0,
         "buildings": {
          "commercial": {},
          "factories": {
           "coffee": {
            "jobs": 0,
            "workers": 0
           },
           "corn": {
            "jobs": 0,
            "workers": 0
           },
           "indigo": {
            "jobs": 0,
            "workers": 0
           },
           "sugar": {
            "jobs": 0,
            "workers": 0
           },
           "tobacco": {
            "jobs": 0,
            "workers": 0
           }
          }
         },
         "delivery_vp": 0,
         "goods": {
          "coffee": 0,
          "corn": 0,
          "indigo": 0,
          "sugar": 0,
          "tobacco": 0
         },
         "money": 4,
         "plantations": {
          "coffee": 0,
          "corn": 0,
          "indigo": 1,
          "rock": 0,
          "sugar": 0,
          "tobacco": 1
         },
         "potential_vp": {
          "commercial": 0,
          "factories": 0,
          "workers": 0
         },
         "slots": {
          "buildings": 0,
          "plantations": 2
         },
         "workers": {
          "total": 0,
          "unemployed": 0
         }
        },
        "84157219": {
         "_": "pauldavis92",
         "building_vp": 0,
         "buildings": {
          "commercial": {},
          "factories": {
           "coffee": {
            "jobs": 0,
            "workers": 0
           },
           "corn": {
            "jobs": 0,
            "workers": 0
           },
           "indigo": {
            "jobs": 0,
            "workers": 0
           },
           "sugar": {
            "jobs": 0,
            "workers": 0
           },
           "tobacco": {
            "jobs": 0,
            "workers": 0
           }
          }
         },
         "delivery_vp": 0,
         "goods": {
          "coffee": 0,
          "corn": 0,
          "indigo": 0,
          "sugar": 0,
          "tobacco": 0
         },
         "money": 4,
         "plantations": {
          "coffee": 0,
          "corn": 0,
          "indigo": 1,
          "rock": 1,
          "sugar": 0,
          "tobacco": 0
         },
         "potential_vp": {
          "commercial": 0,
          "factories": 0,
          "workers": 0
         },
         "slots": {
          "buildings": 0,
          "plantations": 2
         },
         "workers": {
          "total": 0,
          "unemployed": 0
         }
        },
        "84338003": {
         "_": "anthos79",
         "building_vp": 0,
         "buildings": {
          "commercial": {},
          "factories": {
           "coffee": {
            "jobs": 0,
            "workers": 0
           },
           "corn": {
            "jobs": 0,
            "workers": 0
           },
           "indigo": {
            "jobs": 0,
            "workers": 0
           },
           "sugar": {
            "jobs": 0,
            "workers": 0
           },
           "tobacco": {
            "jobs": 0,
            "workers": 0
           }
          }
         },
         "delivery_vp": 0,
         "goods": {
          "coffee": 0,
          "corn": 0,
          "indigo": 0,
          "sugar": 0,
          "tobacco": 0
         },
         "money": 4,
         "plantations": {
          "coffee": 1,
          "corn": 1,
          "indigo": 0,
          "rock": 0,
          "sugar": 0,
          "tobacco": 0
         },
         "potential_vp": {
          "commercial": 0,
          "factories": 0,
          "workers": 0
         },
         "slots": {
          "buildings": 0,
          "plantations": 2
         },
         "workers": {
          "total": 0,
          "unemployed": 0
         }
        },
        "84338781": {
         "_": "Nocturno",
         "building_vp": 0,
         "buildings": {
          "commercial": {},
          "factories": {
           "coffee": {
            "jobs": 0,
            "workers": 0
           },
           "corn": {
            "jobs": 0,
            "workers": 0
           },
           "indigo": {
            "jobs": 0,
            "workers": 0
           },
           "sugar": {
            "jobs": 0,
            "workers": 0
           },
           "tobacco": {
            "jobs": 0,
            "workers": 0
           }
          }
         },
         "delivery_vp": 0,
         "goods": {
          "coffee": 0,
          "corn": 0,
          "indigo": 0,
          "sugar": 0,
          "tobacco": 0
         },
         "money": 4,
         "plantations": {
          "coffee": 0,
          "corn": 0,
          "indigo": 1,
          "rock": 0,
          "sugar": 0,
          "tobacco": 1
         },
         "potential_vp": {
          "commercial": 0,
          "factories": 0,
          "workers": 0
         },
         "slots": {
          "buildings": 0,
          "plantations": 2
         },
         "workers": {
          "total": 0,
          "unemployed": 0
         }
        },
        "84366500": {
         "_": "moonriver78",
         "building_vp": 0,
         "buildings": {
          "commercial": {},
          "factories": {
           "coffee": {
            "jobs": 0,
            "workers": 0
           },
           "corn": {
            "jobs": 0,
            "workers": 0
           },
           "indigo": {
            "jobs": 0,
            "workers": 0
           },
           "sugar": {
            "jobs": 0,
            "workers": 0
           },
           "tobacco": {
            "jobs": 0,
            "workers": 0
           }
          }
         },
         "delivery_vp": 0,
         "goods": {
          "coffee": 0,
          "corn": 0,
          "indigo": 0,
          "sugar": 0,
          "tobacco": 0
         },
         "money": 4,
         "plantations": {
          "coffee": 0,
          "corn": 1,
          "indigo": 1,
          "rock": 0,
          "sugar": 0,
          "tobacco": 0
         },
         "potential_vp": {
          "commercial": 0,
          "factories": 0,
          "workers": 0
         },
         "slots": {
          "buildings": 0,
          "plantations": 2
         },
         "workers": {
          "total": 0,
          "unemployed": 0
         }
        }
       },
       "sub_move_id": 0,
       "table": {
        "VPs": 126,
        "buildings": {
         "city hall": 1,
         "coffee roaster": 3,
         "construction hut": 2,
         "customs house": 1,
         "factory": 2,
         "fortress": 1,
         "guild hall": 1,
         "hacienda": 2,
         "harbor": 2,
         "hospice": 2,
         "indigo plant": 3,
         "large market": 2,
         "large warehouse": 2,
         "office": 2,
         "residence": 1,
         "small indigo plant": 4,
         "small market": 2,
         "small sugar mill": 4,
         "small warehouse": 2,
         "sugar mill": 3,
         "tobacco storage": 3,
         "university": 2,
         "wharf": 2
        },
        "goods": {
         "coffee": 9,
         "corn": 10,
         "indigo": 11,
         "sugar": 11,
         "tobacco": 9
        },
        "money": 66,
        "plantations": [
         "corn",
         "corn",
         "indigo",
         "sugar",
         "tobacco",
         "tobacco"
        ],
        "playerorder": [
         "84338003",
         "84366500",
         "84157219",
         "84338781",
         "38055077"
        ],
        "roles": {
         "1": {
          "money": "0",
          "rol_type": "captain"
         },
         "2": {
          "money": "0",
          "rol_type": "trader"
         },
         "3": {
          "money": "0",
          "rol_type": "craftsman"
         },
         "4": {
          "money": "0",
          "rol_type": "settler",
          "selected": true
         },
         "5": {
          "money": "0",
          "rol_type": "builder"
         },
         "6": {
          "money": "0",
          "rol_type": "mayor"
         },
         "7": {
          "money": "0",
          "rol_type": "prospector"
         },
         "8": {
          "money": "0",
          "rol_type": "prospector"
         }
        },
        "ships": {
         "6": {},
         "7": {},
         "8": {}
        },
        "stock": [],
        "workers": {
         "arriving": 5,
         "available": 95
        }
       }
      },
      "text/plain": [
       "<IPython.core.display.JSON object>"
      ]
     },
     "metadata": {
      "application/json": {
       "expanded": false
      }
     },
     "output_type": "display_data"
    },
    {
     "name": "stdout",
     "output_type": "stream",
     "text": [
      "Nocturno selected the builder\n",
      "\n",
      "{'table': {'roles': {'5': {insert: {'selected': True}}}}}\n",
      "------------------------------------------------------------------------------------------------------------------------------------------------------------------------------------\n",
      "->[gameStateChange] - d:${actplayer} must select a building to build                           t:activeplayer, n:playerBuilderBuildingSelection\n",
      "\n",
      "====================================================================================================================================================================================\n",
      "move 8.0\n"
     ]
    },
    {
     "data": {
      "application/json": {
       "governor": "84157219",
       "move_id": 8,
       "players": {
        "38055077": {
         "_": "cooper1966",
         "building_vp": 0,
         "buildings": {
          "commercial": {},
          "factories": {
           "coffee": {
            "jobs": 0,
            "workers": 0
           },
           "corn": {
            "jobs": 0,
            "workers": 0
           },
           "indigo": {
            "jobs": 0,
            "workers": 0
           },
           "sugar": {
            "jobs": 0,
            "workers": 0
           },
           "tobacco": {
            "jobs": 0,
            "workers": 0
           }
          }
         },
         "delivery_vp": 0,
         "goods": {
          "coffee": 0,
          "corn": 0,
          "indigo": 0,
          "sugar": 0,
          "tobacco": 0
         },
         "money": 4,
         "plantations": {
          "coffee": 0,
          "corn": 0,
          "indigo": 1,
          "rock": 0,
          "sugar": 0,
          "tobacco": 1
         },
         "potential_vp": {
          "commercial": 0,
          "factories": 0,
          "workers": 0
         },
         "slots": {
          "buildings": 0,
          "plantations": 2
         },
         "workers": {
          "total": 0,
          "unemployed": 0
         }
        },
        "84157219": {
         "_": "pauldavis92",
         "building_vp": 0,
         "buildings": {
          "commercial": {},
          "factories": {
           "coffee": {
            "jobs": 0,
            "workers": 0
           },
           "corn": {
            "jobs": 0,
            "workers": 0
           },
           "indigo": {
            "jobs": 0,
            "workers": 0
           },
           "sugar": {
            "jobs": 0,
            "workers": 0
           },
           "tobacco": {
            "jobs": 0,
            "workers": 0
           }
          }
         },
         "delivery_vp": 0,
         "goods": {
          "coffee": 0,
          "corn": 0,
          "indigo": 0,
          "sugar": 0,
          "tobacco": 0
         },
         "money": 4,
         "plantations": {
          "coffee": 0,
          "corn": 0,
          "indigo": 1,
          "rock": 1,
          "sugar": 0,
          "tobacco": 0
         },
         "potential_vp": {
          "commercial": 0,
          "factories": 0,
          "workers": 0
         },
         "slots": {
          "buildings": 0,
          "plantations": 2
         },
         "workers": {
          "total": 0,
          "unemployed": 0
         }
        },
        "84338003": {
         "_": "anthos79",
         "building_vp": 0,
         "buildings": {
          "commercial": {},
          "factories": {
           "coffee": {
            "jobs": 0,
            "workers": 0
           },
           "corn": {
            "jobs": 0,
            "workers": 0
           },
           "indigo": {
            "jobs": 0,
            "workers": 0
           },
           "sugar": {
            "jobs": 0,
            "workers": 0
           },
           "tobacco": {
            "jobs": 0,
            "workers": 0
           }
          }
         },
         "delivery_vp": 0,
         "goods": {
          "coffee": 0,
          "corn": 0,
          "indigo": 0,
          "sugar": 0,
          "tobacco": 0
         },
         "money": 4,
         "plantations": {
          "coffee": 1,
          "corn": 1,
          "indigo": 0,
          "rock": 0,
          "sugar": 0,
          "tobacco": 0
         },
         "potential_vp": {
          "commercial": 0,
          "factories": 0,
          "workers": 0
         },
         "slots": {
          "buildings": 0,
          "plantations": 2
         },
         "workers": {
          "total": 0,
          "unemployed": 0
         }
        },
        "84338781": {
         "_": "Nocturno",
         "building_vp": 0,
         "buildings": {
          "commercial": {},
          "factories": {
           "coffee": {
            "jobs": 0,
            "workers": 0
           },
           "corn": {
            "jobs": 0,
            "workers": 0
           },
           "indigo": {
            "jobs": 0,
            "workers": 0
           },
           "sugar": {
            "jobs": 0,
            "workers": 0
           },
           "tobacco": {
            "jobs": 0,
            "workers": 0
           }
          }
         },
         "delivery_vp": 0,
         "goods": {
          "coffee": 0,
          "corn": 0,
          "indigo": 0,
          "sugar": 0,
          "tobacco": 0
         },
         "money": 4,
         "plantations": {
          "coffee": 0,
          "corn": 0,
          "indigo": 1,
          "rock": 0,
          "sugar": 0,
          "tobacco": 1
         },
         "potential_vp": {
          "commercial": 0,
          "factories": 0,
          "workers": 0
         },
         "slots": {
          "buildings": 0,
          "plantations": 2
         },
         "workers": {
          "total": 0,
          "unemployed": 0
         }
        },
        "84366500": {
         "_": "moonriver78",
         "building_vp": 0,
         "buildings": {
          "commercial": {},
          "factories": {
           "coffee": {
            "jobs": 0,
            "workers": 0
           },
           "corn": {
            "jobs": 0,
            "workers": 0
           },
           "indigo": {
            "jobs": 0,
            "workers": 0
           },
           "sugar": {
            "jobs": 0,
            "workers": 0
           },
           "tobacco": {
            "jobs": 0,
            "workers": 0
           }
          }
         },
         "delivery_vp": 0,
         "goods": {
          "coffee": 0,
          "corn": 0,
          "indigo": 0,
          "sugar": 0,
          "tobacco": 0
         },
         "money": 4,
         "plantations": {
          "coffee": 0,
          "corn": 1,
          "indigo": 1,
          "rock": 0,
          "sugar": 0,
          "tobacco": 0
         },
         "potential_vp": {
          "commercial": 0,
          "factories": 0,
          "workers": 0
         },
         "slots": {
          "buildings": 0,
          "plantations": 2
         },
         "workers": {
          "total": 0,
          "unemployed": 0
         }
        }
       },
       "sub_move_id": 0,
       "table": {
        "VPs": 126,
        "buildings": {
         "city hall": 1,
         "coffee roaster": 3,
         "construction hut": 2,
         "customs house": 1,
         "factory": 2,
         "fortress": 1,
         "guild hall": 1,
         "hacienda": 2,
         "harbor": 2,
         "hospice": 2,
         "indigo plant": 3,
         "large market": 2,
         "large warehouse": 2,
         "office": 2,
         "residence": 1,
         "small indigo plant": 4,
         "small market": 2,
         "small sugar mill": 4,
         "small warehouse": 2,
         "sugar mill": 3,
         "tobacco storage": 3,
         "university": 2,
         "wharf": 2
        },
        "goods": {
         "coffee": 9,
         "corn": 10,
         "indigo": 11,
         "sugar": 11,
         "tobacco": 9
        },
        "money": 66,
        "plantations": [
         "corn",
         "corn",
         "indigo",
         "sugar",
         "tobacco",
         "tobacco"
        ],
        "playerorder": [
         "84338003",
         "84366500",
         "84157219",
         "84338781",
         "38055077"
        ],
        "roles": {
         "1": {
          "money": "0",
          "rol_type": "captain"
         },
         "2": {
          "money": "0",
          "rol_type": "trader"
         },
         "3": {
          "money": "0",
          "rol_type": "craftsman"
         },
         "4": {
          "money": "0",
          "rol_type": "settler",
          "selected": true
         },
         "5": {
          "money": "0",
          "rol_type": "builder",
          "selected": true
         },
         "6": {
          "money": "0",
          "rol_type": "mayor"
         },
         "7": {
          "money": "0",
          "rol_type": "prospector"
         },
         "8": {
          "money": "0",
          "rol_type": "prospector"
         }
        },
        "ships": {
         "6": {},
         "7": {},
         "8": {}
        },
        "stock": [],
        "workers": {
         "arriving": 5,
         "available": 95
        }
       }
      },
      "text/plain": [
       "<IPython.core.display.JSON object>"
      ]
     },
     "metadata": {
      "application/json": {
       "expanded": false
      }
     },
     "output_type": "display_data"
    },
    {
     "name": "stdout",
     "output_type": "stream",
     "text": [
      "Nocturno bought a new building for 0 doubloons (small market)\n",
      "\n",
      "{'players': {'84338781': {'building_vp': [0,\n",
      "                                          1],\n",
      "                          'buildings': {'commercial': [{},\n",
      "                                                       {'small market': False}]},\n",
      "                          'potential_vp': {'commercial': [0,\n",
      "                                                          1]},\n",
      "                          'slots': {'buildings': [0,\n",
      "                                                  1]}}},\n",
      " 'table': {'buildings': {'small market': [2,\n",
      "                                          1]}}}\n",
      "------------------------------------------------------------------------------------------------------------------------------------------------------------------------------------\n",
      "->[gameStateChange] - d:${actplayer} can get a colonist from the supply or ship (university)   t:activeplayer, n:playerBuilderUniversity\n",
      "->[gameStateChange] - d:Checking for end of phase                                              t:game, n:checkEndOfRolePlayTurn\n",
      "->[gameStateChange] - d:Activating the next player to play this phase                          t:game, n:nextPlayerForRolePlay\n",
      "  [updateReflexionTime]\n",
      "->[gameStateChange] - d:${actplayer} must select a building to build                           t:activeplayer, n:playerBuilderBuildingSelection\n",
      "\n",
      "====================================================================================================================================================================================\n",
      "move 9.0\n"
     ]
    },
    {
     "data": {
      "application/json": {
       "governor": "84157219",
       "move_id": 9,
       "players": {
        "38055077": {
         "_": "cooper1966",
         "building_vp": 0,
         "buildings": {
          "commercial": {},
          "factories": {
           "coffee": {
            "jobs": 0,
            "workers": 0
           },
           "corn": {
            "jobs": 0,
            "workers": 0
           },
           "indigo": {
            "jobs": 0,
            "workers": 0
           },
           "sugar": {
            "jobs": 0,
            "workers": 0
           },
           "tobacco": {
            "jobs": 0,
            "workers": 0
           }
          }
         },
         "delivery_vp": 0,
         "goods": {
          "coffee": 0,
          "corn": 0,
          "indigo": 0,
          "sugar": 0,
          "tobacco": 0
         },
         "money": 4,
         "plantations": {
          "coffee": 0,
          "corn": 0,
          "indigo": 1,
          "rock": 0,
          "sugar": 0,
          "tobacco": 1
         },
         "potential_vp": {
          "commercial": 0,
          "factories": 0,
          "workers": 0
         },
         "slots": {
          "buildings": 0,
          "plantations": 2
         },
         "workers": {
          "total": 0,
          "unemployed": 0
         }
        },
        "84157219": {
         "_": "pauldavis92",
         "building_vp": 0,
         "buildings": {
          "commercial": {},
          "factories": {
           "coffee": {
            "jobs": 0,
            "workers": 0
           },
           "corn": {
            "jobs": 0,
            "workers": 0
           },
           "indigo": {
            "jobs": 0,
            "workers": 0
           },
           "sugar": {
            "jobs": 0,
            "workers": 0
           },
           "tobacco": {
            "jobs": 0,
            "workers": 0
           }
          }
         },
         "delivery_vp": 0,
         "goods": {
          "coffee": 0,
          "corn": 0,
          "indigo": 0,
          "sugar": 0,
          "tobacco": 0
         },
         "money": 4,
         "plantations": {
          "coffee": 0,
          "corn": 0,
          "indigo": 1,
          "rock": 1,
          "sugar": 0,
          "tobacco": 0
         },
         "potential_vp": {
          "commercial": 0,
          "factories": 0,
          "workers": 0
         },
         "slots": {
          "buildings": 0,
          "plantations": 2
         },
         "workers": {
          "total": 0,
          "unemployed": 0
         }
        },
        "84338003": {
         "_": "anthos79",
         "building_vp": 0,
         "buildings": {
          "commercial": {},
          "factories": {
           "coffee": {
            "jobs": 0,
            "workers": 0
           },
           "corn": {
            "jobs": 0,
            "workers": 0
           },
           "indigo": {
            "jobs": 0,
            "workers": 0
           },
           "sugar": {
            "jobs": 0,
            "workers": 0
           },
           "tobacco": {
            "jobs": 0,
            "workers": 0
           }
          }
         },
         "delivery_vp": 0,
         "goods": {
          "coffee": 0,
          "corn": 0,
          "indigo": 0,
          "sugar": 0,
          "tobacco": 0
         },
         "money": 4,
         "plantations": {
          "coffee": 1,
          "corn": 1,
          "indigo": 0,
          "rock": 0,
          "sugar": 0,
          "tobacco": 0
         },
         "potential_vp": {
          "commercial": 0,
          "factories": 0,
          "workers": 0
         },
         "slots": {
          "buildings": 0,
          "plantations": 2
         },
         "workers": {
          "total": 0,
          "unemployed": 0
         }
        },
        "84338781": {
         "_": "Nocturno",
         "building_vp": 1,
         "buildings": {
          "commercial": {
           "small market": false
          },
          "factories": {
           "coffee": {
            "jobs": 0,
            "workers": 0
           },
           "corn": {
            "jobs": 0,
            "workers": 0
           },
           "indigo": {
            "jobs": 0,
            "workers": 0
           },
           "sugar": {
            "jobs": 0,
            "workers": 0
           },
           "tobacco": {
            "jobs": 0,
            "workers": 0
           }
          }
         },
         "delivery_vp": 0,
         "goods": {
          "coffee": 0,
          "corn": 0,
          "indigo": 0,
          "sugar": 0,
          "tobacco": 0
         },
         "money": 4,
         "plantations": {
          "coffee": 0,
          "corn": 0,
          "indigo": 1,
          "rock": 0,
          "sugar": 0,
          "tobacco": 1
         },
         "potential_vp": {
          "commercial": 1,
          "factories": 0,
          "workers": 0
         },
         "slots": {
          "buildings": 1,
          "plantations": 2
         },
         "workers": {
          "total": 0,
          "unemployed": 0
         }
        },
        "84366500": {
         "_": "moonriver78",
         "building_vp": 0,
         "buildings": {
          "commercial": {},
          "factories": {
           "coffee": {
            "jobs": 0,
            "workers": 0
           },
           "corn": {
            "jobs": 0,
            "workers": 0
           },
           "indigo": {
            "jobs": 0,
            "workers": 0
           },
           "sugar": {
            "jobs": 0,
            "workers": 0
           },
           "tobacco": {
            "jobs": 0,
            "workers": 0
           }
          }
         },
         "delivery_vp": 0,
         "goods": {
          "coffee": 0,
          "corn": 0,
          "indigo": 0,
          "sugar": 0,
          "tobacco": 0
         },
         "money": 4,
         "plantations": {
          "coffee": 0,
          "corn": 1,
          "indigo": 1,
          "rock": 0,
          "sugar": 0,
          "tobacco": 0
         },
         "potential_vp": {
          "commercial": 0,
          "factories": 0,
          "workers": 0
         },
         "slots": {
          "buildings": 0,
          "plantations": 2
         },
         "workers": {
          "total": 0,
          "unemployed": 0
         }
        }
       },
       "sub_move_id": 0,
       "table": {
        "VPs": 126,
        "buildings": {
         "city hall": 1,
         "coffee roaster": 3,
         "construction hut": 2,
         "customs house": 1,
         "factory": 2,
         "fortress": 1,
         "guild hall": 1,
         "hacienda": 2,
         "harbor": 2,
         "hospice": 2,
         "indigo plant": 3,
         "large market": 2,
         "large warehouse": 2,
         "office": 2,
         "residence": 1,
         "small indigo plant": 4,
         "small market": 1,
         "small sugar mill": 4,
         "small warehouse": 2,
         "sugar mill": 3,
         "tobacco storage": 3,
         "university": 2,
         "wharf": 2
        },
        "goods": {
         "coffee": 9,
         "corn": 10,
         "indigo": 11,
         "sugar": 11,
         "tobacco": 9
        },
        "money": 66,
        "plantations": [
         "corn",
         "corn",
         "indigo",
         "sugar",
         "tobacco",
         "tobacco"
        ],
        "playerorder": [
         "84338003",
         "84366500",
         "84157219",
         "84338781",
         "38055077"
        ],
        "roles": {
         "1": {
          "money": "0",
          "rol_type": "captain"
         },
         "2": {
          "money": "0",
          "rol_type": "trader"
         },
         "3": {
          "money": "0",
          "rol_type": "craftsman"
         },
         "4": {
          "money": "0",
          "rol_type": "settler",
          "selected": true
         },
         "5": {
          "money": "0",
          "rol_type": "builder",
          "selected": true
         },
         "6": {
          "money": "0",
          "rol_type": "mayor"
         },
         "7": {
          "money": "0",
          "rol_type": "prospector"
         },
         "8": {
          "money": "0",
          "rol_type": "prospector"
         }
        },
        "ships": {
         "6": {},
         "7": {},
         "8": {}
        },
        "stock": [],
        "workers": {
         "arriving": 5,
         "available": 95
        }
       }
      },
      "text/plain": [
       "<IPython.core.display.JSON object>"
      ]
     },
     "metadata": {
      "application/json": {
       "expanded": false
      }
     },
     "output_type": "display_data"
    },
    {
     "name": "stdout",
     "output_type": "stream",
     "text": [
      "cooper1966 bought a new building for 1 doubloon (small indigo plant)\n",
      "\n",
      "{'players': {'38055077': {'building_vp': [0,\n",
      "                                          1],\n",
      "                          'buildings': {'factories': {'indigo': {'jobs': [0,\n",
      "                                                                          1]}}},\n",
      "                          'money': [4,\n",
      "                                    3],\n",
      "                          'potential_vp': {'factories': [0,\n",
      "                                                         1]},\n",
      "                          'slots': {'buildings': [0,\n",
      "                                                  1]}}},\n",
      " 'table': {'buildings': {'small indigo plant': [4,\n",
      "                                                3]},\n",
      "           'money': [66,\n",
      "                     67]}}\n",
      "------------------------------------------------------------------------------------------------------------------------------------------------------------------------------------\n",
      "->[gameStateChange] - d:${actplayer} can get a colonist from the supply or ship (university)   t:activeplayer, n:playerBuilderUniversity\n",
      "->[gameStateChange] - d:Checking for end of phase                                              t:game, n:checkEndOfRolePlayTurn\n",
      "->[gameStateChange] - d:Activating the next player to play this phase                          t:game, n:nextPlayerForRolePlay\n",
      "  [updateReflexionTime]\n",
      "->[gameStateChange] - d:${actplayer} must select a building to build                           t:activeplayer, n:playerBuilderBuildingSelection\n",
      "\n",
      "====================================================================================================================================================================================\n",
      "move 10.0\n"
     ]
    },
    {
     "data": {
      "application/json": {
       "governor": "84157219",
       "move_id": 10,
       "players": {
        "38055077": {
         "_": "cooper1966",
         "building_vp": 1,
         "buildings": {
          "commercial": {},
          "factories": {
           "coffee": {
            "jobs": 0,
            "workers": 0
           },
           "corn": {
            "jobs": 0,
            "workers": 0
           },
           "indigo": {
            "jobs": 1,
            "workers": 0
           },
           "sugar": {
            "jobs": 0,
            "workers": 0
           },
           "tobacco": {
            "jobs": 0,
            "workers": 0
           }
          }
         },
         "delivery_vp": 0,
         "goods": {
          "coffee": 0,
          "corn": 0,
          "indigo": 0,
          "sugar": 0,
          "tobacco": 0
         },
         "money": 3,
         "plantations": {
          "coffee": 0,
          "corn": 0,
          "indigo": 1,
          "rock": 0,
          "sugar": 0,
          "tobacco": 1
         },
         "potential_vp": {
          "commercial": 0,
          "factories": 1,
          "workers": 0
         },
         "slots": {
          "buildings": 1,
          "plantations": 2
         },
         "workers": {
          "total": 0,
          "unemployed": 0
         }
        },
        "84157219": {
         "_": "pauldavis92",
         "building_vp": 0,
         "buildings": {
          "commercial": {},
          "factories": {
           "coffee": {
            "jobs": 0,
            "workers": 0
           },
           "corn": {
            "jobs": 0,
            "workers": 0
           },
           "indigo": {
            "jobs": 0,
            "workers": 0
           },
           "sugar": {
            "jobs": 0,
            "workers": 0
           },
           "tobacco": {
            "jobs": 0,
            "workers": 0
           }
          }
         },
         "delivery_vp": 0,
         "goods": {
          "coffee": 0,
          "corn": 0,
          "indigo": 0,
          "sugar": 0,
          "tobacco": 0
         },
         "money": 4,
         "plantations": {
          "coffee": 0,
          "corn": 0,
          "indigo": 1,
          "rock": 1,
          "sugar": 0,
          "tobacco": 0
         },
         "potential_vp": {
          "commercial": 0,
          "factories": 0,
          "workers": 0
         },
         "slots": {
          "buildings": 0,
          "plantations": 2
         },
         "workers": {
          "total": 0,
          "unemployed": 0
         }
        },
        "84338003": {
         "_": "anthos79",
         "building_vp": 0,
         "buildings": {
          "commercial": {},
          "factories": {
           "coffee": {
            "jobs": 0,
            "workers": 0
           },
           "corn": {
            "jobs": 0,
            "workers": 0
           },
           "indigo": {
            "jobs": 0,
            "workers": 0
           },
           "sugar": {
            "jobs": 0,
            "workers": 0
           },
           "tobacco": {
            "jobs": 0,
            "workers": 0
           }
          }
         },
         "delivery_vp": 0,
         "goods": {
          "coffee": 0,
          "corn": 0,
          "indigo": 0,
          "sugar": 0,
          "tobacco": 0
         },
         "money": 4,
         "plantations": {
          "coffee": 1,
          "corn": 1,
          "indigo": 0,
          "rock": 0,
          "sugar": 0,
          "tobacco": 0
         },
         "potential_vp": {
          "commercial": 0,
          "factories": 0,
          "workers": 0
         },
         "slots": {
          "buildings": 0,
          "plantations": 2
         },
         "workers": {
          "total": 0,
          "unemployed": 0
         }
        },
        "84338781": {
         "_": "Nocturno",
         "building_vp": 1,
         "buildings": {
          "commercial": {
           "small market": false
          },
          "factories": {
           "coffee": {
            "jobs": 0,
            "workers": 0
           },
           "corn": {
            "jobs": 0,
            "workers": 0
           },
           "indigo": {
            "jobs": 0,
            "workers": 0
           },
           "sugar": {
            "jobs": 0,
            "workers": 0
           },
           "tobacco": {
            "jobs": 0,
            "workers": 0
           }
          }
         },
         "delivery_vp": 0,
         "goods": {
          "coffee": 0,
          "corn": 0,
          "indigo": 0,
          "sugar": 0,
          "tobacco": 0
         },
         "money": 4,
         "plantations": {
          "coffee": 0,
          "corn": 0,
          "indigo": 1,
          "rock": 0,
          "sugar": 0,
          "tobacco": 1
         },
         "potential_vp": {
          "commercial": 1,
          "factories": 0,
          "workers": 0
         },
         "slots": {
          "buildings": 1,
          "plantations": 2
         },
         "workers": {
          "total": 0,
          "unemployed": 0
         }
        },
        "84366500": {
         "_": "moonriver78",
         "building_vp": 0,
         "buildings": {
          "commercial": {},
          "factories": {
           "coffee": {
            "jobs": 0,
            "workers": 0
           },
           "corn": {
            "jobs": 0,
            "workers": 0
           },
           "indigo": {
            "jobs": 0,
            "workers": 0
           },
           "sugar": {
            "jobs": 0,
            "workers": 0
           },
           "tobacco": {
            "jobs": 0,
            "workers": 0
           }
          }
         },
         "delivery_vp": 0,
         "goods": {
          "coffee": 0,
          "corn": 0,
          "indigo": 0,
          "sugar": 0,
          "tobacco": 0
         },
         "money": 4,
         "plantations": {
          "coffee": 0,
          "corn": 1,
          "indigo": 1,
          "rock": 0,
          "sugar": 0,
          "tobacco": 0
         },
         "potential_vp": {
          "commercial": 0,
          "factories": 0,
          "workers": 0
         },
         "slots": {
          "buildings": 0,
          "plantations": 2
         },
         "workers": {
          "total": 0,
          "unemployed": 0
         }
        }
       },
       "sub_move_id": 0,
       "table": {
        "VPs": 126,
        "buildings": {
         "city hall": 1,
         "coffee roaster": 3,
         "construction hut": 2,
         "customs house": 1,
         "factory": 2,
         "fortress": 1,
         "guild hall": 1,
         "hacienda": 2,
         "harbor": 2,
         "hospice": 2,
         "indigo plant": 3,
         "large market": 2,
         "large warehouse": 2,
         "office": 2,
         "residence": 1,
         "small indigo plant": 3,
         "small market": 1,
         "small sugar mill": 4,
         "small warehouse": 2,
         "sugar mill": 3,
         "tobacco storage": 3,
         "university": 2,
         "wharf": 2
        },
        "goods": {
         "coffee": 9,
         "corn": 10,
         "indigo": 11,
         "sugar": 11,
         "tobacco": 9
        },
        "money": 67,
        "plantations": [
         "corn",
         "corn",
         "indigo",
         "sugar",
         "tobacco",
         "tobacco"
        ],
        "playerorder": [
         "84338003",
         "84366500",
         "84157219",
         "84338781",
         "38055077"
        ],
        "roles": {
         "1": {
          "money": "0",
          "rol_type": "captain"
         },
         "2": {
          "money": "0",
          "rol_type": "trader"
         },
         "3": {
          "money": "0",
          "rol_type": "craftsman"
         },
         "4": {
          "money": "0",
          "rol_type": "settler",
          "selected": true
         },
         "5": {
          "money": "0",
          "rol_type": "builder",
          "selected": true
         },
         "6": {
          "money": "0",
          "rol_type": "mayor"
         },
         "7": {
          "money": "0",
          "rol_type": "prospector"
         },
         "8": {
          "money": "0",
          "rol_type": "prospector"
         }
        },
        "ships": {
         "6": {},
         "7": {},
         "8": {}
        },
        "stock": [],
        "workers": {
         "arriving": 5,
         "available": 95
        }
       }
      },
      "text/plain": [
       "<IPython.core.display.JSON object>"
      ]
     },
     "metadata": {
      "application/json": {
       "expanded": false
      }
     },
     "output_type": "display_data"
    },
    {
     "name": "stdout",
     "output_type": "stream",
     "text": [
      "anthos79 bought a new building for 1 doubloon (small market)\n",
      "\n",
      "{'players': {'84338003': {'building_vp': [0,\n",
      "                                          1],\n",
      "                          'buildings': {'commercial': [{},\n",
      "                                                       {'small market': False}]},\n",
      "                          'money': [4,\n",
      "                                    3],\n",
      "                          'potential_vp': {'commercial': [0,\n",
      "                                                          1]},\n",
      "                          'slots': {'buildings': [0,\n",
      "                                                  1]}}},\n",
      " 'table': {'buildings': {'small market': [1,\n",
      "                                          0]},\n",
      "           'money': [67,\n",
      "                     68]}}\n",
      "------------------------------------------------------------------------------------------------------------------------------------------------------------------------------------\n",
      "->[gameStateChange] - d:${actplayer} can get a colonist from the supply or ship (university)   t:activeplayer, n:playerBuilderUniversity\n",
      "->[gameStateChange] - d:Checking for end of phase                                              t:game, n:checkEndOfRolePlayTurn\n",
      "->[gameStateChange] - d:Activating the next player to play this phase                          t:game, n:nextPlayerForRolePlay\n",
      "  [updateReflexionTime]\n",
      "->[gameStateChange] - d:${actplayer} must select a building to build                           t:activeplayer, n:playerBuilderBuildingSelection\n",
      "\n",
      "====================================================================================================================================================================================\n",
      "move 11.0\n"
     ]
    },
    {
     "data": {
      "application/json": {
       "governor": "84157219",
       "move_id": 11,
       "players": {
        "38055077": {
         "_": "cooper1966",
         "building_vp": 1,
         "buildings": {
          "commercial": {},
          "factories": {
           "coffee": {
            "jobs": 0,
            "workers": 0
           },
           "corn": {
            "jobs": 0,
            "workers": 0
           },
           "indigo": {
            "jobs": 1,
            "workers": 0
           },
           "sugar": {
            "jobs": 0,
            "workers": 0
           },
           "tobacco": {
            "jobs": 0,
            "workers": 0
           }
          }
         },
         "delivery_vp": 0,
         "goods": {
          "coffee": 0,
          "corn": 0,
          "indigo": 0,
          "sugar": 0,
          "tobacco": 0
         },
         "money": 3,
         "plantations": {
          "coffee": 0,
          "corn": 0,
          "indigo": 1,
          "rock": 0,
          "sugar": 0,
          "tobacco": 1
         },
         "potential_vp": {
          "commercial": 0,
          "factories": 1,
          "workers": 0
         },
         "slots": {
          "buildings": 1,
          "plantations": 2
         },
         "workers": {
          "total": 0,
          "unemployed": 0
         }
        },
        "84157219": {
         "_": "pauldavis92",
         "building_vp": 0,
         "buildings": {
          "commercial": {},
          "factories": {
           "coffee": {
            "jobs": 0,
            "workers": 0
           },
           "corn": {
            "jobs": 0,
            "workers": 0
           },
           "indigo": {
            "jobs": 0,
            "workers": 0
           },
           "sugar": {
            "jobs": 0,
            "workers": 0
           },
           "tobacco": {
            "jobs": 0,
            "workers": 0
           }
          }
         },
         "delivery_vp": 0,
         "goods": {
          "coffee": 0,
          "corn": 0,
          "indigo": 0,
          "sugar": 0,
          "tobacco": 0
         },
         "money": 4,
         "plantations": {
          "coffee": 0,
          "corn": 0,
          "indigo": 1,
          "rock": 1,
          "sugar": 0,
          "tobacco": 0
         },
         "potential_vp": {
          "commercial": 0,
          "factories": 0,
          "workers": 0
         },
         "slots": {
          "buildings": 0,
          "plantations": 2
         },
         "workers": {
          "total": 0,
          "unemployed": 0
         }
        },
        "84338003": {
         "_": "anthos79",
         "building_vp": 1,
         "buildings": {
          "commercial": {
           "small market": false
          },
          "factories": {
           "coffee": {
            "jobs": 0,
            "workers": 0
           },
           "corn": {
            "jobs": 0,
            "workers": 0
           },
           "indigo": {
            "jobs": 0,
            "workers": 0
           },
           "sugar": {
            "jobs": 0,
            "workers": 0
           },
           "tobacco": {
            "jobs": 0,
            "workers": 0
           }
          }
         },
         "delivery_vp": 0,
         "goods": {
          "coffee": 0,
          "corn": 0,
          "indigo": 0,
          "sugar": 0,
          "tobacco": 0
         },
         "money": 3,
         "plantations": {
          "coffee": 1,
          "corn": 1,
          "indigo": 0,
          "rock": 0,
          "sugar": 0,
          "tobacco": 0
         },
         "potential_vp": {
          "commercial": 1,
          "factories": 0,
          "workers": 0
         },
         "slots": {
          "buildings": 1,
          "plantations": 2
         },
         "workers": {
          "total": 0,
          "unemployed": 0
         }
        },
        "84338781": {
         "_": "Nocturno",
         "building_vp": 1,
         "buildings": {
          "commercial": {
           "small market": false
          },
          "factories": {
           "coffee": {
            "jobs": 0,
            "workers": 0
           },
           "corn": {
            "jobs": 0,
            "workers": 0
           },
           "indigo": {
            "jobs": 0,
            "workers": 0
           },
           "sugar": {
            "jobs": 0,
            "workers": 0
           },
           "tobacco": {
            "jobs": 0,
            "workers": 0
           }
          }
         },
         "delivery_vp": 0,
         "goods": {
          "coffee": 0,
          "corn": 0,
          "indigo": 0,
          "sugar": 0,
          "tobacco": 0
         },
         "money": 4,
         "plantations": {
          "coffee": 0,
          "corn": 0,
          "indigo": 1,
          "rock": 0,
          "sugar": 0,
          "tobacco": 1
         },
         "potential_vp": {
          "commercial": 1,
          "factories": 0,
          "workers": 0
         },
         "slots": {
          "buildings": 1,
          "plantations": 2
         },
         "workers": {
          "total": 0,
          "unemployed": 0
         }
        },
        "84366500": {
         "_": "moonriver78",
         "building_vp": 0,
         "buildings": {
          "commercial": {},
          "factories": {
           "coffee": {
            "jobs": 0,
            "workers": 0
           },
           "corn": {
            "jobs": 0,
            "workers": 0
           },
           "indigo": {
            "jobs": 0,
            "workers": 0
           },
           "sugar": {
            "jobs": 0,
            "workers": 0
           },
           "tobacco": {
            "jobs": 0,
            "workers": 0
           }
          }
         },
         "delivery_vp": 0,
         "goods": {
          "coffee": 0,
          "corn": 0,
          "indigo": 0,
          "sugar": 0,
          "tobacco": 0
         },
         "money": 4,
         "plantations": {
          "coffee": 0,
          "corn": 1,
          "indigo": 1,
          "rock": 0,
          "sugar": 0,
          "tobacco": 0
         },
         "potential_vp": {
          "commercial": 0,
          "factories": 0,
          "workers": 0
         },
         "slots": {
          "buildings": 0,
          "plantations": 2
         },
         "workers": {
          "total": 0,
          "unemployed": 0
         }
        }
       },
       "sub_move_id": 0,
       "table": {
        "VPs": 126,
        "buildings": {
         "city hall": 1,
         "coffee roaster": 3,
         "construction hut": 2,
         "customs house": 1,
         "factory": 2,
         "fortress": 1,
         "guild hall": 1,
         "hacienda": 2,
         "harbor": 2,
         "hospice": 2,
         "indigo plant": 3,
         "large market": 2,
         "large warehouse": 2,
         "office": 2,
         "residence": 1,
         "small indigo plant": 3,
         "small market": 0,
         "small sugar mill": 4,
         "small warehouse": 2,
         "sugar mill": 3,
         "tobacco storage": 3,
         "university": 2,
         "wharf": 2
        },
        "goods": {
         "coffee": 9,
         "corn": 10,
         "indigo": 11,
         "sugar": 11,
         "tobacco": 9
        },
        "money": 68,
        "plantations": [
         "corn",
         "corn",
         "indigo",
         "sugar",
         "tobacco",
         "tobacco"
        ],
        "playerorder": [
         "84338003",
         "84366500",
         "84157219",
         "84338781",
         "38055077"
        ],
        "roles": {
         "1": {
          "money": "0",
          "rol_type": "captain"
         },
         "2": {
          "money": "0",
          "rol_type": "trader"
         },
         "3": {
          "money": "0",
          "rol_type": "craftsman"
         },
         "4": {
          "money": "0",
          "rol_type": "settler",
          "selected": true
         },
         "5": {
          "money": "0",
          "rol_type": "builder",
          "selected": true
         },
         "6": {
          "money": "0",
          "rol_type": "mayor"
         },
         "7": {
          "money": "0",
          "rol_type": "prospector"
         },
         "8": {
          "money": "0",
          "rol_type": "prospector"
         }
        },
        "ships": {
         "6": {},
         "7": {},
         "8": {}
        },
        "stock": [],
        "workers": {
         "arriving": 5,
         "available": 95
        }
       }
      },
      "text/plain": [
       "<IPython.core.display.JSON object>"
      ]
     },
     "metadata": {
      "application/json": {
       "expanded": false
      }
     },
     "output_type": "display_data"
    },
    {
     "name": "stdout",
     "output_type": "stream",
     "text": [
      "moonriver78 bought a new building for 1 doubloon (small indigo plant)\n",
      "\n",
      "{'players': {'84366500': {'building_vp': [0,\n",
      "                                          1],\n",
      "                          'buildings': {'factories': {'indigo': {'jobs': [0,\n",
      "                                                                          1]}}},\n",
      "                          'money': [4,\n",
      "                                    3],\n",
      "                          'potential_vp': {'factories': [0,\n",
      "                                                         1]},\n",
      "                          'slots': {'buildings': [0,\n",
      "                                                  1]}}},\n",
      " 'table': {'buildings': {'small indigo plant': [3,\n",
      "                                                2]},\n",
      "           'money': [68,\n",
      "                     69]}}\n",
      "------------------------------------------------------------------------------------------------------------------------------------------------------------------------------------\n",
      "->[gameStateChange] - d:${actplayer} can get a colonist from the supply or ship (university)   t:activeplayer, n:playerBuilderUniversity\n",
      "->[gameStateChange] - d:Checking for end of phase                                              t:game, n:checkEndOfRolePlayTurn\n",
      "->[gameStateChange] - d:Activating the next player to play this phase                          t:game, n:nextPlayerForRolePlay\n",
      "  [updateReflexionTime]\n",
      "->[gameStateChange] - d:${actplayer} must select a building to build                           t:activeplayer, n:playerBuilderBuildingSelection\n",
      "\n",
      "====================================================================================================================================================================================\n",
      "move 12.0\n"
     ]
    },
    {
     "data": {
      "application/json": {
       "governor": "84157219",
       "move_id": 12,
       "players": {
        "38055077": {
         "_": "cooper1966",
         "building_vp": 1,
         "buildings": {
          "commercial": {},
          "factories": {
           "coffee": {
            "jobs": 0,
            "workers": 0
           },
           "corn": {
            "jobs": 0,
            "workers": 0
           },
           "indigo": {
            "jobs": 1,
            "workers": 0
           },
           "sugar": {
            "jobs": 0,
            "workers": 0
           },
           "tobacco": {
            "jobs": 0,
            "workers": 0
           }
          }
         },
         "delivery_vp": 0,
         "goods": {
          "coffee": 0,
          "corn": 0,
          "indigo": 0,
          "sugar": 0,
          "tobacco": 0
         },
         "money": 3,
         "plantations": {
          "coffee": 0,
          "corn": 0,
          "indigo": 1,
          "rock": 0,
          "sugar": 0,
          "tobacco": 1
         },
         "potential_vp": {
          "commercial": 0,
          "factories": 1,
          "workers": 0
         },
         "slots": {
          "buildings": 1,
          "plantations": 2
         },
         "workers": {
          "total": 0,
          "unemployed": 0
         }
        },
        "84157219": {
         "_": "pauldavis92",
         "building_vp": 0,
         "buildings": {
          "commercial": {},
          "factories": {
           "coffee": {
            "jobs": 0,
            "workers": 0
           },
           "corn": {
            "jobs": 0,
            "workers": 0
           },
           "indigo": {
            "jobs": 0,
            "workers": 0
           },
           "sugar": {
            "jobs": 0,
            "workers": 0
           },
           "tobacco": {
            "jobs": 0,
            "workers": 0
           }
          }
         },
         "delivery_vp": 0,
         "goods": {
          "coffee": 0,
          "corn": 0,
          "indigo": 0,
          "sugar": 0,
          "tobacco": 0
         },
         "money": 4,
         "plantations": {
          "coffee": 0,
          "corn": 0,
          "indigo": 1,
          "rock": 1,
          "sugar": 0,
          "tobacco": 0
         },
         "potential_vp": {
          "commercial": 0,
          "factories": 0,
          "workers": 0
         },
         "slots": {
          "buildings": 0,
          "plantations": 2
         },
         "workers": {
          "total": 0,
          "unemployed": 0
         }
        },
        "84338003": {
         "_": "anthos79",
         "building_vp": 1,
         "buildings": {
          "commercial": {
           "small market": false
          },
          "factories": {
           "coffee": {
            "jobs": 0,
            "workers": 0
           },
           "corn": {
            "jobs": 0,
            "workers": 0
           },
           "indigo": {
            "jobs": 0,
            "workers": 0
           },
           "sugar": {
            "jobs": 0,
            "workers": 0
           },
           "tobacco": {
            "jobs": 0,
            "workers": 0
           }
          }
         },
         "delivery_vp": 0,
         "goods": {
          "coffee": 0,
          "corn": 0,
          "indigo": 0,
          "sugar": 0,
          "tobacco": 0
         },
         "money": 3,
         "plantations": {
          "coffee": 1,
          "corn": 1,
          "indigo": 0,
          "rock": 0,
          "sugar": 0,
          "tobacco": 0
         },
         "potential_vp": {
          "commercial": 1,
          "factories": 0,
          "workers": 0
         },
         "slots": {
          "buildings": 1,
          "plantations": 2
         },
         "workers": {
          "total": 0,
          "unemployed": 0
         }
        },
        "84338781": {
         "_": "Nocturno",
         "building_vp": 1,
         "buildings": {
          "commercial": {
           "small market": false
          },
          "factories": {
           "coffee": {
            "jobs": 0,
            "workers": 0
           },
           "corn": {
            "jobs": 0,
            "workers": 0
           },
           "indigo": {
            "jobs": 0,
            "workers": 0
           },
           "sugar": {
            "jobs": 0,
            "workers": 0
           },
           "tobacco": {
            "jobs": 0,
            "workers": 0
           }
          }
         },
         "delivery_vp": 0,
         "goods": {
          "coffee": 0,
          "corn": 0,
          "indigo": 0,
          "sugar": 0,
          "tobacco": 0
         },
         "money": 4,
         "plantations": {
          "coffee": 0,
          "corn": 0,
          "indigo": 1,
          "rock": 0,
          "sugar": 0,
          "tobacco": 1
         },
         "potential_vp": {
          "commercial": 1,
          "factories": 0,
          "workers": 0
         },
         "slots": {
          "buildings": 1,
          "plantations": 2
         },
         "workers": {
          "total": 0,
          "unemployed": 0
         }
        },
        "84366500": {
         "_": "moonriver78",
         "building_vp": 1,
         "buildings": {
          "commercial": {},
          "factories": {
           "coffee": {
            "jobs": 0,
            "workers": 0
           },
           "corn": {
            "jobs": 0,
            "workers": 0
           },
           "indigo": {
            "jobs": 1,
            "workers": 0
           },
           "sugar": {
            "jobs": 0,
            "workers": 0
           },
           "tobacco": {
            "jobs": 0,
            "workers": 0
           }
          }
         },
         "delivery_vp": 0,
         "goods": {
          "coffee": 0,
          "corn": 0,
          "indigo": 0,
          "sugar": 0,
          "tobacco": 0
         },
         "money": 3,
         "plantations": {
          "coffee": 0,
          "corn": 1,
          "indigo": 1,
          "rock": 0,
          "sugar": 0,
          "tobacco": 0
         },
         "potential_vp": {
          "commercial": 0,
          "factories": 1,
          "workers": 0
         },
         "slots": {
          "buildings": 1,
          "plantations": 2
         },
         "workers": {
          "total": 0,
          "unemployed": 0
         }
        }
       },
       "sub_move_id": 0,
       "table": {
        "VPs": 126,
        "buildings": {
         "city hall": 1,
         "coffee roaster": 3,
         "construction hut": 2,
         "customs house": 1,
         "factory": 2,
         "fortress": 1,
         "guild hall": 1,
         "hacienda": 2,
         "harbor": 2,
         "hospice": 2,
         "indigo plant": 3,
         "large market": 2,
         "large warehouse": 2,
         "office": 2,
         "residence": 1,
         "small indigo plant": 2,
         "small market": 0,
         "small sugar mill": 4,
         "small warehouse": 2,
         "sugar mill": 3,
         "tobacco storage": 3,
         "university": 2,
         "wharf": 2
        },
        "goods": {
         "coffee": 9,
         "corn": 10,
         "indigo": 11,
         "sugar": 11,
         "tobacco": 9
        },
        "money": 69,
        "plantations": [
         "corn",
         "corn",
         "indigo",
         "sugar",
         "tobacco",
         "tobacco"
        ],
        "playerorder": [
         "84338003",
         "84366500",
         "84157219",
         "84338781",
         "38055077"
        ],
        "roles": {
         "1": {
          "money": "0",
          "rol_type": "captain"
         },
         "2": {
          "money": "0",
          "rol_type": "trader"
         },
         "3": {
          "money": "0",
          "rol_type": "craftsman"
         },
         "4": {
          "money": "0",
          "rol_type": "settler",
          "selected": true
         },
         "5": {
          "money": "0",
          "rol_type": "builder",
          "selected": true
         },
         "6": {
          "money": "0",
          "rol_type": "mayor"
         },
         "7": {
          "money": "0",
          "rol_type": "prospector"
         },
         "8": {
          "money": "0",
          "rol_type": "prospector"
         }
        },
        "ships": {
         "6": {},
         "7": {},
         "8": {}
        },
        "stock": [],
        "workers": {
         "arriving": 5,
         "available": 95
        }
       }
      },
      "text/plain": [
       "<IPython.core.display.JSON object>"
      ]
     },
     "metadata": {
      "application/json": {
       "expanded": false
      }
     },
     "output_type": "display_data"
    },
    {
     "name": "stdout",
     "output_type": "stream",
     "text": [
      "pauldavis92 bought a new building for 1 doubloon (small indigo plant)\n",
      "\n",
      "{'players': {'84157219': {'building_vp': [0,\n",
      "                                          1],\n",
      "                          'buildings': {'factories': {'indigo': {'jobs': [0,\n",
      "                                                                          1]}}},\n",
      "                          'money': [4,\n",
      "                                    3],\n",
      "                          'potential_vp': {'factories': [0,\n",
      "                                                         1]},\n",
      "                          'slots': {'buildings': [0,\n",
      "                                                  1]}}},\n",
      " 'table': {'buildings': {'small indigo plant': [2,\n",
      "                                                1]},\n",
      "           'money': [69,\n",
      "                     70]}}\n",
      "------------------------------------------------------------------------------------------------------------------------------------------------------------------------------------\n",
      "->[gameStateChange] - d:${actplayer} can get a colonist from the supply or ship (university)   t:activeplayer, n:playerBuilderUniversity\n",
      "->[gameStateChange] - d:Checking for end of phase                                              t:game, n:checkEndOfRolePlayTurn\n",
      "Builder phase ends\n",
      "  [message]\n",
      "->[gameStateChange] - d:Activating the next player to select a role                            t:game, n:nextPlayerForRoleSelection\n",
      "  [updateReflexionTime]\n",
      "->[gameStateChange] - d:${actplayer} must select a role                                        t:activeplayer, n:playerRoleSelection\n",
      "\n",
      "====================================================================================================================================================================================\n",
      "move 13.0\n"
     ]
    },
    {
     "data": {
      "application/json": {
       "governor": "84157219",
       "move_id": 13,
       "players": {
        "38055077": {
         "_": "cooper1966",
         "building_vp": 1,
         "buildings": {
          "commercial": {},
          "factories": {
           "coffee": {
            "jobs": 0,
            "workers": 0
           },
           "corn": {
            "jobs": 0,
            "workers": 0
           },
           "indigo": {
            "jobs": 1,
            "workers": 0
           },
           "sugar": {
            "jobs": 0,
            "workers": 0
           },
           "tobacco": {
            "jobs": 0,
            "workers": 0
           }
          }
         },
         "delivery_vp": 0,
         "goods": {
          "coffee": 0,
          "corn": 0,
          "indigo": 0,
          "sugar": 0,
          "tobacco": 0
         },
         "money": 3,
         "plantations": {
          "coffee": 0,
          "corn": 0,
          "indigo": 1,
          "rock": 0,
          "sugar": 0,
          "tobacco": 1
         },
         "potential_vp": {
          "commercial": 0,
          "factories": 1,
          "workers": 0
         },
         "slots": {
          "buildings": 1,
          "plantations": 2
         },
         "workers": {
          "total": 0,
          "unemployed": 0
         }
        },
        "84157219": {
         "_": "pauldavis92",
         "building_vp": 1,
         "buildings": {
          "commercial": {},
          "factories": {
           "coffee": {
            "jobs": 0,
            "workers": 0
           },
           "corn": {
            "jobs": 0,
            "workers": 0
           },
           "indigo": {
            "jobs": 1,
            "workers": 0
           },
           "sugar": {
            "jobs": 0,
            "workers": 0
           },
           "tobacco": {
            "jobs": 0,
            "workers": 0
           }
          }
         },
         "delivery_vp": 0,
         "goods": {
          "coffee": 0,
          "corn": 0,
          "indigo": 0,
          "sugar": 0,
          "tobacco": 0
         },
         "money": 3,
         "plantations": {
          "coffee": 0,
          "corn": 0,
          "indigo": 1,
          "rock": 1,
          "sugar": 0,
          "tobacco": 0
         },
         "potential_vp": {
          "commercial": 0,
          "factories": 1,
          "workers": 0
         },
         "slots": {
          "buildings": 1,
          "plantations": 2
         },
         "workers": {
          "total": 0,
          "unemployed": 0
         }
        },
        "84338003": {
         "_": "anthos79",
         "building_vp": 1,
         "buildings": {
          "commercial": {
           "small market": false
          },
          "factories": {
           "coffee": {
            "jobs": 0,
            "workers": 0
           },
           "corn": {
            "jobs": 0,
            "workers": 0
           },
           "indigo": {
            "jobs": 0,
            "workers": 0
           },
           "sugar": {
            "jobs": 0,
            "workers": 0
           },
           "tobacco": {
            "jobs": 0,
            "workers": 0
           }
          }
         },
         "delivery_vp": 0,
         "goods": {
          "coffee": 0,
          "corn": 0,
          "indigo": 0,
          "sugar": 0,
          "tobacco": 0
         },
         "money": 3,
         "plantations": {
          "coffee": 1,
          "corn": 1,
          "indigo": 0,
          "rock": 0,
          "sugar": 0,
          "tobacco": 0
         },
         "potential_vp": {
          "commercial": 1,
          "factories": 0,
          "workers": 0
         },
         "slots": {
          "buildings": 1,
          "plantations": 2
         },
         "workers": {
          "total": 0,
          "unemployed": 0
         }
        },
        "84338781": {
         "_": "Nocturno",
         "building_vp": 1,
         "buildings": {
          "commercial": {
           "small market": false
          },
          "factories": {
           "coffee": {
            "jobs": 0,
            "workers": 0
           },
           "corn": {
            "jobs": 0,
            "workers": 0
           },
           "indigo": {
            "jobs": 0,
            "workers": 0
           },
           "sugar": {
            "jobs": 0,
            "workers": 0
           },
           "tobacco": {
            "jobs": 0,
            "workers": 0
           }
          }
         },
         "delivery_vp": 0,
         "goods": {
          "coffee": 0,
          "corn": 0,
          "indigo": 0,
          "sugar": 0,
          "tobacco": 0
         },
         "money": 4,
         "plantations": {
          "coffee": 0,
          "corn": 0,
          "indigo": 1,
          "rock": 0,
          "sugar": 0,
          "tobacco": 1
         },
         "potential_vp": {
          "commercial": 1,
          "factories": 0,
          "workers": 0
         },
         "slots": {
          "buildings": 1,
          "plantations": 2
         },
         "workers": {
          "total": 0,
          "unemployed": 0
         }
        },
        "84366500": {
         "_": "moonriver78",
         "building_vp": 1,
         "buildings": {
          "commercial": {},
          "factories": {
           "coffee": {
            "jobs": 0,
            "workers": 0
           },
           "corn": {
            "jobs": 0,
            "workers": 0
           },
           "indigo": {
            "jobs": 1,
            "workers": 0
           },
           "sugar": {
            "jobs": 0,
            "workers": 0
           },
           "tobacco": {
            "jobs": 0,
            "workers": 0
           }
          }
         },
         "delivery_vp": 0,
         "goods": {
          "coffee": 0,
          "corn": 0,
          "indigo": 0,
          "sugar": 0,
          "tobacco": 0
         },
         "money": 3,
         "plantations": {
          "coffee": 0,
          "corn": 1,
          "indigo": 1,
          "rock": 0,
          "sugar": 0,
          "tobacco": 0
         },
         "potential_vp": {
          "commercial": 0,
          "factories": 1,
          "workers": 0
         },
         "slots": {
          "buildings": 1,
          "plantations": 2
         },
         "workers": {
          "total": 0,
          "unemployed": 0
         }
        }
       },
       "sub_move_id": 0,
       "table": {
        "VPs": 126,
        "buildings": {
         "city hall": 1,
         "coffee roaster": 3,
         "construction hut": 2,
         "customs house": 1,
         "factory": 2,
         "fortress": 1,
         "guild hall": 1,
         "hacienda": 2,
         "harbor": 2,
         "hospice": 2,
         "indigo plant": 3,
         "large market": 2,
         "large warehouse": 2,
         "office": 2,
         "residence": 1,
         "small indigo plant": 1,
         "small market": 0,
         "small sugar mill": 4,
         "small warehouse": 2,
         "sugar mill": 3,
         "tobacco storage": 3,
         "university": 2,
         "wharf": 2
        },
        "goods": {
         "coffee": 9,
         "corn": 10,
         "indigo": 11,
         "sugar": 11,
         "tobacco": 9
        },
        "money": 70,
        "plantations": [
         "corn",
         "corn",
         "indigo",
         "sugar",
         "tobacco",
         "tobacco"
        ],
        "playerorder": [
         "84338003",
         "84366500",
         "84157219",
         "84338781",
         "38055077"
        ],
        "roles": {
         "1": {
          "money": "0",
          "rol_type": "captain"
         },
         "2": {
          "money": "0",
          "rol_type": "trader"
         },
         "3": {
          "money": "0",
          "rol_type": "craftsman"
         },
         "4": {
          "money": "0",
          "rol_type": "settler",
          "selected": true
         },
         "5": {
          "money": "0",
          "rol_type": "builder",
          "selected": true
         },
         "6": {
          "money": "0",
          "rol_type": "mayor"
         },
         "7": {
          "money": "0",
          "rol_type": "prospector"
         },
         "8": {
          "money": "0",
          "rol_type": "prospector"
         }
        },
        "ships": {
         "6": {},
         "7": {},
         "8": {}
        },
        "stock": [],
        "workers": {
         "arriving": 5,
         "available": 95
        }
       }
      },
      "text/plain": [
       "<IPython.core.display.JSON object>"
      ]
     },
     "metadata": {
      "application/json": {
       "expanded": false
      }
     },
     "output_type": "display_data"
    },
    {
     "name": "stdout",
     "output_type": "stream",
     "text": [
      "cooper1966 selected the mayor\n",
      "\n",
      "{'table': {'roles': {'6': {insert: {'selected': True}}}}}\n",
      "------------------------------------------------------------------------------------------------------------------------------------------------------------------------------------\n",
      "->[gameStateChange] - d:${actplayer} can get a colonist from the supply as his privilege       t:activeplayer, n:playerMayorPrivilege\n",
      "\n",
      "====================================================================================================================================================================================\n",
      "move 14.0\n"
     ]
    },
    {
     "data": {
      "application/json": {
       "governor": "84157219",
       "move_id": 14,
       "players": {
        "38055077": {
         "_": "cooper1966",
         "building_vp": 1,
         "buildings": {
          "commercial": {},
          "factories": {
           "coffee": {
            "jobs": 0,
            "workers": 0
           },
           "corn": {
            "jobs": 0,
            "workers": 0
           },
           "indigo": {
            "jobs": 1,
            "workers": 0
           },
           "sugar": {
            "jobs": 0,
            "workers": 0
           },
           "tobacco": {
            "jobs": 0,
            "workers": 0
           }
          }
         },
         "delivery_vp": 0,
         "goods": {
          "coffee": 0,
          "corn": 0,
          "indigo": 0,
          "sugar": 0,
          "tobacco": 0
         },
         "money": 3,
         "plantations": {
          "coffee": 0,
          "corn": 0,
          "indigo": 1,
          "rock": 0,
          "sugar": 0,
          "tobacco": 1
         },
         "potential_vp": {
          "commercial": 0,
          "factories": 1,
          "workers": 0
         },
         "slots": {
          "buildings": 1,
          "plantations": 2
         },
         "workers": {
          "total": 0,
          "unemployed": 0
         }
        },
        "84157219": {
         "_": "pauldavis92",
         "building_vp": 1,
         "buildings": {
          "commercial": {},
          "factories": {
           "coffee": {
            "jobs": 0,
            "workers": 0
           },
           "corn": {
            "jobs": 0,
            "workers": 0
           },
           "indigo": {
            "jobs": 1,
            "workers": 0
           },
           "sugar": {
            "jobs": 0,
            "workers": 0
           },
           "tobacco": {
            "jobs": 0,
            "workers": 0
           }
          }
         },
         "delivery_vp": 0,
         "goods": {
          "coffee": 0,
          "corn": 0,
          "indigo": 0,
          "sugar": 0,
          "tobacco": 0
         },
         "money": 3,
         "plantations": {
          "coffee": 0,
          "corn": 0,
          "indigo": 1,
          "rock": 1,
          "sugar": 0,
          "tobacco": 0
         },
         "potential_vp": {
          "commercial": 0,
          "factories": 1,
          "workers": 0
         },
         "slots": {
          "buildings": 1,
          "plantations": 2
         },
         "workers": {
          "total": 0,
          "unemployed": 0
         }
        },
        "84338003": {
         "_": "anthos79",
         "building_vp": 1,
         "buildings": {
          "commercial": {
           "small market": false
          },
          "factories": {
           "coffee": {
            "jobs": 0,
            "workers": 0
           },
           "corn": {
            "jobs": 0,
            "workers": 0
           },
           "indigo": {
            "jobs": 0,
            "workers": 0
           },
           "sugar": {
            "jobs": 0,
            "workers": 0
           },
           "tobacco": {
            "jobs": 0,
            "workers": 0
           }
          }
         },
         "delivery_vp": 0,
         "goods": {
          "coffee": 0,
          "corn": 0,
          "indigo": 0,
          "sugar": 0,
          "tobacco": 0
         },
         "money": 3,
         "plantations": {
          "coffee": 1,
          "corn": 1,
          "indigo": 0,
          "rock": 0,
          "sugar": 0,
          "tobacco": 0
         },
         "potential_vp": {
          "commercial": 1,
          "factories": 0,
          "workers": 0
         },
         "slots": {
          "buildings": 1,
          "plantations": 2
         },
         "workers": {
          "total": 0,
          "unemployed": 0
         }
        },
        "84338781": {
         "_": "Nocturno",
         "building_vp": 1,
         "buildings": {
          "commercial": {
           "small market": false
          },
          "factories": {
           "coffee": {
            "jobs": 0,
            "workers": 0
           },
           "corn": {
            "jobs": 0,
            "workers": 0
           },
           "indigo": {
            "jobs": 0,
            "workers": 0
           },
           "sugar": {
            "jobs": 0,
            "workers": 0
           },
           "tobacco": {
            "jobs": 0,
            "workers": 0
           }
          }
         },
         "delivery_vp": 0,
         "goods": {
          "coffee": 0,
          "corn": 0,
          "indigo": 0,
          "sugar": 0,
          "tobacco": 0
         },
         "money": 4,
         "plantations": {
          "coffee": 0,
          "corn": 0,
          "indigo": 1,
          "rock": 0,
          "sugar": 0,
          "tobacco": 1
         },
         "potential_vp": {
          "commercial": 1,
          "factories": 0,
          "workers": 0
         },
         "slots": {
          "buildings": 1,
          "plantations": 2
         },
         "workers": {
          "total": 0,
          "unemployed": 0
         }
        },
        "84366500": {
         "_": "moonriver78",
         "building_vp": 1,
         "buildings": {
          "commercial": {},
          "factories": {
           "coffee": {
            "jobs": 0,
            "workers": 0
           },
           "corn": {
            "jobs": 0,
            "workers": 0
           },
           "indigo": {
            "jobs": 1,
            "workers": 0
           },
           "sugar": {
            "jobs": 0,
            "workers": 0
           },
           "tobacco": {
            "jobs": 0,
            "workers": 0
           }
          }
         },
         "delivery_vp": 0,
         "goods": {
          "coffee": 0,
          "corn": 0,
          "indigo": 0,
          "sugar": 0,
          "tobacco": 0
         },
         "money": 3,
         "plantations": {
          "coffee": 0,
          "corn": 1,
          "indigo": 1,
          "rock": 0,
          "sugar": 0,
          "tobacco": 0
         },
         "potential_vp": {
          "commercial": 0,
          "factories": 1,
          "workers": 0
         },
         "slots": {
          "buildings": 1,
          "plantations": 2
         },
         "workers": {
          "total": 0,
          "unemployed": 0
         }
        }
       },
       "sub_move_id": 0,
       "table": {
        "VPs": 126,
        "buildings": {
         "city hall": 1,
         "coffee roaster": 3,
         "construction hut": 2,
         "customs house": 1,
         "factory": 2,
         "fortress": 1,
         "guild hall": 1,
         "hacienda": 2,
         "harbor": 2,
         "hospice": 2,
         "indigo plant": 3,
         "large market": 2,
         "large warehouse": 2,
         "office": 2,
         "residence": 1,
         "small indigo plant": 1,
         "small market": 0,
         "small sugar mill": 4,
         "small warehouse": 2,
         "sugar mill": 3,
         "tobacco storage": 3,
         "university": 2,
         "wharf": 2
        },
        "goods": {
         "coffee": 9,
         "corn": 10,
         "indigo": 11,
         "sugar": 11,
         "tobacco": 9
        },
        "money": 70,
        "plantations": [
         "corn",
         "corn",
         "indigo",
         "sugar",
         "tobacco",
         "tobacco"
        ],
        "playerorder": [
         "84338003",
         "84366500",
         "84157219",
         "84338781",
         "38055077"
        ],
        "roles": {
         "1": {
          "money": "0",
          "rol_type": "captain"
         },
         "2": {
          "money": "0",
          "rol_type": "trader"
         },
         "3": {
          "money": "0",
          "rol_type": "craftsman"
         },
         "4": {
          "money": "0",
          "rol_type": "settler",
          "selected": true
         },
         "5": {
          "money": "0",
          "rol_type": "builder",
          "selected": true
         },
         "6": {
          "money": "0",
          "rol_type": "mayor",
          "selected": true
         },
         "7": {
          "money": "0",
          "rol_type": "prospector"
         },
         "8": {
          "money": "0",
          "rol_type": "prospector"
         }
        },
        "ships": {
         "6": {},
         "7": {},
         "8": {}
        },
        "stock": [],
        "workers": {
         "arriving": 5,
         "available": 95
        }
       }
      },
      "text/plain": [
       "<IPython.core.display.JSON object>"
      ]
     },
     "metadata": {
      "application/json": {
       "expanded": false
      }
     },
     "output_type": "display_data"
    },
    {
     "name": "stdout",
     "output_type": "stream",
     "text": [
      "cooper1966 gets 1 colonist from the supply as his privilege\n",
      "\n",
      "{'players': {'38055077': {'workers': {'total': [0,\n",
      "                                                1],\n",
      "                                      'unemployed': [0,\n",
      "                                                     1]}}},\n",
      " 'table': {'workers': {'available': [95,\n",
      "                                     94]}}}\n",
      "------------------------------------------------------------------------------------------------------------------------------------------------------------------------------------\n",
      "->[gameStateChange] - d:Activating the next player to play this phase                          t:game, n:nextPlayerMayorVilla\n",
      "->[gameStateChange] - d:Colonists set foot in the new world                                    t:game, n:mayorColonistsArrival\n",
      "cooper1966 gets 1 colonist from the ship\n",
      "\n",
      "{'players': {'38055077': {'workers': {'total': [1,\n",
      "                                                2],\n",
      "                                      'unemployed': [1,\n",
      "                                                     2]}}},\n",
      " 'table': {'workers': {'arriving': [5,\n",
      "                                    4]}}}\n",
      "------------------------------------------------------------------------------------------------------------------------------------------------------------------------------------\n",
      "anthos79 gets 1 colonist from the ship\n",
      "\n",
      "{'players': {'84338003': {'workers': {'total': [0,\n",
      "                                                1],\n",
      "                                      'unemployed': [0,\n",
      "                                                     1]}}},\n",
      " 'table': {'workers': {'arriving': [4,\n",
      "                                    3]}}}\n",
      "------------------------------------------------------------------------------------------------------------------------------------------------------------------------------------\n",
      "moonriver78 gets 1 colonist from the ship\n",
      "\n",
      "{'players': {'84366500': {'workers': {'total': [0,\n",
      "                                                1],\n",
      "                                      'unemployed': [0,\n",
      "                                                     1]}}},\n",
      " 'table': {'workers': {'arriving': [3,\n",
      "                                    2]}}}\n",
      "------------------------------------------------------------------------------------------------------------------------------------------------------------------------------------\n",
      "pauldavis92 gets 1 colonist from the ship\n",
      "\n",
      "{'players': {'84157219': {'workers': {'total': [0,\n",
      "                                                1],\n",
      "                                      'unemployed': [0,\n",
      "                                                     1]}}},\n",
      " 'table': {'workers': {'arriving': [2,\n",
      "                                    1]}}}\n",
      "------------------------------------------------------------------------------------------------------------------------------------------------------------------------------------\n",
      "Nocturno gets 1 colonist from the ship\n",
      "\n",
      "{'players': {'84338781': {'workers': {'total': [0,\n",
      "                                                1],\n",
      "                                      'unemployed': [0,\n",
      "                                                     1]}}},\n",
      " 'table': {'workers': {'arriving': [1,\n",
      "                                    0]}}}\n",
      "------------------------------------------------------------------------------------------------------------------------------------------------------------------------------------\n",
      "->[gameStateChange] - d:Everyone must place their colonists                                    t:multipleactiveplayer, n:multiplayerPlaceColonists\n",
      "  gameStateMultipleActiveUpdate\n",
      "\n",
      "====================================================================================================================================================================================\n",
      "move 15.0\n"
     ]
    },
    {
     "data": {
      "application/json": {
       "governor": "84157219",
       "move_id": 15,
       "players": {
        "38055077": {
         "_": "cooper1966",
         "building_vp": 1,
         "buildings": {
          "commercial": {},
          "factories": {
           "coffee": {
            "jobs": 0,
            "workers": 0
           },
           "corn": {
            "jobs": 0,
            "workers": 0
           },
           "indigo": {
            "jobs": 1,
            "workers": 0
           },
           "sugar": {
            "jobs": 0,
            "workers": 0
           },
           "tobacco": {
            "jobs": 0,
            "workers": 0
           }
          }
         },
         "delivery_vp": 0,
         "goods": {
          "coffee": 0,
          "corn": 0,
          "indigo": 0,
          "sugar": 0,
          "tobacco": 0
         },
         "money": 3,
         "plantations": {
          "coffee": 0,
          "corn": 0,
          "indigo": 1,
          "rock": 0,
          "sugar": 0,
          "tobacco": 1
         },
         "potential_vp": {
          "commercial": 0,
          "factories": 1,
          "workers": 0
         },
         "slots": {
          "buildings": 1,
          "plantations": 2
         },
         "workers": {
          "total": 2,
          "unemployed": 2
         }
        },
        "84157219": {
         "_": "pauldavis92",
         "building_vp": 1,
         "buildings": {
          "commercial": {},
          "factories": {
           "coffee": {
            "jobs": 0,
            "workers": 0
           },
           "corn": {
            "jobs": 0,
            "workers": 0
           },
           "indigo": {
            "jobs": 1,
            "workers": 0
           },
           "sugar": {
            "jobs": 0,
            "workers": 0
           },
           "tobacco": {
            "jobs": 0,
            "workers": 0
           }
          }
         },
         "delivery_vp": 0,
         "goods": {
          "coffee": 0,
          "corn": 0,
          "indigo": 0,
          "sugar": 0,
          "tobacco": 0
         },
         "money": 3,
         "plantations": {
          "coffee": 0,
          "corn": 0,
          "indigo": 1,
          "rock": 1,
          "sugar": 0,
          "tobacco": 0
         },
         "potential_vp": {
          "commercial": 0,
          "factories": 1,
          "workers": 0
         },
         "slots": {
          "buildings": 1,
          "plantations": 2
         },
         "workers": {
          "total": 1,
          "unemployed": 1
         }
        },
        "84338003": {
         "_": "anthos79",
         "building_vp": 1,
         "buildings": {
          "commercial": {
           "small market": false
          },
          "factories": {
           "coffee": {
            "jobs": 0,
            "workers": 0
           },
           "corn": {
            "jobs": 0,
            "workers": 0
           },
           "indigo": {
            "jobs": 0,
            "workers": 0
           },
           "sugar": {
            "jobs": 0,
            "workers": 0
           },
           "tobacco": {
            "jobs": 0,
            "workers": 0
           }
          }
         },
         "delivery_vp": 0,
         "goods": {
          "coffee": 0,
          "corn": 0,
          "indigo": 0,
          "sugar": 0,
          "tobacco": 0
         },
         "money": 3,
         "plantations": {
          "coffee": 1,
          "corn": 1,
          "indigo": 0,
          "rock": 0,
          "sugar": 0,
          "tobacco": 0
         },
         "potential_vp": {
          "commercial": 1,
          "factories": 0,
          "workers": 0
         },
         "slots": {
          "buildings": 1,
          "plantations": 2
         },
         "workers": {
          "total": 1,
          "unemployed": 1
         }
        },
        "84338781": {
         "_": "Nocturno",
         "building_vp": 1,
         "buildings": {
          "commercial": {
           "small market": false
          },
          "factories": {
           "coffee": {
            "jobs": 0,
            "workers": 0
           },
           "corn": {
            "jobs": 0,
            "workers": 0
           },
           "indigo": {
            "jobs": 0,
            "workers": 0
           },
           "sugar": {
            "jobs": 0,
            "workers": 0
           },
           "tobacco": {
            "jobs": 0,
            "workers": 0
           }
          }
         },
         "delivery_vp": 0,
         "goods": {
          "coffee": 0,
          "corn": 0,
          "indigo": 0,
          "sugar": 0,
          "tobacco": 0
         },
         "money": 4,
         "plantations": {
          "coffee": 0,
          "corn": 0,
          "indigo": 1,
          "rock": 0,
          "sugar": 0,
          "tobacco": 1
         },
         "potential_vp": {
          "commercial": 1,
          "factories": 0,
          "workers": 0
         },
         "slots": {
          "buildings": 1,
          "plantations": 2
         },
         "workers": {
          "total": 1,
          "unemployed": 1
         }
        },
        "84366500": {
         "_": "moonriver78",
         "building_vp": 1,
         "buildings": {
          "commercial": {},
          "factories": {
           "coffee": {
            "jobs": 0,
            "workers": 0
           },
           "corn": {
            "jobs": 0,
            "workers": 0
           },
           "indigo": {
            "jobs": 1,
            "workers": 0
           },
           "sugar": {
            "jobs": 0,
            "workers": 0
           },
           "tobacco": {
            "jobs": 0,
            "workers": 0
           }
          }
         },
         "delivery_vp": 0,
         "goods": {
          "coffee": 0,
          "corn": 0,
          "indigo": 0,
          "sugar": 0,
          "tobacco": 0
         },
         "money": 3,
         "plantations": {
          "coffee": 0,
          "corn": 1,
          "indigo": 1,
          "rock": 0,
          "sugar": 0,
          "tobacco": 0
         },
         "potential_vp": {
          "commercial": 0,
          "factories": 1,
          "workers": 0
         },
         "slots": {
          "buildings": 1,
          "plantations": 2
         },
         "workers": {
          "total": 1,
          "unemployed": 1
         }
        }
       },
       "sub_move_id": 0,
       "table": {
        "VPs": 126,
        "buildings": {
         "city hall": 1,
         "coffee roaster": 3,
         "construction hut": 2,
         "customs house": 1,
         "factory": 2,
         "fortress": 1,
         "guild hall": 1,
         "hacienda": 2,
         "harbor": 2,
         "hospice": 2,
         "indigo plant": 3,
         "large market": 2,
         "large warehouse": 2,
         "office": 2,
         "residence": 1,
         "small indigo plant": 1,
         "small market": 0,
         "small sugar mill": 4,
         "small warehouse": 2,
         "sugar mill": 3,
         "tobacco storage": 3,
         "university": 2,
         "wharf": 2
        },
        "goods": {
         "coffee": 9,
         "corn": 10,
         "indigo": 11,
         "sugar": 11,
         "tobacco": 9
        },
        "money": 70,
        "plantations": [
         "corn",
         "corn",
         "indigo",
         "sugar",
         "tobacco",
         "tobacco"
        ],
        "playerorder": [
         "84338003",
         "84366500",
         "84157219",
         "84338781",
         "38055077"
        ],
        "roles": {
         "1": {
          "money": "0",
          "rol_type": "captain"
         },
         "2": {
          "money": "0",
          "rol_type": "trader"
         },
         "3": {
          "money": "0",
          "rol_type": "craftsman"
         },
         "4": {
          "money": "0",
          "rol_type": "settler",
          "selected": true
         },
         "5": {
          "money": "0",
          "rol_type": "builder",
          "selected": true
         },
         "6": {
          "money": "0",
          "rol_type": "mayor",
          "selected": true
         },
         "7": {
          "money": "0",
          "rol_type": "prospector"
         },
         "8": {
          "money": "0",
          "rol_type": "prospector"
         }
        },
        "ships": {
         "6": {},
         "7": {},
         "8": {}
        },
        "stock": [],
        "workers": {
         "arriving": 0,
         "available": 94
        }
       }
      },
      "text/plain": [
       "<IPython.core.display.JSON object>"
      ]
     },
     "metadata": {
      "application/json": {
       "expanded": false
      }
     },
     "output_type": "display_data"
    },
    {
     "name": "stdout",
     "output_type": "stream",
     "text": [
      "cooper1966 sets a colonist to work in his building\n"
     ]
    },
    {
     "ename": "TypeError",
     "evalue": "list indices must be integers or slices, not str",
     "output_type": "error",
     "traceback": [
      "\u001b[0;31m---------------------------------------------------------------------------\u001b[0m",
      "\u001b[0;31mTypeError\u001b[0m                                 Traceback (most recent call last)",
      "\u001b[0;32m<ipython-input-70-4c99a3b28f75>\u001b[0m in \u001b[0;36m<module>\u001b[0;34m()\u001b[0m\n\u001b[1;32m      7\u001b[0m         \u001b[0mprint\u001b[0m\u001b[0;34m(\u001b[0m\u001b[0;34m)\u001b[0m\u001b[0;34m\u001b[0m\u001b[0m\n\u001b[1;32m      8\u001b[0m \u001b[0;34m\u001b[0m\u001b[0m\n\u001b[0;32m----> 9\u001b[0;31m     \u001b[0mnew_game_state\u001b[0m \u001b[0;34m=\u001b[0m \u001b[0mapply_step\u001b[0m\u001b[0;34m(\u001b[0m\u001b[0mgame_state\u001b[0m\u001b[0;34m,\u001b[0m \u001b[0mnext_step\u001b[0m\u001b[0;34m)\u001b[0m\u001b[0;34m\u001b[0m\u001b[0m\n\u001b[0m\u001b[1;32m     10\u001b[0m \u001b[0;34m\u001b[0m\u001b[0m\n\u001b[1;32m     11\u001b[0m     \u001b[0;32mif\u001b[0m \u001b[0mnew_game_state\u001b[0m\u001b[0;34m:\u001b[0m\u001b[0;34m\u001b[0m\u001b[0m\n",
      "\u001b[0;32m<ipython-input-42-8f81381e1779>\u001b[0m in \u001b[0;36mapply_step\u001b[0;34m(game_state, step)\u001b[0m\n\u001b[1;32m      7\u001b[0m     \u001b[0ma\u001b[0m \u001b[0;34m=\u001b[0m \u001b[0mactions\u001b[0m\u001b[0;34m.\u001b[0m\u001b[0mget\u001b[0m\u001b[0;34m(\u001b[0m\u001b[0mstep\u001b[0m\u001b[0;34m[\u001b[0m\u001b[0;34m'type'\u001b[0m\u001b[0;34m]\u001b[0m\u001b[0;34m,\u001b[0m \u001b[0;32mNone\u001b[0m\u001b[0;34m)\u001b[0m\u001b[0;34m\u001b[0m\u001b[0m\n\u001b[1;32m      8\u001b[0m     \u001b[0;32mif\u001b[0m \u001b[0ma\u001b[0m\u001b[0;34m:\u001b[0m\u001b[0;34m\u001b[0m\u001b[0m\n\u001b[0;32m----> 9\u001b[0;31m         \u001b[0;32mreturn\u001b[0m \u001b[0ma\u001b[0m\u001b[0;34m(\u001b[0m\u001b[0mgame_state\u001b[0m\u001b[0;34m,\u001b[0m \u001b[0;34m**\u001b[0m\u001b[0mstep\u001b[0m\u001b[0;34m[\u001b[0m\u001b[0;34m'args'\u001b[0m\u001b[0;34m]\u001b[0m\u001b[0;34m)\u001b[0m\u001b[0;34m\u001b[0m\u001b[0m\n\u001b[0m\u001b[1;32m     10\u001b[0m     \u001b[0;32melse\u001b[0m\u001b[0;34m:\u001b[0m\u001b[0;34m\u001b[0m\u001b[0m\n\u001b[1;32m     11\u001b[0m         \u001b[0;32mreturn\u001b[0m \u001b[0mdefault_action\u001b[0m\u001b[0;34m(\u001b[0m\u001b[0mgame_state\u001b[0m\u001b[0;34m,\u001b[0m \u001b[0mstep\u001b[0m\u001b[0;34m)\u001b[0m\u001b[0;34m\u001b[0m\u001b[0m\n",
      "\u001b[0;32m<ipython-input-54-100b69aeeff8>\u001b[0m in \u001b[0;36mcolonistToBuilding\u001b[0;34m(state, bld_id, delta, **kvargs)\u001b[0m\n\u001b[1;32m      3\u001b[0m     \u001b[0mb\u001b[0m \u001b[0;34m=\u001b[0m \u001b[0mdatas\u001b[0m\u001b[0;34m[\u001b[0m\u001b[0;34m'buildings'\u001b[0m\u001b[0;34m]\u001b[0m\u001b[0;34m[\u001b[0m\u001b[0mbld_id\u001b[0m\u001b[0;34m]\u001b[0m\u001b[0;34m\u001b[0m\u001b[0m\n\u001b[1;32m      4\u001b[0m     \u001b[0mpl\u001b[0m \u001b[0;34m=\u001b[0m \u001b[0mget_player\u001b[0m\u001b[0;34m(\u001b[0m\u001b[0mnew_state\u001b[0m\u001b[0;34m,\u001b[0m \u001b[0;34m**\u001b[0m\u001b[0mkvargs\u001b[0m\u001b[0;34m)\u001b[0m\u001b[0;34m\u001b[0m\u001b[0m\n\u001b[0;32m----> 5\u001b[0;31m     \u001b[0mpb\u001b[0m \u001b[0;34m=\u001b[0m \u001b[0;34m[\u001b[0m\u001b[0;34m'buildings'\u001b[0m\u001b[0;34m]\u001b[0m\u001b[0;34m[\u001b[0m\u001b[0mb\u001b[0m\u001b[0;34m[\u001b[0m\u001b[0;34m'res_type'\u001b[0m\u001b[0;34m]\u001b[0m\u001b[0;34m]\u001b[0m\u001b[0;34m\u001b[0m\u001b[0m\n\u001b[0m\u001b[1;32m      6\u001b[0m \u001b[0;34m\u001b[0m\u001b[0m\n\u001b[1;32m      7\u001b[0m     \u001b[0;32mif\u001b[0m \u001b[0mb\u001b[0m\u001b[0;34m[\u001b[0m\u001b[0;34m'res_type'\u001b[0m\u001b[0;34m]\u001b[0m \u001b[0;34m!=\u001b[0m \u001b[0;34m'commercial'\u001b[0m\u001b[0;34m:\u001b[0m\u001b[0;34m\u001b[0m\u001b[0m\n",
      "\u001b[0;31mTypeError\u001b[0m: list indices must be integers or slices, not str"
     ]
    }
   ],
   "source": [
    "while new_game_state and len(game_log) > game_state['move_id']:\n",
    "        \n",
    "    next_step = get_step(game_log, **game_state)\n",
    "    if step['type'] != 'gameStateChange':\n",
    "        pprint(next_step, width=width)\n",
    "        print('.'*width)\n",
    "        print()\n",
    "        \n",
    "    new_game_state = apply_step(game_state, next_step)\n",
    "    \n",
    "    if new_game_state:\n",
    "        if not game_state is new_game_state:\n",
    "            print()    \n",
    "            print_diff(game_state, new_game_state, consumer=lambda l: pprint(l, width=10))\n",
    "            print('-'*width)    \n",
    "            \n",
    "        game_state = move_to_next_step(game_log, new_game_state)\n",
    "        if not game_state['sub_move_id']: \n",
    "            print()\n",
    "            print('='*width)\n",
    "            show_state(game_state)\n",
    "#             break          \n",
    "            print('='*width)"
   ]
  },
  {
   "cell_type": "code",
   "execution_count": 57,
   "metadata": {},
   "outputs": [],
   "source": [
    "def get_active_player(game_state, step):\n",
    "    if step['args']['type'] == 'activeplayer':\n",
    "        player_id = step['args']['active_player']\n",
    "        return game_state['players'][player_id]['_']\n",
    "    else:\n",
    "        return None"
   ]
  },
  {
   "cell_type": "code",
   "execution_count": 58,
   "metadata": {
    "scrolled": false
   },
   "outputs": [
    {
     "name": "stdout",
     "output_type": "stream",
     "text": [
      "> gameStateChange: Game setup\n",
      "------------------------------------------------------------------------------------------------------------------------------------------------------------------------------------\n",
      "> gameStateChange: \n",
      "------------------------------------------------------------------------------------------------------------------------------------------------------------------------------------\n",
      "draftCompleted: Buildings have been drafted. The game starts!\n",
      "\n"
     ]
    },
    {
     "data": {
      "application/json": [],
      "text/plain": [
       "<IPython.core.display.JSON object>"
      ]
     },
     "metadata": {
      "application/json": {
       "expanded": false
      }
     },
     "output_type": "display_data"
    },
    {
     "name": "stdout",
     "output_type": "stream",
     "text": [
      "------------------------------------------------------------------------------------------------------------------------------------------------------------------------------------\n",
      "> gameStateChange: Activating the next player to select a role\n",
      "------------------------------------------------------------------------------------------------------------------------------------------------------------------------------------\n",
      "updateReflexionTime: \n",
      "------------------------------------------------------------------------------------------------------------------------------------------------------------------------------------\n",
      "> gameStateChange: pauldavis92 must select a role\n",
      "------------------------------------------------------------------------------------------------------------------------------------------------------------------------------------\n"
     ]
    }
   ],
   "source": [
    "for step in game_log[game_state['move_id']]['data']:\n",
    "    if step['type'] == 'gameStateChange':\n",
    "        print_log('> gameStateChange: ' + step['args']['description'], actplayer = get_active_player(game_state, step), **step['args'])\n",
    "    elif step['type'] in ('updateReflexionTime', 'gameStateMultipleActiveUpdate'):\n",
    "        print_log(step['type'] + ': ' + step['log'])\n",
    "    else: \n",
    "        print_log(step['type'] + ': ' + step['log'], **dict(step['args']))\n",
    "        print()\n",
    "        display(JSON(step['args'], expanded=False))\n",
    "    print('-' * width)"
   ]
  },
  {
   "cell_type": "code",
   "execution_count": null,
   "metadata": {},
   "outputs": [],
   "source": [
    "def steps(log):\n",
    "    for move_id, move in enumerate(log):\n",
    "        for sub_move_id, sub_move in enumerate(move['data']):\n",
    "#             if sub_move_id != 0:\n",
    "                yield sub_move"
   ]
  },
  {
   "cell_type": "code",
   "execution_count": null,
   "metadata": {},
   "outputs": [],
   "source": [
    "c = collections.Counter([s['type'] for s in steps(game_log) if s['type'] not in actions])\n",
    "c.most_common(20)"
   ]
  },
  {
   "cell_type": "code",
   "execution_count": null,
   "metadata": {},
   "outputs": [],
   "source": [
    "c = collections.Counter([s['args']['name']+str([k for k in s['args'].keys() if k not in exclude]) for s in steps(game_log) if s['type'] == 'gameStateChange'])\n",
    "c.most_common(30)"
   ]
  },
  {
   "cell_type": "code",
   "execution_count": null,
   "metadata": {},
   "outputs": [],
   "source": [
    "exclude = {'name', 'description', 'descriptionmyturn', 'type', 'action', 'active_player', 'args', 'reflexion', 'transitions', 'updateGameProgression', 'possibleactions'}\n",
    "# JSON(sorted({str(s['args']['possibleactions']) for s in steps(game_log) if s['type'] == 'gameStateChange' and 'possibleactions' in s['args'].keys()}), expanded=False)\n",
    "for s in steps(game_log):\n",
    "    if s['type'] == 'gameStateChange':\n",
    "        print_log(log, **dict(s['args']))"
   ]
  },
  {
   "cell_type": "markdown",
   "metadata": {},
   "source": [
    "## VISUALIZATION"
   ]
  },
  {
   "cell_type": "code",
   "execution_count": null,
   "metadata": {},
   "outputs": [],
   "source": [
    "planets = [\n",
    "    ['Planet', 'Mass (kg)', 'Diameter (km)'],\n",
    "    ['Mercury', 3.3022E23, 4879], \n",
    "    ['Venus', 4.896E24, []],\n",
    "    ['Ear111th', 5.972E24, '12735'],\n",
    "    ['Mars', 6.4191E23, 6772]];"
   ]
  },
  {
   "cell_type": "markdown",
   "metadata": {},
   "source": [
    "#### ipy_table"
   ]
  },
  {
   "cell_type": "code",
   "execution_count": null,
   "metadata": {},
   "outputs": [],
   "source": [
    "%%bash\n",
    "pip install ipy_table"
   ]
  },
  {
   "cell_type": "code",
   "execution_count": null,
   "metadata": {},
   "outputs": [],
   "source": [
    "from ipy_table import *\n",
    "make_table(planets)\n",
    "apply_theme('basic')"
   ]
  },
  {
   "cell_type": "markdown",
   "metadata": {},
   "source": [
    "#### tabulate"
   ]
  },
  {
   "cell_type": "code",
   "execution_count": null,
   "metadata": {},
   "outputs": [],
   "source": [
    "%%bash\n",
    "pip install tabulate"
   ]
  },
  {
   "cell_type": "code",
   "execution_count": null,
   "metadata": {},
   "outputs": [],
   "source": [
    "from IPython.display import HTML, display\n",
    "import tabulate\n",
    "table = [[\"Sun\",696000,1989100000],\n",
    "         [\"Earth\",6371,5973.6],\n",
    "         [\"Moon\",1737,73.5],\n",
    "         [\"Mars\",3390,641.85]]\n",
    "display(HTML(tabulate.tabulate(table, tablefmt='html')))"
   ]
  },
  {
   "cell_type": "markdown",
   "metadata": {},
   "source": [
    "#### merge html tables"
   ]
  },
  {
   "cell_type": "code",
   "execution_count": null,
   "metadata": {},
   "outputs": [],
   "source": [
    "from IPython.display import HTML\n",
    "\n",
    "def as_table(*data, repr=lambda s: s._repr_html_()):\n",
    "    return HTML(\n",
    "        '<table><tr>{}</tr></table>'.format(\n",
    "            '</tr><tr>'.join(\n",
    "                '<td>{}</td>'.format(\n",
    "                    '</td><td>'.join(repr(_) for _ in row)\n",
    "                ) for row in data\n",
    "            )\n",
    "        ))"
   ]
  },
  {
   "cell_type": "code",
   "execution_count": null,
   "metadata": {},
   "outputs": [],
   "source": [
    "as_table(\n",
    "    [1,2,3],\n",
    "    [4,5,6],\n",
    "    [7,8,9],\n",
    "    repr=str\n",
    ")"
   ]
  },
  {
   "cell_type": "code",
   "execution_count": null,
   "metadata": {},
   "outputs": [],
   "source": [
    "x1 = make_table(planets)\n",
    "x2 = make_table(planets)\n",
    "apply_theme('basic')\n",
    "as_table([x1, x2])"
   ]
  },
  {
   "cell_type": "markdown",
   "metadata": {},
   "source": [
    "#### Pandas"
   ]
  },
  {
   "cell_type": "code",
   "execution_count": null,
   "metadata": {},
   "outputs": [],
   "source": [
    "import pandas as pd\n",
    "from IPython.display import JSON"
   ]
  },
  {
   "cell_type": "markdown",
   "metadata": {},
   "source": [
    "### game visualizations"
   ]
  },
  {
   "cell_type": "code",
   "execution_count": null,
   "metadata": {},
   "outputs": [],
   "source": [
    "def show_goods(player, **kvargs):\n",
    "    return pd.Series(player['goods'], index=good_types).fillna(0).astype('int64')\n",
    "# show_goods(player_example)"
   ]
  },
  {
   "cell_type": "code",
   "execution_count": null,
   "metadata": {},
   "outputs": [],
   "source": [
    "def show_plantations(player, **kvargs):\n",
    "    data = player['plantations']\n",
    "    return pd.DataFrame(data, columns=good_types, index=['workers', 'jobs']).fillna(0).astype(str).apply(' / '.join)\n",
    "# show_plantations(player_example)"
   ]
  },
  {
   "cell_type": "code",
   "execution_count": null,
   "metadata": {},
   "outputs": [],
   "source": [
    "def show_factories(player, **kvargs):\n",
    "    data = player['buildings']['factories']\n",
    "    return pd.DataFrame(data, columns=good_types, index=['workers', 'jobs']).fillna(0).astype(str).apply(' / '.join)\n",
    "# show_factories(player_example)"
   ]
  },
  {
   "cell_type": "code",
   "execution_count": null,
   "metadata": {},
   "outputs": [],
   "source": [
    "def show_farming(player, **kvargs):\n",
    "    g = show_goods(player, **kvargs)\n",
    "    p = show_plantations(player, **kvargs)\n",
    "    f = show_factories(player, **kvargs)\n",
    "    return pd.DataFrame([g,p,f], index=['goods', 'plantations', 'factories'])\n",
    "\n",
    "# show_farming(player_example)"
   ]
  },
  {
   "cell_type": "code",
   "execution_count": null,
   "metadata": {},
   "outputs": [],
   "source": [
    "def show_commercial(player, **kvargs):\n",
    "    data = [(k,'X' if v else '') for k,v in player_example['buildings']['commercial'].items()]\n",
    "    return pd.DataFrame(data, columns=['name', 'active']).set_index(['name'])\n",
    "\n",
    "show_commercial(player_example)"
   ]
  },
  {
   "cell_type": "code",
   "execution_count": null,
   "metadata": {},
   "outputs": [],
   "source": [
    "def show_score(player, **kvargs):\n",
    "    fmt = \"{name}: $ {money}, [{delivery_vp} + {building_vp}]\"\n",
    "    return fmt.format(**player)\n",
    "\n",
    "def calc_potential_vp(player, **kvargs): \n",
    "    return {\n",
    "        'guild_hall': player['potential_vp']['factories'],\n",
    "        'customs_house': player['delivery_vp']/4,\n",
    "        'residence': max(4, player['slots']['plantations']-5),\n",
    "        'city_hall': player['potential_vp']['commerial'],\n",
    "        'fortress': player['workers']['total']/3\n",
    "    }"
   ]
  },
  {
   "cell_type": "code",
   "execution_count": null,
   "metadata": {},
   "outputs": [],
   "source": [
    "def show_player(player, **kvargs):\n",
    "    s = show_score(player)\n",
    "    c = show_commercial(player)\n",
    "    f = show_farming(player)\n",
    "    return as_table([],[HTML('<b>'+s+'</b>') ,HTML('')],[c, f.T])\n",
    "# show_player(player_example)"
   ]
  },
  {
   "cell_type": "code",
   "execution_count": null,
   "metadata": {
    "scrolled": true
   },
   "outputs": [],
   "source": [
    "\n",
    "\n",
    "\n",
    "\n",
    "\n",
    "\n",
    "\n",
    "\n",
    "\n",
    "\n",
    "\n",
    "\n",
    "\n",
    "\n",
    "\n",
    "\n"
   ]
  },
  {
   "cell_type": "markdown",
   "metadata": {},
   "source": [
    "### Old output"
   ]
  },
  {
   "cell_type": "code",
   "execution_count": null,
   "metadata": {},
   "outputs": [],
   "source": [
    "def fixed_len(s,l):\n",
    "    raise Error('Obsolete')\n",
    "#     return str(s + ' '*(l-len(s)) if l > len(s) else s)\n",
    "\n",
    "def toarray(d):\n",
    "    return [int(d[str(i+1)]) for i in range(4)]"
   ]
  },
  {
   "cell_type": "code",
   "execution_count": null,
   "metadata": {
    "scrolled": true
   },
   "outputs": [],
   "source": [
    "import itertools\n",
    "\n",
    "def transpose(*a):\n",
    "    return list(map(list, itertools.zip_longest(*a, fillvalue='')))\n",
    "\n",
    "def fill_columns(*cols, **kwargs):\n",
    "    to_len = lambda a: [len(v) for v in a]\n",
    "    max_len= lambda a: max(to_len(a))\n",
    "\n",
    "    row_count = max_len(cols)\n",
    "    cols = [c + ['' for i in range(row_count-len(c))] for c in cols]\n",
    "    return cols\n",
    "\n",
    "print(transpose(['1'+'.'*2], [1,2,3,'4'+'.'*7], [1,2,'3'+'.'*6]))"
   ]
  },
  {
   "cell_type": "code",
   "execution_count": null,
   "metadata": {},
   "outputs": [],
   "source": [
    "def pad_columns(*rows, **kwargs):\n",
    "    separator = kwargs.get('separator',' ')\n",
    "    to_col = lambda aa,i: [a[i] for a in aa]\n",
    "    to_str = lambda a: [str(v) for v in a]\n",
    "    to_len = lambda a: [len(v) for v in a]\n",
    "\n",
    "    widths = [max(to_len(to_str(to_col(rows, i)))) for i in range(len(rows[0]))]\n",
    "    ptr = separator.join(['{:^%s}'%s for s in widths])\n",
    "    return [ptr.format(*r) for r in rows]\n",
    "\n",
    "def print_lines(lines):\n",
    "    print('\\n'.join(lines))\n",
    "    \n",
    "    \n",
    "# f = fill_columns\n",
    "# t = transpose\n",
    "p = [['n'+'.'*2], ['i1','i2','i3','i4'+'.'*7], ['t1','t2','t3'+'.'*6]]    \n",
    "n = ['N','I','T']\n",
    "c = [n] + t(*f(*p))\n",
    "# filled = t(*c)\n",
    "# pprint(filled)\n",
    "# print\n",
    "print_lines(pad_columns(*c))\n"
   ]
  },
  {
   "cell_type": "code",
   "execution_count": null,
   "metadata": {},
   "outputs": [],
   "source": [
    "def make_tabular(cols, data):\n",
    "    mapper = lambda p: [p[c] for c in cols]\n",
    "    pp = [cols]\n",
    "    filler = [['' for i in range(len(cols))]]\n",
    "    for p in data:\n",
    "        pp += filler + transpose(*fill_columns(*mapper(p)))\n",
    "    return pp"
   ]
  },
  {
   "cell_type": "code",
   "execution_count": null,
   "metadata": {},
   "outputs": [],
   "source": [
    "def show_skills(a):\n",
    "    return \"{a[0]}{a[1]}{a[2]}{a[3]}\".format(a=a)\n",
    "\n",
    "def show_inventor(i):\n",
    "    return \"{sign} {_:20} {skills_f} / {objective_f} = {points}\".format(\n",
    "        skills_f = show_skills(i['skills']),\n",
    "        objective_f = show_skills(i['objective']),\n",
    "        sign='-' if not i.get('active', True) else '+', \n",
    "        **i)\n",
    "\n",
    "def show_inventors(p):\n",
    "    return [show_inventor(get_inventor(p, inventor_no=i)) for i in xrange(1,5)]\n",
    "\n",
    "def show_token(t):\n",
    "    return \"{type_name:.7}({type_arg})\".format(**t)\n",
    "    \n",
    "def show_tokens(p):\n",
    "    return sorted([show_token(t) for id,t in p['tokens'].items()])\n",
    "\n",
    "def show_player(p):\n",
    "    return dict( \n",
    "        name = ['{_:10.10}'.format(**p)],\n",
    "        score = [p['score']],\n",
    "        tokens=show_tokens(p),\n",
    "        inventors=show_inventors(p))\n",
    "\n",
    "def show_players(s):\n",
    "    cols = ['name','score','inventors','tokens']\n",
    "    data = [show_player(p) for p in s['players'].values()]\n",
    "    return make_tabular(cols, data)\n",
    "    \n",
    "def show_player_names(s,c):\n",
    "    return [ '{}: {}'.format(s['players'][id]['_'], p) for id,p in sorted(c.items(), key=lambda k: -k[1])]\n",
    "\n",
    "def show_invention(i):\n",
    "    return dict(\n",
    "        name=['{_:15}'.format(**i), '{} / {} '.format(show_skills(i['cur']), show_skills(i['cost']))],\n",
    "        bidders=show_player_names(game_state, i['players']),\n",
    "        rewards=show_tokens(i) + ['card#{serienbr} ({points})'.format(**i) if not i.get('taken', False) else ''])\n",
    "                      \n",
    "def show_inventions(s):\n",
    "    cols = ['name','rewards','bidders']\n",
    "    data = [show_invention(i) for i in s['table'].values()]\n",
    "    return make_tabular(cols, data)\n",
    "    \n",
    "def show_state(s):\n",
    "    parts = [\n",
    "        pad_columns(*show_players(game_state),    separator=' | '),\n",
    "        pad_columns(*show_inventions(game_state), separator=' | ')\n",
    "    ]\n",
    "    \n",
    "    print_lines(pad_columns(*transpose(*fill_columns(*parts)), separator='  ##  '))\n",
    "    \n",
    "# print_lines(pad_columns(*show_players(game_state), separator=' | '))\n",
    "print_lines(pad_columns(*show_inventions(game_state), separator=' | '))\n",
    "# show_state(game_state)"
   ]
  },
  {
   "cell_type": "markdown",
   "metadata": {},
   "source": [
    "### Old stuff\n",
    "\n",
    "\n",
    "\n",
    "\n"
   ]
  },
  {
   "cell_type": "code",
   "execution_count": null,
   "metadata": {},
   "outputs": [],
   "source": [
    "def useClassificationToken(state, number, **args):\n",
    "    state = alter_dict(state)\n",
    "    p = get_player(state, **args)\n",
    "    add_card(p, int(number), **args)\n",
    "    pop_token(p, **args)\n",
    "    return state\n",
    "\n",
    "actions['useClassificationToken'] = useClassificationToken\n",
    "#print_diff(useClassificationToken(game_state, **step['args']))"
   ]
  },
  {
   "cell_type": "code",
   "execution_count": null,
   "metadata": {},
   "outputs": [],
   "source": [
    "def tableWindow(state, **args):\n",
    "    state = alter_dict(state)\n",
    "    table = alter_dict(args)['table']\n",
    "#     pprint(table)\n",
    "    last = len(table)-1\n",
    "    for i in xrange(1,len(table[0])):\n",
    "        table[0][i] = table[0][i]['args']['player_name']\n",
    "        table[last][i] = int(table[last][i][3:-4])\n",
    "    print_lines(pad_columns(*table, separator=' | '))\n",
    "    return state\n",
    "\n",
    "actions['tableWindow'] = tableWindow\n",
    "#print_diff(apply_step(game_state, step))"
   ]
  },
  {
   "cell_type": "code",
   "execution_count": null,
   "metadata": {},
   "outputs": [],
   "source": [
    "def score(state, score, **args):\n",
    "    state = alter_dict(state)\n",
    "    \n",
    "    p = get_player(state, **args)\n",
    "    p['score'] = score\n",
    "\n",
    "    print_log('{p[_]} scores {score}'.format(score=score, p=p))\n",
    "    return state\n",
    "\n",
    "actions['score'] = score\n",
    "#print_diff(score(game_state, **step['args']))"
   ]
  },
  {
   "cell_type": "code",
   "execution_count": null,
   "metadata": {
    "scrolled": false
   },
   "outputs": [],
   "source": [
    "def refresh(state, **args):\n",
    "    state = alter_dict(state)\n",
    "    \n",
    "    p = get_player(state, **args)\n",
    "    for i in xrange(1,5):\n",
    "        i = get_inventor(p, i, **args)\n",
    "        i['active'] = True\n",
    "    \n",
    "    return state\n",
    "\n",
    "actions['refresh'] = refresh\n",
    "#print_diff(refresh(game_state, **step['args']))"
   ]
  },
  {
   "cell_type": "code",
   "execution_count": null,
   "metadata": {},
   "outputs": [],
   "source": [
    "def endRewards(state, invention_id, **args):\n",
    "    print_log('endRewards')\n",
    "    state = alter_dict(state)\n",
    "    state['table'].pop(invention_id)\n",
    "    return state\n",
    "    \n",
    "actions['endRewards'] = endRewards"
   ]
  },
  {
   "cell_type": "code",
   "execution_count": null,
   "metadata": {},
   "outputs": [],
   "source": [
    "def increaseSkill(state, **args):\n",
    "    state = alter_dict(state)\n",
    "\n",
    "    p = get_player(state, **args)\n",
    "    i = get_inventor(p, **args)\n",
    "    pop_token(p, **args)\n",
    "    set_skill(i, **args)\n",
    "\n",
    "    return state\n",
    "    \n",
    "actions['increaseSkill'] = increaseSkill"
   ]
  },
  {
   "cell_type": "code",
   "execution_count": null,
   "metadata": {
    "scrolled": false
   },
   "outputs": [],
   "source": [
    "def pickReward(state, **args):\n",
    "    state = alter_dict(state)\n",
    "    p = get_player(state, **args)\n",
    "    i = get_invention(state, **args)\n",
    "    \n",
    "    remove_bidder(state, i, **args)\n",
    "    if step['args']['is_card']:\n",
    "        return pick_card(state, p, i, **args)\n",
    "    else:\n",
    "        return pick_token(state, p, i, **args)\n",
    "\n",
    "def pick_token(state, p, i, rewardcard, **args):\n",
    "    token_id = rewardcard['id']\n",
    "    r = pop_token(i, token_id, **args)\n",
    "    add_token(p, token_id, r, **args)\n",
    "    return state\n",
    "    \n",
    "def pick_card(state, p, i, serie, **args):\n",
    "    add_card(p, serie, **args)\n",
    "    i['taken'] = True\n",
    "    return state\n",
    "\n",
    "def remove_bidder(state, i, player_id, **args):\n",
    "    i['players'].pop(player_id)\n",
    "    \n",
    "\n",
    "actions['pickReward'] = pickReward\n",
    "print_diff(pickReward(game_state, **step['args']))"
   ]
  },
  {
   "cell_type": "code",
   "execution_count": null,
   "metadata": {},
   "outputs": [],
   "source": [
    "def work(state, **args):\n",
    "    state = alter_dict(state)\n",
    "    deactivate_inventor(state, **args)\n",
    "    place_cubes(state, **args)\n",
    "    return state\n",
    "\n",
    "def deactivate_inventor(state, inventor, **args):\n",
    "    if inventor:\n",
    "        p = get_player(state, **args)\n",
    "        i = get_inventor(p, inventor['no'], **args)\n",
    "        i['active'] = False\n",
    "\n",
    "def place_cubes(state, player_id, placed, nbr, **args):    \n",
    "    invention = get_invention(state, **args)\n",
    "    \n",
    "    for k,v in placed.items():\n",
    "        invention['cur'][int(k)-1] += int(v)\n",
    "\n",
    "    inc_dict_val(invention['players'], player_id, nbr)    \n",
    "\n",
    "actions['work'] = work\n",
    "print_diff(work(game_state, **step['args']))"
   ]
  },
  {
   "cell_type": "code",
   "execution_count": null,
   "metadata": {},
   "outputs": [],
   "source": [
    "def startAge(state, **args):\n",
    "    l = dict()\n",
    "    initInventions(datas, l, **args)\n",
    "    initTokens(datas, l, **args)\n",
    "    return alter_dict(state, age=args['age'], table=l)\n",
    "\n",
    "def initInventions(datas, l, inventions, **args):\n",
    "    for v in inventions:\n",
    "        inv = datas['invention_types'][v['type']]\n",
    "        d = map_dict(inv, 'cost', 'points', 'serienbr', _='name')\n",
    "        d.update(map_dict(v, 'id', 'type'))\n",
    "        d.update(tokens={}, cur=[0,0,0,0], players={}, cost=toarray(d['cost'])) \n",
    "        l[v['id']] = d\n",
    "\n",
    "def initTokens(datas, l, inventions_tokens, **args):\n",
    "    for v in inventions_tokens:\n",
    "        inv = datas['token_types'][v['type']]\n",
    "        d = map_dict(v, 'type', 'type_arg')\n",
    "        d.update(type_name = inv['type'])\n",
    "\n",
    "        l[v['location_arg']]['tokens'][v['id']] = d        \n",
    "        \n",
    "actions['startAge'] = startAge        \n",
    "#print_diff(startAge(game_state, **step['args']))"
   ]
  },
  {
   "cell_type": "code",
   "execution_count": null,
   "metadata": {},
   "outputs": [],
   "source": [
    "def get_invention(c, invention_id, **args):\n",
    "    return c['table'][invention_id]\n",
    "\n",
    "def get_inventor(c, inventor_no, **args):\n",
    "    return c['inventors'][inventor_no]\n",
    "\n",
    "def get_player(c, player_id, **args):\n",
    "    return c['players'][player_id]\n",
    "\n",
    "def pop_token(c, token_id, **args):\n",
    "    return c['tokens'].pop(token_id)\n",
    "\n",
    "def add_token(c, token_id, token, **args):\n",
    "    c['tokens'][token_id] = token\n",
    "    \n",
    "def set_skill(c, skill, value, **args):\n",
    "    c['skills'][int(skill)-1] = value    \n",
    "    \n",
    "def add_card(c, card, **args):\n",
    "    c['cards'][card] += 1        "
   ]
  }
 ],
 "metadata": {
  "kernelspec": {
   "display_name": "Python 3",
   "language": "python",
   "name": "python3"
  },
  "language_info": {
   "codemirror_mode": {
    "name": "ipython",
    "version": 3
   },
   "file_extension": ".py",
   "mimetype": "text/x-python",
   "name": "python",
   "nbconvert_exporter": "python",
   "pygments_lexer": "ipython3",
   "version": "3.6.6"
  }
 },
 "nbformat": 4,
 "nbformat_minor": 2
}
