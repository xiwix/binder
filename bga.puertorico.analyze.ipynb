{
 "cells": [
  {
   "cell_type": "markdown",
   "metadata": {},
   "source": [
    "## Init & utils"
   ]
  },
  {
   "cell_type": "code",
   "execution_count": null,
   "metadata": {},
   "outputs": [],
   "source": [
    "%%bash\n",
    "# tar -cvzf pr_4.tgz pr | wc -l\n",
    "# tar -cvzf pr_tables.tgz pr_tables*.json\n",
    "# tar -xvzf pr_tables.tgz\n",
    "# tar -xvzf pr_4.tgz | wc -l\n",
    "ls pr | wc -l"
   ]
  },
  {
   "cell_type": "code",
   "execution_count": null,
   "metadata": {},
   "outputs": [],
   "source": [
    "import collections\n",
    "import os\n",
    "\n",
    "from jsonpath_rw import jsonpath, parse\n",
    "import jsonpath_rw_ext as jsonp\n",
    "\n",
    "import pandas as pd\n",
    "from pandas.io.json import json_normalize\n",
    "\n",
    "import matplotlib.pyplot as plt"
   ]
  },
  {
   "cell_type": "code",
   "execution_count": null,
   "metadata": {},
   "outputs": [],
   "source": [
    "import json \n",
    "from json import JSONEncoder, JSONDecoder\n",
    "import pickle\n",
    "\n",
    "class PythonObjectEncoder(JSONEncoder):\n",
    "    def default(self, obj):\n",
    "        if isinstance(obj, (list, dict, str, unicode, int, float, bool, type(None))):\n",
    "            return JSONEncoder.default(self, obj)\n",
    "        return {'_python_object': pickle.dumps(obj)}\n",
    "\n",
    "def as_python_object(dct):\n",
    "    if '_python_object' in dct:\n",
    "        return pickle.loads(str(dct['_python_object']))\n",
    "    return dct\n",
    "\n",
    "def save_to_json_file(filename, content):\n",
    "    temp = json.dumps(content, cls=PythonObjectEncoder)\n",
    "    return save_to_file(filename, temp)\n",
    "\n",
    "def save_to_file(filename, content):\n",
    "    with open(filename, 'w') as file:\n",
    "        file.write(content)\n",
    "    return \"saved \" + filename    \n",
    "\n",
    "def load_from_json_file(file_name):\n",
    "    content = load_from_file(file_name)\n",
    "    return json.load(content, object_hook=as_python_object)\n",
    "\n",
    "def load_from_file(file_name):\n",
    "    return open(file_name)"
   ]
  },
  {
   "cell_type": "code",
   "execution_count": null,
   "metadata": {},
   "outputs": [],
   "source": [
    "import copy\n",
    "\n",
    "def inc_dict_val(d, k, v):\n",
    "    d[k] = int(d.get(k, 0)) + int(v)\n",
    "\n",
    "def alter_dict(D, **F):\n",
    "    result = copy.deepcopy(D)    \n",
    "    result.update(**F)\n",
    "    return result   \n",
    "\n",
    "def map_dict(src, *args, **kvargs):\n",
    "    dst = dict()\n",
    "    for v in args:\n",
    "        dst[v] = src[v]\n",
    "    for k,v in kvargs.items():\n",
    "        dst[k] = src[v]\n",
    "    return dst\n",
    "\n",
    "def remove_from_dict(d, key):\n",
    "    if key in d:\n",
    "        del d[key]"
   ]
  },
  {
   "cell_type": "markdown",
   "metadata": {},
   "source": [
    "## Printing"
   ]
  },
  {
   "cell_type": "code",
   "execution_count": null,
   "metadata": {},
   "outputs": [],
   "source": [
    "from pprint import pprint\n",
    "from IPython.display import JSON\n",
    "\n",
    "width = 180\n",
    "def print_line(char=' '):\n",
    "    print(char*width)"
   ]
  },
  {
   "cell_type": "code",
   "execution_count": null,
   "metadata": {},
   "outputs": [],
   "source": [
    "import re\n",
    "\n",
    "def print_log(log, consumer=print, **args):\n",
    "    if log:\n",
    "        params = {g:'' for g in re.findall('\\$\\{([^}]+)\\}', log)}\n",
    "        params.update(args)\n",
    "        consumer(log.replace('$', '').format(**params))"
   ]
  },
  {
   "cell_type": "code",
   "execution_count": null,
   "metadata": {},
   "outputs": [],
   "source": [
    "from jsondiff import diff\n",
    "\n",
    "def print_diff(old_dict, new_dict, consumer=print):     \n",
    "    consumer(get_diff(old_dict, new_dict))\n",
    "    \n",
    "def get_diff(old_dict, new_dict):     \n",
    "    return diff(old_dict, new_dict, syntax='symmetric')"
   ]
  },
  {
   "cell_type": "code",
   "execution_count": null,
   "metadata": {},
   "outputs": [],
   "source": [
    "points = [1, 5, 20, 100, 500, 1000]\n",
    "\n",
    "import sys\n",
    "import time\n",
    "\n",
    "def print_progress(i, timer_log=None, total=None):\n",
    "    if (i % points[0] == 0):\n",
    "        if i > 0 and (i % points[1] == 0):\n",
    "            sys.stdout.write(' ')\n",
    "            if (i % points[2] == 0):\n",
    "                sys.stdout.write('  ')\n",
    "                if (i % points[3] == 0):\n",
    "                    sys.stdout.write('\\n')\n",
    "                    if (i % points[4] == 0):\n",
    "                        sys.stdout.write('\\n')\n",
    "                        if total and (i % points[5] == 0):                            \n",
    "                            timer_log = print_stats(total, i, points[5], timer_log)\n",
    "        sys.stdout.write('.')\n",
    "        sys.stdout.flush()   \n",
    "        \n",
    "def print_stats(total, processed, bunch, last_time, **kwargs):\n",
    "    now = time.time()\n",
    "    speed = (now-last_time)/60.0/bunch\n",
    "    eta = speed*(total-processed)\n",
    "    print('speed: {speed:.1f} min/bunch, eta: {eta:.2f} min\\n'.format(speed = speed, eta = eta, **kwargs))\n",
    "    return now\n",
    "\n",
    "def with_progress(l, size=None):\n",
    "    for i,v in enumerate(l):\n",
    "        print_progress(i, time.time(), size)\n",
    "        yield v"
   ]
  },
  {
   "cell_type": "code",
   "execution_count": null,
   "metadata": {},
   "outputs": [],
   "source": [
    "from IPython.display import display_html\n",
    "def display_side_by_side(*args):\n",
    "    html_str=''\n",
    "    for df in args:\n",
    "        html_str+=df.to_html()\n",
    "    display_html(html_str.replace('table','table style=\"display:inline; padding-right: 100px;\"'),raw=True)"
   ]
  },
  {
   "cell_type": "markdown",
   "metadata": {},
   "source": [
    "## Analitical fn"
   ]
  },
  {
   "cell_type": "code",
   "execution_count": null,
   "metadata": {
    "collapsed": false
   },
   "outputs": [],
   "source": [
    "def collect_data(files, collector):\n",
    "    for f in files:\n",
    "        data = load_from_json_file(f)\n",
    "        yield collector(data)\n",
    "\n",
    "def flattern(data):\n",
    "    return [l2 for l1 in data for l2 in l1]\n",
    "\n",
    "def get_nodes(data, ptr):\n",
    "    return [match.value for match in jsonp.parse(ptr).find(data)]"
   ]
  },
  {
   "cell_type": "code",
   "execution_count": null,
   "metadata": {},
   "outputs": [],
   "source": [
    "def select_all(key):\n",
    "    return lambda data: jsonp.match(key, data)\n",
    "\n",
    "def select_one(key):\n",
    "    return lambda data: jsonp.match1(key, data)\n",
    "\n",
    "def contains(key, value):\n",
    "    return lambda data: jsonp.match1(key, data) == value\n",
    "\n",
    "def all_of(*filters):\n",
    "    def fn(data):\n",
    "        for f in filters:\n",
    "            if not f(data):\n",
    "                return False\n",
    "        return True  \n",
    "    return fn"
   ]
  },
  {
   "cell_type": "code",
   "execution_count": null,
   "metadata": {},
   "outputs": [],
   "source": [
    "def for_each(data, *funs):\n",
    "    for fun in funs:\n",
    "        data = fun(data)\n",
    "    return data"
   ]
  },
  {
   "cell_type": "markdown",
   "metadata": {},
   "source": [
    "## Analysis"
   ]
  },
  {
   "cell_type": "code",
   "execution_count": null,
   "metadata": {},
   "outputs": [],
   "source": [
    "from os import listdir\n",
    "from os.path import isfile, join\n",
    "\n",
    "game = 'pr'\n",
    "games = [join(game, f) for f in listdir(game) if f.endswith('.json')]\n",
    "len(games)"
   ]
  },
  {
   "cell_type": "raw",
   "metadata": {},
   "source": [
    "rmc = []\n",
    "for f in with_progress(games):\n",
    "    d = load_from_json_file(f)\n",
    "    if not d:\n",
    "        rmc.append(f)\n",
    "    elif not contains('$.info.result.endgame_reason', 'normal_end')(d):\n",
    "        rmc.append(f)\n",
    "    elif not all_of(\n",
    "        contains('$.\"100\".value', '0'),\n",
    "        contains('$.\"101\".value', '0'),\n",
    "        contains('$.\"102\".value', '0'),\n",
    "        contains('$.\"103\".value', '0')                       \n",
    "    )(d['info']['options']):\n",
    "        rmc.append(f)\n",
    "len(rmc)"
   ]
  },
  {
   "cell_type": "raw",
   "metadata": {},
   "source": [
    "for f in rmc:\n",
    "    os.remove(f)"
   ]
  },
  {
   "cell_type": "code",
   "execution_count": null,
   "metadata": {},
   "outputs": [],
   "source": [
    "games.sort()\n",
    "datas = [load_from_json_file(f) for f in with_progress(games[(len(games) % 100):])]"
   ]
  },
  {
   "cell_type": "markdown",
   "metadata": {},
   "source": [
    "\n",
    "# ACTIVE DEVELOPMENT ZONE\n"
   ]
  },
  {
   "cell_type": "code",
   "execution_count": null,
   "metadata": {},
   "outputs": [],
   "source": [
    "def steps(log):\n",
    "    for move_id, move in enumerate(log):\n",
    "        for sub_move_id, sub_move in enumerate(move['data']):\n",
    "            yield sub_move"
   ]
  },
  {
   "cell_type": "code",
   "execution_count": null,
   "metadata": {},
   "outputs": [],
   "source": [
    "stats = for_each(datas,\n",
    "                 select_all('$[*].log.data.data.data'),\n",
    "                 select_all('$[*][*].data[?(@.type == \"gameStateChange\" & @.args.action == \"stGameEnd\")].args.args')\n",
    "                )"
   ]
  },
  {
   "cell_type": "code",
   "execution_count": null,
   "metadata": {},
   "outputs": [],
   "source": [
    "for i,t in enumerate(datas):\n",
    "    stats[i]['table_id'] = t['table'] "
   ]
  },
  {
   "cell_type": "code",
   "execution_count": null,
   "metadata": {},
   "outputs": [],
   "source": [
    "stats = sorted(stats, key=lambda g: int(g['table']['stats']['2']), reverse=True)"
   ]
  },
  {
   "cell_type": "code",
   "execution_count": 43,
   "metadata": {},
   "outputs": [
    {
     "data": {
      "text/html": [
       "<div>\n",
       "<style scoped>\n",
       "    .dataframe tbody tr th:only-of-type {\n",
       "        vertical-align: middle;\n",
       "    }\n",
       "\n",
       "    .dataframe tbody tr th {\n",
       "        vertical-align: top;\n",
       "    }\n",
       "\n",
       "    .dataframe thead th {\n",
       "        text-align: right;\n",
       "    }\n",
       "</style>\n",
       "<table border=\"1\" class=\"dataframe\">\n",
       "  <thead>\n",
       "    <tr style=\"text-align: right;\">\n",
       "      <th></th>\n",
       "      <th>result</th>\n",
       "      <th>table.concede</th>\n",
       "      <th>table.disagreement</th>\n",
       "      <th>table.neutralized</th>\n",
       "      <th>table.stats.1</th>\n",
       "      <th>table.stats.10</th>\n",
       "      <th>table.stats.11</th>\n",
       "      <th>table.stats.12</th>\n",
       "      <th>table.stats.13</th>\n",
       "      <th>table.stats.14</th>\n",
       "      <th>table.stats.15</th>\n",
       "      <th>table.stats.16</th>\n",
       "      <th>table.stats.2</th>\n",
       "      <th>table.stats.3</th>\n",
       "      <th>table.stats.4</th>\n",
       "      <th>table_id</th>\n",
       "    </tr>\n",
       "  </thead>\n",
       "  <tbody>\n",
       "    <tr>\n",
       "      <th>0</th>\n",
       "      <td>[{'name': 'kostra', 'color': 'ffa500', 'score'...</td>\n",
       "      <td>False</td>\n",
       "      <td>False</td>\n",
       "      <td>0</td>\n",
       "      <td>4</td>\n",
       "      <td>0</td>\n",
       "      <td>7</td>\n",
       "      <td>75</td>\n",
       "      <td>16</td>\n",
       "      <td>0</td>\n",
       "      <td>14</td>\n",
       "      <td>0</td>\n",
       "      <td>58.0</td>\n",
       "      <td>66</td>\n",
       "      <td>NaN</td>\n",
       "      <td>44160632</td>\n",
       "    </tr>\n",
       "    <tr>\n",
       "      <th>1</th>\n",
       "      <td>[{'name': 'Krunch', 'color': '008000', 'score'...</td>\n",
       "      <td>False</td>\n",
       "      <td>False</td>\n",
       "      <td>0</td>\n",
       "      <td>4</td>\n",
       "      <td>0</td>\n",
       "      <td>11</td>\n",
       "      <td>68</td>\n",
       "      <td>24</td>\n",
       "      <td>1</td>\n",
       "      <td>14</td>\n",
       "      <td>0</td>\n",
       "      <td>56.5</td>\n",
       "      <td>72</td>\n",
       "      <td>NaN</td>\n",
       "      <td>44124319</td>\n",
       "    </tr>\n",
       "    <tr>\n",
       "      <th>2</th>\n",
       "      <td>[{'name': 'solan 1', 'color': '008000', 'score...</td>\n",
       "      <td>False</td>\n",
       "      <td>False</td>\n",
       "      <td>0</td>\n",
       "      <td>4</td>\n",
       "      <td>0</td>\n",
       "      <td>0</td>\n",
       "      <td>62</td>\n",
       "      <td>14</td>\n",
       "      <td>2</td>\n",
       "      <td>13</td>\n",
       "      <td>0</td>\n",
       "      <td>56.0</td>\n",
       "      <td>59</td>\n",
       "      <td>NaN</td>\n",
       "      <td>44263507</td>\n",
       "    </tr>\n",
       "  </tbody>\n",
       "</table>\n",
       "</div>"
      ],
      "text/plain": [
       "                                              result  table.concede  \\\n",
       "0  [{'name': 'kostra', 'color': 'ffa500', 'score'...          False   \n",
       "1  [{'name': 'Krunch', 'color': '008000', 'score'...          False   \n",
       "2  [{'name': 'solan 1', 'color': '008000', 'score...          False   \n",
       "\n",
       "   table.disagreement table.neutralized  table.stats.1 table.stats.10  \\\n",
       "0               False                 0              4              0   \n",
       "1               False                 0              4              0   \n",
       "2               False                 0              4              0   \n",
       "\n",
       "  table.stats.11 table.stats.12 table.stats.13 table.stats.14 table.stats.15  \\\n",
       "0              7             75             16              0             14   \n",
       "1             11             68             24              1             14   \n",
       "2              0             62             14              2             13   \n",
       "\n",
       "  table.stats.16  table.stats.2 table.stats.3 table.stats.4  table_id  \n",
       "0              0           58.0            66           NaN  44160632  \n",
       "1              0           56.5            72           NaN  44124319  \n",
       "2              0           56.0            59           NaN  44263507  "
      ]
     },
     "execution_count": 43,
     "metadata": {},
     "output_type": "execute_result"
    }
   ],
   "source": [
    "df_table = json_normalize(data=stats)\n",
    "df_table.head(3)"
   ]
  },
  {
   "cell_type": "code",
   "execution_count": 46,
   "metadata": {},
   "outputs": [
    {
     "data": {
      "text/html": [
       "<div>\n",
       "<style scoped>\n",
       "    .dataframe tbody tr th:only-of-type {\n",
       "        vertical-align: middle;\n",
       "    }\n",
       "\n",
       "    .dataframe tbody tr th {\n",
       "        vertical-align: top;\n",
       "    }\n",
       "\n",
       "    .dataframe thead th {\n",
       "        text-align: right;\n",
       "    }\n",
       "</style>\n",
       "<table border=\"1\" class=\"dataframe\">\n",
       "  <thead>\n",
       "    <tr style=\"text-align: right;\">\n",
       "      <th></th>\n",
       "      <th>color</th>\n",
       "      <th>color_back</th>\n",
       "      <th>concede</th>\n",
       "      <th>name</th>\n",
       "      <th>player</th>\n",
       "      <th>rank</th>\n",
       "      <th>score</th>\n",
       "      <th>score_aux</th>\n",
       "      <th>stats</th>\n",
       "      <th>tie</th>\n",
       "      <th>zombie</th>\n",
       "      <th>table_id</th>\n",
       "    </tr>\n",
       "  </thead>\n",
       "  <tbody>\n",
       "    <tr>\n",
       "      <th>0</th>\n",
       "      <td>ffa500</td>\n",
       "      <td>None</td>\n",
       "      <td>0</td>\n",
       "      <td>kostra</td>\n",
       "      <td>5770116</td>\n",
       "      <td>1</td>\n",
       "      <td>66</td>\n",
       "      <td>7</td>\n",
       "      <td>{'1': '11.5333', '10': '29', '11': '24', '12':...</td>\n",
       "      <td>False</td>\n",
       "      <td>0</td>\n",
       "      <td>44160632</td>\n",
       "    </tr>\n",
       "    <tr>\n",
       "      <th>1</th>\n",
       "      <td>0000ff</td>\n",
       "      <td>None</td>\n",
       "      <td>0</td>\n",
       "      <td>kanchoh</td>\n",
       "      <td>57797129</td>\n",
       "      <td>2</td>\n",
       "      <td>60</td>\n",
       "      <td>0</td>\n",
       "      <td>{'1': '15.7', '10': '33', '11': '20', '12': 7,...</td>\n",
       "      <td>False</td>\n",
       "      <td>0</td>\n",
       "      <td>44160632</td>\n",
       "    </tr>\n",
       "    <tr>\n",
       "      <th>2</th>\n",
       "      <td>008000</td>\n",
       "      <td>None</td>\n",
       "      <td>0</td>\n",
       "      <td>captgroggy</td>\n",
       "      <td>84692900</td>\n",
       "      <td>3</td>\n",
       "      <td>59</td>\n",
       "      <td>4</td>\n",
       "      <td>{'1': '24.2833', '10': '34', '11': '20', '12':...</td>\n",
       "      <td>False</td>\n",
       "      <td>0</td>\n",
       "      <td>44160632</td>\n",
       "    </tr>\n",
       "  </tbody>\n",
       "</table>\n",
       "</div>"
      ],
      "text/plain": [
       "    color color_back  concede        name    player  rank score score_aux  \\\n",
       "0  ffa500       None        0      kostra   5770116     1    66         7   \n",
       "1  0000ff       None        0     kanchoh  57797129     2    60         0   \n",
       "2  008000       None        0  captgroggy  84692900     3    59         4   \n",
       "\n",
       "                                               stats    tie  zombie  table_id  \n",
       "0  {'1': '11.5333', '10': '29', '11': '24', '12':...  False       0  44160632  \n",
       "1  {'1': '15.7', '10': '33', '11': '20', '12': 7,...  False       0  44160632  \n",
       "2  {'1': '24.2833', '10': '34', '11': '20', '12':...  False       0  44160632  "
      ]
     },
     "execution_count": 46,
     "metadata": {},
     "output_type": "execute_result"
    }
   ],
   "source": [
    "df_player = json_normalize(data=stats, record_path=['result'], meta='table_id', )\n",
    "df_player.head(3)"
   ]
  },
  {
   "cell_type": "code",
   "execution_count": null,
   "metadata": {},
   "outputs": [],
   "source": [
    "df_player1 = json_normalize(data=stats, record_path=['result'], meta='table_id', )\n",
    "df_player1.head(30)"
   ]
  },
  {
   "cell_type": "code",
   "execution_count": 34,
   "metadata": {},
   "outputs": [
    {
     "data": {
      "text/plain": [
       "{'1': '14.65',\n",
       " '10': '21',\n",
       " '11': '23',\n",
       " '12': 14,\n",
       " '13': '0',\n",
       " '14': '1',\n",
       " '15': '18',\n",
       " '16': '9',\n",
       " '17': '1',\n",
       " '18': '7',\n",
       " '19': '2'}"
      ]
     },
     "execution_count": 34,
     "metadata": {},
     "output_type": "execute_result"
    }
   ],
   "source": [
    "stats[3]['result'][1]['stats']"
   ]
  },
  {
   "cell_type": "code",
   "execution_count": null,
   "metadata": {},
   "outputs": [],
   "source": [
    "game_log = datas[1]['log']['data']['data']['data']\n",
    "res = game_log[-1]['data'][-2]['args']['args']\n",
    "pprint(res, width=width)"
   ]
  },
  {
   "cell_type": "code",
   "execution_count": null,
   "metadata": {},
   "outputs": [],
   "source": [
    "d = [[\n",
    "    int(p['rank']),\n",
    "    int(p['stats']['10']),\n",
    "    int(p['stats']['11']),     \n",
    "    int(p['stats']['12'])    \n",
    "] for game in stats for p in game['result']]\n",
    "d = list(zip(*d))"
   ]
  },
  {
   "cell_type": "code",
   "execution_count": 33,
   "metadata": {},
   "outputs": [
    {
     "data": {
      "image/png": "[encoded data removed]",
      "text/plain": [
       "<Figure size 432x288 with 1 Axes>"
      ]
     },
     "metadata": {
      "needs_background": "light"
     },
     "output_type": "display_data"
    }
   ],
   "source": [
    "fig, ax = plt.subplots()\n",
    "ax.scatter(d[1], d[2], c=d[0], alpha=0.5)\n",
    "ax.grid(True)\n",
    "plt.show()"
   ]
  },
  {
   "cell_type": "code",
   "execution_count": 23,
   "metadata": {},
   "outputs": [
    {
     "data": {
      "text/plain": [
       "<module 'matplotlib.pyplot' from '/srv/conda/lib/python3.6/site-packages/matplotlib/pyplot.py'>"
      ]
     },
     "execution_count": 23,
     "metadata": {},
     "output_type": "execute_result"
    },
    {
     "data": {
      "image/png": "[encoded data removed]",
      "text/plain": [
       "<Figure size 432x288 with 1 Axes>"
      ]
     },
     "metadata": {
      "needs_background": "light"
     },
     "output_type": "display_data"
    },
    {
     "data": {
      "text/plain": [
       "<Figure size 720x720 with 0 Axes>"
      ]
     },
     "metadata": {},
     "output_type": "display_data"
    }
   ],
   "source": [
    "br = 40\n",
    "plt.plot(\n",
    "    [int(p['result'][3]['stats']['10']) for p in stats], [int(p['result'][3]['stats']['11']) for p in stats], 'yx',\n",
    "    [int(p['result'][2]['stats']['10']) for p in stats], [int(p['result'][2]['stats']['11']) for p in stats], 'gx',\n",
    "    [int(p['result'][1]['stats']['10']) for p in stats], [int(p['result'][1]['stats']['11']) for p in stats], 'bx',\n",
    "    [int(p['result'][0]['stats']['10']) for p in stats], [int(p['result'][0]['stats']['11']) for p in stats], 'rx',\n",
    "    [br-5, br-30], [5, 30]\n",
    ")\n",
    "# plt.axis([0, 52,0, 30])\n",
    "plt.figure(figsize=(10,10))\n",
    "plt.show()"
   ]
  },
  {
   "cell_type": "code",
   "execution_count": 97,
   "metadata": {},
   "outputs": [
    {
     "data": {
      "text/plain": [
       "<BarContainer object of 33 artists>"
      ]
     },
     "execution_count": 97,
     "metadata": {},
     "output_type": "execute_result"
    },
    {
     "data": {
      "image/png": "[encoded data removed]",
      "text/plain": [
       "<Figure size 432x288 with 1 Axes>"
      ]
     },
     "metadata": {
      "needs_background": "light"
     },
     "output_type": "display_data"
    }
   ],
   "source": [
    "avg = [int(p['table']['stats']['2']) for p in stats]\n",
    "count = collections.Counter(avg)\n",
    "plt.bar([x for x in count.keys()], [x for x in count.values()])"
   ]
  },
  {
   "cell_type": "code",
   "execution_count": 69,
   "metadata": {},
   "outputs": [
    {
     "data": {
      "text/html": [
       "<table style=\"display:inline; padding-right: 100px;\" border=\"1\" class=\"dataframe\">\n",
       "  <thead>\n",
       "    <tr style=\"text-align: right;\">\n",
       "      <th></th>\n",
       "      <th>name</th>\n",
       "      <th>83864705</th>\n",
       "      <th>83914097</th>\n",
       "      <th>1019711</th>\n",
       "      <th>84006291</th>\n",
       "    </tr>\n",
       "  </thead>\n",
       "  <tbody>\n",
       "    <tr>\n",
       "      <th>1</th>\n",
       "      <td>Thinking time</td>\n",
       "      <td>20216.4</td>\n",
       "      <td>22930</td>\n",
       "      <td>13674.8</td>\n",
       "      <td>29593.3</td>\n",
       "    </tr>\n",
       "    <tr>\n",
       "      <th>10</th>\n",
       "      <td>VPs earned by shipping</td>\n",
       "      <td>33</td>\n",
       "      <td>37</td>\n",
       "      <td>18</td>\n",
       "      <td>19</td>\n",
       "    </tr>\n",
       "    <tr>\n",
       "      <th>11</th>\n",
       "      <td>VPs earned by building</td>\n",
       "      <td>20</td>\n",
       "      <td>16</td>\n",
       "      <td>19</td>\n",
       "      <td>17</td>\n",
       "    </tr>\n",
       "    <tr>\n",
       "      <th>12</th>\n",
       "      <td>VPs earned from large buildings</td>\n",
       "      <td>8</td>\n",
       "      <td>6</td>\n",
       "      <td>12</td>\n",
       "      <td>7</td>\n",
       "    </tr>\n",
       "    <tr>\n",
       "      <th>13</th>\n",
       "      <td>Doubloons owned at game end</td>\n",
       "      <td>2</td>\n",
       "      <td>3</td>\n",
       "      <td>4</td>\n",
       "      <td>3</td>\n",
       "    </tr>\n",
       "    <tr>\n",
       "      <th>14</th>\n",
       "      <td>Good barrels owned at game end</td>\n",
       "      <td>5</td>\n",
       "      <td>1</td>\n",
       "      <td>1</td>\n",
       "      <td>0</td>\n",
       "    </tr>\n",
       "    <tr>\n",
       "      <th>15</th>\n",
       "      <td>Colonists</td>\n",
       "      <td>15</td>\n",
       "      <td>15</td>\n",
       "      <td>16</td>\n",
       "      <td>15</td>\n",
       "    </tr>\n",
       "    <tr>\n",
       "      <th>16</th>\n",
       "      <td>Plantations</td>\n",
       "      <td>9</td>\n",
       "      <td>9</td>\n",
       "      <td>7</td>\n",
       "      <td>11</td>\n",
       "    </tr>\n",
       "    <tr>\n",
       "      <th>17</th>\n",
       "      <td>Quarries</td>\n",
       "      <td>1</td>\n",
       "      <td>1</td>\n",
       "      <td>3</td>\n",
       "      <td>1</td>\n",
       "    </tr>\n",
       "    <tr>\n",
       "      <th>18</th>\n",
       "      <td>Small buildings</td>\n",
       "      <td>7</td>\n",
       "      <td>6</td>\n",
       "      <td>6</td>\n",
       "      <td>6</td>\n",
       "    </tr>\n",
       "    <tr>\n",
       "      <th>19</th>\n",
       "      <td>Large buildings</td>\n",
       "      <td>1</td>\n",
       "      <td>1</td>\n",
       "      <td>2</td>\n",
       "      <td>1</td>\n",
       "    </tr>\n",
       "  </tbody>\n",
       "</table style=\"display:inline; padding-right: 100px;\"><table style=\"display:inline; padding-right: 100px;\" border=\"1\" class=\"dataframe\">\n",
       "  <thead>\n",
       "    <tr style=\"text-align: right;\">\n",
       "      <th></th>\n",
       "      <th>0</th>\n",
       "      <th>1</th>\n",
       "    </tr>\n",
       "  </thead>\n",
       "  <tbody>\n",
       "    <tr>\n",
       "      <th>1</th>\n",
       "      <td>_</td>\n",
       "      <td>4</td>\n",
       "    </tr>\n",
       "    <tr>\n",
       "      <th>10</th>\n",
       "      <td>Unclaimed victory points</td>\n",
       "      <td>0</td>\n",
       "    </tr>\n",
       "    <tr>\n",
       "      <th>11</th>\n",
       "      <td>Unclaimed colonists</td>\n",
       "      <td>18</td>\n",
       "    </tr>\n",
       "    <tr>\n",
       "      <th>12</th>\n",
       "      <td>Doubloons in the bank</td>\n",
       "      <td>74</td>\n",
       "    </tr>\n",
       "    <tr>\n",
       "      <th>13</th>\n",
       "      <td>Unclaimed plantations</td>\n",
       "      <td>14</td>\n",
       "    </tr>\n",
       "    <tr>\n",
       "      <th>14</th>\n",
       "      <td>Unclaimed quarries</td>\n",
       "      <td>2</td>\n",
       "    </tr>\n",
       "    <tr>\n",
       "      <th>15</th>\n",
       "      <td>Unclaimed small buildings</td>\n",
       "      <td>19</td>\n",
       "    </tr>\n",
       "    <tr>\n",
       "      <th>16</th>\n",
       "      <td>Unclaimed large buildings</td>\n",
       "      <td>0</td>\n",
       "    </tr>\n",
       "    <tr>\n",
       "      <th>2</th>\n",
       "      <td>Average score</td>\n",
       "      <td>53</td>\n",
       "    </tr>\n",
       "    <tr>\n",
       "      <th>3</th>\n",
       "      <td>Players average level</td>\n",
       "      <td>61</td>\n",
       "    </tr>\n",
       "    <tr>\n",
       "      <th>4</th>\n",
       "      <td>Game duration</td>\n",
       "      <td>182</td>\n",
       "    </tr>\n",
       "  </tbody>\n",
       "</table style=\"display:inline; padding-right: 100px;\">"
      ]
     },
     "metadata": {},
     "output_type": "display_data"
    }
   ],
   "source": [
    "table_stats = {\n",
    "     '1': '_',\n",
    "     '4': 'Game duration',\n",
    "     '3': 'Players average level',\n",
    "     '2': 'Average score',\n",
    "    '10': 'Unclaimed victory points',\n",
    "    '11': 'Unclaimed colonists',\n",
    "    '12': 'Doubloons in the bank',\n",
    "    '13': 'Unclaimed plantations',\n",
    "    '14': 'Unclaimed quarries',\n",
    "    '15': 'Unclaimed small buildings',\n",
    "    '16': 'Unclaimed large buildings'}\n",
    "\n",
    "player_stats = {\n",
    "     '1': 'Thinking time',\n",
    "    '10': 'VPs earned by shipping',\n",
    "    '11': 'VPs earned by building',\n",
    "    '12': 'VPs earned from large buildings',\n",
    "    '13': 'Doubloons owned at game end',\n",
    "    '14': 'Good barrels owned at game end',\n",
    "    '15': 'Colonists',\n",
    "    '16': 'Plantations',\n",
    "    '17': 'Quarries',\n",
    "    '18': 'Small buildings',\n",
    "    '19': 'Large buildings'}\n",
    "\n",
    "tdf = pd.DataFrame([table_stats, res['table']['stats']]).T\n",
    "pdf = pd.DataFrame(\n",
    "    data  = [player_stats] + [x['stats']  for x in res['result']], \n",
    "    index =       ['name'] + [x['player'] for x in res['result']]\n",
    ").T\n",
    "\n",
    "display_side_by_side(pdf, tdf)"
   ]
  },
  {
   "cell_type": "code",
   "execution_count": null,
   "metadata": {},
   "outputs": [],
   "source": [
    "group = ['scoreShippingPoints', 'scoreConditionalPoints', 'scoreEndPoints', 'buildingBought']\n",
    "selected = [s for s in steps(game_log) if s['type'] in group]\n",
    "argsByType = lambda t: [s['args'] for s in selected if s['type'] == t]\n",
    "\n",
    "buildings = {s['bld_id']: {\n",
    "    'player_id': s['player_id'], \n",
    "    'building': s['bld_type_tr'],\n",
    "    'score': int(s['score_delta'])\n",
    "} for s in argsByType('buildingBought')}\n",
    "\n",
    "buildings_score = {}\n",
    "for b in buildings.values():\n",
    "    buildings_score.setdefault(b['player_id'], 0)\n",
    "    buildings_score[b['player_id']] += b['score']\n",
    "\n",
    "JSON({\n",
    "    'shipping'   : {s['player_id']: int(s['score_delta']) for s in argsByType('scoreShippingPoints')},\n",
    "    'conditional': {s['building_name']: {\n",
    "        s['player_id']: int(s['score_delta'])\n",
    "    } for s in argsByType('scoreConditionalPoints')},\n",
    "    'endScore'   : {s['player_id']: int(s['score_delta']) for s in argsByType('scoreEndPoints')},\n",
    "    'buildings_s': buildings_score,\n",
    "    'buildings'  : buildings\n",
    "}, width=width)"
   ]
  },
  {
   "cell_type": "code",
   "execution_count": null,
   "metadata": {},
   "outputs": [],
   "source": [
    "flat = [s for s in steps(game_log) if s['type'] not in ['gameStateChange', 'message', 'updateReflexionTime']]\n",
    "c = collections.Counter([s['type'] for s in flat])\n",
    "c.most_common(20)"
   ]
  },
  {
   "cell_type": "raw",
   "metadata": {},
   "source": [
    "get = lambda l, x: l[int(x)] if isinstance(l, list) else l[x]\n",
    "\n",
    "for o in ['100', '101', '102', '103']:\n",
    "    l = list(map(lambda v: get(v['values'], v['value'])['name'], map(lambda v: v['info']['options'][o], datas)))\n",
    "\n",
    "    c = collections.Counter(l)\n",
    "    print(o, datas[0]['info']['options'][o]['name'], c.most_common(20))"
   ]
  },
  {
   "cell_type": "code",
   "execution_count": null,
   "metadata": {},
   "outputs": [],
   "source": [
    "# pprint(stats[7], width=width)"
   ]
  }
 ],
 "metadata": {
  "kernelspec": {
   "display_name": "Python 3",
   "language": "python",
   "name": "python3"
  },
  "language_info": {
   "codemirror_mode": {
    "name": "ipython",
    "version": 3
   },
   "file_extension": ".py",
   "mimetype": "text/x-python",
   "name": "python",
   "nbconvert_exporter": "python",
   "pygments_lexer": "ipython3",
   "version": "3.6.6"
  }
 },
 "nbformat": 4,
 "nbformat_minor": 2
}
