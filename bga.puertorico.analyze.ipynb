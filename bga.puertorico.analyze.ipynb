{
 "cells": [
  {
   "cell_type": "markdown",
   "metadata": {},
   "source": [
    "## Init & utils"
   ]
  },
  {
   "cell_type": "code",
   "execution_count": null,
   "metadata": {},
   "outputs": [],
   "source": [
    "%%bash\n",
    "# tar -cvzf pr_4.tgz pr | wc -l\n",
    "tar -cvzf pr_tables_filtered.tgz pr_tables_filtered.json\n",
    "# tar -cvzf pr_tables.tgz pr_tables.json\n",
    "# tar -xvzf pr_tables.tgz\n",
    "# tar -xvzf pr_4.tgz | wc -l"
   ]
  },
  {
   "cell_type": "code",
   "execution_count": null,
   "metadata": {},
   "outputs": [],
   "source": [
    "%ls pr | wc -l"
   ]
  },
  {
   "cell_type": "code",
   "execution_count": null,
   "metadata": {},
   "outputs": [],
   "source": [
    "from jsonpath_rw import jsonpath, parse\n",
    "import jsonpath_rw_ext as jsonp\n",
    "import collections\n",
    "import os"
   ]
  },
  {
   "cell_type": "code",
   "execution_count": null,
   "metadata": {},
   "outputs": [],
   "source": [
    "import json \n",
    "from json import JSONEncoder, JSONDecoder\n",
    "import pickle\n",
    "\n",
    "class PythonObjectEncoder(JSONEncoder):\n",
    "    def default(self, obj):\n",
    "        if isinstance(obj, (list, dict, str, unicode, int, float, bool, type(None))):\n",
    "            return JSONEncoder.default(self, obj)\n",
    "        return {'_python_object': pickle.dumps(obj)}\n",
    "\n",
    "def as_python_object(dct):\n",
    "    if '_python_object' in dct:\n",
    "        return pickle.loads(str(dct['_python_object']))\n",
    "    return dct\n",
    "\n",
    "def save_to_json_file(filename, content):\n",
    "    temp = json.dumps(content, cls=PythonObjectEncoder)\n",
    "    return save_to_file(filename, temp)\n",
    "\n",
    "def save_to_file(filename, content):\n",
    "    with open(filename, 'w') as file:\n",
    "        file.write(content)\n",
    "    return \"saved \" + filename    \n",
    "\n",
    "def load_from_json_file(file_name):\n",
    "    content = load_from_file(file_name)\n",
    "    return json.load(content, object_hook=as_python_object)\n",
    "\n",
    "def load_from_file(file_name):\n",
    "    return open(file_name)"
   ]
  },
  {
   "cell_type": "code",
   "execution_count": null,
   "metadata": {},
   "outputs": [],
   "source": [
    "import copy\n",
    "\n",
    "def inc_dict_val(d, k, v):\n",
    "    d[k] = int(d.get(k, 0)) + int(v)\n",
    "\n",
    "def alter_dict(D, **F):\n",
    "    result = copy.deepcopy(D)    \n",
    "    result.update(**F)\n",
    "    return result   \n",
    "\n",
    "def map_dict(src, *args, **kvargs):\n",
    "    dst = dict()\n",
    "    for v in args:\n",
    "        dst[v] = src[v]\n",
    "    for k,v in kvargs.items():\n",
    "        dst[k] = src[v]\n",
    "    return dst\n",
    "\n",
    "def remove_from_dict(d, key):\n",
    "    if key in d:\n",
    "        del d[key]"
   ]
  },
  {
   "cell_type": "markdown",
   "metadata": {},
   "source": [
    "## Printing"
   ]
  },
  {
   "cell_type": "code",
   "execution_count": null,
   "metadata": {},
   "outputs": [],
   "source": [
    "from pprint import pprint\n",
    "from IPython.display import JSON\n",
    "\n",
    "width = 180\n",
    "def print_line(char=' '):\n",
    "    print(char*width)"
   ]
  },
  {
   "cell_type": "code",
   "execution_count": null,
   "metadata": {},
   "outputs": [],
   "source": [
    "import re\n",
    "\n",
    "def print_log(log, consumer=print, **args):\n",
    "    if log:\n",
    "        params = {g:'' for g in re.findall('\\$\\{([^}]+)\\}', log)}\n",
    "        params.update(args)\n",
    "        consumer(log.replace('$', '').format(**params))"
   ]
  },
  {
   "cell_type": "code",
   "execution_count": null,
   "metadata": {},
   "outputs": [],
   "source": [
    "from jsondiff import diff\n",
    "\n",
    "def print_diff(old_dict, new_dict, consumer=print):     \n",
    "    consumer(get_diff(old_dict, new_dict))\n",
    "    \n",
    "def get_diff(old_dict, new_dict):     \n",
    "    return diff(old_dict, new_dict, syntax='symmetric')"
   ]
  },
  {
   "cell_type": "code",
   "execution_count": null,
   "metadata": {},
   "outputs": [],
   "source": [
    "points = [1, 5, 20, 100, 500, 1000]\n",
    "\n",
    "import sys\n",
    "import time\n",
    "\n",
    "def print_progress(i, timer_log=None, total=None):\n",
    "    if (i % points[0] == 0):\n",
    "        if i > 0 and (i % points[1] == 0):\n",
    "            sys.stdout.write(' ')\n",
    "            if (i % points[2] == 0):\n",
    "                sys.stdout.write('  ')\n",
    "                if (i % points[3] == 0):\n",
    "                    sys.stdout.write('\\n')\n",
    "                    if (i % points[4] == 0):\n",
    "                        sys.stdout.write('\\n')\n",
    "                        if total and (i % points[5] == 0):                            \n",
    "                            timer_log = print_stats(total, i, points[5], timer_log)\n",
    "        sys.stdout.write('.')\n",
    "        sys.stdout.flush()   \n",
    "        \n",
    "def print_stats(total, processed, bunch, last_time, **kwargs):\n",
    "    now = time.time()\n",
    "    speed = (now-last_time)/60.0/bunch\n",
    "    eta = speed*(total-processed)\n",
    "    print('speed: {speed:.1f} min/bunch, eta: {eta:.2f} min\\n'.format(speed = speed, eta = eta, **kwargs))\n",
    "    return now\n",
    "\n",
    "def with_progress(l, size=None):\n",
    "    for i,v in enumerate(l):\n",
    "        print_progress(i, time.time(), size)\n",
    "        yield v"
   ]
  },
  {
   "cell_type": "markdown",
   "metadata": {},
   "source": [
    "## Analitical fn"
   ]
  },
  {
   "cell_type": "code",
   "execution_count": null,
   "metadata": {
    "collapsed": false
   },
   "outputs": [],
   "source": [
    "def collect_data(files, collector):\n",
    "    for f in files:\n",
    "        data = load_from_json_file(f)\n",
    "        yield collector(data)\n",
    "\n",
    "def flattern(data):\n",
    "    return [l2 for l1 in data for l2 in l1]\n",
    "\n",
    "def get_nodes(data, ptr):\n",
    "    return [match.value for match in jsonp.parse(ptr).find(data)]"
   ]
  },
  {
   "cell_type": "code",
   "execution_count": null,
   "metadata": {},
   "outputs": [],
   "source": [
    "def select_all(key):\n",
    "    return lambda data: jsonp.match(key, data)\n",
    "\n",
    "def select_one(key):\n",
    "    return lambda data: jsonp.match1(key, data)\n",
    "\n",
    "def contains(key, value):\n",
    "    return lambda data: jsonp.match1(key, data) == value\n",
    "\n",
    "def all_of(*filters):\n",
    "    def fn(data):\n",
    "        for f in filters:\n",
    "            if not f(data):\n",
    "                return False\n",
    "        return True  \n",
    "    return fn"
   ]
  },
  {
   "cell_type": "markdown",
   "metadata": {},
   "source": [
    "## Analysis"
   ]
  },
  {
   "cell_type": "code",
   "execution_count": null,
   "metadata": {},
   "outputs": [],
   "source": [
    "from os import listdir\n",
    "from os.path import isfile, join\n",
    "\n",
    "game = 'pr'\n",
    "games = [join(game, f) for f in listdir(game) if f.endswith('.json')]\n",
    "len(games)"
   ]
  },
  {
   "cell_type": "raw",
   "metadata": {},
   "source": [
    "rmc = []\n",
    "for f in with_progress(games):\n",
    "    d = load_from_json_file(f)\n",
    "    if not d:\n",
    "        rmc.append(f)\n",
    "    elif not contains('$.info.result.endgame_reason', 'normal_end')(d):\n",
    "        rmc.append(f)\n",
    "    elif not all_of(\n",
    "        contains('$.\"100\".value', '0'),\n",
    "        contains('$.\"101\".value', '0'),\n",
    "        contains('$.\"102\".value', '0'),\n",
    "        contains('$.\"103\".value', '0')                       \n",
    "    )(d['info']['options']):\n",
    "        rmc.append(f)\n",
    "len(rmc)"
   ]
  },
  {
   "cell_type": "raw",
   "metadata": {},
   "source": [
    "for f in rmc:\n",
    "    os.remove(f)"
   ]
  },
  {
   "cell_type": "code",
   "execution_count": null,
   "metadata": {},
   "outputs": [],
   "source": [
    "games.sort()\n",
    "infos = flattern(collect_data(with_progress(games[(len(games) % 100):]), select_all('$.info')))\n",
    "# JSON(infos[:5])"
   ]
  },
  {
   "cell_type": "code",
   "execution_count": null,
   "metadata": {},
   "outputs": [],
   "source": [
    "get = lambda l, x: l[int(x)] if isinstance(l, list) else l[x]\n",
    "\n",
    "for o in ['100', '101', '102', '103']:\n",
    "    l = list(map(lambda v: get(v['values'], v['value'])['name'], map(lambda v: v[o], fi)))\n",
    "\n",
    "    c = collections.Counter(l)\n",
    "    print(o, opts[0][o]['name'], c.most_common(20))"
   ]
  },
  {
   "cell_type": "code",
   "execution_count": null,
   "metadata": {},
   "outputs": [],
   "source": [
    "import pandas as pd"
   ]
  },
  {
   "cell_type": "code",
   "execution_count": null,
   "metadata": {},
   "outputs": [],
   "source": [
    "def show_factories(data, **kvargs):\n",
    "    '$.result.player' []\n",
    "    data = player['buildings']['factories']\n",
    "    return pd.DataFrame(data, columns=good_types, index=['workers', 'jobs']).fillna(0).astype(str).apply(' / '.join)\n"
   ]
  },
  {
   "cell_type": "markdown",
   "metadata": {},
   "source": [
    "## Generic bga functions"
   ]
  },
  {
   "cell_type": "code",
   "execution_count": null,
   "metadata": {},
   "outputs": [],
   "source": [
    "def load_game(fn):\n",
    "    return load_from_json_file(fn)['data']['data']['data']"
   ]
  },
  {
   "cell_type": "code",
   "execution_count": null,
   "metadata": {},
   "outputs": [],
   "source": [
    "def get_step(game, move_id=0, sub_move_id=0, **kvargs):\n",
    "    return game[move_id]['data'][sub_move_id]"
   ]
  },
  {
   "cell_type": "code",
   "execution_count": null,
   "metadata": {},
   "outputs": [],
   "source": [
    "def move_to_next_step(game, game_state):\n",
    "    move_id     = game_state.get('move_id', 0)\n",
    "    sub_move_id = game_state.get('sub_move_id', 0) + 1\n",
    "    \n",
    "    if len(game[move_id]['data']) <= sub_move_id:\n",
    "        move_id    += 1\n",
    "        sub_move_id = 0\n",
    "    \n",
    "    return alter_dict(game_state,\n",
    "        move_id     = move_id,\n",
    "        sub_move_id = sub_move_id\n",
    "    )"
   ]
  },
  {
   "cell_type": "code",
   "execution_count": null,
   "metadata": {},
   "outputs": [],
   "source": [
    "def default_action(game_state, step):\n",
    "    print(\"Unknown action '%s' :(\" % step['type'])\n",
    "    display(JSON({'state': game_state, 'step': step}, indent=4))\n",
    "    return None"
   ]
  },
  {
   "cell_type": "code",
   "execution_count": null,
   "metadata": {},
   "outputs": [],
   "source": [
    "def apply_step(game_state, step):\n",
    "    if not step['args']: \n",
    "        step['args'] = dict()\n",
    "    elif not isinstance(step['args'], dict): \n",
    "        step['args'] = {str(i):v for i,v in enumerate(step['args'])}\n",
    "        \n",
    "    if step['log']:\n",
    "        print_log('[{step_type}] ' + step['log'], step_type=step['type'], **step['args'])\n",
    "        \n",
    "    a = actions.get(step['type'], None)\n",
    "    if a:\n",
    "        return a(game_state, **step['args'])\n",
    "    else:\n",
    "        return default_action(game_state, step)        "
   ]
  },
  {
   "cell_type": "code",
   "execution_count": null,
   "metadata": {},
   "outputs": [],
   "source": [
    "def debug(state, step, fn=None):\n",
    "    if not fn:\n",
    "        fn = globals()[step['type']]\n",
    "    display(\n",
    "        JSON(state, root='state'), \n",
    "        JSON(step, root='step'), \n",
    "    )\n",
    "    new_state = fn(state, **step['args'])\n",
    "    pprint(get_diff(state, new_state), width=10)"
   ]
  },
  {
   "cell_type": "markdown",
   "metadata": {},
   "source": [
    "## Puerto rico functions"
   ]
  },
  {
   "cell_type": "markdown",
   "metadata": {},
   "source": [
    "## initialization"
   ]
  },
  {
   "cell_type": "code",
   "execution_count": null,
   "metadata": {},
   "outputs": [],
   "source": [
    "good_types = ['corn', 'indigo', 'sugar', 'tobacco', 'coffee']\n",
    "\n",
    "def setup_buildings(buildings, **kvargs):\n",
    "    result = {}\n",
    "    def inc(d, k): d[k] = 1 + d.get(k, 0) \n",
    "    for b in buildings.values():\n",
    "        inc(result, b['bld_type'])\n",
    "    return result\n",
    "\n",
    "def setup_plantations(plantations_to_set, **kvargs):\n",
    "    result = [p['res_type'] for p in plantations_to_set.values()]\n",
    "    return result\n",
    "\n",
    "def setup_ships(ships, **kvargs): \n",
    "    result = {v['shp_id']:{\n",
    "        'capacity': int(v['shp_capacity']),\n",
    "        'goods': 0,\n",
    "        'res_type': None\n",
    "    } for v in ships.values()}\n",
    "    return result\n",
    "\n",
    "def setup_stock(**kvargs):\n",
    "    result = []\n",
    "    return result\n",
    "\n",
    "def setup_VPs(counters, **kvargs): \n",
    "    return int(counters['shipping_points_bank']['counter_value'])\n",
    "\n",
    "def setup_bank(counters, **kvargs): \n",
    "    return int(counters['doubloons_bank']['counter_value'])\n",
    "\n",
    "def setup_workers(counters, **kvargs): \n",
    "    result = {\n",
    "        'available': int(counters['colonists_bank']['counter_value']),\n",
    "        'arriving':  int(counters['colonists_ship']['counter_value'])\n",
    "    }\n",
    "    return result\n",
    "\n",
    "def setup_goods(counters, **kvargs): \n",
    "    result = {\n",
    "        'coffee'  : int(counters['resource_coffee_bank']['counter_value']),\n",
    "        'corn'    : int(counters['resource_corn_bank']['counter_value']),\n",
    "        'indigo'  : int(counters['resource_indigo_bank']['counter_value']),\n",
    "        'sugar'   : int(counters['resource_sugar_bank']['counter_value']),\n",
    "        'tobacco' : int(counters['resource_tobacco_bank']['counter_value']),\n",
    "    }\n",
    "    return result\n",
    "\n",
    "def setup_roles(role_tooltips, **kvargs):\n",
    "    result = {v['rol_id']:{\n",
    "        'money': int(v['money']), \n",
    "        'rol_type': v['rol_type'], \n",
    "        'selected': False\n",
    "    } for v in role_tooltips.values()}\n",
    "    return result\n",
    "    \n",
    "def setup_playerorder(playerorder, **kvargs):\n",
    "    result = [str(v) for v in playerorder]\n",
    "    return result\n",
    "\n",
    "def setup_player(index, username, money, plantaion, **kvargs):\n",
    "    result = {\n",
    "        '_': username,\n",
    "        'money': int(money),\n",
    "        'building_vp': 0,\n",
    "        'delivery_vp': 0,\n",
    "        'buildings': {'commercial': {}, 'factories': {g:{'jobs':0, 'workers':0} for g in good_types}},\n",
    "        'goods': {g:0 for g in good_types},\n",
    "        'plantations': {g:{'jobs':1 if g == plantaion else 0, 'workers':0}  for g in (good_types + ['rock'])},\n",
    "        'potential_vp': {'commercial': 0, 'factories': 0, 'workers': 0},\n",
    "        'slots': {'buildings': 12, 'plantations': 11},\n",
    "        'workers': {'total': 0, 'unemployed': 0}\n",
    "    }\n",
    "    result['goods']['stored'] = {}\n",
    "    return result\n",
    "\n",
    "def setup_players(players, playerorder, counters, plantations_owned, **kvargs):\n",
    "    result = {}\n",
    "    for index,id in enumerate(playerorder):\n",
    "        id = str(id)\n",
    "        money = counters['doubloons_player_'+id]['counter_value']\n",
    "        plantation = [v['res_type'] for k,v in plantations_owned.items() if v['player_id'] == id][0]\n",
    "        result[id] = setup_player(index, players[id]['name'], money, plantation)\n",
    "    return result\n",
    "\n",
    "def setup_table(datas):\n",
    "    r = {\n",
    "        'buildings': setup_buildings(**datas),\n",
    "        'plantations': setup_plantations(**datas),\n",
    "        'ships': setup_ships(**datas),\n",
    "        'stock': setup_stock(**datas),\n",
    "        'VPs': setup_VPs(**datas),\n",
    "        'money': setup_bank(**datas),\n",
    "        'workers': setup_workers(**datas),\n",
    "        'goods': setup_goods(**datas),\n",
    "        'roles': setup_roles(**datas),\n",
    "        'playerorder': setup_playerorder(**datas)\n",
    "    }\n",
    "    return r\n",
    "\n",
    "def setup(datas):\n",
    "    return {\n",
    "        'move_id': 0,\n",
    "        'sub_move_id': 0,\n",
    "        'table': setup_table(datas),\n",
    "        'players': setup_players(**datas),\n",
    "        'governor': datas['governor']\n",
    "    }"
   ]
  },
  {
   "cell_type": "code",
   "execution_count": null,
   "metadata": {},
   "outputs": [],
   "source": [
    "def setup_lookups(buildings, plantations_owned, **kvargs):\n",
    "    global building_lookup\n",
    "    building_lookup = {k:{\n",
    "        'name': b['bld_type'],\n",
    "        'type': 'factories' if b['res_type'] else 'commercial',\n",
    "        'res_type': b['res_type'],\n",
    "        'potential_vp': 1 if b['bld_valence'] == \"1\" else 2,\n",
    "        'tile_size': 2 if b['bld_max_discount'] == \"4\" else 1,\n",
    "        'jobs': int(b['bld_valence']),\n",
    "        'cost': int(b['bld_cost']),\n",
    "        'max_discount': int(b['bld_max_discount']),\n",
    "        'vp': int(b['bld_score'])\n",
    "    } for k,b in buildings.items()}\n",
    "    \n",
    "    global plantation_lookup\n",
    "    plantation_lookup = {k:p['res_type'] for k,p in plantations_owned.items()}\n",
    "    \n",
    "    global colonist_lookup\n",
    "    colonist_lookup = {}    \n",
    "    \n",
    "    global run_limits\n",
    "    run_limits = {}   "
   ]
  },
  {
   "cell_type": "code",
   "execution_count": null,
   "metadata": {},
   "outputs": [],
   "source": [
    "new_game_state = 1\n",
    "if not 'actions' in globals():\n",
    "    global actions\n",
    "    actions = dict()    \n",
    "\n",
    "game_log = load_game('table_27174212.json')\n",
    "datas = load_from_json_file('datas_27174212.json')[7]\n",
    "game_state = setup(datas)\n",
    "setup_lookups(**datas)"
   ]
  },
  {
   "cell_type": "markdown",
   "metadata": {},
   "source": [
    "### Unverified"
   ]
  },
  {
   "cell_type": "code",
   "execution_count": null,
   "metadata": {},
   "outputs": [],
   "source": [
    "def get_player(state, player_id=None, **args):\n",
    "    return state['players'].get(str(player_id), None)\n",
    "\n",
    "def prepare(state, **kvargs):\n",
    "    new_state = alter_dict(state)\n",
    "    player = get_player(new_state, **kvargs)\n",
    "    table = new_state['table']\n",
    "    return new_state, player, table"
   ]
  },
  {
   "cell_type": "code",
   "execution_count": null,
   "metadata": {},
   "outputs": [],
   "source": [
    "def do_nothing(log=None):\n",
    "    def dn(state, **args):\n",
    "        print_log(log, **args)\n",
    "        return state\n",
    "    return dn\n",
    "log = ' - d:${description:70} t:${type}, n:${name}'#', a:${action}'#', possible_actions:${possibleactions}'\n",
    "\n",
    "actions['leaveGameState']      = do_nothing('<-[leaveGameState ]' + log)\n",
    "actions['gameStateChange']     = do_nothing('->[gameStateChange]' + log)\n",
    "actions['updateReflexionTime'] = do_nothing('  [updateReflexionTime]')\n",
    "actions['message' ]            = do_nothing()\n",
    "actions['gameStateMultipleActiveUpdate'] = do_nothing('  gameStateMultipleActiveUpdate')"
   ]
  },
  {
   "cell_type": "code",
   "execution_count": null,
   "metadata": {
    "scrolled": false
   },
   "outputs": [],
   "source": [
    "def roleSelected(state, rol_id, rol_type, unavailable_roles, **args):\n",
    "    new_state = alter_dict(state)\n",
    "    r = new_state['table']['roles'][rol_id]\n",
    "    new_state['table']['money'] += r['money']\n",
    "    r['money'] = 0\n",
    "    r['selected'] = True\n",
    "    return new_state\n",
    "\n",
    "actions['roleSelected'] = roleSelected"
   ]
  },
  {
   "cell_type": "code",
   "execution_count": null,
   "metadata": {},
   "outputs": [],
   "source": [
    "def plantationSettlement(state, player_id, **args):\n",
    "    new_state = alter_dict(state)\n",
    "    pl = get_player(new_state, player_id)\n",
    "#     update_counter(new_state['table'], **args)\n",
    "    pick_field(new_state['table'], pl, **args)\n",
    "    return new_state\n",
    "\n",
    "def pick_field(table, player, res_type, pla_id, **args):\n",
    "    player['plantations'][res_type]['jobs'] += 1\n",
    "    player['slots']['plantations'] -= 1\n",
    "    if res_type in table['plantations']:\n",
    "        table['plantations'].remove(res_type)\n",
    "    plantation_lookup[pla_id] = res_type\n",
    "\n",
    "\n",
    "def update_counter(target, counter_name=None, counter_delta=0, **args):\n",
    "    if counter_name is not None:\n",
    "        target[counter_name] += counter_delta\n",
    "\n",
    "actions['plantationSettlement'] = plantationSettlement"
   ]
  },
  {
   "cell_type": "code",
   "execution_count": null,
   "metadata": {},
   "outputs": [],
   "source": [
    "def discardPlantations(state, **args):\n",
    "    return state\n",
    "\n",
    "actions['discardPlantations'] = discardPlantations"
   ]
  },
  {
   "cell_type": "code",
   "execution_count": null,
   "metadata": {},
   "outputs": [],
   "source": [
    "def drawPlantations(state, plantations_to_set, **args):\n",
    "    new_state = alter_dict(state)\n",
    "    new_state['table']['plantations'] = setup_plantations(plantations_to_set)\n",
    "    return new_state\n",
    "\n",
    "actions['drawPlantations'] = drawPlantations"
   ]
  },
  {
   "cell_type": "code",
   "execution_count": null,
   "metadata": {},
   "outputs": [],
   "source": [
    "def buildingBought(state, bld_type_tr, cost, **kvargs):\n",
    "    new_state, p, t = prepare(state, **kvargs)\n",
    "    cost = int(cost)\n",
    "        \n",
    "    add_building_to_player(p, bld_type_tr, **kvargs)\n",
    "    t['buildings'][bld_type_tr] -= 1\n",
    "    \n",
    "    p['money'] -= cost\n",
    "    t['money'] += cost\n",
    "    return new_state\n",
    "\n",
    "def add_building_to_player(player, bld_type_tr, score_delta, bld_id, **kvargs):\n",
    "    b = building_lookup[bld_id]\n",
    "    player['slots']['buildings'] -= b['tile_size']\n",
    "    player['building_vp'] += int(score_delta)\n",
    "    player['potential_vp'][b['type']] += b['potential_vp']\n",
    "    if b['type'] == 'commercial':\n",
    "        player['buildings']['commercial'][b['name']] = False  \n",
    "    else:\n",
    "        player['buildings']['factories'][b['res_type']]['jobs'] += b['jobs']\n",
    "    \n",
    "actions['buildingBought'] = buildingBought"
   ]
  },
  {
   "cell_type": "code",
   "execution_count": null,
   "metadata": {},
   "outputs": [],
   "source": [
    "def colonistsEarnedFromShip(state, delta, **kvargs):\n",
    "    new_state, p, t = prepare(state, **kvargs)\n",
    "\n",
    "    p['workers']['total'] += delta\n",
    "    p['workers']['unemployed'] += delta\n",
    "    t['workers']['arriving'] -= delta\n",
    "  \n",
    "    return new_state\n",
    "\n",
    "def colonistsEarnedFromSupply(state, delta, **kvargs):\n",
    "    new_state, p, t = prepare(state, **kvargs)\n",
    "    \n",
    "    p['workers']['total'] += delta\n",
    "    p['workers']['unemployed'] += delta\n",
    "    t['workers']['available'] -= delta\n",
    "    \n",
    "    return new_state\n",
    "\n",
    "actions['colonistsEarnedFromSupply'] = colonistsEarnedFromSupply\n",
    "actions['colonistsEarnedFromShip'] = colonistsEarnedFromShip"
   ]
  },
  {
   "cell_type": "code",
   "execution_count": null,
   "metadata": {},
   "outputs": [],
   "source": [
    "def colonistToBuilding(state, col_id, bld_id, delta, **kvargs):\n",
    "    new_state = alter_dict(state)\n",
    "    colonist_lookup[col_id] = {'id': bld_id, 'type': 'bld'}\n",
    "    b = building_lookup[bld_id]\n",
    "    pl = get_player(new_state, **kvargs)\n",
    "    pb = pl['buildings'][b['type']]\n",
    "\n",
    "    if b['type'] != 'commercial':\n",
    "        pb[b['res_type']]['workers'] += delta\n",
    "    else:\n",
    "        pb[b['name']] = True\n",
    "    pl['workers']['unemployed'] -= delta\n",
    "    return new_state\n",
    "\n",
    "def colonistToPlantation(state, col_id, pla_id, delta, **kvargs):\n",
    "    new_state = alter_dict(state)\n",
    "    colonist_lookup[col_id] = {'id': pla_id, 'type': 'pla'}\n",
    "    p = get_player(new_state, **kvargs)\n",
    "    res_type = plantation_lookup[pla_id]\n",
    "    \n",
    "    p['plantations'][res_type]['workers'] += delta\n",
    "    p['workers']['unemployed'] -= delta\n",
    "    return new_state\n",
    "\n",
    "def colonistToSanJuan(state, col_id, delta, **kvargs):\n",
    "    id = colonist_lookup[col_id]['id']\n",
    "    type = colonist_lookup[col_id]['type']\n",
    "    if type == 'pla':\n",
    "        state = colonistToPlantation(state, col_id, id, -delta, **kvargs)\n",
    "    else:\n",
    "        state = colonistToBuilding(state, col_id, id, -delta, **kvargs)\n",
    "    return state\n",
    "    \n",
    "actions['colonistToBuilding'] = colonistToBuilding\n",
    "actions['colonistToPlantation'] = colonistToPlantation\n",
    "actions['colonistToSanJuan'] = colonistToSanJuan"
   ]
  },
  {
   "cell_type": "code",
   "execution_count": null,
   "metadata": {},
   "outputs": [],
   "source": [
    "def colonistsToShip(state, delta, **kvargs):\n",
    "    new_state = alter_dict(state)\n",
    "    delta = int(delta)\n",
    "    new_state['table']['workers']['available'] -= delta\n",
    "    new_state['table']['workers']['arriving']  += delta\n",
    "    return new_state\n",
    "\n",
    "actions['colonistsToShip'] = colonistsToShip"
   ]
  },
  {
   "cell_type": "code",
   "execution_count": null,
   "metadata": {},
   "outputs": [],
   "source": [
    "def produceGoods(state, res_type, delta, **kvargs):\n",
    "    new_state, p, t = prepare(state, **kvargs)    \n",
    "    delta = int(delta)    \n",
    "    t['goods'][res_type] -= delta\n",
    "    p['goods'][res_type] += delta\n",
    "    return new_state\n",
    "\n",
    "actions['produceGoods'] = produceGoods"
   ]
  },
  {
   "cell_type": "code",
   "execution_count": null,
   "metadata": {},
   "outputs": [],
   "source": [
    "def doubloonsEarned(state, delta, **kvargs):\n",
    "    new_state, p, t = prepare(state, **kvargs) \n",
    "    delta = int(delta)\n",
    "    t['money'] -= delta\n",
    "    p['money'] += delta\n",
    "    return new_state\n",
    "\n",
    "actions['doubloonsEarned'] = doubloonsEarned"
   ]
  },
  {
   "cell_type": "code",
   "execution_count": null,
   "metadata": {},
   "outputs": [],
   "source": [
    "def doubloonToRole(state, **kvargs):\n",
    "    new_state, p, t = prepare(state, **kvargs)\n",
    "    rol_id = dict(kvargs['role_tooltips']).popitem()[0]\n",
    "    t['money'] -= 1\n",
    "    t['roles'][rol_id]['money'] += 1\n",
    "    return new_state\n",
    "\n",
    "actions['doubloonToRole'] = doubloonToRole"
   ]
  },
  {
   "cell_type": "code",
   "execution_count": null,
   "metadata": {},
   "outputs": [],
   "source": [
    "def newGovernor(state, new_governor_player_id, **kvargs):\n",
    "    new_state = alter_dict(state)\n",
    "    new_state['governor'] = new_governor_player_id\n",
    "    for r in new_state['table']['roles'].values():\n",
    "        r['selected'] = False\n",
    "    return new_state\n",
    "\n",
    "actions['newGovernor'] = newGovernor"
   ]
  },
  {
   "cell_type": "code",
   "execution_count": null,
   "metadata": {},
   "outputs": [],
   "source": [
    "def goodsShipped(state, shp_id, res_type, delta, **kvargs):\n",
    "    new_state, p, t = prepare(state, **kvargs)\n",
    "    \n",
    "    if shp_id:\n",
    "        t['ships'][shp_id]['res_type'] = res_type\n",
    "        t['ships'][shp_id]['goods'] += delta\n",
    "        p['goods'][res_type] -= delta\n",
    "    else:\n",
    "        t['goods'][res_type] += delta\n",
    "        p['goods'][res_type] -= delta\n",
    "\n",
    "    return new_state\n",
    "\n",
    "def victoryPointsEarned(state, delta, **kvargs):\n",
    "    new_state, p, t = prepare(state, **kvargs)\n",
    "    \n",
    "    t['VPs'] -= delta\n",
    "    p['delivery_vp'] += delta\n",
    "\n",
    "    return new_state\n",
    "\n",
    "  \n",
    "actions['selectShip'] = do_nothing('selectShip')\n",
    "actions['selectWharf'] = do_nothing('selectWharf')\n",
    "actions['goodsShipped'] = goodsShipped\n",
    "actions['victoryPointsEarned'] = victoryPointsEarned"
   ]
  },
  {
   "cell_type": "code",
   "execution_count": null,
   "metadata": {},
   "outputs": [],
   "source": [
    "def moveGoodsToSupply(state, **kvargs):\n",
    "    new_state = alter_dict(state)\n",
    "    \n",
    "    for s in new_state['table']['ships'].values():\n",
    "        if int(s['capacity']) <= s['goods']:\n",
    "            new_state['table']['goods'][s['res_type']] += s['goods']\n",
    "            s['goods'] = 0\n",
    "            s['res_type'] = None\n",
    "            \n",
    "    if len(new_state['table']['stock']) == 4:\n",
    "        for res_type in new_state['table']['stock']:\n",
    "            new_state['table']['goods'][res_type] += 1\n",
    "        new_state['table']['stock'] = []\n",
    "            \n",
    "    return new_state\n",
    "\n",
    "actions['moveGoodsToSupply'] = moveGoodsToSupply"
   ]
  },
  {
   "cell_type": "code",
   "execution_count": null,
   "metadata": {},
   "outputs": [],
   "source": [
    "def check_limit(limit):\n",
    "    if run_limits[limit] == 0:\n",
    "        raise Exception('\"{}\" must be reviewed'.format(limit))\n",
    "    else:\n",
    "        run_limits[limit] -= 1"
   ]
  },
  {
   "cell_type": "code",
   "execution_count": null,
   "metadata": {},
   "outputs": [],
   "source": [
    "def goodStored(state, res_type, one_by_one, **kvargs):\n",
    "    new_state, p, t = prepare(state, **kvargs)\n",
    "    p['goods']['stored'][res_type] = {'one_by_one': one_by_one}\n",
    "    return new_state\n",
    "\n",
    "def goodUnstored(state, res_type, one_by_one, **kvargs):\n",
    "    new_state, p, t = prepare(state, **kvargs)\n",
    "       \n",
    "    del p['goods']['stored'][res_type]\n",
    "    return new_state\n",
    "\n",
    "def endOfStorage(state, **kvargs):\n",
    "    pprint(kvargs)\n",
    "    return state\n",
    "\n",
    "actions['goodStored'] = goodStored\n",
    "actions['goodUnstored'] = goodUnstored\n",
    "actions['endOfStorage'] = endOfStorage"
   ]
  },
  {
   "cell_type": "code",
   "execution_count": null,
   "metadata": {},
   "outputs": [],
   "source": [
    "def lostGoodsToSupply(state, **kvargs):\n",
    "    new_state, p, t = prepare(state, **kvargs)\n",
    "    for res_type in good_types:\n",
    "        if res_type not in p['goods']['stored']:\n",
    "            t['goods'][res_type] += p['goods'][res_type]\n",
    "            p['goods'][res_type] = 0\n",
    "        elif 'one_by_one' in p['goods']['stored'][res_type] and p['goods']['stored'][res_type]['one_by_one']:\n",
    "            t['goods'][res_type] += p['goods'][res_type] - 1\n",
    "            p['goods'][res_type] = 1\n",
    "        \n",
    "    p['goods']['stored'] = {}\n",
    "            \n",
    "    return new_state\n",
    "\n",
    "actions['lostGoodsToSupply'] = lostGoodsToSupply"
   ]
  },
  {
   "cell_type": "code",
   "execution_count": null,
   "metadata": {},
   "outputs": [],
   "source": [
    "def resourceSold(state, res_type, **kvargs):\n",
    "    new_state, p, t = prepare(state, **kvargs)\n",
    "    \n",
    "    p['goods'][res_type] -= 1\n",
    "    t['stock'].append(res_type)\n",
    "            \n",
    "    return new_state\n",
    "\n",
    "actions['resourceSold'] = resourceSold"
   ]
  },
  {
   "cell_type": "code",
   "execution_count": null,
   "metadata": {},
   "outputs": [],
   "source": [
    "actions['draftCompleted'] = do_nothing('draftCompleted')\n",
    "actions['reshufflePlantations'] = do_nothing('reshufflePlantations')\n",
    "actions['lastYear'] = do_nothing()\n",
    "actions['scoreShippingPoints'] = do_nothing()\n",
    "actions['scoreConditionalPoints'] = do_nothing()\n",
    "actions['scoreEndPoints'] = do_nothing()\n",
    "actions['endOfGame'] = do_nothing()\n",
    "actions['simpleNode'] = do_nothing()"
   ]
  },
  {
   "cell_type": "code",
   "execution_count": null,
   "metadata": {},
   "outputs": [],
   "source": [
    "# x = debug(game_state, next_step, lostGoodsToSupply)"
   ]
  },
  {
   "cell_type": "markdown",
   "metadata": {},
   "source": [
    "\n",
    "# ACTIVE DEVELOPMENT ZONE\n"
   ]
  },
  {
   "cell_type": "code",
   "execution_count": null,
   "metadata": {
    "scrolled": false
   },
   "outputs": [],
   "source": [
    "new_game_state = 1\n",
    "while new_game_state and len(game_log) > game_state['move_id']:\n",
    "        \n",
    "    next_step = get_step(game_log, **game_state)\n",
    "    if next_step['type'] not in ('gameStateChange', 'updateReflexionTime', 'message'):\n",
    "        display(JSON(next_step, root='next_step'))\n",
    "        print_line('.')\n",
    "        print()\n",
    "        \n",
    "    new_game_state = apply_step(game_state, next_step)\n",
    "    \n",
    "    if new_game_state:\n",
    "        if not game_state is new_game_state:\n",
    "            print()    \n",
    "            print_diff(game_state, new_game_state, consumer=lambda l: pprint(l, width=10))\n",
    "            print_line('-')    \n",
    "            \n",
    "        game_state = move_to_next_step(game_log, new_game_state)\n",
    "        if not game_state['sub_move_id']: \n",
    "            print()\n",
    "            print_line('=')\n",
    "            print('move {move_id}.{sub_move_id}'.format(**game_state))\n",
    "            display(JSON(game_state, root='game_state'))\n",
    "#             break          \n",
    "            print_line('=')"
   ]
  },
  {
   "cell_type": "raw",
   "metadata": {},
   "source": [
    "def get_active_player(game_state, step):\n",
    "    if step['args']['type'] == 'activeplayer':\n",
    "        player_id = step['args']['active_player']\n",
    "        return game_state['players'][player_id]['_']\n",
    "    else:\n",
    "        return None"
   ]
  },
  {
   "cell_type": "raw",
   "metadata": {},
   "source": [
    "for step in game_log[game_state['move_id']]['data']:\n",
    "    if step['type'] == 'gameStateChange':\n",
    "        print_log('> gameStateChange: ' + step['args']['description'], actplayer = get_active_player(game_state, step), **step['args'])\n",
    "    elif step['type'] in ('updateReflexionTime', 'gameStateMultipleActiveUpdate'):\n",
    "        print_log(step['type'] + ': ' + step['log'])\n",
    "    else: \n",
    "        print_log(step['type'] + ': ' + step['log'], **dict(step['args']))\n",
    "        print()\n",
    "        display(JSON(step['args'], expanded=False, root='step_args'))\n",
    "    print('-' * width)"
   ]
  },
  {
   "cell_type": "raw",
   "metadata": {},
   "source": [
    "\n",
    "\n",
    "\n",
    "\n",
    "\n",
    "\n",
    "\n",
    "\n",
    "\n",
    "\n",
    "\n",
    "\n",
    "\n",
    "\n",
    "\n",
    "\n"
   ]
  },
  {
   "cell_type": "raw",
   "metadata": {},
   "source": [
    "def steps(log):\n",
    "    for move_id, move in enumerate(log):\n",
    "        for sub_move_id, sub_move in enumerate(move['data']):\n",
    "#             if sub_move_id != 0:\n",
    "                yield sub_move"
   ]
  },
  {
   "cell_type": "raw",
   "metadata": {},
   "source": [
    "c = collections.Counter([s['type'] for s in steps(game_log) if s['type'] not in actions])\n",
    "c.most_common(20)"
   ]
  },
  {
   "cell_type": "raw",
   "metadata": {},
   "source": [
    "c = collections.Counter([s['args']['name']+str([k for k in s['args'].keys() if k not in exclude]) for s in steps(game_log) if s['type'] == 'gameStateChange'])\n",
    "c.most_common(30)"
   ]
  },
  {
   "cell_type": "raw",
   "metadata": {},
   "source": [
    "exclude = {'name', 'description', 'descriptionmyturn', 'type', 'action', 'active_player', 'args', 'reflexion', 'transitions', 'updateGameProgression', 'possibleactions'}\n",
    "# JSON(sorted({str(s['args']['possibleactions']) for s in steps(game_log) if s['type'] == 'gameStateChange' and 'possibleactions' in s['args'].keys()}), expanded=False)\n",
    "for s in steps(game_log):\n",
    "    if s['type'] == 'gameStateChange':\n",
    "        print_log(log, **dict(s['args']))"
   ]
  }
 ],
 "metadata": {
  "kernelspec": {
   "display_name": "Python 3",
   "language": "python",
   "name": "python3"
  },
  "language_info": {
   "codemirror_mode": {
    "name": "ipython",
    "version": 3
   },
   "file_extension": ".py",
   "mimetype": "text/x-python",
   "name": "python",
   "nbconvert_exporter": "python",
   "pygments_lexer": "ipython3",
   "version": "3.6.6"
  }
 },
 "nbformat": 4,
 "nbformat_minor": 2
}
