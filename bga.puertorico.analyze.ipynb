{
 "cells": [
  {
   "cell_type": "markdown",
   "metadata": {},
   "source": [
    "## Init & utils"
   ]
  },
  {
   "cell_type": "code",
   "execution_count": 1,
   "metadata": {
    "scrolled": true
   },
   "outputs": [
    {
     "name": "stdout",
     "output_type": "stream",
     "text": [
      "Requirement already up-to-date: pip in /srv/conda/lib/python3.6/site-packages (18.0)\n",
      "Collecting jsonpath-rw\n",
      "  Downloading https://files.pythonhosted.org/packages/71/7c/45001b1f19af8c4478489fbae4fc657b21c4c669d7a5a036a86882581d85/jsonpath-rw-1.4.0.tar.gz\n",
      "Collecting ply (from jsonpath-rw)\n",
      "  Downloading https://files.pythonhosted.org/packages/a3/58/35da89ee790598a0700ea49b2a66594140f44dec458c07e8e3d4979137fc/ply-3.11-py2.py3-none-any.whl (49kB)\n",
      "Requirement already satisfied: decorator in /srv/conda/lib/python3.6/site-packages (from jsonpath-rw) (4.3.0)\n",
      "Requirement already satisfied: six in /srv/conda/lib/python3.6/site-packages (from jsonpath-rw) (1.11.0)\n",
      "Building wheels for collected packages: jsonpath-rw\n",
      "  Running setup.py bdist_wheel for jsonpath-rw: started\n",
      "  Running setup.py bdist_wheel for jsonpath-rw: finished with status 'done'\n",
      "  Stored in directory: /home/jovyan/.cache/pip/wheels/5c/00/9a/82822db383c2d96dcebf839786665a185f92d37e5026f9806f\n",
      "Successfully built jsonpath-rw\n",
      "Installing collected packages: ply, jsonpath-rw\n",
      "Successfully installed jsonpath-rw-1.4.0 ply-3.11\n",
      "Collecting jsonpath-rw-ext\n",
      "  Downloading https://files.pythonhosted.org/packages/2f/1e/65c105775dd75e0fa5b3dc3fa14d15b9857760f1d1c6ad4faf82208ff710/jsonpath_rw_ext-1.2.0-py2.py3-none-any.whl\n",
      "Collecting pbr>=1.8 (from jsonpath-rw-ext)\n",
      "  Downloading https://files.pythonhosted.org/packages/69/1c/98cba002ed975a91a0294863d9c774cc0ebe38e05bbb65e83314550b1677/pbr-4.2.0-py2.py3-none-any.whl (100kB)\n",
      "Requirement already satisfied: jsonpath-rw>=1.2.0 in /srv/conda/lib/python3.6/site-packages (from jsonpath-rw-ext) (1.4.0)\n",
      "Requirement already satisfied: ply in /srv/conda/lib/python3.6/site-packages (from jsonpath-rw>=1.2.0->jsonpath-rw-ext) (3.11)\n",
      "Requirement already satisfied: decorator in /srv/conda/lib/python3.6/site-packages (from jsonpath-rw>=1.2.0->jsonpath-rw-ext) (4.3.0)\n",
      "Requirement already satisfied: six in /srv/conda/lib/python3.6/site-packages (from jsonpath-rw>=1.2.0->jsonpath-rw-ext) (1.11.0)\n",
      "Installing collected packages: pbr, jsonpath-rw-ext\n",
      "Successfully installed jsonpath-rw-ext-1.2.0 pbr-4.2.0\n",
      "Collecting jsondiff\n",
      "  Downloading https://files.pythonhosted.org/packages/33/0c/ddb17571e061c655871ccbf76cdada55a31569327d21517de779d4887241/jsondiff-1.1.2.tar.gz\n",
      "Building wheels for collected packages: jsondiff\n",
      "  Running setup.py bdist_wheel for jsondiff: started\n",
      "  Running setup.py bdist_wheel for jsondiff: finished with status 'done'\n",
      "  Stored in directory: /home/jovyan/.cache/pip/wheels/46/5f/86/11c6b72b064888e80b98bfcbcdaf2a83517a8cf8f2bb2a3227\n",
      "Successfully built jsondiff\n",
      "Installing collected packages: jsondiff\n",
      "Successfully installed jsondiff-1.1.2\n",
      "Collecting seaborn\n",
      "  Downloading https://files.pythonhosted.org/packages/a8/76/220ba4420459d9c4c9c9587c6ce607bf56c25b3d3d2de62056efe482dadc/seaborn-0.9.0-py3-none-any.whl (208kB)\n",
      "Collecting numpy>=1.9.3 (from seaborn)\n",
      "  Downloading https://files.pythonhosted.org/packages/22/02/bae88c4aaea4256d890adbf3f7cf33e59a443f9985cf91cd08a35656676a/numpy-1.15.2-cp36-cp36m-manylinux1_x86_64.whl (13.9MB)\n",
      "Collecting matplotlib>=1.4.3 (from seaborn)\n",
      "  Downloading https://files.pythonhosted.org/packages/ed/89/dd823436a5f8d5ca9304b51b554863bfd366ca84708d5812f5ee87c923bc/matplotlib-3.0.0-cp36-cp36m-manylinux1_x86_64.whl (12.8MB)\n",
      "Collecting pandas>=0.15.2 (from seaborn)\n",
      "  Downloading https://files.pythonhosted.org/packages/e1/d8/feeb346d41f181e83fba45224ab14a8d8af019b48af742e047f3845d8cff/pandas-0.23.4-cp36-cp36m-manylinux1_x86_64.whl (8.9MB)\n",
      "Collecting scipy>=0.14.0 (from seaborn)\n",
      "  Downloading https://files.pythonhosted.org/packages/a8/0b/f163da98d3a01b3e0ef1cab8dd2123c34aee2bafbb1c5bffa354cc8a1730/scipy-1.1.0-cp36-cp36m-manylinux1_x86_64.whl (31.2MB)\n",
      "Collecting pyparsing!=2.0.4,!=2.1.2,!=2.1.6,>=2.0.1 (from matplotlib>=1.4.3->seaborn)\n",
      "  Downloading https://files.pythonhosted.org/packages/42/47/e6d51aef3d0393f7d343592d63a73beee2a8d3d69c22b053e252c6cfacd5/pyparsing-2.2.1-py2.py3-none-any.whl (57kB)\n",
      "Requirement already satisfied: python-dateutil>=2.1 in /srv/conda/lib/python3.6/site-packages (from matplotlib>=1.4.3->seaborn) (2.7.3)\n",
      "Collecting kiwisolver>=1.0.1 (from matplotlib>=1.4.3->seaborn)\n",
      "  Downloading https://files.pythonhosted.org/packages/69/a7/88719d132b18300b4369fbffa741841cfd36d1e637e1990f27929945b538/kiwisolver-1.0.1-cp36-cp36m-manylinux1_x86_64.whl (949kB)\n",
      "Collecting cycler>=0.10 (from matplotlib>=1.4.3->seaborn)\n",
      "  Downloading https://files.pythonhosted.org/packages/f7/d2/e07d3ebb2bd7af696440ce7e754c59dd546ffe1bbe732c8ab68b9c834e61/cycler-0.10.0-py2.py3-none-any.whl\n",
      "Collecting pytz>=2011k (from pandas>=0.15.2->seaborn)\n",
      "  Downloading https://files.pythonhosted.org/packages/30/4e/27c34b62430286c6d59177a0842ed90dc789ce5d1ed740887653b898779a/pytz-2018.5-py2.py3-none-any.whl (510kB)\n",
      "Requirement already satisfied: six>=1.5 in /srv/conda/lib/python3.6/site-packages (from python-dateutil>=2.1->matplotlib>=1.4.3->seaborn) (1.11.0)\n",
      "Requirement already satisfied: setuptools in /srv/conda/lib/python3.6/site-packages (from kiwisolver>=1.0.1->matplotlib>=1.4.3->seaborn) (40.2.0)\n",
      "Installing collected packages: numpy, pyparsing, kiwisolver, cycler, matplotlib, pytz, pandas, scipy, seaborn\n",
      "Successfully installed cycler-0.10.0 kiwisolver-1.0.1 matplotlib-3.0.0 numpy-1.15.2 pandas-0.23.4 pyparsing-2.2.1 pytz-2018.5 scipy-1.1.0 seaborn-0.9.0\n"
     ]
    }
   ],
   "source": [
    "%%bash\n",
    "pip install --upgrade pip\n",
    "pip install jsonpath-rw\n",
    "pip install jsonpath-rw-ext\n",
    "pip install jsondiff\n",
    "pip install seaborn"
   ]
  },
  {
   "cell_type": "code",
   "execution_count": 18,
   "metadata": {},
   "outputs": [
    {
     "name": "stdout",
     "output_type": "stream",
     "text": [
      "total 24700\n",
      "-rw-r--r-- 1 jovyan jovyan        8 Sep 17 09:34 application.properties\n",
      "-rw-r--r-- 1 jovyan jovyan   258347 Sep 28 22:29 bga.puertorico.analyze.ipynb\n",
      "-rw-r--r-- 1 jovyan jovyan    21055 Sep 28 22:14 bga.puertorico.crawl.ipynb\n",
      "drwxr-xr-x 1 jovyan jovyan     4096 Sep 17 03:43 \u001b[0m\u001b[01;34mconda-bld\u001b[0m/\n",
      "drwxr-xr-x 2 jovyan jovyan     4096 Sep 27 19:55 \u001b[01;34mpr\u001b[0m/\n",
      "-rw-r--r-- 1 jovyan jovyan 18130930 Sep 28 22:29 pr_4.tgz\n",
      "-rw-r--r-- 1 jovyan jovyan  6854990 Sep 28 22:17 pr_tables.tgz\n"
     ]
    }
   ],
   "source": [
    "%ls -l"
   ]
  },
  {
   "cell_type": "code",
   "execution_count": 21,
   "metadata": {},
   "outputs": [],
   "source": [
    "%%bash\n",
    "# tar -cvzf pr_4.tgz pr\n",
    "# tar -cvzf pr_tables.tgz pr_tables.json\n",
    "# tar -xvzf pr_tables.tgz\n",
    "# tar -xvzf pr_4.tgz"
   ]
  },
  {
   "cell_type": "code",
   "execution_count": 1,
   "metadata": {},
   "outputs": [],
   "source": [
    "from jsonpath_rw import jsonpath, parse\n",
    "import jsonpath_rw_ext as jsonp\n",
    "import collections\n",
    "import os"
   ]
  },
  {
   "cell_type": "code",
   "execution_count": 2,
   "metadata": {},
   "outputs": [],
   "source": [
    "import json \n",
    "from json import JSONEncoder, JSONDecoder\n",
    "import pickle\n",
    "\n",
    "class PythonObjectEncoder(JSONEncoder):\n",
    "    def default(self, obj):\n",
    "        if isinstance(obj, (list, dict, str, unicode, int, float, bool, type(None))):\n",
    "            return JSONEncoder.default(self, obj)\n",
    "        return {'_python_object': pickle.dumps(obj)}\n",
    "\n",
    "def as_python_object(dct):\n",
    "    if '_python_object' in dct:\n",
    "        return pickle.loads(str(dct['_python_object']))\n",
    "    return dct\n",
    "\n",
    "def save_to_json_file(filename, content):\n",
    "    temp = json.dumps(content, cls=PythonObjectEncoder)\n",
    "    return save_to_file(filename, temp)\n",
    "\n",
    "def save_to_file(filename, content):\n",
    "    with open(filename, 'w') as file:\n",
    "        file.write(content)\n",
    "    return \"saved \" + filename    \n",
    "\n",
    "def load_from_json_file(file_name):\n",
    "    content = load_from_file(file_name)\n",
    "    return json.load(content, object_hook=as_python_object)\n",
    "\n",
    "def load_from_file(file_name):\n",
    "    return open(file_name)"
   ]
  },
  {
   "cell_type": "code",
   "execution_count": 3,
   "metadata": {},
   "outputs": [],
   "source": [
    "import copy\n",
    "\n",
    "def inc_dict_val(d, k, v):\n",
    "    d[k] = int(d.get(k, 0)) + int(v)\n",
    "\n",
    "def alter_dict(D, **F):\n",
    "    result = copy.deepcopy(D)    \n",
    "    result.update(**F)\n",
    "    return result   \n",
    "\n",
    "def map_dict(src, *args, **kvargs):\n",
    "    dst = dict()\n",
    "    for v in args:\n",
    "        dst[v] = src[v]\n",
    "    for k,v in kvargs.items():\n",
    "        dst[k] = src[v]\n",
    "    return dst\n",
    "\n",
    "def remove_from_dict(d, key):\n",
    "    if key in d:\n",
    "        del d[key]"
   ]
  },
  {
   "cell_type": "markdown",
   "metadata": {},
   "source": [
    "## Printing"
   ]
  },
  {
   "cell_type": "code",
   "execution_count": 4,
   "metadata": {},
   "outputs": [],
   "source": [
    "from pprint import pprint\n",
    "from IPython.display import JSON\n",
    "\n",
    "width = 180\n",
    "def print_line(char=' '):\n",
    "    print(char*width)"
   ]
  },
  {
   "cell_type": "code",
   "execution_count": 5,
   "metadata": {},
   "outputs": [],
   "source": [
    "import re\n",
    "\n",
    "def print_log(log, consumer=print, **args):\n",
    "    if log:\n",
    "        params = {g:'' for g in re.findall('\\$\\{([^}]+)\\}', log)}\n",
    "        params.update(args)\n",
    "        consumer(log.replace('$', '').format(**params))"
   ]
  },
  {
   "cell_type": "code",
   "execution_count": 6,
   "metadata": {},
   "outputs": [],
   "source": [
    "from jsondiff import diff\n",
    "\n",
    "def print_diff(old_dict, new_dict, consumer=print):     \n",
    "    consumer(get_diff(old_dict, new_dict))\n",
    "    \n",
    "def get_diff(old_dict, new_dict):     \n",
    "    return diff(old_dict, new_dict, syntax='symmetric')"
   ]
  },
  {
   "cell_type": "code",
   "execution_count": 7,
   "metadata": {},
   "outputs": [],
   "source": [
    "points = [1, 5, 20, 100, 500]\n",
    "\n",
    "import sys\n",
    "\n",
    "def print_progress(i):\n",
    "    if (i % points[0] == 0):\n",
    "        if (i % points[1] == 0):\n",
    "            sys.stdout.write(' ')\n",
    "            if (i % points[2] == 0):\n",
    "                sys.stdout.write('  ')\n",
    "                if (i % points[3] == 0):\n",
    "                    sys.stdout.write('\\n')\n",
    "                    if (i % points[4] == 0):\n",
    "                        sys.stdout.write('\\n')\n",
    "        sys.stdout.write('.')\n",
    "        sys.stdout.flush()                        "
   ]
  },
  {
   "cell_type": "markdown",
   "metadata": {},
   "source": [
    "## Analitical fn"
   ]
  },
  {
   "cell_type": "code",
   "execution_count": 9,
   "metadata": {
    "collapsed": false
   },
   "outputs": [],
   "source": [
    "def collect_data(files, collector):\n",
    "    for i,f in enumerate(files):\n",
    "        data = load_from_json_file(f)\n",
    "        print_progress(i)\n",
    "        yield collector(data)"
   ]
  },
  {
   "cell_type": "code",
   "execution_count": 10,
   "metadata": {},
   "outputs": [],
   "source": [
    "def select_all(key):\n",
    "    return lambda data: jsonp.match(key, data)\n",
    "\n",
    "def select_one(key):\n",
    "    return lambda data: jsonp.match1(key, data)\n",
    "\n",
    "def contains(key, value):\n",
    "    return lambda data: jsonp.match1(key, data) == value"
   ]
  },
  {
   "cell_type": "code",
   "execution_count": 18,
   "metadata": {},
   "outputs": [],
   "source": [
    "def all_of(*filters):\n",
    "    def fn(data):\n",
    "        for f in filters:\n",
    "            if not f(data):\n",
    "                return False\n",
    "        return True  \n",
    "    return fn"
   ]
  },
  {
   "cell_type": "code",
   "execution_count": 12,
   "metadata": {},
   "outputs": [],
   "source": [
    "def flattern(data):\n",
    "    return [l2 for l1 in data for l2 in l1]"
   ]
  },
  {
   "cell_type": "code",
   "execution_count": 11,
   "metadata": {
    "collapsed": true
   },
   "outputs": [],
   "source": [
    "def get_nodes(data, ptr):\n",
    "    return [match.value for match in jsonp.parse(ptr).find(data)]"
   ]
  },
  {
   "cell_type": "markdown",
   "metadata": {},
   "source": [
    "## Analysis"
   ]
  },
  {
   "cell_type": "code",
   "execution_count": 8,
   "metadata": {},
   "outputs": [
    {
     "data": {
      "text/plain": [
       "171"
      ]
     },
     "execution_count": 8,
     "metadata": {},
     "output_type": "execute_result"
    }
   ],
   "source": [
    "from os import listdir\n",
    "from os.path import isfile, join\n",
    "\n",
    "game = 'pr'\n",
    "games = [join(game, f) for f in listdir(game) if f.endswith('.json')]\n",
    "len(games)"
   ]
  },
  {
   "cell_type": "raw",
   "metadata": {},
   "source": [
    "for f in games:\n",
    "    d = load_from_json_file(f)\n",
    "    if not d:\n",
    "        os.remove(f)\n",
    "        continue\n",
    "    endgame_reason = get_nodes(d, '$.info.result.endgame_reason')[0]\n",
    "    if endgame_reason != 'normal_end':\n",
    "        os.remove(f)"
   ]
  },
  {
   "cell_type": "code",
   "execution_count": 13,
   "metadata": {},
   "outputs": [
    {
     "name": "stdout",
     "output_type": "stream",
     "text": [
      "   \n",
      "\n",
      "..... ..... ..... .....   ..... ..... ..... .....   ..... ..... ..... .....   ..... ..... ..... .....   ..... ..... ..... .....   \n",
      "..... ..... ..... .....   ..... ..... ..... .....   ..... ..... ..... .....   ..... ..... ."
     ]
    },
    {
     "data": {
      "application/json": [
       {
        "additional_reflexion_time_advice": "60",
        "admin_id": null,
        "beginner_not_recommended_player_number": [],
        "cancelled": "0",
        "current_player_nbr": 0,
        "current_present_player_nbr": 0,
        "duration": "30",
        "estimated_duration": 49,
        "fast": "87",
        "filter_group": null,
        "filter_group_name": null,
        "filter_group_type": null,
        "filter_group_visibility": null,
        "filter_lang": null,
        "game_id": "14",
        "game_max_players": "5",
        "game_min_players": "2",
        "game_name": "puertorico",
        "game_player_number": {
         "2": 1,
         "3": 1,
         "4": 1,
         "5": 1
        },
        "game_status": "public",
        "gameserver": "5",
        "gamestart": "1537827732",
        "gameversion": "180723-1044",
        "id": "44214297",
        "initial_reflexion_time_advice": "300",
        "level_filter": {
         "details": {
          "Apprentices": true,
          "Average players": true,
          "Beginners": true,
          "Experts": true,
          "Good players": true,
          "Masters": true,
          "Strong players": true
         },
         "label": {
          "args": [],
          "log": ""
         }
        },
        "level_filter_r": "127",
        "log_archived": "1",
        "max_player": "5",
        "medium": "124",
        "min_player": "2",
        "news_id": null,
        "not_recommend_player_number": [],
        "options": {
         "100": {
          "name": "Balance variant",
          "type": "enum",
          "value": "0",
          "values": [
           {
            "name": "Classic game"
           },
           {
            "name": "Balanced game",
            "tmdisplay": "Balanced game"
           }
          ]
         },
         "101": {
          "name": "Two-player variant",
          "type": "enum",
          "value": "0",
          "values": [
           {
            "name": "Classic game"
           },
           {
            "name": "Craftsman Angst",
            "tmdisplay": "Craftsman Angst"
           }
          ]
         },
         "102": {
          "name": "First expansion - New buildings",
          "type": "enum",
          "value": "0",
          "values": [
           {
            "name": "Off"
           },
           {
            "majorvariant": true,
            "name": "On",
            "premium": true,
            "tmdisplay": "New buildings"
           }
          ]
         },
         "103": {
          "name": "Second expansion - The nobles",
          "type": "enum",
          "value": "0",
          "values": [
           {
            "name": "Off"
           },
           {
            "majorvariant": true,
            "name": "On",
            "premium": true,
            "tmdisplay": "The nobles"
           }
          ]
         },
         "200": {
          "name": "Game speed",
          "type": "enum",
          "value": "1",
          "values": {
           "0": {
            "name": "Real-time • Fast speed",
            "shortname": "Real-time • Fast"
           },
           "1": {
            "name": "Real-time • Normal speed",
            "shortname": "Real-time • Normal"
           },
           "13": {
            "name": "Turn-based &bull; 4 moves per day",
            "shortname": "Turn-based &bull; 4 moves per day"
           },
           "14": {
            "name": "Turn-based &bull; 3 moves per day",
            "shortname": "Turn-based &bull; 3 moves per day"
           },
           "15": {
            "name": "Turn-based &bull; 2 moves per day",
            "shortname": "Turn-based &bull; 2 moves per day"
           },
           "17": {
            "name": "Turn-based &bull; 1 move per day",
            "shortname": "Turn-based &bull; 1 move per day"
           },
           "19": {
            "name": "Turn-based &bull; 1 move per 2 days",
            "shortname": "Turn-based &bull; 1 move per 2 days"
           },
           "2": {
            "name": "Real-time • Slow speed",
            "shortname": "Real-time • Slow"
           },
           "20": {
            "name": "Turn-based &bull; No time limit (not recommended)",
            "shortname": "Turn-based &bull; No time limit (not recommended)"
           },
           "21": {
            "name": "Turn-based &bull; Fixed time limit",
            "no_player_selection": true,
            "shortname": "Turn-based"
           },
           "5": {
            "name": "Real-time • Fixed time limit",
            "no_player_selection": true,
            "shortname": "Real-time"
           }
          }
         },
         "201": {
          "name": "ELO rating",
          "type": "enum",
          "value": "0",
          "values": [
           {
            "name": "On"
           },
           {
            "name": "Off"
           }
          ]
         }
        },
        "player_display": [],
        "player_number_advice": "4",
        "player_number_not_recommended": "",
        "players": {
         "10263068": {
          "awards": [
           {
            "championship_name": null,
            "date": "1391369033",
            "defending": "1",
            "game": "14",
            "id": "1372476",
            "linked_tournament": null,
            "name": "100victory",
            "player": "10263068",
            "prestige": "480",
            "prestigeclass": "3",
            "tgroup": null,
            "tournament_name": null,
            "type_id": "6"
           },
           {
            "championship_name": null,
            "date": "1405113102",
            "defending": "1",
            "game": "14",
            "id": "1785096",
            "linked_tournament": null,
            "name": "500played",
            "player": "10263068",
            "prestige": "464",
            "prestigeclass": "3",
            "tgroup": null,
            "tournament_name": null,
            "type_id": "18"
           },
           {
            "championship_name": null,
            "date": "1490906327",
            "defending": "1",
            "game": "14",
            "id": "5835317",
            "linked_tournament": null,
            "name": "1400elo",
            "player": "10263068",
            "prestige": "10",
            "prestigeclass": "1",
            "tgroup": null,
            "tournament_name": null,
            "type_id": "35"
           }
          ]
         },
         "23853918": {
          "awards": [
           {
            "championship_name": null,
            "date": "1487046923",
            "defending": "1",
            "game": "14",
            "id": "5432680",
            "linked_tournament": null,
            "name": "100victory",
            "player": "23853918",
            "prestige": "544",
            "prestigeclass": "4",
            "tgroup": null,
            "tournament_name": null,
            "type_id": "6"
           },
           {
            "championship_name": null,
            "date": "1468277546",
            "defending": "1",
            "game": "14",
            "id": "4249637",
            "linked_tournament": null,
            "name": "200played",
            "player": "23853918",
            "prestige": "272",
            "prestigeclass": "3",
            "tgroup": null,
            "tournament_name": null,
            "type_id": "17"
           },
           {
            "championship_name": null,
            "date": "1537639704",
            "defending": "1",
            "game": "14",
            "id": "10468707",
            "linked_tournament": null,
            "name": "1400elo",
            "player": "23853918",
            "prestige": "10",
            "prestigeclass": "1",
            "tgroup": null,
            "tournament_name": null,
            "type_id": "35"
           }
          ]
         },
         "84651347": {
          "awards": [
           {
            "championship_name": null,
            "date": "1511474024",
            "defending": "1",
            "game": "14",
            "id": "7822217",
            "linked_tournament": null,
            "name": "5played",
            "player": "84651347",
            "prestige": "10",
            "prestigeclass": "1",
            "tgroup": null,
            "tournament_name": null,
            "type_id": "13"
           },
           {
            "championship_name": null,
            "date": "1510448669",
            "defending": "1",
            "game": "14",
            "id": "7735565",
            "linked_tournament": null,
            "name": "1300elo",
            "player": "84651347",
            "prestige": "3",
            "prestigeclass": "1",
            "tgroup": null,
            "tournament_name": null,
            "type_id": "34"
           }
          ]
         },
         "84835668": {
          "awards": [
           {
            "championship_name": null,
            "date": "1535028051",
            "defending": "1",
            "game": "14",
            "id": "10183014",
            "linked_tournament": null,
            "name": "200played",
            "player": "84835668",
            "prestige": "240",
            "prestigeclass": "3",
            "tgroup": null,
            "tournament_name": null,
            "type_id": "17"
           },
           {
            "championship_name": null,
            "date": "1534685242",
            "defending": "1",
            "game": "14",
            "id": "10143592",
            "linked_tournament": null,
            "name": "50victory",
            "player": "84835668",
            "prestige": "240",
            "prestigeclass": "3",
            "tgroup": null,
            "tournament_name": null,
            "type_id": "5"
           },
           {
            "championship_name": null,
            "date": "1535672024",
            "defending": "1",
            "game": "14",
            "id": "10256956",
            "linked_tournament": null,
            "name": "1400elo",
            "player": "84835668",
            "prestige": "10",
            "prestigeclass": "1",
            "tgroup": null,
            "tournament_name": null,
            "type_id": "35"
           }
          ]
         }
        },
        "pma": false,
        "presentation": "",
        "progression": "94",
        "reputation_filter": {
         "details": {
          "clock": 0,
          "karma": 0,
          "leave": 0,
          "opinion": 0
         },
         "label": ""
        },
        "reputation_filter_r": "0",
        "result": {
         "concede": "0",
         "endgame_reason": "normal_end",
         "game_id": "14",
         "game_name": "puertorico",
         "id": "44214297",
         "losers_not_ranked": false,
         "penalties": {
          "10263068": {
           "clock": -1,
           "leave": -1
          },
          "23853918": {
           "clock": -1,
           "leave": -1
          },
          "84651347": {
           "clock": -1,
           "leave": -1
          },
          "84835668": {
           "clock": -1,
           "leave": -1
          }
         },
         "player": [
          {
           "avatar": "000000",
           "country": {
            "cur": "USD",
            "flag": 229,
            "flag_x": 352,
            "flag_y": 99,
            "name": "United States"
           },
           "finish_game": "1",
           "gamerank": "1",
           "gender": "1",
           "is_beginner": "0",
           "is_premium": "0",
           "is_tie": "0",
           "name": "Gamesterz",
           "player_id": "23853918",
           "point_win": "17.563695240039",
           "rank_after_game": "1491.5860778682",
           "score": "50",
           "score_aux": "7",
           "th_name": null
          },
          {
           "avatar": "482c3784a7",
           "country": {
            "cur": "EUR",
            "flag": 89,
            "flag_x": 128,
            "flag_y": 99,
            "name": "Greece"
           },
           "finish_game": "1",
           "gamerank": "2",
           "gender": "1",
           "is_beginner": "0",
           "is_premium": "0",
           "is_tie": "0",
           "name": "MacFredy",
           "player_id": "10263068",
           "point_win": "9.3282603323305",
           "rank_after_game": "1415.5956170293",
           "score": "46",
           "score_aux": "12",
           "th_name": null
          },
          {
           "avatar": "000000",
           "country": {
            "cur": "EUR",
            "flag": 109,
            "flag_x": 160,
            "flag_y": 99,
            "name": "Italy"
           },
           "finish_game": "1",
           "gamerank": "3",
           "gender": null,
           "is_beginner": "0",
           "is_premium": "0",
           "is_tie": "0",
           "name": "erbestia",
           "player_id": "84651347",
           "point_win": "0",
           "rank_after_game": "1388.9164721598",
           "score": "41",
           "score_aux": "10",
           "th_name": null
          },
          {
           "avatar": "000000",
           "country": {
            "cur": "BRL",
            "flag": 28,
            "flag_x": 32,
            "flag_y": 88,
            "name": "Brazil"
           },
           "finish_game": "1",
           "gamerank": "4",
           "gender": "1",
           "is_beginner": "0",
           "is_premium": "0",
           "is_tie": "0",
           "name": "José_Filho",
           "player_id": "84835668",
           "point_win": "-24.176296155099",
           "rank_after_game": "1473.2652164081",
           "score": "38",
           "score_aux": "10",
           "th_name": null
          }
         ],
         "stats": {
          "player": {
           "big_buildings_owned": {
            "id": 19,
            "name": "Large buildings",
            "type": "int",
            "valuelabels": [],
            "values": {
             "10263068": "*masked*",
             "23853918": "*masked*",
             "84651347": "*masked*",
             "84835668": "*masked*"
            }
           },
           "building_victory_points": {
            "id": 11,
            "name": "Victory points earned by building",
            "type": "int",
            "valuelabels": [],
            "values": {
             "10263068": "*masked*",
             "23853918": "*masked*",
             "84651347": "*masked*",
             "84835668": "*masked*"
            }
           },
           "colonists_owned": {
            "id": 15,
            "name": "Colonists",
            "type": "int",
            "valuelabels": [],
            "values": {
             "10263068": "*masked*",
             "23853918": "*masked*",
             "84651347": "*masked*",
             "84835668": "*masked*"
            }
           },
           "doubloons_owned": {
            "id": 13,
            "name": "Doubloons owned at game end",
            "type": "int",
            "valuelabels": [],
            "values": {
             "10263068": "*masked*",
             "23853918": "*masked*",
             "84651347": "*masked*",
             "84835668": "*masked*"
            }
           },
           "goods_owned": {
            "id": 14,
            "name": "Good barrels owned at game end",
            "type": "int",
            "valuelabels": [],
            "values": {
             "10263068": "*masked*",
             "23853918": "*masked*",
             "84651347": "*masked*",
             "84835668": "*masked*"
            }
           },
           "large_building_victory_points": {
            "id": 12,
            "name": "Victory points earned through occupied large buildings",
            "type": "int",
            "valuelabels": [],
            "values": {
             "10263068": "*masked*",
             "23853918": "*masked*",
             "84651347": "*masked*",
             "84835668": "*masked*"
            }
           },
           "plantations_owned": {
            "id": 16,
            "name": "Plantations",
            "type": "int",
            "valuelabels": [],
            "values": {
             "10263068": "*masked*",
             "23853918": "*masked*",
             "84651347": "*masked*",
             "84835668": "*masked*"
            }
           },
           "quarries_owned": {
            "id": 17,
            "name": "Quarries",
            "type": "int",
            "valuelabels": [],
            "values": {
             "10263068": "*masked*",
             "23853918": "*masked*",
             "84651347": "*masked*",
             "84835668": "*masked*"
            }
           },
           "reflexion_time": {
            "id": 1,
            "name": "Thinking time",
            "type": "int",
            "unit": "min",
            "valuelabels": [],
            "values": {
             "10263068": "*masked*",
             "23853918": "*masked*",
             "84651347": "*masked*",
             "84835668": "*masked*"
            }
           },
           "shipping_victory_points": {
            "id": 10,
            "name": "Victory points earned by shipping",
            "type": "int",
            "valuelabels": [],
            "values": {
             "10263068": "*masked*",
             "23853918": "*masked*",
             "84651347": "*masked*",
             "84835668": "*masked*"
            }
           },
           "small_buildings_owned": {
            "id": 18,
            "name": "Small buildings",
            "type": "int",
            "valuelabels": [],
            "values": {
             "10263068": "*masked*",
             "23853918": "*masked*",
             "84651347": "*masked*",
             "84835668": "*masked*"
            }
           }
          },
          "table": {
           "avg_points": {
            "id": 2,
            "name": "Average score",
            "type": "float",
            "value": "*masked*"
           },
           "best_score": {
            "id": 3,
            "name": "Best score",
            "type": "int",
            "value": "*masked*"
           },
           "doubloons_bank": {
            "id": 12,
            "name": "Doubloons in the bank",
            "type": "int",
            "value": "*masked*"
           },
           "player_number": {
            "id": 1,
            "name": "Number of players",
            "type": "int",
            "value": "*masked*"
           },
           "unclaimed_big_buildings": {
            "id": 16,
            "name": "Unclaimed large buildings",
            "type": "int",
            "value": "*masked*"
           },
           "unclaimed_colonists": {
            "id": 11,
            "name": "Unclaimed colonists",
            "type": "int",
            "value": "*masked*"
           },
           "unclaimed_plantations": {
            "id": 13,
            "name": "Unclaimed plantations",
            "type": "int",
            "value": "*masked*"
           },
           "unclaimed_quarries": {
            "id": 14,
            "name": "Unclaimed quarries",
            "type": "int",
            "value": "*masked*"
           },
           "unclaimed_small_buildings": {
            "id": 15,
            "name": "Unclaimed small buildings",
            "type": "int",
            "value": "*masked*"
           },
           "unclaimed_victory_points": {
            "id": 10,
            "name": "Unclaimed victory points",
            "type": "int",
            "value": "*masked*"
           }
          }
         },
         "table_level": "1441.661931012",
         "time_duration": "3275",
         "time_end": "2018-09-25 01:16:47",
         "time_start": "2018-09-25 00:22:12",
         "trophies": []
        },
        "rtc_mode": null,
        "sandbox": "0",
        "scheduled": "1537827440",
        "scheduled_string": "tomorrow at 01:17",
        "siteversion": "180920-1630",
        "slow": "174",
        "status": "archive",
        "suggested": [],
        "thumbs": {
         "29724467": {
          "n": "0",
          "po_subject": "29724467",
          "t": "1"
         },
         "33357709": {
          "n": "0",
          "po_subject": "33357709",
          "t": "1"
         },
         "3666569": {
          "n": "0",
          "po_subject": "3666569",
          "t": "1"
         },
         "83903620": {
          "n": "0",
          "po_subject": "83903620",
          "t": "1"
         },
         "83934148": {
          "n": "0",
          "po_subject": "83934148",
          "t": "1"
         },
         "83941687": {
          "n": "0",
          "po_subject": "83941687",
          "t": "1"
         },
         "83948137": {
          "n": "0",
          "po_subject": "83948137",
          "t": "1"
         },
         "83974152": {
          "n": "0",
          "po_subject": "83974152",
          "t": "1"
         },
         "83977191": {
          "n": "0",
          "po_subject": "83977191",
          "t": "1"
         },
         "84013724": {
          "n": "0",
          "po_subject": "84013724",
          "t": "1"
         },
         "84049173": {
          "n": "0",
          "po_subject": "84049173",
          "t": "1"
         },
         "84120761": {
          "n": "0",
          "po_subject": "84120761",
          "t": "1"
         },
         "84145684": {
          "n": "0",
          "po_subject": "84145684",
          "t": "1"
         },
         "84149715": {
          "n": "0",
          "po_subject": "84149715",
          "t": "1"
         },
         "84152507": {
          "n": "0",
          "po_subject": "84152507",
          "t": "1"
         },
         "84159359": {
          "n": "0",
          "po_subject": "84159359",
          "t": "1"
         },
         "84164045": {
          "n": "0",
          "po_subject": "84164045",
          "t": "1"
         },
         "84164812": {
          "n": "0",
          "po_subject": "84164812",
          "t": "1"
         },
         "84173318": {
          "n": "0",
          "po_subject": "84173318",
          "t": "1"
         },
         "84177719": {
          "n": "0",
          "po_subject": "84177719",
          "t": "1"
         },
         "84188837": {
          "n": "0",
          "po_subject": "84188837",
          "t": "1"
         },
         "84191406": {
          "n": "0",
          "po_subject": "84191406",
          "t": "1"
         },
         "84191935": {
          "n": "0",
          "po_subject": "84191935",
          "t": "1"
         },
         "84204819": {
          "n": "0",
          "po_subject": "84204819",
          "t": "1"
         },
         "84205772": {
          "n": "0",
          "po_subject": "84205772",
          "t": "1"
         },
         "84219791": {
          "n": "0",
          "po_subject": "84219791",
          "t": "1"
         },
         "84223999": {
          "n": "0",
          "po_subject": "84223999",
          "t": "1"
         },
         "84225896": {
          "n": "0",
          "po_subject": "84225896",
          "t": "1"
         },
         "84234536": {
          "n": "0",
          "po_subject": "84234536",
          "t": "1"
         },
         "84235146": {
          "n": "0",
          "po_subject": "84235146",
          "t": "1"
         }
        },
        "time_profile": {
         "additional_time_per_move": "124",
         "extra_time_to_think_to_expel": 300,
         "initial_time_to_thing": 300,
         "maximum_time_per_move": 240
        },
        "unranked": "0",
        "visitors": []
       },
       {
        "additional_reflexion_time_advice": "60",
        "admin_id": null,
        "beginner_not_recommended_player_number": [],
        "cancelled": "0",
        "current_player_nbr": 0,
        "current_present_player_nbr": 0,
        "duration": "30",
        "estimated_duration": 48571,
        "fast": "87",
        "filter_group": null,
        "filter_group_name": null,
        "filter_group_type": null,
        "filter_group_visibility": null,
        "filter_lang": null,
        "game_id": "14",
        "game_max_players": "5",
        "game_min_players": "2",
        "game_name": "puertorico",
        "game_player_number": {
         "2": 1,
         "3": 1,
         "4": 1,
         "5": 1
        },
        "game_status": "public",
        "gameserver": "1",
        "gamestart": "1533585089",
        "gameversion": "180723-1044",
        "id": "42693026",
        "initial_reflexion_time_advice": "300",
        "level_filter": {
         "details": {
          "Apprentices": true,
          "Average players": false,
          "Beginners": true,
          "Experts": false,
          "Good players": false,
          "Masters": false,
          "Strong players": false
         },
         "label": {
          "args": {
           "i18n": [
            "low"
           ],
           "low": "Apprentices"
          },
          "log": "${low} and below"
         }
        },
        "level_filter_r": "3",
        "log_archived": "1",
        "max_player": "4",
        "medium": "124",
        "min_player": "4",
        "news_id": null,
        "not_recommend_player_number": [],
        "options": {
         "100": {
          "name": "Balance variant",
          "type": "enum",
          "value": "0",
          "values": [
           {
            "name": "Classic game"
           },
           {
            "name": "Balanced game",
            "tmdisplay": "Balanced game"
           }
          ]
         },
         "101": {
          "name": "Two-player variant",
          "type": "enum",
          "value": "0",
          "values": [
           {
            "name": "Classic game"
           },
           {
            "name": "Craftsman Angst",
            "tmdisplay": "Craftsman Angst"
           }
          ]
         },
         "102": {
          "name": "First expansion - New buildings",
          "type": "enum",
          "value": "0",
          "values": [
           {
            "name": "Off"
           },
           {
            "majorvariant": true,
            "name": "On",
            "premium": true,
            "tmdisplay": "New buildings"
           }
          ]
         },
         "103": {
          "name": "Second expansion - The nobles",
          "type": "enum",
          "value": "0",
          "values": [
           {
            "name": "Off"
           },
           {
            "majorvariant": true,
            "name": "On",
            "premium": true,
            "tmdisplay": "The nobles"
           }
          ]
         },
         "200": {
          "name": "Game speed",
          "type": "enum",
          "value": "17",
          "values": {
           "0": {
            "name": "Real-time • Fast speed",
            "shortname": "Real-time • Fast"
           },
           "1": {
            "name": "Real-time • Normal speed",
            "shortname": "Real-time • Normal"
           },
           "13": {
            "name": "Turn-based &bull; 4 moves per day",
            "shortname": "Turn-based &bull; 4 moves per day"
           },
           "14": {
            "name": "Turn-based &bull; 3 moves per day",
            "shortname": "Turn-based &bull; 3 moves per day"
           },
           "15": {
            "name": "Turn-based &bull; 2 moves per day",
            "shortname": "Turn-based &bull; 2 moves per day"
           },
           "17": {
            "name": "Turn-based &bull; 1 move per day",
            "shortname": "Turn-based &bull; 1 move per day"
           },
           "19": {
            "name": "Turn-based &bull; 1 move per 2 days",
            "shortname": "Turn-based &bull; 1 move per 2 days"
           },
           "2": {
            "name": "Real-time • Slow speed",
            "shortname": "Real-time • Slow"
           },
           "20": {
            "name": "Turn-based &bull; No time limit (not recommended)",
            "shortname": "Turn-based &bull; No time limit (not recommended)"
           },
           "21": {
            "name": "Turn-based &bull; Fixed time limit",
            "no_player_selection": true,
            "shortname": "Turn-based"
           },
           "5": {
            "name": "Real-time • Fixed time limit",
            "no_player_selection": true,
            "shortname": "Real-time"
           }
          }
         },
         "201": {
          "name": "ELO rating",
          "type": "enum",
          "value": "0",
          "values": [
           {
            "name": "On"
           },
           {
            "name": "Off"
           }
          ]
         }
        },
        "player_display": [],
        "player_number_advice": "4",
        "player_number_not_recommended": "",
        "players": {
         "30648435": {
          "awards": [
           {
            "championship_name": null,
            "date": "1536932236",
            "defending": "1",
            "game": "14",
            "id": "10390911",
            "linked_tournament": null,
            "name": "20played",
            "player": "30648435",
            "prestige": "15",
            "prestigeclass": "1",
            "tgroup": null,
            "tournament_name": null,
            "type_id": "14"
           },
           {
            "championship_name": null,
            "date": "1537824910",
            "defending": "1",
            "game": "14",
            "id": "10489903",
            "linked_tournament": null,
            "name": "1400elo",
            "player": "30648435",
            "prestige": "10",
            "prestigeclass": "1",
            "tgroup": null,
            "tournament_name": null,
            "type_id": "35"
           },
           {
            "championship_name": null,
            "date": "1533285346",
            "defending": "1",
            "game": "14",
            "id": "9979890",
            "linked_tournament": null,
            "name": "firstvictory",
            "player": "30648435",
            "prestige": "9",
            "prestigeclass": "1",
            "tgroup": null,
            "tournament_name": null,
            "type_id": "1"
           }
          ]
         },
         "84212672": {
          "awards": [
           {
            "championship_name": null,
            "date": "1533306580",
            "defending": "1",
            "game": "14",
            "id": "9982731",
            "linked_tournament": null,
            "name": "1300elo",
            "player": "84212672",
            "prestige": "3",
            "prestigeclass": "1",
            "tgroup": null,
            "tournament_name": null,
            "type_id": "34"
           }
          ]
         },
         "84336398": {
          "awards": [
           {
            "championship_name": null,
            "date": "1479473679",
            "defending": "1",
            "game": "14",
            "id": "4769873",
            "linked_tournament": null,
            "name": "5played",
            "player": "84336398",
            "prestige": "10",
            "prestigeclass": "1",
            "tgroup": null,
            "tournament_name": null,
            "type_id": "13"
           },
           {
            "championship_name": null,
            "date": "1477974648",
            "defending": "1",
            "game": "14",
            "id": "4685777",
            "linked_tournament": null,
            "name": "firstvictory",
            "player": "84336398",
            "prestige": "10",
            "prestigeclass": "1",
            "tgroup": null,
            "tournament_name": null,
            "type_id": "1"
           },
           {
            "championship_name": null,
            "date": "1485373513",
            "defending": "1",
            "game": "14",
            "id": "5245904",
            "linked_tournament": null,
            "name": "1300elo",
            "player": "84336398",
            "prestige": "3",
            "prestigeclass": "1",
            "tgroup": null,
            "tournament_name": null,
            "type_id": "34"
           }
          ]
         },
         "84572988": {
          "awards": [
           {
            "championship_name": null,
            "date": "1533342296",
            "defending": "1",
            "game": "14",
            "id": "9987895",
            "linked_tournament": null,
            "name": "20victory",
            "player": "84572988",
            "prestige": "90",
            "prestigeclass": "2",
            "tgroup": null,
            "tournament_name": null,
            "type_id": "4"
           },
           {
            "championship_name": null,
            "date": "1532890233",
            "defending": "1",
            "game": "14",
            "id": "9935180",
            "linked_tournament": null,
            "name": "50played",
            "player": "84572988",
            "prestige": "45",
            "prestigeclass": "1",
            "tgroup": null,
            "tournament_name": null,
            "type_id": "15"
           },
           {
            "championship_name": null,
            "date": "1531525040",
            "defending": "1",
            "game": "14",
            "id": "9751985",
            "linked_tournament": null,
            "name": "1400elo",
            "player": "84572988",
            "prestige": "10",
            "prestigeclass": "1",
            "tgroup": null,
            "tournament_name": null,
            "type_id": "35"
           }
          ]
         }
        },
        "pma": false,
        "presentation": "",
        "progression": "0",
        "reputation_filter": {
         "details": {
          "clock": 0,
          "karma": 3,
          "leave": 0,
          "opinion": 0
         },
         "label": "<div class=\"iblock\">☯ &ge; 75%</div>"
        },
        "reputation_filter_r": "192",
        "result": {
         "concede": "0",
         "endgame_reason": "normal_end",
         "game_id": "14",
         "game_name": "puertorico",
         "id": "42693026",
         "losers_not_ranked": false,
         "penalties": {
          "30648435": {
           "clock": -1,
           "leave": -1
          },
          "84212672": {
           "clock": -1,
           "leave": -1
          },
          "84336398": {
           "clock": -1,
           "leave": -1
          },
          "84572988": {
           "clock": -1,
           "leave": -1
          }
         },
         "player": [
          {
           "avatar": "000000",
           "country": {
            "cur": "ARS",
            "flag": 9,
            "flag_x": 0,
            "flag_y": 99,
            "name": "Argentina"
           },
           "finish_game": "1",
           "gamerank": "1",
           "gender": null,
           "is_beginner": "0",
           "is_premium": "0",
           "is_tie": "0",
           "name": "JonathanGett",
           "player_id": "84572988",
           "point_win": "14.622293127453",
           "rank_after_game": "1469.2178359014",
           "score": "48",
           "score_aux": "6",
           "th_name": null
          },
          {
           "avatar": "5f5da2ba8d",
           "country": {
            "cur": "EUR",
            "flag": 109,
            "flag_x": 160,
            "flag_y": 99,
            "name": "Italy"
           },
           "finish_game": "1",
           "gamerank": "2",
           "gender": "1",
           "is_beginner": "0",
           "is_premium": "0",
           "is_tie": "0",
           "name": "Ellendir",
           "player_id": "30648435",
           "point_win": "11.882737360942",
           "rank_after_game": "1403.4180845256",
           "score": "47",
           "score_aux": "1",
           "th_name": null
          },
          {
           "avatar": "129b486822",
           "country": {
            "cur": "ARS",
            "flag": 9,
            "flag_x": 0,
            "flag_y": 99,
            "name": "Argentina"
           },
           "finish_game": "1",
           "gamerank": "3",
           "gender": null,
           "is_beginner": "0",
           "is_premium": "0",
           "is_tie": "0",
           "name": "Santis",
           "player_id": "84336398",
           "point_win": "0",
           "rank_after_game": "1379.8954221236",
           "score": "45",
           "score_aux": "12",
           "th_name": null
          },
          {
           "avatar": "82c1d2a75e",
           "country": {
            "cur": "ARS",
            "flag": 9,
            "flag_x": 0,
            "flag_y": 99,
            "name": "Argentina"
           },
           "finish_game": "1",
           "gamerank": "4",
           "gender": "1",
           "is_beginner": "0",
           "is_premium": "0",
           "is_tie": "0",
           "name": "Luq B1",
           "player_id": "84212672",
           "point_win": "0",
           "rank_after_game": "1301",
           "score": "38",
           "score_aux": "1",
           "th_name": null
          }
         ],
         "stats": {
          "player": {
           "big_buildings_owned": {
            "id": 19,
            "name": "Large buildings",
            "type": "int",
            "valuelabels": [],
            "values": {
             "30648435": "*masked*",
             "84212672": "*masked*",
             "84336398": "*masked*",
             "84572988": "*masked*"
            }
           },
           "building_victory_points": {
            "id": 11,
            "name": "Victory points earned by building",
            "type": "int",
            "valuelabels": [],
            "values": {
             "30648435": "*masked*",
             "84212672": "*masked*",
             "84336398": "*masked*",
             "84572988": "*masked*"
            }
           },
           "colonists_owned": {
            "id": 15,
            "name": "Colonists",
            "type": "int",
            "valuelabels": [],
            "values": {
             "30648435": "*masked*",
             "84212672": "*masked*",
             "84336398": "*masked*",
             "84572988": "*masked*"
            }
           },
           "doubloons_owned": {
            "id": 13,
            "name": "Doubloons owned at game end",
            "type": "int",
            "valuelabels": [],
            "values": {
             "30648435": "*masked*",
             "84212672": "*masked*",
             "84336398": "*masked*",
             "84572988": "*masked*"
            }
           },
           "goods_owned": {
            "id": 14,
            "name": "Good barrels owned at game end",
            "type": "int",
            "valuelabels": [],
            "values": {
             "30648435": "*masked*",
             "84212672": "*masked*",
             "84336398": "*masked*",
             "84572988": "*masked*"
            }
           },
           "large_building_victory_points": {
            "id": 12,
            "name": "Victory points earned through occupied large buildings",
            "type": "int",
            "valuelabels": [],
            "values": {
             "30648435": "*masked*",
             "84212672": "*masked*",
             "84336398": "*masked*",
             "84572988": "*masked*"
            }
           },
           "plantations_owned": {
            "id": 16,
            "name": "Plantations",
            "type": "int",
            "valuelabels": [],
            "values": {
             "30648435": "*masked*",
             "84212672": "*masked*",
             "84336398": "*masked*",
             "84572988": "*masked*"
            }
           },
           "quarries_owned": {
            "id": 17,
            "name": "Quarries",
            "type": "int",
            "valuelabels": [],
            "values": {
             "30648435": "*masked*",
             "84212672": "*masked*",
             "84336398": "*masked*",
             "84572988": "*masked*"
            }
           },
           "reflexion_time": {
            "id": 1,
            "name": "Thinking time",
            "type": "int",
            "unit": "min",
            "valuelabels": [],
            "values": {
             "30648435": "*masked*",
             "84212672": "*masked*",
             "84336398": "*masked*",
             "84572988": "*masked*"
            }
           },
           "shipping_victory_points": {
            "id": 10,
            "name": "Victory points earned by shipping",
            "type": "int",
            "valuelabels": [],
            "values": {
             "30648435": "*masked*",
             "84212672": "*masked*",
             "84336398": "*masked*",
             "84572988": "*masked*"
            }
           },
           "small_buildings_owned": {
            "id": 18,
            "name": "Small buildings",
            "type": "int",
            "valuelabels": [],
            "values": {
             "30648435": "*masked*",
             "84212672": "*masked*",
             "84336398": "*masked*",
             "84572988": "*masked*"
            }
           }
          },
          "table": {
           "avg_points": {
            "id": 2,
            "name": "Average score",
            "type": "float",
            "value": "*masked*"
           },
           "best_score": {
            "id": 3,
            "name": "Best score",
            "type": "int",
            "value": "*masked*"
           },
           "doubloons_bank": {
            "id": 12,
            "name": "Doubloons in the bank",
            "type": "int",
            "value": "*masked*"
           },
           "player_number": {
            "id": 1,
            "name": "Number of players",
            "type": "int",
            "value": "*masked*"
           },
           "unclaimed_big_buildings": {
            "id": 16,
            "name": "Unclaimed large buildings",
            "type": "int",
            "value": "*masked*"
           },
           "unclaimed_colonists": {
            "id": 11,
            "name": "Unclaimed colonists",
            "type": "int",
            "value": "*masked*"
           },
           "unclaimed_plantations": {
            "id": 13,
            "name": "Unclaimed plantations",
            "type": "int",
            "value": "*masked*"
           },
           "unclaimed_quarries": {
            "id": 14,
            "name": "Unclaimed quarries",
            "type": "int",
            "value": "*masked*"
           },
           "unclaimed_small_buildings": {
            "id": 15,
            "name": "Unclaimed small buildings",
            "type": "int",
            "value": "*masked*"
           },
           "unclaimed_victory_points": {
            "id": 10,
            "name": "Unclaimed victory points",
            "type": "int",
            "value": "*masked*"
           }
          }
         },
         "table_level": "1381.7565780156",
         "time_duration": "3020399",
         "time_end": "2018-09-24 23:35:10",
         "time_start": "2018-08-06 21:51:29",
         "trophies": {
          "30648435": [
           {
            "championship_name": null,
            "date": "1537824910",
            "defending": "1",
            "game": "14",
            "id": "10489903",
            "linked_tournament": null,
            "name": "1400elo",
            "player": "30648435",
            "prestige": "10",
            "tournament_name": null,
            "type_id": "35"
           }
          ]
         }
        },
        "rtc_mode": null,
        "sandbox": "0",
        "scheduled": "1533419857",
        "scheduled_string": "tomorrow at 00:57",
        "siteversion": "180802-1423",
        "slow": "174",
        "status": "archive",
        "suggested": [],
        "thumbs": {
         "29724467": {
          "n": "0",
          "po_subject": "29724467",
          "t": "1"
         },
         "33357709": {
          "n": "0",
          "po_subject": "33357709",
          "t": "1"
         },
         "3666569": {
          "n": "0",
          "po_subject": "3666569",
          "t": "1"
         },
         "83903620": {
          "n": "0",
          "po_subject": "83903620",
          "t": "1"
         },
         "83934148": {
          "n": "0",
          "po_subject": "83934148",
          "t": "1"
         },
         "83941687": {
          "n": "0",
          "po_subject": "83941687",
          "t": "1"
         },
         "83948137": {
          "n": "0",
          "po_subject": "83948137",
          "t": "1"
         },
         "83974152": {
          "n": "0",
          "po_subject": "83974152",
          "t": "1"
         },
         "83977191": {
          "n": "0",
          "po_subject": "83977191",
          "t": "1"
         },
         "84013724": {
          "n": "0",
          "po_subject": "84013724",
          "t": "1"
         },
         "84049173": {
          "n": "0",
          "po_subject": "84049173",
          "t": "1"
         },
         "84120761": {
          "n": "0",
          "po_subject": "84120761",
          "t": "1"
         },
         "84145684": {
          "n": "0",
          "po_subject": "84145684",
          "t": "1"
         },
         "84149715": {
          "n": "0",
          "po_subject": "84149715",
          "t": "1"
         },
         "84152507": {
          "n": "0",
          "po_subject": "84152507",
          "t": "1"
         },
         "84159359": {
          "n": "0",
          "po_subject": "84159359",
          "t": "1"
         },
         "84164045": {
          "n": "0",
          "po_subject": "84164045",
          "t": "1"
         },
         "84164812": {
          "n": "0",
          "po_subject": "84164812",
          "t": "1"
         },
         "84173318": {
          "n": "0",
          "po_subject": "84173318",
          "t": "1"
         },
         "84177719": {
          "n": "0",
          "po_subject": "84177719",
          "t": "1"
         },
         "84188837": {
          "n": "0",
          "po_subject": "84188837",
          "t": "1"
         },
         "84191406": {
          "n": "0",
          "po_subject": "84191406",
          "t": "1"
         },
         "84191935": {
          "n": "0",
          "po_subject": "84191935",
          "t": "1"
         },
         "84204819": {
          "n": "0",
          "po_subject": "84204819",
          "t": "1"
         },
         "84205772": {
          "n": "0",
          "po_subject": "84205772",
          "t": "1"
         },
         "84219791": {
          "n": "0",
          "po_subject": "84219791",
          "t": "1"
         },
         "84223999": {
          "n": "0",
          "po_subject": "84223999",
          "t": "1"
         },
         "84225896": {
          "n": "0",
          "po_subject": "84225896",
          "t": "1"
         },
         "84234536": {
          "n": "0",
          "po_subject": "84234536",
          "t": "1"
         },
         "84235146": {
          "n": "0",
          "po_subject": "84235146",
          "t": "1"
         }
        },
        "time_profile": {
         "additional_time_per_move": 86400,
         "extra_time_to_think_to_expel": 259200,
         "initial_time_to_thing": 518400,
         "maximum_time_per_move": 259200
        },
        "unranked": "0",
        "visitors": []
       },
       {
        "additional_reflexion_time_advice": "60",
        "admin_id": null,
        "beginner_not_recommended_player_number": [],
        "cancelled": "0",
        "current_player_nbr": 0,
        "current_present_player_nbr": 0,
        "duration": "30",
        "estimated_duration": 43,
        "fast": "87",
        "filter_group": null,
        "filter_group_name": null,
        "filter_group_type": null,
        "filter_group_visibility": null,
        "filter_lang": null,
        "game_id": "14",
        "game_max_players": "5",
        "game_min_players": "2",
        "game_name": "puertorico",
        "game_player_number": {
         "2": 1,
         "3": 1,
         "4": 1,
         "5": 1
        },
        "game_status": "public",
        "gameserver": "3",
        "gamestart": "1537792791",
        "gameversion": "180723-1044",
        "id": "44197726",
        "initial_reflexion_time_advice": "300",
        "level_filter": {
         "details": {
          "Apprentices": false,
          "Average players": false,
          "Beginners": false,
          "Experts": true,
          "Good players": true,
          "Masters": true,
          "Strong players": true
         },
         "label": {
          "args": {
           "i18n": [
            "up"
           ],
           "up": "Good players"
          },
          "log": "${up} and above"
         }
        },
        "level_filter_r": "120",
        "log_archived": "1",
        "max_player": "4",
        "medium": "124",
        "min_player": "4",
        "news_id": null,
        "not_recommend_player_number": [],
        "options": {
         "100": {
          "name": "Balance variant",
          "type": "enum",
          "value": "1",
          "values": [
           {
            "name": "Classic game"
           },
           {
            "name": "Balanced game",
            "tmdisplay": "Balanced game"
           }
          ]
         },
         "101": {
          "name": "Two-player variant",
          "type": "enum",
          "value": "0",
          "values": [
           {
            "name": "Classic game"
           },
           {
            "name": "Craftsman Angst",
            "tmdisplay": "Craftsman Angst"
           }
          ]
         },
         "102": {
          "name": "First expansion - New buildings",
          "type": "enum",
          "value": "0",
          "values": [
           {
            "name": "Off"
           },
           {
            "majorvariant": true,
            "name": "On",
            "premium": true,
            "tmdisplay": "New buildings"
           }
          ]
         },
         "103": {
          "name": "Second expansion - The nobles",
          "type": "enum",
          "value": "0",
          "values": [
           {
            "name": "Off"
           },
           {
            "majorvariant": true,
            "name": "On",
            "premium": true,
            "tmdisplay": "The nobles"
           }
          ]
         },
         "200": {
          "name": "Game speed",
          "type": "enum",
          "value": "0",
          "values": {
           "0": {
            "name": "Real-time • Fast speed",
            "shortname": "Real-time • Fast"
           },
           "1": {
            "name": "Real-time • Normal speed",
            "shortname": "Real-time • Normal"
           },
           "13": {
            "name": "Turn-based &bull; 4 moves per day",
            "shortname": "Turn-based &bull; 4 moves per day"
           },
           "14": {
            "name": "Turn-based &bull; 3 moves per day",
            "shortname": "Turn-based &bull; 3 moves per day"
           },
           "15": {
            "name": "Turn-based &bull; 2 moves per day",
            "shortname": "Turn-based &bull; 2 moves per day"
           },
           "17": {
            "name": "Turn-based &bull; 1 move per day",
            "shortname": "Turn-based &bull; 1 move per day"
           },
           "19": {
            "name": "Turn-based &bull; 1 move per 2 days",
            "shortname": "Turn-based &bull; 1 move per 2 days"
           },
           "2": {
            "name": "Real-time • Slow speed",
            "shortname": "Real-time • Slow"
           },
           "20": {
            "name": "Turn-based &bull; No time limit (not recommended)",
            "shortname": "Turn-based &bull; No time limit (not recommended)"
           },
           "21": {
            "name": "Turn-based &bull; Fixed time limit",
            "no_player_selection": true,
            "shortname": "Turn-based"
           },
           "5": {
            "name": "Real-time • Fixed time limit",
            "no_player_selection": true,
            "shortname": "Real-time"
           }
          }
         },
         "201": {
          "name": "ELO rating",
          "type": "enum",
          "value": "0",
          "values": [
           {
            "name": "On"
           },
           {
            "name": "Off"
           }
          ]
         }
        },
        "player_display": [],
        "player_number_advice": "4",
        "player_number_not_recommended": "",
        "players": {
         "15465948": {
          "awards": [
           {
            "championship_name": null,
            "date": "1538053660",
            "defending": "1",
            "game": "14",
            "id": "10510388",
            "linked_tournament": null,
            "name": "1500elo",
            "player": "15465948",
            "prestige": "50",
            "prestigeclass": "2",
            "tgroup": null,
            "tournament_name": null,
            "type_id": "36"
           },
           {
            "championship_name": null,
            "date": "1536677290",
            "defending": "1",
            "game": "14",
            "id": "10364635",
            "linked_tournament": null,
            "name": "50played",
            "player": "15465948",
            "prestige": "47",
            "prestigeclass": "1",
            "tgroup": null,
            "tournament_name": null,
            "type_id": "15"
           },
           {
            "championship_name": null,
            "date": "1537023905",
            "defending": "1",
            "game": "14",
            "id": "10401584",
            "linked_tournament": null,
            "name": "10victory",
            "player": "15465948",
            "prestige": "45",
            "prestigeclass": "1",
            "tgroup": null,
            "tournament_name": null,
            "type_id": "3"
           }
          ]
         },
         "84054167": {
          "awards": [
           {
            "championship_name": null,
            "date": "1485537182",
            "defending": "1",
            "game": "14",
            "id": "5263270",
            "linked_tournament": null,
            "name": "20victory",
            "player": "84054167",
            "prestige": "102",
            "prestigeclass": "3",
            "tgroup": null,
            "tournament_name": null,
            "type_id": "4"
           },
           {
            "championship_name": null,
            "date": "1484918112",
            "defending": "1",
            "game": "14",
            "id": "5191853",
            "linked_tournament": null,
            "name": "50played",
            "player": "84054167",
            "prestige": "51",
            "prestigeclass": "2",
            "tgroup": null,
            "tournament_name": null,
            "type_id": "15"
           },
           {
            "championship_name": null,
            "date": "1487261496",
            "defending": "1",
            "game": "14",
            "id": "5453046",
            "linked_tournament": null,
            "name": "1500elo",
            "player": "84054167",
            "prestige": "50",
            "prestigeclass": "2",
            "tgroup": null,
            "tournament_name": null,
            "type_id": "36"
           }
          ]
         },
         "84192579": {
          "awards": [
           {
            "championship_name": null,
            "date": "1460482775",
            "defending": "1",
            "game": "14",
            "id": "3892996",
            "linked_tournament": null,
            "name": "100victory",
            "player": "84192579",
            "prestige": "512",
            "prestigeclass": "4",
            "tgroup": null,
            "tournament_name": null,
            "type_id": "6"
           },
           {
            "championship_name": null,
            "date": "1464312934",
            "defending": "1",
            "game": "14",
            "id": "4074228",
            "linked_tournament": null,
            "name": "500played",
            "player": "84192579",
            "prestige": "496",
            "prestigeclass": "3",
            "tgroup": null,
            "tournament_name": null,
            "type_id": "18"
           },
           {
            "championship_name": null,
            "date": "1524580992",
            "defending": "1",
            "game": "14",
            "id": "9055867",
            "linked_tournament": null,
            "name": "1600elo",
            "player": "84192579",
            "prestige": "100",
            "prestigeclass": "3",
            "tgroup": null,
            "tournament_name": null,
            "type_id": "25"
           }
          ]
         },
         "84885970": {
          "awards": [
           {
            "championship_name": null,
            "date": "1537453920",
            "defending": "1",
            "game": "14",
            "id": "10449123",
            "linked_tournament": null,
            "name": "50victory",
            "player": "84885970",
            "prestige": "240",
            "prestigeclass": "3",
            "tgroup": null,
            "tournament_name": null,
            "type_id": "5"
           },
           {
            "championship_name": null,
            "date": "1536161458",
            "defending": "1",
            "game": "14",
            "id": "10309074",
            "linked_tournament": null,
            "name": "1600elo",
            "player": "84885970",
            "prestige": "100",
            "prestigeclass": "3",
            "tgroup": null,
            "tournament_name": null,
            "type_id": "25"
           },
           {
            "championship_name": null,
            "date": "1536679551",
            "defending": "1",
            "game": "14",
            "id": "10365019",
            "linked_tournament": null,
            "name": "100played",
            "player": "84885970",
            "prestige": "93",
            "prestigeclass": "2",
            "tgroup": null,
            "tournament_name": null,
            "type_id": "16"
           }
          ]
         }
        },
        "pma": false,
        "presentation": "",
        "progression": "84",
        "reputation_filter": {
         "details": {
          "clock": 0,
          "karma": 0,
          "leave": 0,
          "opinion": 0
         },
         "label": ""
        },
        "reputation_filter_r": "0",
        "result": {
         "concede": "0",
         "endgame_reason": "normal_end",
         "game_id": "14",
         "game_name": "puertorico",
         "id": "44197726",
         "losers_not_ranked": false,
         "penalties": {
          "15465948": {
           "clock": -1,
           "leave": -1
          },
          "84054167": {
           "clock": -1,
           "leave": -1
          },
          "84192579": {
           "clock": -1,
           "leave": -1
          },
          "84885970": {
           "clock": -1,
           "leave": -1
          }
         },
         "player": [
          {
           "avatar": "a709aaeeaf",
           "country": {
            "cur": "BRL",
            "flag": 28,
            "flag_x": 32,
            "flag_y": 88,
            "name": "Brazil"
           },
           "finish_game": "1",
           "gamerank": "1",
           "gender": "1",
           "is_beginner": "0",
           "is_premium": "0",
           "is_tie": "0",
           "name": "Anibal_PA",
           "player_id": "84192579",
           "point_win": "10.479429439623",
           "rank_after_game": "1769.201566522",
           "score": "39",
           "score_aux": "11",
           "th_name": null
          },
          {
           "avatar": "5ed53b7c60",
           "country": {
            "cur": "TWD",
            "flag": 224,
            "flag_x": 352,
            "flag_y": 44,
            "name": "Taiwan"
           },
           "finish_game": "1",
           "gamerank": "2",
           "gender": null,
           "is_beginner": "0",
           "is_premium": "0",
           "is_tie": "0",
           "name": "flysonics",
           "player_id": "15465948",
           "point_win": "12.95724464472",
           "rank_after_game": "1540.5638396755",
           "score": "37",
           "score_aux": "12",
           "th_name": null
          },
          {
           "avatar": "000000",
           "country": {
            "cur": "KRW",
            "flag": 120,
            "flag_x": 192,
            "flag_y": 0,
            "name": "South Korea"
           },
           "finish_game": "1",
           "gamerank": "3",
           "gender": "1",
           "is_beginner": "0",
           "is_premium": "0",
           "is_tie": "0",
           "name": "sudocar",
           "player_id": "84054167",
           "point_win": "0.37955761736134",
           "rank_after_game": "1516.6756451299",
           "score": "32",
           "score_aux": "12",
           "th_name": null
          },
          {
           "avatar": "f332f7aba6",
           "country": {
            "cur": "TWD",
            "flag": 224,
            "flag_x": 352,
            "flag_y": 44,
            "name": "Taiwan"
           },
           "finish_game": "1",
           "gamerank": "4",
           "gender": null,
           "is_beginner": "0",
           "is_premium": "0",
           "is_tie": "0",
           "name": "9SX2B",
           "player_id": "84885970",
           "point_win": "-23.816231701704",
           "rank_after_game": "1648.6352667508",
           "score": "32",
           "score_aux": "8",
           "th_name": null
          }
         ],
         "stats": {
          "player": {
           "big_buildings_owned": {
            "id": 19,
            "name": "Large buildings",
            "type": "int",
            "valuelabels": [],
            "values": {
             "15465948": "*masked*",
             "84054167": "*masked*",
             "84192579": "*masked*",
             "84885970": "*masked*"
            }
           },
           "building_victory_points": {
            "id": 11,
            "name": "Victory points earned by building",
            "type": "int",
            "valuelabels": [],
            "values": {
             "15465948": "*masked*",
             "84054167": "*masked*",
             "84192579": "*masked*",
             "84885970": "*masked*"
            }
           },
           "colonists_owned": {
            "id": 15,
            "name": "Colonists",
            "type": "int",
            "valuelabels": [],
            "values": {
             "15465948": "*masked*",
             "84054167": "*masked*",
             "84192579": "*masked*",
             "84885970": "*masked*"
            }
           },
           "doubloons_owned": {
            "id": 13,
            "name": "Doubloons owned at game end",
            "type": "int",
            "valuelabels": [],
            "values": {
             "15465948": "*masked*",
             "84054167": "*masked*",
             "84192579": "*masked*",
             "84885970": "*masked*"
            }
           },
           "goods_owned": {
            "id": 14,
            "name": "Good barrels owned at game end",
            "type": "int",
            "valuelabels": [],
            "values": {
             "15465948": "*masked*",
             "84054167": "*masked*",
             "84192579": "*masked*",
             "84885970": "*masked*"
            }
           },
           "large_building_victory_points": {
            "id": 12,
            "name": "Victory points earned through occupied large buildings",
            "type": "int",
            "valuelabels": [],
            "values": {
             "15465948": "*masked*",
             "84054167": "*masked*",
             "84192579": "*masked*",
             "84885970": "*masked*"
            }
           },
           "plantations_owned": {
            "id": 16,
            "name": "Plantations",
            "type": "int",
            "valuelabels": [],
            "values": {
             "15465948": "*masked*",
             "84054167": "*masked*",
             "84192579": "*masked*",
             "84885970": "*masked*"
            }
           },
           "quarries_owned": {
            "id": 17,
            "name": "Quarries",
            "type": "int",
            "valuelabels": [],
            "values": {
             "15465948": "*masked*",
             "84054167": "*masked*",
             "84192579": "*masked*",
             "84885970": "*masked*"
            }
           },
           "reflexion_time": {
            "id": 1,
            "name": "Thinking time",
            "type": "int",
            "unit": "min",
            "valuelabels": [],
            "values": {
             "15465948": "*masked*",
             "84054167": "*masked*",
             "84192579": "*masked*",
             "84885970": "*masked*"
            }
           },
           "shipping_victory_points": {
            "id": 10,
            "name": "Victory points earned by shipping",
            "type": "int",
            "valuelabels": [],
            "values": {
             "15465948": "*masked*",
             "84054167": "*masked*",
             "84192579": "*masked*",
             "84885970": "*masked*"
            }
           },
           "small_buildings_owned": {
            "id": 18,
            "name": "Small buildings",
            "type": "int",
            "valuelabels": [],
            "values": {
             "15465948": "*masked*",
             "84054167": "*masked*",
             "84192579": "*masked*",
             "84885970": "*masked*"
            }
           }
          },
          "table": {
           "avg_points": {
            "id": 2,
            "name": "Average score",
            "type": "float",
            "value": "*masked*"
           },
           "best_score": {
            "id": 3,
            "name": "Best score",
            "type": "int",
            "value": "*masked*"
           },
           "doubloons_bank": {
            "id": 12,
            "name": "Doubloons in the bank",
            "type": "int",
            "value": "*masked*"
           },
           "player_number": {
            "id": 1,
            "name": "Number of players",
            "type": "int",
            "value": "*masked*"
           },
           "unclaimed_big_buildings": {
            "id": 16,
            "name": "Unclaimed large buildings",
            "type": "int",
            "value": "*masked*"
           },
           "unclaimed_colonists": {
            "id": 11,
            "name": "Unclaimed colonists",
            "type": "int",
            "value": "*masked*"
           },
           "unclaimed_plantations": {
            "id": 13,
            "name": "Unclaimed plantations",
            "type": "int",
            "value": "*masked*"
           },
           "unclaimed_quarries": {
            "id": 14,
            "name": "Unclaimed quarries",
            "type": "int",
            "value": "*masked*"
           },
           "unclaimed_small_buildings": {
            "id": 15,
            "name": "Unclaimed small buildings",
            "type": "int",
            "value": "*masked*"
           },
           "unclaimed_victory_points": {
            "id": 10,
            "name": "Unclaimed victory points",
            "type": "int",
            "value": "*masked*"
           }
          }
         },
         "table_level": "1618.7690795195",
         "time_duration": "2445",
         "time_end": "2018-09-24 15:20:36",
         "time_start": "2018-09-24 14:39:51",
         "trophies": []
        },
        "rtc_mode": null,
        "sandbox": "0",
        "scheduled": "1537792654",
        "scheduled_string": "tomorrow at 15:37",
        "siteversion": "180920-1630",
        "slow": "174",
        "status": "archive",
        "suggested": [],
        "thumbs": {
         "29724467": {
          "n": "0",
          "po_subject": "29724467",
          "t": "1"
         },
         "33357709": {
          "n": "0",
          "po_subject": "33357709",
          "t": "1"
         },
         "3666569": {
          "n": "0",
          "po_subject": "3666569",
          "t": "1"
         },
         "83903620": {
          "n": "0",
          "po_subject": "83903620",
          "t": "1"
         },
         "83934148": {
          "n": "0",
          "po_subject": "83934148",
          "t": "1"
         },
         "83941687": {
          "n": "0",
          "po_subject": "83941687",
          "t": "1"
         },
         "83948137": {
          "n": "0",
          "po_subject": "83948137",
          "t": "1"
         },
         "83974152": {
          "n": "0",
          "po_subject": "83974152",
          "t": "1"
         },
         "83977191": {
          "n": "0",
          "po_subject": "83977191",
          "t": "1"
         },
         "84013724": {
          "n": "0",
          "po_subject": "84013724",
          "t": "1"
         },
         "84049173": {
          "n": "0",
          "po_subject": "84049173",
          "t": "1"
         },
         "84120761": {
          "n": "0",
          "po_subject": "84120761",
          "t": "1"
         },
         "84145684": {
          "n": "0",
          "po_subject": "84145684",
          "t": "1"
         },
         "84149715": {
          "n": "0",
          "po_subject": "84149715",
          "t": "1"
         },
         "84152507": {
          "n": "0",
          "po_subject": "84152507",
          "t": "1"
         },
         "84159359": {
          "n": "0",
          "po_subject": "84159359",
          "t": "1"
         },
         "84164045": {
          "n": "0",
          "po_subject": "84164045",
          "t": "1"
         },
         "84164812": {
          "n": "0",
          "po_subject": "84164812",
          "t": "1"
         },
         "84173318": {
          "n": "0",
          "po_subject": "84173318",
          "t": "1"
         },
         "84177719": {
          "n": "0",
          "po_subject": "84177719",
          "t": "1"
         },
         "84188837": {
          "n": "0",
          "po_subject": "84188837",
          "t": "1"
         },
         "84191406": {
          "n": "0",
          "po_subject": "84191406",
          "t": "1"
         },
         "84191935": {
          "n": "0",
          "po_subject": "84191935",
          "t": "1"
         },
         "84204819": {
          "n": "0",
          "po_subject": "84204819",
          "t": "1"
         },
         "84205772": {
          "n": "0",
          "po_subject": "84205772",
          "t": "1"
         },
         "84219791": {
          "n": "0",
          "po_subject": "84219791",
          "t": "1"
         },
         "84223999": {
          "n": "0",
          "po_subject": "84223999",
          "t": "1"
         },
         "84225896": {
          "n": "0",
          "po_subject": "84225896",
          "t": "1"
         },
         "84234536": {
          "n": "0",
          "po_subject": "84234536",
          "t": "1"
         },
         "84235146": {
          "n": "0",
          "po_subject": "84235146",
          "t": "1"
         }
        },
        "time_profile": {
         "additional_time_per_move": "87",
         "extra_time_to_think_to_expel": 300,
         "initial_time_to_thing": 180,
         "maximum_time_per_move": 180
        },
        "unranked": "0",
        "visitors": []
       },
       {
        "additional_reflexion_time_advice": "60",
        "admin_id": null,
        "beginner_not_recommended_player_number": [],
        "cancelled": "0",
        "current_player_nbr": 0,
        "current_present_player_nbr": 0,
        "duration": "30",
        "estimated_duration": 43,
        "fast": "87",
        "filter_group": null,
        "filter_group_name": null,
        "filter_group_type": null,
        "filter_group_visibility": null,
        "filter_lang": null,
        "game_id": "14",
        "game_max_players": "5",
        "game_min_players": "2",
        "game_name": "puertorico",
        "game_player_number": {
         "2": 1,
         "3": 1,
         "4": 1,
         "5": 1
        },
        "game_status": "public",
        "gameserver": "3",
        "gamestart": "1537978822",
        "gameversion": "180723-1044",
        "id": "44263579",
        "initial_reflexion_time_advice": "300",
        "level_filter": {
         "details": {
          "Apprentices": false,
          "Average players": false,
          "Beginners": false,
          "Experts": true,
          "Good players": false,
          "Masters": true,
          "Strong players": true
         },
         "label": {
          "args": {
           "i18n": [
            "up"
           ],
           "up": "Strong players"
          },
          "log": "${up} and above"
         }
        },
        "level_filter_r": "112",
        "log_archived": "1",
        "max_player": "4",
        "medium": "124",
        "min_player": "4",
        "news_id": null,
        "not_recommend_player_number": [],
        "options": {
         "100": {
          "name": "Balance variant",
          "type": "enum",
          "value": "0",
          "values": [
           {
            "name": "Classic game"
           },
           {
            "name": "Balanced game",
            "tmdisplay": "Balanced game"
           }
          ]
         },
         "101": {
          "name": "Two-player variant",
          "type": "enum",
          "value": "0",
          "values": [
           {
            "name": "Classic game"
           },
           {
            "name": "Craftsman Angst",
            "tmdisplay": "Craftsman Angst"
           }
          ]
         },
         "102": {
          "name": "First expansion - New buildings",
          "type": "enum",
          "value": "0",
          "values": [
           {
            "name": "Off"
           },
           {
            "majorvariant": true,
            "name": "On",
            "premium": true,
            "tmdisplay": "New buildings"
           }
          ]
         },
         "103": {
          "name": "Second expansion - The nobles",
          "type": "enum",
          "value": "0",
          "values": [
           {
            "name": "Off"
           },
           {
            "majorvariant": true,
            "name": "On",
            "premium": true,
            "tmdisplay": "The nobles"
           }
          ]
         },
         "200": {
          "name": "Game speed",
          "type": "enum",
          "value": "0",
          "values": {
           "0": {
            "name": "Real-time • Fast speed",
            "shortname": "Real-time • Fast"
           },
           "1": {
            "name": "Real-time • Normal speed",
            "shortname": "Real-time • Normal"
           },
           "13": {
            "name": "Turn-based &bull; 4 moves per day",
            "shortname": "Turn-based &bull; 4 moves per day"
           },
           "14": {
            "name": "Turn-based &bull; 3 moves per day",
            "shortname": "Turn-based &bull; 3 moves per day"
           },
           "15": {
            "name": "Turn-based &bull; 2 moves per day",
            "shortname": "Turn-based &bull; 2 moves per day"
           },
           "17": {
            "name": "Turn-based &bull; 1 move per day",
            "shortname": "Turn-based &bull; 1 move per day"
           },
           "19": {
            "name": "Turn-based &bull; 1 move per 2 days",
            "shortname": "Turn-based &bull; 1 move per 2 days"
           },
           "2": {
            "name": "Real-time • Slow speed",
            "shortname": "Real-time • Slow"
           },
           "20": {
            "name": "Turn-based &bull; No time limit (not recommended)",
            "shortname": "Turn-based &bull; No time limit (not recommended)"
           },
           "21": {
            "name": "Turn-based &bull; Fixed time limit",
            "no_player_selection": true,
            "shortname": "Turn-based"
           },
           "5": {
            "name": "Real-time • Fixed time limit",
            "no_player_selection": true,
            "shortname": "Real-time"
           }
          }
         },
         "201": {
          "name": "ELO rating",
          "type": "enum",
          "value": "0",
          "values": [
           {
            "name": "On"
           },
           {
            "name": "Off"
           }
          ]
         }
        },
        "player_display": [],
        "player_number_advice": "4",
        "player_number_not_recommended": "",
        "players": {
         "19388925": {
          "awards": [
           {
            "championship_name": null,
            "date": "1372185925",
            "defending": "1",
            "game": "14",
            "id": "858822",
            "linked_tournament": null,
            "name": "500played",
            "player": "19388925",
            "prestige": "480",
            "prestigeclass": "3",
            "tgroup": null,
            "tournament_name": null,
            "type_id": "18"
           },
           {
            "championship_name": null,
            "date": "1370432075",
            "defending": "1",
            "game": "14",
            "id": "818846",
            "linked_tournament": null,
            "name": "100victory",
            "player": "19388925",
            "prestige": "480",
            "prestigeclass": "3",
            "tgroup": null,
            "tournament_name": null,
            "type_id": "6"
           },
           {
            "championship_name": null,
            "date": "1514369201",
            "defending": "1",
            "game": "14",
            "id": "8053019",
            "linked_tournament": null,
            "name": "20topvictory",
            "player": "19388925",
            "prestige": "300",
            "prestigeclass": "3",
            "tgroup": null,
            "tournament_name": null,
            "type_id": "7"
           },
           {
            "championship_name": null,
            "date": "1535554918",
            "defending": "1",
            "game": "14",
            "id": "10243509",
            "linked_tournament": null,
            "name": "1600elo",
            "player": "19388925",
            "prestige": "100",
            "prestigeclass": "3",
            "tgroup": null,
            "tournament_name": null,
            "type_id": "25"
           },
           {
            "championship_name": null,
            "date": "1497297062",
            "defending": "1",
            "game": "14",
            "id": "6463406",
            "linked_tournament": null,
            "name": "20topplayed",
            "player": "19388925",
            "prestige": "60",
            "prestigeclass": "2",
            "tgroup": null,
            "tournament_name": null,
            "type_id": "19"
           }
          ]
         },
         "84192579": {
          "awards": [
           {
            "championship_name": null,
            "date": "1460482775",
            "defending": "1",
            "game": "14",
            "id": "3892996",
            "linked_tournament": null,
            "name": "100victory",
            "player": "84192579",
            "prestige": "512",
            "prestigeclass": "4",
            "tgroup": null,
            "tournament_name": null,
            "type_id": "6"
           },
           {
            "championship_name": null,
            "date": "1464312934",
            "defending": "1",
            "game": "14",
            "id": "4074228",
            "linked_tournament": null,
            "name": "500played",
            "player": "84192579",
            "prestige": "496",
            "prestigeclass": "3",
            "tgroup": null,
            "tournament_name": null,
            "type_id": "18"
           },
           {
            "championship_name": null,
            "date": "1524580992",
            "defending": "1",
            "game": "14",
            "id": "9055867",
            "linked_tournament": null,
            "name": "1600elo",
            "player": "84192579",
            "prestige": "100",
            "prestigeclass": "3",
            "tgroup": null,
            "tournament_name": null,
            "type_id": "25"
           }
          ]
         },
         "84792040": {
          "awards": [
           {
            "championship_name": null,
            "date": "1536674015",
            "defending": "1",
            "game": "14",
            "id": "10364063",
            "linked_tournament": null,
            "name": "50victory",
            "player": "84792040",
            "prestige": "248",
            "prestigeclass": "3",
            "tgroup": null,
            "tournament_name": null,
            "type_id": "5"
           },
           {
            "championship_name": null,
            "date": "1528399263",
            "defending": "1",
            "game": "14",
            "id": "9420794",
            "linked_tournament": null,
            "name": "1600elo",
            "player": "84792040",
            "prestige": "100",
            "prestigeclass": "3",
            "tgroup": null,
            "tournament_name": null,
            "type_id": "25"
           },
           {
            "championship_name": null,
            "date": "1531409207",
            "defending": "1",
            "game": "14",
            "id": "9734313",
            "linked_tournament": null,
            "name": "100played",
            "player": "84792040",
            "prestige": "90",
            "prestigeclass": "2",
            "tgroup": null,
            "tournament_name": null,
            "type_id": "16"
           }
          ]
         },
         "84896283": {
          "awards": [
           {
            "championship_name": null,
            "date": "1537965901",
            "defending": "1",
            "game": "14",
            "id": "10502143",
            "linked_tournament": null,
            "name": "50victory",
            "player": "84896283",
            "prestige": "240",
            "prestigeclass": "3",
            "tgroup": null,
            "tournament_name": null,
            "type_id": "5"
           },
           {
            "championship_name": null,
            "date": "1536643316",
            "defending": "1",
            "game": "14",
            "id": "10361249",
            "linked_tournament": null,
            "name": "1600elo",
            "player": "84896283",
            "prestige": "100",
            "prestigeclass": "3",
            "tgroup": null,
            "tournament_name": null,
            "type_id": "25"
           },
           {
            "championship_name": null,
            "date": "1536533952",
            "defending": "1",
            "game": "14",
            "id": "10350691",
            "linked_tournament": null,
            "name": "100played",
            "player": "84896283",
            "prestige": "93",
            "prestigeclass": "2",
            "tgroup": null,
            "tournament_name": null,
            "type_id": "16"
           }
          ]
         }
        },
        "pma": false,
        "presentation": "",
        "progression": "75",
        "reputation_filter": {
         "details": {
          "clock": 0,
          "karma": 3,
          "leave": 0,
          "opinion": 0
         },
         "label": "<div class=\"iblock\">☯ &ge; 75%</div>"
        },
        "reputation_filter_r": "192",
        "result": {
         "concede": "0",
         "endgame_reason": "normal_end",
         "game_id": "14",
         "game_name": "puertorico",
         "id": "44263579",
         "losers_not_ranked": false,
         "penalties": {
          "19388925": {
           "clock": -1,
           "leave": -1
          },
          "84192579": {
           "clock": -1,
           "leave": -1
          },
          "84792040": {
           "clock": -1,
           "leave": -1
          },
          "84896283": {
           "clock": -1,
           "leave": -1
          }
         },
         "player": [
          {
           "avatar": "000000",
           "country": {
            "cur": "JPY",
            "flag": 112,
            "flag_x": 176,
            "flag_y": 22,
            "name": "Japan"
           },
           "finish_game": "1",
           "gamerank": "1",
           "gender": "1",
           "is_beginner": "1",
           "is_premium": "0",
           "is_tie": "0",
           "name": "greenBG",
           "player_id": "84896283",
           "point_win": "18.193567100185",
           "rank_after_game": "1776.2067087508",
           "score": "37",
           "score_aux": "2",
           "th_name": null
          },
          {
           "avatar": "000000",
           "country": {
            "cur": "EUR",
            "flag": 55,
            "flag_x": 80,
            "flag_y": 55,
            "name": "Germany"
           },
           "finish_game": "1",
           "gamerank": "2",
           "gender": "1",
           "is_beginner": "0",
           "is_premium": "0",
           "is_tie": "0",
           "name": "tweedledee",
           "player_id": "19388925",
           "point_win": "5.5576399602262",
           "rank_after_game": "1754.4078914023",
           "score": "33",
           "score_aux": "4",
           "th_name": null
          },
          {
           "avatar": "000000",
           "country": {
            "cur": "",
            "flag": 249,
            "flag_x": 384,
            "flag_y": 99,
            "name": "Unknown"
           },
           "finish_game": "1",
           "gamerank": "3",
           "gender": null,
           "is_beginner": "0",
           "is_premium": "0",
           "is_tie": "0",
           "name": "ola__",
           "player_id": "84792040",
           "point_win": "-6.9953648351693",
           "rank_after_game": "1731.625252937",
           "score": "32",
           "score_aux": "3",
           "th_name": null
          },
          {
           "avatar": "a709aaeeaf",
           "country": {
            "cur": "BRL",
            "flag": 28,
            "flag_x": 32,
            "flag_y": 88,
            "name": "Brazil"
           },
           "finish_game": "1",
           "gamerank": "4",
           "gender": "1",
           "is_beginner": "0",
           "is_premium": "0",
           "is_tie": "0",
           "name": "Anibal_PA",
           "player_id": "84192579",
           "point_win": "-16.755842225241",
           "rank_after_game": "1674.8506000782",
           "score": "32",
           "score_aux": "1",
           "th_name": null
          }
         ],
         "stats": {
          "player": {
           "big_buildings_owned": {
            "id": 19,
            "name": "Large buildings",
            "type": "int",
            "valuelabels": [],
            "values": {
             "19388925": "*masked*",
             "84192579": "*masked*",
             "84792040": "*masked*",
             "84896283": "*masked*"
            }
           },
           "building_victory_points": {
            "id": 11,
            "name": "Victory points earned by building",
            "type": "int",
            "valuelabels": [],
            "values": {
             "19388925": "*masked*",
             "84192579": "*masked*",
             "84792040": "*masked*",
             "84896283": "*masked*"
            }
           },
           "colonists_owned": {
            "id": 15,
            "name": "Colonists",
            "type": "int",
            "valuelabels": [],
            "values": {
             "19388925": "*masked*",
             "84192579": "*masked*",
             "84792040": "*masked*",
             "84896283": "*masked*"
            }
           },
           "doubloons_owned": {
            "id": 13,
            "name": "Doubloons owned at game end",
            "type": "int",
            "valuelabels": [],
            "values": {
             "19388925": "*masked*",
             "84192579": "*masked*",
             "84792040": "*masked*",
             "84896283": "*masked*"
            }
           },
           "goods_owned": {
            "id": 14,
            "name": "Good barrels owned at game end",
            "type": "int",
            "valuelabels": [],
            "values": {
             "19388925": "*masked*",
             "84192579": "*masked*",
             "84792040": "*masked*",
             "84896283": "*masked*"
            }
           },
           "large_building_victory_points": {
            "id": 12,
            "name": "Victory points earned through occupied large buildings",
            "type": "int",
            "valuelabels": [],
            "values": {
             "19388925": "*masked*",
             "84192579": "*masked*",
             "84792040": "*masked*",
             "84896283": "*masked*"
            }
           },
           "plantations_owned": {
            "id": 16,
            "name": "Plantations",
            "type": "int",
            "valuelabels": [],
            "values": {
             "19388925": "*masked*",
             "84192579": "*masked*",
             "84792040": "*masked*",
             "84896283": "*masked*"
            }
           },
           "quarries_owned": {
            "id": 17,
            "name": "Quarries",
            "type": "int",
            "valuelabels": [],
            "values": {
             "19388925": "*masked*",
             "84192579": "*masked*",
             "84792040": "*masked*",
             "84896283": "*masked*"
            }
           },
           "reflexion_time": {
            "id": 1,
            "name": "Thinking time",
            "type": "int",
            "unit": "min",
            "valuelabels": [],
            "values": {
             "19388925": "*masked*",
             "84192579": "*masked*",
             "84792040": "*masked*",
             "84896283": "*masked*"
            }
           },
           "shipping_victory_points": {
            "id": 10,
            "name": "Victory points earned by shipping",
            "type": "int",
            "valuelabels": [],
            "values": {
             "19388925": "*masked*",
             "84192579": "*masked*",
             "84792040": "*masked*",
             "84896283": "*masked*"
            }
           },
           "small_buildings_owned": {
            "id": 18,
            "name": "Small buildings",
            "type": "int",
            "valuelabels": [],
            "values": {
             "19388925": "*masked*",
             "84192579": "*masked*",
             "84792040": "*masked*",
             "84896283": "*masked*"
            }
           }
          },
          "table": {
           "avg_points": {
            "id": 2,
            "name": "Average score",
            "type": "float",
            "value": "*masked*"
           },
           "best_score": {
            "id": 3,
            "name": "Best score",
            "type": "int",
            "value": "*masked*"
           },
           "doubloons_bank": {
            "id": 12,
            "name": "Doubloons in the bank",
            "type": "int",
            "value": "*masked*"
           },
           "player_number": {
            "id": 1,
            "name": "Number of players",
            "type": "int",
            "value": "*masked*"
           },
           "unclaimed_big_buildings": {
            "id": 16,
            "name": "Unclaimed large buildings",
            "type": "int",
            "value": "*masked*"
           },
           "unclaimed_colonists": {
            "id": 11,
            "name": "Unclaimed colonists",
            "type": "int",
            "value": "*masked*"
           },
           "unclaimed_plantations": {
            "id": 13,
            "name": "Unclaimed plantations",
            "type": "int",
            "value": "*masked*"
           },
           "unclaimed_quarries": {
            "id": 14,
            "name": "Unclaimed quarries",
            "type": "int",
            "value": "*masked*"
           },
           "unclaimed_small_buildings": {
            "id": 15,
            "name": "Unclaimed small buildings",
            "type": "int",
            "value": "*masked*"
           },
           "unclaimed_victory_points": {
            "id": 10,
            "name": "Unclaimed victory points",
            "type": "int",
            "value": "*masked*"
           }
          }
         },
         "table_level": "1734.2726132921",
         "time_duration": "1560",
         "time_end": "2018-09-26 18:46:22",
         "time_start": "2018-09-26 18:20:22",
         "trophies": []
        },
        "rtc_mode": null,
        "sandbox": "0",
        "scheduled": "1537978197",
        "scheduled_string": "tomorrow at 19:09",
        "siteversion": "180926-1217",
        "slow": "174",
        "status": "archive",
        "suggested": [],
        "thumbs": {
         "29724467": {
          "n": "0",
          "po_subject": "29724467",
          "t": "1"
         },
         "33357709": {
          "n": "0",
          "po_subject": "33357709",
          "t": "1"
         },
         "3666569": {
          "n": "0",
          "po_subject": "3666569",
          "t": "1"
         },
         "83903620": {
          "n": "0",
          "po_subject": "83903620",
          "t": "1"
         },
         "83934148": {
          "n": "0",
          "po_subject": "83934148",
          "t": "1"
         },
         "83941687": {
          "n": "0",
          "po_subject": "83941687",
          "t": "1"
         },
         "83948137": {
          "n": "0",
          "po_subject": "83948137",
          "t": "1"
         },
         "83974152": {
          "n": "0",
          "po_subject": "83974152",
          "t": "1"
         },
         "83977191": {
          "n": "0",
          "po_subject": "83977191",
          "t": "1"
         },
         "84013724": {
          "n": "0",
          "po_subject": "84013724",
          "t": "1"
         },
         "84049173": {
          "n": "0",
          "po_subject": "84049173",
          "t": "1"
         },
         "84120761": {
          "n": "0",
          "po_subject": "84120761",
          "t": "1"
         },
         "84145684": {
          "n": "0",
          "po_subject": "84145684",
          "t": "1"
         },
         "84149715": {
          "n": "0",
          "po_subject": "84149715",
          "t": "1"
         },
         "84152507": {
          "n": "0",
          "po_subject": "84152507",
          "t": "1"
         },
         "84159359": {
          "n": "0",
          "po_subject": "84159359",
          "t": "1"
         },
         "84164045": {
          "n": "0",
          "po_subject": "84164045",
          "t": "1"
         },
         "84164812": {
          "n": "0",
          "po_subject": "84164812",
          "t": "1"
         },
         "84173318": {
          "n": "0",
          "po_subject": "84173318",
          "t": "1"
         },
         "84177719": {
          "n": "0",
          "po_subject": "84177719",
          "t": "1"
         },
         "84188837": {
          "n": "0",
          "po_subject": "84188837",
          "t": "1"
         },
         "84191406": {
          "n": "0",
          "po_subject": "84191406",
          "t": "1"
         },
         "84191935": {
          "n": "0",
          "po_subject": "84191935",
          "t": "1"
         },
         "84204819": {
          "n": "0",
          "po_subject": "84204819",
          "t": "1"
         },
         "84205772": {
          "n": "0",
          "po_subject": "84205772",
          "t": "1"
         },
         "84219791": {
          "n": "0",
          "po_subject": "84219791",
          "t": "1"
         },
         "84223999": {
          "n": "0",
          "po_subject": "84223999",
          "t": "1"
         },
         "84225896": {
          "n": "0",
          "po_subject": "84225896",
          "t": "1"
         },
         "84234536": {
          "n": "0",
          "po_subject": "84234536",
          "t": "1"
         },
         "84235146": {
          "n": "0",
          "po_subject": "84235146",
          "t": "1"
         }
        },
        "time_profile": {
         "additional_time_per_move": "87",
         "extra_time_to_think_to_expel": 300,
         "initial_time_to_thing": 180,
         "maximum_time_per_move": 180
        },
        "unranked": "0",
        "visitors": []
       },
       {
        "additional_reflexion_time_advice": "60",
        "admin_id": null,
        "beginner_not_recommended_player_number": [],
        "cancelled": "0",
        "current_player_nbr": 0,
        "current_present_player_nbr": 0,
        "duration": "30",
        "estimated_duration": 43,
        "fast": "87",
        "filter_group": null,
        "filter_group_name": null,
        "filter_group_type": null,
        "filter_group_visibility": null,
        "filter_lang": null,
        "game_id": "14",
        "game_max_players": "5",
        "game_min_players": "2",
        "game_name": "puertorico",
        "game_player_number": {
         "2": 1,
         "3": 1,
         "4": 1,
         "5": 1
        },
        "game_status": "public",
        "gameserver": "5",
        "gamestart": "1537799510",
        "gameversion": "180723-1044",
        "id": "44200656",
        "initial_reflexion_time_advice": "300",
        "level_filter": {
         "details": {
          "Apprentices": true,
          "Average players": true,
          "Beginners": true,
          "Experts": false,
          "Good players": true,
          "Masters": false,
          "Strong players": false
         },
         "label": {
          "args": {
           "i18n": [
            "low"
           ],
           "low": "Good players"
          },
          "log": "${low} and below"
         }
        },
        "level_filter_r": "15",
        "log_archived": "1",
        "max_player": "4",
        "medium": "124",
        "min_player": "3",
        "news_id": null,
        "not_recommend_player_number": [],
        "options": {
         "100": {
          "name": "Balance variant",
          "type": "enum",
          "value": "0",
          "values": [
           {
            "name": "Classic game"
           },
           {
            "name": "Balanced game",
            "tmdisplay": "Balanced game"
           }
          ]
         },
         "101": {
          "name": "Two-player variant",
          "type": "enum",
          "value": "0",
          "values": [
           {
            "name": "Classic game"
           },
           {
            "name": "Craftsman Angst",
            "tmdisplay": "Craftsman Angst"
           }
          ]
         },
         "102": {
          "name": "First expansion - New buildings",
          "type": "enum",
          "value": "1",
          "values": [
           {
            "name": "Off"
           },
           {
            "majorvariant": true,
            "name": "On",
            "premium": true,
            "tmdisplay": "New buildings"
           }
          ]
         },
         "103": {
          "name": "Second expansion - The nobles",
          "type": "enum",
          "value": "0",
          "values": [
           {
            "name": "Off"
           },
           {
            "majorvariant": true,
            "name": "On",
            "premium": true,
            "tmdisplay": "The nobles"
           }
          ]
         },
         "104": {
          "displaycondition": [
           {
            "id": 102,
            "type": "otheroption",
            "value": 1
           },
           {
            "id": 103,
            "type": "otheroption",
            "value": 1
           }
          ],
          "name": "Available buildings selection method",
          "type": "enum",
          "value": "0",
          "values": [
           {
            "name": "Draft"
           },
           {
            "name": "Random",
            "tmdisplay": "Random buildings setup"
           }
          ]
         },
         "200": {
          "name": "Game speed",
          "type": "enum",
          "value": "0",
          "values": {
           "0": {
            "name": "Real-time • Fast speed",
            "shortname": "Real-time • Fast"
           },
           "1": {
            "name": "Real-time • Normal speed",
            "shortname": "Real-time • Normal"
           },
           "13": {
            "name": "Turn-based &bull; 4 moves per day",
            "shortname": "Turn-based &bull; 4 moves per day"
           },
           "14": {
            "name": "Turn-based &bull; 3 moves per day",
            "shortname": "Turn-based &bull; 3 moves per day"
           },
           "15": {
            "name": "Turn-based &bull; 2 moves per day",
            "shortname": "Turn-based &bull; 2 moves per day"
           },
           "17": {
            "name": "Turn-based &bull; 1 move per day",
            "shortname": "Turn-based &bull; 1 move per day"
           },
           "19": {
            "name": "Turn-based &bull; 1 move per 2 days",
            "shortname": "Turn-based &bull; 1 move per 2 days"
           },
           "2": {
            "name": "Real-time • Slow speed",
            "shortname": "Real-time • Slow"
           },
           "20": {
            "name": "Turn-based &bull; No time limit (not recommended)",
            "shortname": "Turn-based &bull; No time limit (not recommended)"
           },
           "21": {
            "name": "Turn-based &bull; Fixed time limit",
            "no_player_selection": true,
            "shortname": "Turn-based"
           },
           "5": {
            "name": "Real-time • Fixed time limit",
            "no_player_selection": true,
            "shortname": "Real-time"
           }
          }
         },
         "201": {
          "name": "ELO rating",
          "type": "enum",
          "value": "0",
          "values": [
           {
            "name": "On"
           },
           {
            "name": "Off"
           }
          ]
         }
        },
        "player_display": [],
        "player_number_advice": "4",
        "player_number_not_recommended": "",
        "players": {
         "84848217": {
          "awards": [
           {
            "championship_name": null,
            "date": "1537802753",
            "defending": "1",
            "game": "14",
            "id": "10486530",
            "linked_tournament": null,
            "name": "1300elo",
            "player": "84848217",
            "prestige": "3",
            "prestigeclass": "1",
            "tgroup": null,
            "tournament_name": null,
            "type_id": "34"
           }
          ]
         },
         "84891523": {
          "awards": [
           {
            "championship_name": null,
            "date": "1537927211",
            "defending": "1",
            "game": "14",
            "id": "10499254",
            "linked_tournament": null,
            "name": "1400elo",
            "player": "84891523",
            "prestige": "10",
            "prestigeclass": "1",
            "tgroup": null,
            "tournament_name": null,
            "type_id": "35"
           },
           {
            "championship_name": null,
            "date": "1537802753",
            "defending": "1",
            "game": "14",
            "id": "10486529",
            "linked_tournament": null,
            "name": "firstvictory",
            "player": "84891523",
            "prestige": "9",
            "prestigeclass": "1",
            "tgroup": null,
            "tournament_name": null,
            "type_id": "1"
           },
           {
            "championship_name": null,
            "date": "1537531665",
            "defending": "1",
            "game": "14",
            "id": "10456187",
            "linked_tournament": null,
            "name": "5played",
            "player": "84891523",
            "prestige": "9",
            "prestigeclass": "1",
            "tgroup": null,
            "tournament_name": null,
            "type_id": "13"
           }
          ]
         },
         "84903884": {
          "awards": [
           {
            "championship_name": null,
            "date": "1536342436",
            "defending": "1",
            "game": "14",
            "id": "10327675",
            "linked_tournament": null,
            "name": "firstvictory",
            "player": "84903884",
            "prestige": "9",
            "prestigeclass": "1",
            "tgroup": null,
            "tournament_name": null,
            "type_id": "1"
           },
           {
            "championship_name": null,
            "date": "1536094127",
            "defending": "1",
            "game": "14",
            "id": "10302996",
            "linked_tournament": null,
            "name": "5played",
            "player": "84903884",
            "prestige": "9",
            "prestigeclass": "1",
            "tgroup": null,
            "tournament_name": null,
            "type_id": "13"
           },
           {
            "championship_name": null,
            "date": "1536054009",
            "defending": "1",
            "game": "14",
            "id": "10297284",
            "linked_tournament": null,
            "name": "1300elo",
            "player": "84903884",
            "prestige": "3",
            "prestigeclass": "1",
            "tgroup": null,
            "tournament_name": null,
            "type_id": "34"
           }
          ]
         },
         "84915399": {
          "awards": [
           {
            "championship_name": null,
            "date": "1537555403",
            "defending": "1",
            "game": "14",
            "id": "10459891",
            "linked_tournament": null,
            "name": "3victory",
            "player": "84915399",
            "prestige": "15",
            "prestigeclass": "1",
            "tgroup": null,
            "tournament_name": null,
            "type_id": "2"
           },
           {
            "championship_name": null,
            "date": "1537293791",
            "defending": "1",
            "game": "14",
            "id": "10433784",
            "linked_tournament": null,
            "name": "1400elo",
            "player": "84915399",
            "prestige": "10",
            "prestigeclass": "1",
            "tgroup": null,
            "tournament_name": null,
            "type_id": "35"
           },
           {
            "championship_name": null,
            "date": "1537461672",
            "defending": "1",
            "game": "14",
            "id": "10450100",
            "linked_tournament": null,
            "name": "5played",
            "player": "84915399",
            "prestige": "9",
            "prestigeclass": "1",
            "tgroup": null,
            "tournament_name": null,
            "type_id": "13"
           }
          ]
         }
        },
        "pma": false,
        "presentation": "",
        "progression": "100",
        "reputation_filter": {
         "details": {
          "clock": 0,
          "karma": 2,
          "leave": 0,
          "opinion": 0
         },
         "label": "<div class=\"iblock\">☯ &ge; 65%</div>"
        },
        "reputation_filter_r": "128",
        "result": {
         "concede": "0",
         "endgame_reason": "normal_end",
         "game_id": "14",
         "game_name": "puertorico",
         "id": "44200656",
         "losers_not_ranked": false,
         "penalties": {
          "84848217": {
           "clock": -1,
           "leave": -1
          },
          "84891523": {
           "clock": -1,
           "leave": -1
          },
          "84903884": {
           "clock": -1,
           "leave": -1
          },
          "84915399": {
           "clock": -1,
           "leave": -1
          }
         },
         "player": [
          {
           "avatar": "28d5a84b8f",
           "country": {
            "cur": "EUR",
            "flag": 102,
            "flag_x": 160,
            "flag_y": 22,
            "name": "Ireland"
           },
           "finish_game": "1",
           "gamerank": "1",
           "gender": "0",
           "is_beginner": "1",
           "is_premium": "1",
           "is_tie": "0",
           "name": "BlueDragon92n",
           "player_id": "84891523",
           "point_win": "42.387559130328",
           "rank_after_game": "1392.5951153335",
           "score": "49",
           "score_aux": "2",
           "th_name": null
          },
          {
           "avatar": "000000",
           "country": {
            "cur": "EUR",
            "flag": 109,
            "flag_x": 160,
            "flag_y": 99,
            "name": "Italy"
           },
           "finish_game": "1",
           "gamerank": "2",
           "gender": "0",
           "is_beginner": "1",
           "is_premium": "0",
           "is_tie": "0",
           "name": "Sahde",
           "player_id": "84903884",
           "point_win": "14.111919114374",
           "rank_after_game": "1375.077706658",
           "score": "43",
           "score_aux": "6",
           "th_name": null
          },
          {
           "avatar": "000000",
           "country": {
            "cur": "KRW",
            "flag": 120,
            "flag_x": 192,
            "flag_y": 0,
            "name": "South Korea"
           },
           "finish_game": "1",
           "gamerank": "3",
           "gender": null,
           "is_beginner": "1",
           "is_premium": "0",
           "is_tie": "0",
           "name": "eddie9",
           "player_id": "84915399",
           "point_win": "-26.297630279072",
           "rank_after_game": "1428.2586523527",
           "score": "41",
           "score_aux": "3",
           "th_name": null
          },
          {
           "avatar": "ba922d8573",
           "country": {
            "cur": "ARS",
            "flag": 9,
            "flag_x": 0,
            "flag_y": 99,
            "name": "Argentina"
           },
           "finish_game": "1",
           "gamerank": "4",
           "gender": "1",
           "is_beginner": "0",
           "is_premium": "0",
           "is_tie": "0",
           "name": "PapaEldrad",
           "player_id": "84848217",
           "point_win": "1",
           "rank_after_game": "1301",
           "score": "31",
           "score_aux": "14",
           "th_name": null
          }
         ],
         "stats": {
          "player": {
           "big_buildings_owned": {
            "id": 19,
            "name": "Large buildings",
            "type": "int",
            "valuelabels": [],
            "values": {
             "84848217": "*masked*",
             "84891523": "*masked*",
             "84903884": "*masked*",
             "84915399": "*masked*"
            }
           },
           "building_victory_points": {
            "id": 11,
            "name": "Victory points earned by building",
            "type": "int",
            "valuelabels": [],
            "values": {
             "84848217": "*masked*",
             "84891523": "*masked*",
             "84903884": "*masked*",
             "84915399": "*masked*"
            }
           },
           "colonists_owned": {
            "id": 15,
            "name": "Colonists",
            "type": "int",
            "valuelabels": [],
            "values": {
             "84848217": "*masked*",
             "84891523": "*masked*",
             "84903884": "*masked*",
             "84915399": "*masked*"
            }
           },
           "doubloons_owned": {
            "id": 13,
            "name": "Doubloons owned at game end",
            "type": "int",
            "valuelabels": [],
            "values": {
             "84848217": "*masked*",
             "84891523": "*masked*",
             "84903884": "*masked*",
             "84915399": "*masked*"
            }
           },
           "goods_owned": {
            "id": 14,
            "name": "Good barrels owned at game end",
            "type": "int",
            "valuelabels": [],
            "values": {
             "84848217": "*masked*",
             "84891523": "*masked*",
             "84903884": "*masked*",
             "84915399": "*masked*"
            }
           },
           "large_building_victory_points": {
            "id": 12,
            "name": "Victory points earned through occupied large buildings",
            "type": "int",
            "valuelabels": [],
            "values": {
             "84848217": "*masked*",
             "84891523": "*masked*",
             "84903884": "*masked*",
             "84915399": "*masked*"
            }
           },
           "plantations_owned": {
            "id": 16,
            "name": "Plantations",
            "type": "int",
            "valuelabels": [],
            "values": {
             "84848217": "*masked*",
             "84891523": "*masked*",
             "84903884": "*masked*",
             "84915399": "*masked*"
            }
           },
           "quarries_owned": {
            "id": 17,
            "name": "Quarries",
            "type": "int",
            "valuelabels": [],
            "values": {
             "84848217": "*masked*",
             "84891523": "*masked*",
             "84903884": "*masked*",
             "84915399": "*masked*"
            }
           },
           "reflexion_time": {
            "id": 1,
            "name": "Thinking time",
            "type": "int",
            "unit": "min",
            "valuelabels": [],
            "values": {
             "84848217": "*masked*",
             "84891523": "*masked*",
             "84903884": "*masked*",
             "84915399": "*masked*"
            }
           },
           "shipping_victory_points": {
            "id": 10,
            "name": "Victory points earned by shipping",
            "type": "int",
            "valuelabels": [],
            "values": {
             "84848217": "*masked*",
             "84891523": "*masked*",
             "84903884": "*masked*",
             "84915399": "*masked*"
            }
           },
           "small_buildings_owned": {
            "id": 18,
            "name": "Small buildings",
            "type": "int",
            "valuelabels": [],
            "values": {
             "84848217": "*masked*",
             "84891523": "*masked*",
             "84903884": "*masked*",
             "84915399": "*masked*"
            }
           }
          },
          "table": {
           "avg_points": {
            "id": 2,
            "name": "Average score",
            "type": "float",
            "value": "*masked*"
           },
           "best_score": {
            "id": 3,
            "name": "Best score",
            "type": "int",
            "value": "*masked*"
           },
           "doubloons_bank": {
            "id": 12,
            "name": "Doubloons in the bank",
            "type": "int",
            "value": "*masked*"
           },
           "player_number": {
            "id": 1,
            "name": "Number of players",
            "type": "int",
            "value": "*masked*"
           },
           "unclaimed_big_buildings": {
            "id": 16,
            "name": "Unclaimed large buildings",
            "type": "int",
            "value": "*masked*"
           },
           "unclaimed_colonists": {
            "id": 11,
            "name": "Unclaimed colonists",
            "type": "int",
            "value": "*masked*"
           },
           "unclaimed_plantations": {
            "id": 13,
            "name": "Unclaimed plantations",
            "type": "int",
            "value": "*masked*"
           },
           "unclaimed_quarries": {
            "id": 14,
            "name": "Unclaimed quarries",
            "type": "int",
            "value": "*masked*"
           },
           "unclaimed_small_buildings": {
            "id": 15,
            "name": "Unclaimed small buildings",
            "type": "int",
            "value": "*masked*"
           },
           "unclaimed_victory_points": {
            "id": 10,
            "name": "Unclaimed victory points",
            "type": "int",
            "value": "*masked*"
           }
          }
         },
         "table_level": "1366.4324065947",
         "time_duration": "3243",
         "time_end": "2018-09-24 17:25:53",
         "time_start": "2018-09-24 16:31:50",
         "trophies": {
          "84848217": [
           {
            "championship_name": null,
            "date": "1537802753",
            "defending": "1",
            "game": "14",
            "id": "10486530",
            "linked_tournament": null,
            "name": "1300elo",
            "player": "84848217",
            "prestige": "3",
            "tournament_name": null,
            "type_id": "34"
           }
          ],
          "84891523": [
           {
            "championship_name": null,
            "date": "1537802753",
            "defending": "1",
            "game": "14",
            "id": "10486529",
            "linked_tournament": null,
            "name": "firstvictory",
            "player": "84891523",
            "prestige": "9",
            "tournament_name": null,
            "type_id": "1"
           }
          ]
         }
        },
        "rtc_mode": null,
        "sandbox": "0",
        "scheduled": "1537799235",
        "scheduled_string": "tomorrow at 17:27",
        "siteversion": "180920-1630",
        "slow": "174",
        "status": "archive",
        "suggested": [],
        "thumbs": {
         "29724467": {
          "n": "0",
          "po_subject": "29724467",
          "t": "1"
         },
         "33357709": {
          "n": "0",
          "po_subject": "33357709",
          "t": "1"
         },
         "3666569": {
          "n": "0",
          "po_subject": "3666569",
          "t": "1"
         },
         "83903620": {
          "n": "0",
          "po_subject": "83903620",
          "t": "1"
         },
         "83934148": {
          "n": "0",
          "po_subject": "83934148",
          "t": "1"
         },
         "83941687": {
          "n": "0",
          "po_subject": "83941687",
          "t": "1"
         },
         "83948137": {
          "n": "0",
          "po_subject": "83948137",
          "t": "1"
         },
         "83974152": {
          "n": "0",
          "po_subject": "83974152",
          "t": "1"
         },
         "83977191": {
          "n": "0",
          "po_subject": "83977191",
          "t": "1"
         },
         "84013724": {
          "n": "0",
          "po_subject": "84013724",
          "t": "1"
         },
         "84049173": {
          "n": "0",
          "po_subject": "84049173",
          "t": "1"
         },
         "84120761": {
          "n": "0",
          "po_subject": "84120761",
          "t": "1"
         },
         "84145684": {
          "n": "0",
          "po_subject": "84145684",
          "t": "1"
         },
         "84149715": {
          "n": "0",
          "po_subject": "84149715",
          "t": "1"
         },
         "84152507": {
          "n": "0",
          "po_subject": "84152507",
          "t": "1"
         },
         "84159359": {
          "n": "0",
          "po_subject": "84159359",
          "t": "1"
         },
         "84164045": {
          "n": "0",
          "po_subject": "84164045",
          "t": "1"
         },
         "84164812": {
          "n": "0",
          "po_subject": "84164812",
          "t": "1"
         },
         "84173318": {
          "n": "0",
          "po_subject": "84173318",
          "t": "1"
         },
         "84177719": {
          "n": "0",
          "po_subject": "84177719",
          "t": "1"
         },
         "84188837": {
          "n": "0",
          "po_subject": "84188837",
          "t": "1"
         },
         "84191406": {
          "n": "0",
          "po_subject": "84191406",
          "t": "1"
         },
         "84191935": {
          "n": "0",
          "po_subject": "84191935",
          "t": "1"
         },
         "84204819": {
          "n": "0",
          "po_subject": "84204819",
          "t": "1"
         },
         "84205772": {
          "n": "0",
          "po_subject": "84205772",
          "t": "1"
         },
         "84219791": {
          "n": "0",
          "po_subject": "84219791",
          "t": "1"
         },
         "84223999": {
          "n": "0",
          "po_subject": "84223999",
          "t": "1"
         },
         "84225896": {
          "n": "0",
          "po_subject": "84225896",
          "t": "1"
         },
         "84234536": {
          "n": "0",
          "po_subject": "84234536",
          "t": "1"
         },
         "84235146": {
          "n": "0",
          "po_subject": "84235146",
          "t": "1"
         }
        },
        "time_profile": {
         "additional_time_per_move": "87",
         "extra_time_to_think_to_expel": 300,
         "initial_time_to_thing": 180,
         "maximum_time_per_move": 180
        },
        "unranked": "0",
        "visitors": []
       }
      ],
      "text/plain": [
       "<IPython.core.display.JSON object>"
      ]
     },
     "execution_count": 13,
     "metadata": {
      "application/json": {
       "expanded": false
      }
     },
     "output_type": "execute_result"
    }
   ],
   "source": [
    "infos = flattern(collect_data(games, select_all('$.info')))\n",
    "JSON(infos[:5])"
   ]
  },
  {
   "cell_type": "code",
   "execution_count": 14,
   "metadata": {},
   "outputs": [
    {
     "data": {
      "application/json": [
       {
        "100": {
         "name": "Balance variant",
         "type": "enum",
         "value": "0",
         "values": [
          {
           "name": "Classic game"
          },
          {
           "name": "Balanced game",
           "tmdisplay": "Balanced game"
          }
         ]
        },
        "101": {
         "name": "Two-player variant",
         "type": "enum",
         "value": "0",
         "values": [
          {
           "name": "Classic game"
          },
          {
           "name": "Craftsman Angst",
           "tmdisplay": "Craftsman Angst"
          }
         ]
        },
        "102": {
         "name": "First expansion - New buildings",
         "type": "enum",
         "value": "0",
         "values": [
          {
           "name": "Off"
          },
          {
           "majorvariant": true,
           "name": "On",
           "premium": true,
           "tmdisplay": "New buildings"
          }
         ]
        },
        "103": {
         "name": "Second expansion - The nobles",
         "type": "enum",
         "value": "0",
         "values": [
          {
           "name": "Off"
          },
          {
           "majorvariant": true,
           "name": "On",
           "premium": true,
           "tmdisplay": "The nobles"
          }
         ]
        },
        "200": {
         "name": "Game speed",
         "type": "enum",
         "value": "1",
         "values": {
          "0": {
           "name": "Real-time • Fast speed",
           "shortname": "Real-time • Fast"
          },
          "1": {
           "name": "Real-time • Normal speed",
           "shortname": "Real-time • Normal"
          },
          "13": {
           "name": "Turn-based &bull; 4 moves per day",
           "shortname": "Turn-based &bull; 4 moves per day"
          },
          "14": {
           "name": "Turn-based &bull; 3 moves per day",
           "shortname": "Turn-based &bull; 3 moves per day"
          },
          "15": {
           "name": "Turn-based &bull; 2 moves per day",
           "shortname": "Turn-based &bull; 2 moves per day"
          },
          "17": {
           "name": "Turn-based &bull; 1 move per day",
           "shortname": "Turn-based &bull; 1 move per day"
          },
          "19": {
           "name": "Turn-based &bull; 1 move per 2 days",
           "shortname": "Turn-based &bull; 1 move per 2 days"
          },
          "2": {
           "name": "Real-time • Slow speed",
           "shortname": "Real-time • Slow"
          },
          "20": {
           "name": "Turn-based &bull; No time limit (not recommended)",
           "shortname": "Turn-based &bull; No time limit (not recommended)"
          },
          "21": {
           "name": "Turn-based &bull; Fixed time limit",
           "no_player_selection": true,
           "shortname": "Turn-based"
          },
          "5": {
           "name": "Real-time • Fixed time limit",
           "no_player_selection": true,
           "shortname": "Real-time"
          }
         }
        },
        "201": {
         "name": "ELO rating",
         "type": "enum",
         "value": "0",
         "values": [
          {
           "name": "On"
          },
          {
           "name": "Off"
          }
         ]
        }
       },
       {
        "100": {
         "name": "Balance variant",
         "type": "enum",
         "value": "0",
         "values": [
          {
           "name": "Classic game"
          },
          {
           "name": "Balanced game",
           "tmdisplay": "Balanced game"
          }
         ]
        },
        "101": {
         "name": "Two-player variant",
         "type": "enum",
         "value": "0",
         "values": [
          {
           "name": "Classic game"
          },
          {
           "name": "Craftsman Angst",
           "tmdisplay": "Craftsman Angst"
          }
         ]
        },
        "102": {
         "name": "First expansion - New buildings",
         "type": "enum",
         "value": "0",
         "values": [
          {
           "name": "Off"
          },
          {
           "majorvariant": true,
           "name": "On",
           "premium": true,
           "tmdisplay": "New buildings"
          }
         ]
        },
        "103": {
         "name": "Second expansion - The nobles",
         "type": "enum",
         "value": "0",
         "values": [
          {
           "name": "Off"
          },
          {
           "majorvariant": true,
           "name": "On",
           "premium": true,
           "tmdisplay": "The nobles"
          }
         ]
        },
        "200": {
         "name": "Game speed",
         "type": "enum",
         "value": "17",
         "values": {
          "0": {
           "name": "Real-time • Fast speed",
           "shortname": "Real-time • Fast"
          },
          "1": {
           "name": "Real-time • Normal speed",
           "shortname": "Real-time • Normal"
          },
          "13": {
           "name": "Turn-based &bull; 4 moves per day",
           "shortname": "Turn-based &bull; 4 moves per day"
          },
          "14": {
           "name": "Turn-based &bull; 3 moves per day",
           "shortname": "Turn-based &bull; 3 moves per day"
          },
          "15": {
           "name": "Turn-based &bull; 2 moves per day",
           "shortname": "Turn-based &bull; 2 moves per day"
          },
          "17": {
           "name": "Turn-based &bull; 1 move per day",
           "shortname": "Turn-based &bull; 1 move per day"
          },
          "19": {
           "name": "Turn-based &bull; 1 move per 2 days",
           "shortname": "Turn-based &bull; 1 move per 2 days"
          },
          "2": {
           "name": "Real-time • Slow speed",
           "shortname": "Real-time • Slow"
          },
          "20": {
           "name": "Turn-based &bull; No time limit (not recommended)",
           "shortname": "Turn-based &bull; No time limit (not recommended)"
          },
          "21": {
           "name": "Turn-based &bull; Fixed time limit",
           "no_player_selection": true,
           "shortname": "Turn-based"
          },
          "5": {
           "name": "Real-time • Fixed time limit",
           "no_player_selection": true,
           "shortname": "Real-time"
          }
         }
        },
        "201": {
         "name": "ELO rating",
         "type": "enum",
         "value": "0",
         "values": [
          {
           "name": "On"
          },
          {
           "name": "Off"
          }
         ]
        }
       },
       {
        "100": {
         "name": "Balance variant",
         "type": "enum",
         "value": "1",
         "values": [
          {
           "name": "Classic game"
          },
          {
           "name": "Balanced game",
           "tmdisplay": "Balanced game"
          }
         ]
        },
        "101": {
         "name": "Two-player variant",
         "type": "enum",
         "value": "0",
         "values": [
          {
           "name": "Classic game"
          },
          {
           "name": "Craftsman Angst",
           "tmdisplay": "Craftsman Angst"
          }
         ]
        },
        "102": {
         "name": "First expansion - New buildings",
         "type": "enum",
         "value": "0",
         "values": [
          {
           "name": "Off"
          },
          {
           "majorvariant": true,
           "name": "On",
           "premium": true,
           "tmdisplay": "New buildings"
          }
         ]
        },
        "103": {
         "name": "Second expansion - The nobles",
         "type": "enum",
         "value": "0",
         "values": [
          {
           "name": "Off"
          },
          {
           "majorvariant": true,
           "name": "On",
           "premium": true,
           "tmdisplay": "The nobles"
          }
         ]
        },
        "200": {
         "name": "Game speed",
         "type": "enum",
         "value": "0",
         "values": {
          "0": {
           "name": "Real-time • Fast speed",
           "shortname": "Real-time • Fast"
          },
          "1": {
           "name": "Real-time • Normal speed",
           "shortname": "Real-time • Normal"
          },
          "13": {
           "name": "Turn-based &bull; 4 moves per day",
           "shortname": "Turn-based &bull; 4 moves per day"
          },
          "14": {
           "name": "Turn-based &bull; 3 moves per day",
           "shortname": "Turn-based &bull; 3 moves per day"
          },
          "15": {
           "name": "Turn-based &bull; 2 moves per day",
           "shortname": "Turn-based &bull; 2 moves per day"
          },
          "17": {
           "name": "Turn-based &bull; 1 move per day",
           "shortname": "Turn-based &bull; 1 move per day"
          },
          "19": {
           "name": "Turn-based &bull; 1 move per 2 days",
           "shortname": "Turn-based &bull; 1 move per 2 days"
          },
          "2": {
           "name": "Real-time • Slow speed",
           "shortname": "Real-time • Slow"
          },
          "20": {
           "name": "Turn-based &bull; No time limit (not recommended)",
           "shortname": "Turn-based &bull; No time limit (not recommended)"
          },
          "21": {
           "name": "Turn-based &bull; Fixed time limit",
           "no_player_selection": true,
           "shortname": "Turn-based"
          },
          "5": {
           "name": "Real-time • Fixed time limit",
           "no_player_selection": true,
           "shortname": "Real-time"
          }
         }
        },
        "201": {
         "name": "ELO rating",
         "type": "enum",
         "value": "0",
         "values": [
          {
           "name": "On"
          },
          {
           "name": "Off"
          }
         ]
        }
       },
       {
        "100": {
         "name": "Balance variant",
         "type": "enum",
         "value": "0",
         "values": [
          {
           "name": "Classic game"
          },
          {
           "name": "Balanced game",
           "tmdisplay": "Balanced game"
          }
         ]
        },
        "101": {
         "name": "Two-player variant",
         "type": "enum",
         "value": "0",
         "values": [
          {
           "name": "Classic game"
          },
          {
           "name": "Craftsman Angst",
           "tmdisplay": "Craftsman Angst"
          }
         ]
        },
        "102": {
         "name": "First expansion - New buildings",
         "type": "enum",
         "value": "0",
         "values": [
          {
           "name": "Off"
          },
          {
           "majorvariant": true,
           "name": "On",
           "premium": true,
           "tmdisplay": "New buildings"
          }
         ]
        },
        "103": {
         "name": "Second expansion - The nobles",
         "type": "enum",
         "value": "0",
         "values": [
          {
           "name": "Off"
          },
          {
           "majorvariant": true,
           "name": "On",
           "premium": true,
           "tmdisplay": "The nobles"
          }
         ]
        },
        "200": {
         "name": "Game speed",
         "type": "enum",
         "value": "0",
         "values": {
          "0": {
           "name": "Real-time • Fast speed",
           "shortname": "Real-time • Fast"
          },
          "1": {
           "name": "Real-time • Normal speed",
           "shortname": "Real-time • Normal"
          },
          "13": {
           "name": "Turn-based &bull; 4 moves per day",
           "shortname": "Turn-based &bull; 4 moves per day"
          },
          "14": {
           "name": "Turn-based &bull; 3 moves per day",
           "shortname": "Turn-based &bull; 3 moves per day"
          },
          "15": {
           "name": "Turn-based &bull; 2 moves per day",
           "shortname": "Turn-based &bull; 2 moves per day"
          },
          "17": {
           "name": "Turn-based &bull; 1 move per day",
           "shortname": "Turn-based &bull; 1 move per day"
          },
          "19": {
           "name": "Turn-based &bull; 1 move per 2 days",
           "shortname": "Turn-based &bull; 1 move per 2 days"
          },
          "2": {
           "name": "Real-time • Slow speed",
           "shortname": "Real-time • Slow"
          },
          "20": {
           "name": "Turn-based &bull; No time limit (not recommended)",
           "shortname": "Turn-based &bull; No time limit (not recommended)"
          },
          "21": {
           "name": "Turn-based &bull; Fixed time limit",
           "no_player_selection": true,
           "shortname": "Turn-based"
          },
          "5": {
           "name": "Real-time • Fixed time limit",
           "no_player_selection": true,
           "shortname": "Real-time"
          }
         }
        },
        "201": {
         "name": "ELO rating",
         "type": "enum",
         "value": "0",
         "values": [
          {
           "name": "On"
          },
          {
           "name": "Off"
          }
         ]
        }
       },
       {
        "100": {
         "name": "Balance variant",
         "type": "enum",
         "value": "0",
         "values": [
          {
           "name": "Classic game"
          },
          {
           "name": "Balanced game",
           "tmdisplay": "Balanced game"
          }
         ]
        },
        "101": {
         "name": "Two-player variant",
         "type": "enum",
         "value": "0",
         "values": [
          {
           "name": "Classic game"
          },
          {
           "name": "Craftsman Angst",
           "tmdisplay": "Craftsman Angst"
          }
         ]
        },
        "102": {
         "name": "First expansion - New buildings",
         "type": "enum",
         "value": "1",
         "values": [
          {
           "name": "Off"
          },
          {
           "majorvariant": true,
           "name": "On",
           "premium": true,
           "tmdisplay": "New buildings"
          }
         ]
        },
        "103": {
         "name": "Second expansion - The nobles",
         "type": "enum",
         "value": "0",
         "values": [
          {
           "name": "Off"
          },
          {
           "majorvariant": true,
           "name": "On",
           "premium": true,
           "tmdisplay": "The nobles"
          }
         ]
        },
        "104": {
         "displaycondition": [
          {
           "id": 102,
           "type": "otheroption",
           "value": 1
          },
          {
           "id": 103,
           "type": "otheroption",
           "value": 1
          }
         ],
         "name": "Available buildings selection method",
         "type": "enum",
         "value": "0",
         "values": [
          {
           "name": "Draft"
          },
          {
           "name": "Random",
           "tmdisplay": "Random buildings setup"
          }
         ]
        },
        "200": {
         "name": "Game speed",
         "type": "enum",
         "value": "0",
         "values": {
          "0": {
           "name": "Real-time • Fast speed",
           "shortname": "Real-time • Fast"
          },
          "1": {
           "name": "Real-time • Normal speed",
           "shortname": "Real-time • Normal"
          },
          "13": {
           "name": "Turn-based &bull; 4 moves per day",
           "shortname": "Turn-based &bull; 4 moves per day"
          },
          "14": {
           "name": "Turn-based &bull; 3 moves per day",
           "shortname": "Turn-based &bull; 3 moves per day"
          },
          "15": {
           "name": "Turn-based &bull; 2 moves per day",
           "shortname": "Turn-based &bull; 2 moves per day"
          },
          "17": {
           "name": "Turn-based &bull; 1 move per day",
           "shortname": "Turn-based &bull; 1 move per day"
          },
          "19": {
           "name": "Turn-based &bull; 1 move per 2 days",
           "shortname": "Turn-based &bull; 1 move per 2 days"
          },
          "2": {
           "name": "Real-time • Slow speed",
           "shortname": "Real-time • Slow"
          },
          "20": {
           "name": "Turn-based &bull; No time limit (not recommended)",
           "shortname": "Turn-based &bull; No time limit (not recommended)"
          },
          "21": {
           "name": "Turn-based &bull; Fixed time limit",
           "no_player_selection": true,
           "shortname": "Turn-based"
          },
          "5": {
           "name": "Real-time • Fixed time limit",
           "no_player_selection": true,
           "shortname": "Real-time"
          }
         }
        },
        "201": {
         "name": "ELO rating",
         "type": "enum",
         "value": "0",
         "values": [
          {
           "name": "On"
          },
          {
           "name": "Off"
          }
         ]
        }
       }
      ],
      "text/plain": [
       "<IPython.core.display.JSON object>"
      ]
     },
     "execution_count": 14,
     "metadata": {
      "application/json": {
       "expanded": false
      }
     },
     "output_type": "execute_result"
    }
   ],
   "source": [
    "opts = list(map(select_one('$.options'), infos))\n",
    "JSON(opts[:5])"
   ]
  },
  {
   "cell_type": "code",
   "execution_count": 15,
   "metadata": {},
   "outputs": [],
   "source": [
    "get = lambda l, x: l[int(x)] if isinstance(l, list) else l[x]"
   ]
  },
  {
   "cell_type": "code",
   "execution_count": 19,
   "metadata": {},
   "outputs": [
    {
     "name": "stdout",
     "output_type": "stream",
     "text": [
      "100 Balance variant [('Classic game', 84)]\n",
      "101 Two-player variant [('Classic game', 84)]\n",
      "102 First expansion - New buildings [('Off', 84)]\n",
      "103 Second expansion - The nobles [('Off', 84)]\n"
     ]
    }
   ],
   "source": [
    "# contains('$.info.result.endgame_reason', 'normal_end')\n",
    "fi = list(filter(all_of(\n",
    "    contains('$.\"100\".value', '0'),\n",
    "    contains('$.\"101\".value', '0'),\n",
    "    contains('$.\"102\".value', '0'),\n",
    "    contains('$.\"103\".value', '0')                      \n",
    "), opts))\n",
    "\n",
    "for o in ['100', '101', '102', '103']:\n",
    "    l = list(map(lambda v: get(v['values'], v['value'])['name'], map(lambda v: v[o], fi)))\n",
    "\n",
    "    c = collections.Counter(l)\n",
    "    print(o, opts[0][o]['name'], c.most_common(20))"
   ]
  },
  {
   "cell_type": "code",
   "execution_count": 20,
   "metadata": {},
   "outputs": [
    {
     "data": {
      "application/json": [
       {
        "additional_reflexion_time_advice": "60",
        "admin_id": null,
        "beginner_not_recommended_player_number": [],
        "cancelled": "0",
        "current_player_nbr": 0,
        "current_present_player_nbr": 0,
        "duration": "30",
        "estimated_duration": 22991,
        "fast": "87",
        "filter_group": "2177450",
        "filter_group_name": "loPaki",
        "filter_group_type": "friend",
        "filter_group_visibility": "public",
        "filter_lang": null,
        "game_id": "14",
        "game_max_players": "5",
        "game_min_players": "2",
        "game_name": "puertorico",
        "game_player_number": {
         "2": 1,
         "3": 1,
         "4": 1,
         "5": 1
        },
        "game_status": "public",
        "gameserver": "1",
        "gamestart": "1537854046",
        "gameversion": "180723-1044",
        "id": "44220054",
        "initial_reflexion_time_advice": "300",
        "level_filter": {
         "details": {
          "Apprentices": true,
          "Average players": true,
          "Beginners": true,
          "Experts": false,
          "Good players": true,
          "Masters": false,
          "Strong players": false
         },
         "label": {
          "args": {
           "i18n": [
            "low"
           ],
           "low": "Good players"
          },
          "log": "${low} and below"
         }
        },
        "level_filter_r": "15",
        "log_archived": "1",
        "max_player": "4",
        "medium": "124",
        "min_player": "2",
        "news_id": null,
        "not_recommend_player_number": [],
        "options": {
         "100": {
          "name": "Balance variant",
          "type": "enum",
          "value": "1",
          "values": [
           {
            "name": "Classic game"
           },
           {
            "name": "Balanced game",
            "tmdisplay": "Balanced game"
           }
          ]
         },
         "101": {
          "name": "Two-player variant",
          "type": "enum",
          "value": "1",
          "values": [
           {
            "name": "Classic game"
           },
           {
            "name": "Craftsman Angst",
            "tmdisplay": "Craftsman Angst"
           }
          ]
         },
         "102": {
          "name": "First expansion - New buildings",
          "type": "enum",
          "value": "1",
          "values": [
           {
            "name": "Off"
           },
           {
            "majorvariant": true,
            "name": "On",
            "premium": true,
            "tmdisplay": "New buildings"
           }
          ]
         },
         "103": {
          "name": "Second expansion - The nobles",
          "type": "enum",
          "value": "1",
          "values": [
           {
            "name": "Off"
           },
           {
            "majorvariant": true,
            "name": "On",
            "premium": true,
            "tmdisplay": "The nobles"
           }
          ]
         },
         "104": {
          "displaycondition": [
           {
            "id": 102,
            "type": "otheroption",
            "value": 1
           },
           {
            "id": 103,
            "type": "otheroption",
            "value": 1
           }
          ],
          "name": "Available buildings selection method",
          "type": "enum",
          "value": "1",
          "values": [
           {
            "name": "Draft"
           },
           {
            "name": "Random",
            "tmdisplay": "Random buildings setup"
           }
          ]
         },
         "200": {
          "name": "Game speed",
          "type": "enum",
          "value": "19",
          "values": {
           "0": {
            "name": "Real-time • Fast speed",
            "shortname": "Real-time • Fast"
           },
           "1": {
            "name": "Real-time • Normal speed",
            "shortname": "Real-time • Normal"
           },
           "13": {
            "name": "Turn-based &bull; 4 moves per day",
            "shortname": "Turn-based &bull; 4 moves per day"
           },
           "14": {
            "name": "Turn-based &bull; 3 moves per day",
            "shortname": "Turn-based &bull; 3 moves per day"
           },
           "15": {
            "name": "Turn-based &bull; 2 moves per day",
            "shortname": "Turn-based &bull; 2 moves per day"
           },
           "17": {
            "name": "Turn-based &bull; 1 move per day",
            "shortname": "Turn-based &bull; 1 move per day"
           },
           "19": {
            "name": "Turn-based &bull; 1 move per 2 days",
            "shortname": "Turn-based &bull; 1 move per 2 days"
           },
           "2": {
            "name": "Real-time • Slow speed",
            "shortname": "Real-time • Slow"
           },
           "20": {
            "name": "Turn-based &bull; No time limit (not recommended)",
            "shortname": "Turn-based &bull; No time limit (not recommended)"
           },
           "21": {
            "name": "Turn-based &bull; Fixed time limit",
            "no_player_selection": true,
            "shortname": "Turn-based"
           },
           "5": {
            "name": "Real-time • Fixed time limit",
            "no_player_selection": true,
            "shortname": "Real-time"
           }
          }
         },
         "201": {
          "name": "ELO rating",
          "type": "enum",
          "value": "1",
          "values": [
           {
            "name": "On"
           },
           {
            "name": "Off"
           }
          ]
         }
        },
        "player_display": [],
        "player_number_advice": "4",
        "player_number_not_recommended": "",
        "players": {
         "84873892": {
          "awards": [
           {
            "championship_name": null,
            "date": "1536051111",
            "defending": "1",
            "game": "14",
            "id": "10297025",
            "linked_tournament": null,
            "name": "10victory",
            "player": "84873892",
            "prestige": "47",
            "prestigeclass": "1",
            "tgroup": null,
            "tournament_name": null,
            "type_id": "3"
           },
           {
            "championship_name": null,
            "date": "1536297487",
            "defending": "1",
            "game": "14",
            "id": "10322370",
            "linked_tournament": null,
            "name": "20played",
            "player": "84873892",
            "prestige": "16",
            "prestigeclass": "1",
            "tgroup": null,
            "tournament_name": null,
            "type_id": "14"
           },
           {
            "championship_name": null,
            "date": "1533548976",
            "defending": "1",
            "game": "14",
            "id": "10010046",
            "linked_tournament": null,
            "name": "1300elo",
            "player": "84873892",
            "prestige": "3",
            "prestigeclass": "1",
            "tgroup": null,
            "tournament_name": null,
            "type_id": "34"
           }
          ]
         },
         "84874095": {
          "awards": [
           {
            "championship_name": null,
            "date": "1536384718",
            "defending": "1",
            "game": "14",
            "id": "10331654",
            "linked_tournament": null,
            "name": "10victory",
            "player": "84874095",
            "prestige": "47",
            "prestigeclass": "1",
            "tgroup": null,
            "tournament_name": null,
            "type_id": "3"
           },
           {
            "championship_name": null,
            "date": "1536205816",
            "defending": "1",
            "game": "14",
            "id": "10313563",
            "linked_tournament": null,
            "name": "20played",
            "player": "84874095",
            "prestige": "16",
            "prestigeclass": "1",
            "tgroup": null,
            "tournament_name": null,
            "type_id": "14"
           },
           {
            "championship_name": null,
            "date": "1533548976",
            "defending": "1",
            "game": "14",
            "id": "10010045",
            "linked_tournament": null,
            "name": "1300elo",
            "player": "84874095",
            "prestige": "3",
            "prestigeclass": "1",
            "tgroup": null,
            "tournament_name": null,
            "type_id": "34"
           }
          ]
         },
         "84891799": {
          "awards": [
           {
            "championship_name": null,
            "date": "1537858438",
            "defending": "1",
            "game": "14",
            "id": "10491954",
            "linked_tournament": null,
            "name": "5played",
            "player": "84891799",
            "prestige": "9",
            "prestigeclass": "1",
            "tgroup": null,
            "tournament_name": null,
            "type_id": "13"
           },
           {
            "championship_name": null,
            "date": "1534849811",
            "defending": "1",
            "game": "14",
            "id": "10162706",
            "linked_tournament": null,
            "name": "firstvictory",
            "player": "84891799",
            "prestige": "9",
            "prestigeclass": "1",
            "tgroup": null,
            "tournament_name": null,
            "type_id": "1"
           },
           {
            "championship_name": null,
            "date": "1534849811",
            "defending": "1",
            "game": "14",
            "id": "10162707",
            "linked_tournament": null,
            "name": "1300elo",
            "player": "84891799",
            "prestige": "3",
            "prestigeclass": "1",
            "tgroup": null,
            "tournament_name": null,
            "type_id": "34"
           }
          ]
         }
        },
        "pma": false,
        "presentation": "",
        "progression": "0",
        "reputation_filter": {
         "details": {
          "clock": 0,
          "karma": 0,
          "leave": 0,
          "opinion": 0
         },
         "label": ""
        },
        "reputation_filter_r": "0",
        "result": {
         "concede": "0",
         "endgame_reason": "normal_end",
         "game_id": "14",
         "game_name": "puertorico",
         "id": "44220054",
         "losers_not_ranked": false,
         "penalties": {
          "84873892": {
           "clock": -1,
           "leave": -1
          },
          "84874095": {
           "clock": -1,
           "leave": -1
          },
          "84891799": {
           "clock": -1,
           "leave": -1
          },
          "84916393": {
           "clock": -1,
           "leave": -1
          }
         },
         "player": [
          {
           "avatar": "d1839b8a9c",
           "country": {
            "cur": "JPY",
            "flag": 112,
            "flag_x": 176,
            "flag_y": 22,
            "name": "Japan"
           },
           "finish_game": "1",
           "gamerank": "1",
           "gender": null,
           "is_beginner": "0",
           "is_premium": "0",
           "is_tie": "0",
           "name": "sunaabi",
           "player_id": "84874095",
           "point_win": "18.903050256794",
           "rank_after_game": "1379.1261657337",
           "score": "53",
           "score_aux": "3",
           "th_name": null
          },
          {
           "avatar": "000000",
           "country": {
            "cur": "JPY",
            "flag": 112,
            "flag_x": 176,
            "flag_y": 22,
            "name": "Japan"
           },
           "finish_game": "1",
           "gamerank": "2",
           "gender": null,
           "is_beginner": "1",
           "is_premium": "0",
           "is_tie": "0",
           "name": "nikei",
           "player_id": "84916393",
           "point_win": "30.388812720024",
           "rank_after_game": "1330.38881272",
           "score": "52",
           "score_aux": "4",
           "th_name": null
          },
          {
           "avatar": "000000",
           "country": {
            "cur": "JPY",
            "flag": 112,
            "flag_x": 176,
            "flag_y": 22,
            "name": "Japan"
           },
           "finish_game": "1",
           "gamerank": "3",
           "gender": null,
           "is_beginner": "0",
           "is_premium": "1",
           "is_tie": "0",
           "name": "loPaki",
           "player_id": "84873892",
           "point_win": "0",
           "rank_after_game": "1390.3385079062",
           "score": "51",
           "score_aux": "2",
           "th_name": null
          },
          {
           "avatar": "99706dff59",
           "country": {
            "cur": "JPY",
            "flag": 112,
            "flag_x": 176,
            "flag_y": 22,
            "name": "Japan"
           },
           "finish_game": "1",
           "gamerank": "4",
           "gender": null,
           "is_beginner": "1",
           "is_premium": "0",
           "is_tie": "0",
           "name": "nyoroyakynyoden",
           "player_id": "84891799",
           "point_win": "0",
           "rank_after_game": "1332.5839895213",
           "score": "40",
           "score_aux": "2",
           "th_name": null
          }
         ],
         "stats": {
          "player": {
           "big_buildings_owned": {
            "id": 19,
            "name": "Large buildings",
            "type": "int",
            "valuelabels": [],
            "values": {
             "84873892": "*masked*",
             "84874095": "*masked*",
             "84891799": "*masked*",
             "84916393": "*masked*"
            }
           },
           "building_victory_points": {
            "id": 11,
            "name": "Victory points earned by building",
            "type": "int",
            "valuelabels": [],
            "values": {
             "84873892": "*masked*",
             "84874095": "*masked*",
             "84891799": "*masked*",
             "84916393": "*masked*"
            }
           },
           "colonists_owned": {
            "id": 15,
            "name": "Colonists",
            "type": "int",
            "valuelabels": [],
            "values": {
             "84873892": "*masked*",
             "84874095": "*masked*",
             "84891799": "*masked*",
             "84916393": "*masked*"
            }
           },
           "doubloons_owned": {
            "id": 13,
            "name": "Doubloons owned at game end",
            "type": "int",
            "valuelabels": [],
            "values": {
             "84873892": "*masked*",
             "84874095": "*masked*",
             "84891799": "*masked*",
             "84916393": "*masked*"
            }
           },
           "goods_owned": {
            "id": 14,
            "name": "Good barrels owned at game end",
            "type": "int",
            "valuelabels": [],
            "values": {
             "84873892": "*masked*",
             "84874095": "*masked*",
             "84891799": "*masked*",
             "84916393": "*masked*"
            }
           },
           "large_building_victory_points": {
            "id": 12,
            "name": "Victory points earned through occupied large buildings",
            "type": "int",
            "valuelabels": [],
            "values": {
             "84873892": "*masked*",
             "84874095": "*masked*",
             "84891799": "*masked*",
             "84916393": "*masked*"
            }
           },
           "plantations_owned": {
            "id": 16,
            "name": "Plantations",
            "type": "int",
            "valuelabels": [],
            "values": {
             "84873892": "*masked*",
             "84874095": "*masked*",
             "84891799": "*masked*",
             "84916393": "*masked*"
            }
           },
           "quarries_owned": {
            "id": 17,
            "name": "Quarries",
            "type": "int",
            "valuelabels": [],
            "values": {
             "84873892": "*masked*",
             "84874095": "*masked*",
             "84891799": "*masked*",
             "84916393": "*masked*"
            }
           },
           "reflexion_time": {
            "id": 1,
            "name": "Thinking time",
            "type": "int",
            "unit": "min",
            "valuelabels": [],
            "values": {
             "84873892": "*masked*",
             "84874095": "*masked*",
             "84891799": "*masked*",
             "84916393": "*masked*"
            }
           },
           "shipping_victory_points": {
            "id": 10,
            "name": "Victory points earned by shipping",
            "type": "int",
            "valuelabels": [],
            "values": {
             "84873892": "*masked*",
             "84874095": "*masked*",
             "84891799": "*masked*",
             "84916393": "*masked*"
            }
           },
           "small_buildings_owned": {
            "id": 18,
            "name": "Small buildings",
            "type": "int",
            "valuelabels": [],
            "values": {
             "84873892": "*masked*",
             "84874095": "*masked*",
             "84891799": "*masked*",
             "84916393": "*masked*"
            }
           }
          },
          "table": {
           "avg_points": {
            "id": 2,
            "name": "Average score",
            "type": "float",
            "value": "*masked*"
           },
           "best_score": {
            "id": 3,
            "name": "Best score",
            "type": "int",
            "value": "*masked*"
           },
           "doubloons_bank": {
            "id": 12,
            "name": "Doubloons in the bank",
            "type": "int",
            "value": "*masked*"
           },
           "player_number": {
            "id": 1,
            "name": "Number of players",
            "type": "int",
            "value": "*masked*"
           },
           "unclaimed_big_buildings": {
            "id": 16,
            "name": "Unclaimed large buildings",
            "type": "int",
            "value": "*masked*"
           },
           "unclaimed_colonists": {
            "id": 11,
            "name": "Unclaimed colonists",
            "type": "int",
            "value": "*masked*"
           },
           "unclaimed_plantations": {
            "id": 13,
            "name": "Unclaimed plantations",
            "type": "int",
            "value": "*masked*"
           },
           "unclaimed_quarries": {
            "id": 14,
            "name": "Unclaimed quarries",
            "type": "int",
            "value": "*masked*"
           },
           "unclaimed_small_buildings": {
            "id": 15,
            "name": "Unclaimed small buildings",
            "type": "int",
            "value": "*masked*"
           },
           "unclaimed_victory_points": {
            "id": 10,
            "name": "Unclaimed victory points",
            "type": "int",
            "value": "*masked*"
           }
          }
         },
         "table_level": "1345.7864032261",
         "time_duration": "4393",
         "time_end": "2018-09-25 08:53:59",
         "time_start": "2018-09-25 07:40:46",
         "trophies": {
          "84891799": [
           {
            "championship_name": null,
            "date": "1537858438",
            "defending": "1",
            "game": "14",
            "id": "10491954",
            "linked_tournament": null,
            "name": "5played",
            "player": "84891799",
            "prestige": "9",
            "tournament_name": null,
            "type_id": "13"
           }
          ]
         }
        },
        "rtc_mode": null,
        "sandbox": "0",
        "scheduled": "1537853999",
        "scheduled_string": "tomorrow at 08:39",
        "siteversion": "180920-1630",
        "slow": "174",
        "status": "archive",
        "suggested": [],
        "thumbs": {
         "29724467": {
          "n": "0",
          "po_subject": "29724467",
          "t": "1"
         },
         "33357709": {
          "n": "0",
          "po_subject": "33357709",
          "t": "1"
         },
         "3666569": {
          "n": "0",
          "po_subject": "3666569",
          "t": "1"
         },
         "83903620": {
          "n": "0",
          "po_subject": "83903620",
          "t": "1"
         },
         "83934148": {
          "n": "0",
          "po_subject": "83934148",
          "t": "1"
         },
         "83941687": {
          "n": "0",
          "po_subject": "83941687",
          "t": "1"
         },
         "83948137": {
          "n": "0",
          "po_subject": "83948137",
          "t": "1"
         },
         "83974152": {
          "n": "0",
          "po_subject": "83974152",
          "t": "1"
         },
         "83977191": {
          "n": "0",
          "po_subject": "83977191",
          "t": "1"
         },
         "84013724": {
          "n": "0",
          "po_subject": "84013724",
          "t": "1"
         },
         "84049173": {
          "n": "0",
          "po_subject": "84049173",
          "t": "1"
         },
         "84120761": {
          "n": "0",
          "po_subject": "84120761",
          "t": "1"
         },
         "84145684": {
          "n": "0",
          "po_subject": "84145684",
          "t": "1"
         },
         "84149715": {
          "n": "0",
          "po_subject": "84149715",
          "t": "1"
         },
         "84152507": {
          "n": "0",
          "po_subject": "84152507",
          "t": "1"
         },
         "84159359": {
          "n": "0",
          "po_subject": "84159359",
          "t": "1"
         },
         "84164045": {
          "n": "0",
          "po_subject": "84164045",
          "t": "1"
         },
         "84164812": {
          "n": "0",
          "po_subject": "84164812",
          "t": "1"
         },
         "84173318": {
          "n": "0",
          "po_subject": "84173318",
          "t": "1"
         },
         "84177719": {
          "n": "0",
          "po_subject": "84177719",
          "t": "1"
         },
         "84188837": {
          "n": "0",
          "po_subject": "84188837",
          "t": "1"
         },
         "84191406": {
          "n": "0",
          "po_subject": "84191406",
          "t": "1"
         },
         "84191935": {
          "n": "0",
          "po_subject": "84191935",
          "t": "1"
         },
         "84204819": {
          "n": "0",
          "po_subject": "84204819",
          "t": "1"
         },
         "84205772": {
          "n": "0",
          "po_subject": "84205772",
          "t": "1"
         },
         "84219791": {
          "n": "0",
          "po_subject": "84219791",
          "t": "1"
         },
         "84223999": {
          "n": "0",
          "po_subject": "84223999",
          "t": "1"
         },
         "84225896": {
          "n": "0",
          "po_subject": "84225896",
          "t": "1"
         },
         "84234536": {
          "n": "0",
          "po_subject": "84234536",
          "t": "1"
         },
         "84235146": {
          "n": "0",
          "po_subject": "84235146",
          "t": "1"
         }
        },
        "time_profile": {
         "additional_time_per_move": 172800,
         "extra_time_to_think_to_expel": 518400,
         "initial_time_to_thing": 1036800,
         "maximum_time_per_move": 518400
        },
        "unranked": "1",
        "visitors": []
       },
       {
        "additional_reflexion_time_advice": "60",
        "admin_id": null,
        "beginner_not_recommended_player_number": [],
        "cancelled": "0",
        "current_player_nbr": 0,
        "current_present_player_nbr": 0,
        "duration": "30",
        "estimated_duration": 56961,
        "fast": "87",
        "filter_group": null,
        "filter_group_name": null,
        "filter_group_type": null,
        "filter_group_visibility": null,
        "filter_lang": null,
        "game_id": "14",
        "game_max_players": "5",
        "game_min_players": "2",
        "game_name": "puertorico",
        "game_player_number": {
         "2": 1,
         "3": 1,
         "4": 1,
         "5": 1
        },
        "game_status": "public",
        "gameserver": "1",
        "gamestart": "1532943829",
        "gameversion": "180723-1044",
        "id": "42523339",
        "initial_reflexion_time_advice": "300",
        "level_filter": {
         "details": {
          "Apprentices": true,
          "Average players": true,
          "Beginners": true,
          "Experts": false,
          "Good players": true,
          "Masters": false,
          "Strong players": true
         },
         "label": {
          "args": {
           "i18n": [
            "low"
           ],
           "low": "Strong players"
          },
          "log": "${low} and below"
         }
        },
        "level_filter_r": "31",
        "log_archived": "1",
        "max_player": "4",
        "medium": "124",
        "min_player": "4",
        "news_id": null,
        "not_recommend_player_number": [],
        "options": {
         "100": {
          "name": "Balance variant",
          "type": "enum",
          "value": "1",
          "values": [
           {
            "name": "Classic game"
           },
           {
            "name": "Balanced game",
            "tmdisplay": "Balanced game"
           }
          ]
         },
         "101": {
          "name": "Two-player variant",
          "type": "enum",
          "value": "1",
          "values": [
           {
            "name": "Classic game"
           },
           {
            "name": "Craftsman Angst",
            "tmdisplay": "Craftsman Angst"
           }
          ]
         },
         "102": {
          "name": "First expansion - New buildings",
          "type": "enum",
          "value": "0",
          "values": [
           {
            "name": "Off"
           },
           {
            "majorvariant": true,
            "name": "On",
            "premium": true,
            "tmdisplay": "New buildings"
           }
          ]
         },
         "103": {
          "name": "Second expansion - The nobles",
          "type": "enum",
          "value": "0",
          "values": [
           {
            "name": "Off"
           },
           {
            "majorvariant": true,
            "name": "On",
            "premium": true,
            "tmdisplay": "The nobles"
           }
          ]
         },
         "200": {
          "name": "Game speed",
          "type": "enum",
          "value": "19",
          "values": {
           "0": {
            "name": "Real-time • Fast speed",
            "shortname": "Real-time • Fast"
           },
           "1": {
            "name": "Real-time • Normal speed",
            "shortname": "Real-time • Normal"
           },
           "13": {
            "name": "Turn-based &bull; 4 moves per day",
            "shortname": "Turn-based &bull; 4 moves per day"
           },
           "14": {
            "name": "Turn-based &bull; 3 moves per day",
            "shortname": "Turn-based &bull; 3 moves per day"
           },
           "15": {
            "name": "Turn-based &bull; 2 moves per day",
            "shortname": "Turn-based &bull; 2 moves per day"
           },
           "17": {
            "name": "Turn-based &bull; 1 move per day",
            "shortname": "Turn-based &bull; 1 move per day"
           },
           "19": {
            "name": "Turn-based &bull; 1 move per 2 days",
            "shortname": "Turn-based &bull; 1 move per 2 days"
           },
           "2": {
            "name": "Real-time • Slow speed",
            "shortname": "Real-time • Slow"
           },
           "20": {
            "name": "Turn-based &bull; No time limit (not recommended)",
            "shortname": "Turn-based &bull; No time limit (not recommended)"
           },
           "21": {
            "name": "Turn-based &bull; Fixed time limit",
            "no_player_selection": true,
            "shortname": "Turn-based"
           },
           "5": {
            "name": "Real-time • Fixed time limit",
            "no_player_selection": true,
            "shortname": "Real-time"
           }
          }
         },
         "201": {
          "name": "ELO rating",
          "type": "enum",
          "value": "0",
          "values": [
           {
            "name": "On"
           },
           {
            "name": "Off"
           }
          ]
         }
        },
        "player_display": [],
        "player_number_advice": "4",
        "player_number_not_recommended": "",
        "players": {
         "84041035": {
          "awards": [
           {
            "championship_name": null,
            "date": "1468678670",
            "defending": "1",
            "game": "14",
            "id": "4265468",
            "linked_tournament": null,
            "name": "500played",
            "player": "84041035",
            "prestige": "528",
            "prestigeclass": "4",
            "tgroup": null,
            "tournament_name": null,
            "type_id": "18"
           },
           {
            "championship_name": null,
            "date": "1450558042",
            "defending": "1",
            "game": "14",
            "id": "3404821",
            "linked_tournament": null,
            "name": "100victory",
            "player": "84041035",
            "prestige": "480",
            "prestigeclass": "3",
            "tgroup": null,
            "tournament_name": null,
            "type_id": "6"
           },
           {
            "championship_name": null,
            "date": "1533194577",
            "defending": "1",
            "game": "14",
            "id": "9970087",
            "linked_tournament": null,
            "name": "1600elo",
            "player": "84041035",
            "prestige": "100",
            "prestigeclass": "3",
            "tgroup": null,
            "tournament_name": null,
            "type_id": "25"
           }
          ]
         },
         "84478714": {
          "awards": [
           {
            "championship_name": null,
            "date": "1532922827",
            "defending": "1",
            "game": "14",
            "id": "9939006",
            "linked_tournament": null,
            "name": "20victory",
            "player": "84478714",
            "prestige": "90",
            "prestigeclass": "2",
            "tgroup": null,
            "tournament_name": null,
            "type_id": "4"
           },
           {
            "championship_name": null,
            "date": "1532922827",
            "defending": "1",
            "game": "14",
            "id": "9939007",
            "linked_tournament": null,
            "name": "1500elo",
            "player": "84478714",
            "prestige": "50",
            "prestigeclass": "2",
            "tgroup": null,
            "tournament_name": null,
            "type_id": "36"
           },
           {
            "championship_name": null,
            "date": "1500525222",
            "defending": "1",
            "game": "14",
            "id": "6751470",
            "linked_tournament": null,
            "name": "50played",
            "player": "84478714",
            "prestige": "48",
            "prestigeclass": "1",
            "tgroup": null,
            "tournament_name": null,
            "type_id": "15"
           }
          ]
         },
         "84496054": {
          "awards": [
           {
            "championship_name": null,
            "date": "1522124456",
            "defending": "1",
            "game": "14",
            "id": "8829918",
            "linked_tournament": null,
            "name": "20victory",
            "player": "84496054",
            "prestige": "96",
            "prestigeclass": "2",
            "tgroup": null,
            "tournament_name": null,
            "type_id": "4"
           },
           {
            "championship_name": null,
            "date": "1518647175",
            "defending": "1",
            "game": "14",
            "id": "8481579",
            "linked_tournament": null,
            "name": "50played",
            "player": "84496054",
            "prestige": "50",
            "prestigeclass": "2",
            "tgroup": null,
            "tournament_name": null,
            "type_id": "15"
           },
           {
            "championship_name": null,
            "date": "1509424485",
            "defending": "1",
            "game": "14",
            "id": "7646419",
            "linked_tournament": null,
            "name": "1400elo",
            "player": "84496054",
            "prestige": "10",
            "prestigeclass": "1",
            "tgroup": null,
            "tournament_name": null,
            "type_id": "35"
           }
          ]
         },
         "84688912": {
          "awards": [
           {
            "championship_name": null,
            "date": "1519096055",
            "defending": "1",
            "game": "14",
            "id": "8527439",
            "linked_tournament": null,
            "name": "100victory",
            "player": "84688912",
            "prestige": "528",
            "prestigeclass": "4",
            "tgroup": null,
            "tournament_name": null,
            "type_id": "6"
           },
           {
            "championship_name": "Puerto Rico Royal Draft",
            "date": "1523859302",
            "defending": "1",
            "game": "14",
            "id": "8993090",
            "linked_tournament": "17840",
            "name": "tournament2nd",
            "player": "84688912",
            "prestige": "304",
            "prestigeclass": "3",
            "tgroup": "2042938",
            "tournament_name": "RD Galleon Open Swiss",
            "type_id": "1002"
           },
           {
            "championship_name": null,
            "date": "1523338393",
            "defending": "1",
            "game": "14",
            "id": "8945965",
            "linked_tournament": null,
            "name": "200played",
            "player": "84688912",
            "prestige": "256",
            "prestigeclass": "3",
            "tgroup": null,
            "tournament_name": null,
            "type_id": "17"
           },
           {
            "championship_name": null,
            "date": "1522062779",
            "defending": "1",
            "game": "14",
            "id": "8823406",
            "linked_tournament": null,
            "name": "1800elo",
            "player": "84688912",
            "prestige": "250",
            "prestigeclass": "3",
            "tgroup": null,
            "tournament_name": null,
            "type_id": "26"
           }
          ]
         }
        },
        "pma": false,
        "presentation": "",
        "progression": "0",
        "reputation_filter": {
         "details": {
          "clock": 0,
          "karma": 2,
          "leave": 0,
          "opinion": 0
         },
         "label": "<div class=\"iblock\">☯ &ge; 65%</div>"
        },
        "reputation_filter_r": "128",
        "result": {
         "concede": "0",
         "endgame_reason": "normal_end",
         "game_id": "14",
         "game_name": "puertorico",
         "id": "42523339",
         "losers_not_ranked": false,
         "penalties": {
          "84041035": {
           "clock": -1,
           "leave": -1
          },
          "84478714": {
           "clock": -1,
           "leave": -1
          },
          "84496054": {
           "clock": -1,
           "leave": -1
          },
          "84688912": {
           "clock": -1,
           "leave": -1
          }
         },
         "player": [
          {
           "avatar": "656fa9e386",
           "country": {
            "cur": "EUR",
            "flag": 89,
            "flag_x": 128,
            "flag_y": 99,
            "name": "Greece"
           },
           "finish_game": "1",
           "gamerank": "1",
           "gender": "1",
           "is_beginner": "0",
           "is_premium": "0",
           "is_tie": "0",
           "name": "turiasauria",
           "player_id": "84041035",
           "point_win": "18.985071365443",
           "rank_after_game": "1651.7006351646",
           "score": "44",
           "score_aux": "10",
           "th_name": null
          },
          {
           "avatar": "b64a1a0afc",
           "country": {
            "cur": "JPY",
            "flag": 112,
            "flag_x": 176,
            "flag_y": 22,
            "name": "Japan"
           },
           "finish_game": "1",
           "gamerank": "2",
           "gender": null,
           "is_beginner": "0",
           "is_premium": "0",
           "is_tie": "0",
           "name": "yukumo",
           "player_id": "84688912",
           "point_win": "-7.8335332011973",
           "rank_after_game": "1862.3445554925",
           "score": "40",
           "score_aux": "12",
           "th_name": null
          },
          {
           "avatar": "000000",
           "country": {
            "cur": "KRW",
            "flag": 120,
            "flag_x": 192,
            "flag_y": 0,
            "name": "South Korea"
           },
           "finish_game": "1",
           "gamerank": "3",
           "gender": null,
           "is_beginner": "0",
           "is_premium": "0",
           "is_tie": "0",
           "name": "Parkkj",
           "player_id": "84496054",
           "point_win": "2.6769812948787",
           "rank_after_game": "1472.826183594",
           "score": "30",
           "score_aux": "4",
           "th_name": null
          },
          {
           "avatar": "000000",
           "country": {
            "cur": "USD",
            "flag": 229,
            "flag_x": 352,
            "flag_y": 99,
            "name": "United States"
           },
           "finish_game": "1",
           "gamerank": "4",
           "gender": "1",
           "is_beginner": "0",
           "is_premium": "0",
           "is_tie": "0",
           "name": "newsun",
           "player_id": "84478714",
           "point_win": "-13.828519459125",
           "rank_after_game": "1507.7074854566",
           "score": "23",
           "score_aux": "7",
           "th_name": null
          }
         ],
         "stats": {
          "player": {
           "big_buildings_owned": {
            "id": 19,
            "name": "Large buildings",
            "type": "int",
            "valuelabels": [],
            "values": {
             "84041035": "*masked*",
             "84478714": "*masked*",
             "84496054": "*masked*",
             "84688912": "*masked*"
            }
           },
           "building_victory_points": {
            "id": 11,
            "name": "Victory points earned by building",
            "type": "int",
            "valuelabels": [],
            "values": {
             "84041035": "*masked*",
             "84478714": "*masked*",
             "84496054": "*masked*",
             "84688912": "*masked*"
            }
           },
           "colonists_owned": {
            "id": 15,
            "name": "Colonists",
            "type": "int",
            "valuelabels": [],
            "values": {
             "84041035": "*masked*",
             "84478714": "*masked*",
             "84496054": "*masked*",
             "84688912": "*masked*"
            }
           },
           "doubloons_owned": {
            "id": 13,
            "name": "Doubloons owned at game end",
            "type": "int",
            "valuelabels": [],
            "values": {
             "84041035": "*masked*",
             "84478714": "*masked*",
             "84496054": "*masked*",
             "84688912": "*masked*"
            }
           },
           "goods_owned": {
            "id": 14,
            "name": "Good barrels owned at game end",
            "type": "int",
            "valuelabels": [],
            "values": {
             "84041035": "*masked*",
             "84478714": "*masked*",
             "84496054": "*masked*",
             "84688912": "*masked*"
            }
           },
           "large_building_victory_points": {
            "id": 12,
            "name": "Victory points earned through occupied large buildings",
            "type": "int",
            "valuelabels": [],
            "values": {
             "84041035": "*masked*",
             "84478714": "*masked*",
             "84496054": "*masked*",
             "84688912": "*masked*"
            }
           },
           "plantations_owned": {
            "id": 16,
            "name": "Plantations",
            "type": "int",
            "valuelabels": [],
            "values": {
             "84041035": "*masked*",
             "84478714": "*masked*",
             "84496054": "*masked*",
             "84688912": "*masked*"
            }
           },
           "quarries_owned": {
            "id": 17,
            "name": "Quarries",
            "type": "int",
            "valuelabels": [],
            "values": {
             "84041035": "*masked*",
             "84478714": "*masked*",
             "84496054": "*masked*",
             "84688912": "*masked*"
            }
           },
           "reflexion_time": {
            "id": 1,
            "name": "Thinking time",
            "type": "int",
            "unit": "min",
            "valuelabels": [],
            "values": {
             "84041035": "*masked*",
             "84478714": "*masked*",
             "84496054": "*masked*",
             "84688912": "*masked*"
            }
           },
           "shipping_victory_points": {
            "id": 10,
            "name": "Victory points earned by shipping",
            "type": "int",
            "valuelabels": [],
            "values": {
             "84041035": "*masked*",
             "84478714": "*masked*",
             "84496054": "*masked*",
             "84688912": "*masked*"
            }
           },
           "small_buildings_owned": {
            "id": 18,
            "name": "Small buildings",
            "type": "int",
            "valuelabels": [],
            "values": {
             "84041035": "*masked*",
             "84478714": "*masked*",
             "84496054": "*masked*",
             "84688912": "*masked*"
            }
           }
          },
          "table": {
           "avg_points": {
            "id": 2,
            "name": "Average score",
            "type": "float",
            "value": "*masked*"
           },
           "best_score": {
            "id": 3,
            "name": "Best score",
            "type": "int",
            "value": "*masked*"
           },
           "doubloons_bank": {
            "id": 12,
            "name": "Doubloons in the bank",
            "type": "int",
            "value": "*masked*"
           },
           "player_number": {
            "id": 1,
            "name": "Number of players",
            "type": "int",
            "value": "*masked*"
           },
           "unclaimed_big_buildings": {
            "id": 16,
            "name": "Unclaimed large buildings",
            "type": "int",
            "value": "*masked*"
           },
           "unclaimed_colonists": {
            "id": 11,
            "name": "Unclaimed colonists",
            "type": "int",
            "value": "*masked*"
           },
           "unclaimed_plantations": {
            "id": 13,
            "name": "Unclaimed plantations",
            "type": "int",
            "value": "*masked*"
           },
           "unclaimed_quarries": {
            "id": 14,
            "name": "Unclaimed quarries",
            "type": "int",
            "value": "*masked*"
           },
           "unclaimed_small_buildings": {
            "id": 15,
            "name": "Unclaimed small buildings",
            "type": "int",
            "value": "*masked*"
           },
           "unclaimed_victory_points": {
            "id": 10,
            "name": "Unclaimed victory points",
            "type": "int",
            "value": "*masked*"
           }
          }
         },
         "table_level": "1623.6447149269",
         "time_duration": "3020399",
         "time_end": "2018-09-25 16:28:45",
         "time_start": "2018-07-30 11:43:49",
         "trophies": []
        },
        "rtc_mode": null,
        "sandbox": "0",
        "scheduled": "1532923062",
        "scheduled_string": "tomorrow at 06:57",
        "siteversion": "180711-1524",
        "slow": "174",
        "status": "archive",
        "suggested": [],
        "thumbs": {
         "29724467": {
          "n": "0",
          "po_subject": "29724467",
          "t": "1"
         },
         "33357709": {
          "n": "0",
          "po_subject": "33357709",
          "t": "1"
         },
         "3666569": {
          "n": "0",
          "po_subject": "3666569",
          "t": "1"
         },
         "83903620": {
          "n": "0",
          "po_subject": "83903620",
          "t": "1"
         },
         "83934148": {
          "n": "0",
          "po_subject": "83934148",
          "t": "1"
         },
         "83941687": {
          "n": "0",
          "po_subject": "83941687",
          "t": "1"
         },
         "83948137": {
          "n": "0",
          "po_subject": "83948137",
          "t": "1"
         },
         "83974152": {
          "n": "0",
          "po_subject": "83974152",
          "t": "1"
         },
         "83977191": {
          "n": "0",
          "po_subject": "83977191",
          "t": "1"
         },
         "84013724": {
          "n": "0",
          "po_subject": "84013724",
          "t": "1"
         },
         "84049173": {
          "n": "0",
          "po_subject": "84049173",
          "t": "1"
         },
         "84120761": {
          "n": "0",
          "po_subject": "84120761",
          "t": "1"
         },
         "84145684": {
          "n": "0",
          "po_subject": "84145684",
          "t": "1"
         },
         "84149715": {
          "n": "0",
          "po_subject": "84149715",
          "t": "1"
         },
         "84152507": {
          "n": "0",
          "po_subject": "84152507",
          "t": "1"
         },
         "84159359": {
          "n": "0",
          "po_subject": "84159359",
          "t": "1"
         },
         "84164045": {
          "n": "0",
          "po_subject": "84164045",
          "t": "1"
         },
         "84164812": {
          "n": "0",
          "po_subject": "84164812",
          "t": "1"
         },
         "84173318": {
          "n": "0",
          "po_subject": "84173318",
          "t": "1"
         },
         "84177719": {
          "n": "0",
          "po_subject": "84177719",
          "t": "1"
         },
         "84188837": {
          "n": "0",
          "po_subject": "84188837",
          "t": "1"
         },
         "84191406": {
          "n": "0",
          "po_subject": "84191406",
          "t": "1"
         },
         "84191935": {
          "n": "0",
          "po_subject": "84191935",
          "t": "1"
         },
         "84204819": {
          "n": "0",
          "po_subject": "84204819",
          "t": "1"
         },
         "84205772": {
          "n": "0",
          "po_subject": "84205772",
          "t": "1"
         },
         "84219791": {
          "n": "0",
          "po_subject": "84219791",
          "t": "1"
         },
         "84223999": {
          "n": "0",
          "po_subject": "84223999",
          "t": "1"
         },
         "84225896": {
          "n": "0",
          "po_subject": "84225896",
          "t": "1"
         },
         "84234536": {
          "n": "0",
          "po_subject": "84234536",
          "t": "1"
         },
         "84235146": {
          "n": "0",
          "po_subject": "84235146",
          "t": "1"
         }
        },
        "time_profile": {
         "additional_time_per_move": 172800,
         "extra_time_to_think_to_expel": 518400,
         "initial_time_to_thing": 1036800,
         "maximum_time_per_move": 518400
        },
        "unranked": "0",
        "visitors": []
       },
       {
        "additional_reflexion_time_advice": "60",
        "admin_id": null,
        "beginner_not_recommended_player_number": [],
        "cancelled": "0",
        "current_player_nbr": 0,
        "current_present_player_nbr": 0,
        "duration": "30",
        "estimated_duration": 30625,
        "fast": "87",
        "filter_group": null,
        "filter_group_name": null,
        "filter_group_type": null,
        "filter_group_visibility": null,
        "filter_lang": null,
        "game_id": "14",
        "game_max_players": "5",
        "game_min_players": "2",
        "game_name": "puertorico",
        "game_player_number": {
         "2": 1,
         "3": 1,
         "4": 1,
         "5": 1
        },
        "game_status": "public",
        "gameserver": "1",
        "gamestart": "1536176288",
        "gameversion": "180723-1044",
        "id": "43641588",
        "initial_reflexion_time_advice": "300",
        "level_filter": {
         "details": {
          "Apprentices": false,
          "Average players": false,
          "Beginners": false,
          "Experts": true,
          "Good players": true,
          "Masters": true,
          "Strong players": true
         },
         "label": {
          "args": {
           "i18n": [
            "up"
           ],
           "up": "Good players"
          },
          "log": "${up} and above"
         }
        },
        "level_filter_r": "120",
        "log_archived": "0",
        "max_player": "4",
        "medium": "124",
        "min_player": "4",
        "news_id": null,
        "not_recommend_player_number": [],
        "options": {
         "100": {
          "name": "Balance variant",
          "type": "enum",
          "value": "1",
          "values": [
           {
            "name": "Classic game"
           },
           {
            "name": "Balanced game",
            "tmdisplay": "Balanced game"
           }
          ]
         },
         "101": {
          "name": "Two-player variant",
          "type": "enum",
          "value": "1",
          "values": [
           {
            "name": "Classic game"
           },
           {
            "name": "Craftsman Angst",
            "tmdisplay": "Craftsman Angst"
           }
          ]
         },
         "102": {
          "name": "First expansion - New buildings",
          "type": "enum",
          "value": "0",
          "values": [
           {
            "name": "Off"
           },
           {
            "majorvariant": true,
            "name": "On",
            "premium": true,
            "tmdisplay": "New buildings"
           }
          ]
         },
         "103": {
          "name": "Second expansion - The nobles",
          "type": "enum",
          "value": "0",
          "values": [
           {
            "name": "Off"
           },
           {
            "majorvariant": true,
            "name": "On",
            "premium": true,
            "tmdisplay": "The nobles"
           }
          ]
         },
         "200": {
          "name": "Game speed",
          "type": "enum",
          "value": "13",
          "values": {
           "0": {
            "name": "Real-time • Fast speed",
            "shortname": "Real-time • Fast"
           },
           "1": {
            "name": "Real-time • Normal speed",
            "shortname": "Real-time • Normal"
           },
           "13": {
            "name": "Turn-based &bull; 4 moves per day",
            "shortname": "Turn-based &bull; 4 moves per day"
           },
           "14": {
            "name": "Turn-based &bull; 3 moves per day",
            "shortname": "Turn-based &bull; 3 moves per day"
           },
           "15": {
            "name": "Turn-based &bull; 2 moves per day",
            "shortname": "Turn-based &bull; 2 moves per day"
           },
           "17": {
            "name": "Turn-based &bull; 1 move per day",
            "shortname": "Turn-based &bull; 1 move per day"
           },
           "19": {
            "name": "Turn-based &bull; 1 move per 2 days",
            "shortname": "Turn-based &bull; 1 move per 2 days"
           },
           "2": {
            "name": "Real-time • Slow speed",
            "shortname": "Real-time • Slow"
           },
           "20": {
            "name": "Turn-based &bull; No time limit (not recommended)",
            "shortname": "Turn-based &bull; No time limit (not recommended)"
           },
           "21": {
            "name": "Turn-based &bull; Fixed time limit",
            "no_player_selection": true,
            "shortname": "Turn-based"
           },
           "5": {
            "name": "Real-time • Fixed time limit",
            "no_player_selection": true,
            "shortname": "Real-time"
           }
          }
         },
         "201": {
          "name": "ELO rating",
          "type": "enum",
          "value": "0",
          "values": [
           {
            "name": "On"
           },
           {
            "name": "Off"
           }
          ]
         }
        },
        "player_display": [],
        "player_number_advice": "4",
        "player_number_not_recommended": "",
        "players": {
         "4480056": {
          "awards": [
           {
            "championship_name": null,
            "date": "1467659105",
            "defending": "1",
            "game": "14",
            "id": "4222712",
            "linked_tournament": null,
            "name": "20victory",
            "player": "4480056",
            "prestige": "99",
            "prestigeclass": "2",
            "tgroup": null,
            "tournament_name": null,
            "type_id": "4"
           },
           {
            "championship_name": null,
            "date": "1480412091",
            "defending": "1",
            "game": "14",
            "id": "4825383",
            "linked_tournament": null,
            "name": "50played",
            "player": "4480056",
            "prestige": "48",
            "prestigeclass": "1",
            "tgroup": null,
            "tournament_name": null,
            "type_id": "15"
           },
           {
            "championship_name": null,
            "date": "1537981884",
            "defending": "1",
            "game": "14",
            "id": "10504548",
            "linked_tournament": null,
            "name": "1400elo",
            "player": "4480056",
            "prestige": "10",
            "prestigeclass": "1",
            "tgroup": null,
            "tournament_name": null,
            "type_id": "35"
           }
          ]
         },
         "83916381": {
          "awards": [
           {
            "championship_name": null,
            "date": "1494856423",
            "defending": "1",
            "game": "14",
            "id": "6232114",
            "linked_tournament": null,
            "name": "50victory",
            "player": "83916381",
            "prestige": "264",
            "prestigeclass": "3",
            "tgroup": null,
            "tournament_name": null,
            "type_id": "5"
           },
           {
            "championship_name": null,
            "date": "1428283978",
            "defending": "1",
            "game": "14",
            "id": "2494949",
            "linked_tournament": null,
            "name": "1600elo",
            "player": "83916381",
            "prestige": "100",
            "prestigeclass": "3",
            "tgroup": null,
            "tournament_name": null,
            "type_id": "25"
           },
           {
            "championship_name": null,
            "date": "1492594687",
            "defending": "1",
            "game": "14",
            "id": "6000719",
            "linked_tournament": null,
            "name": "100played",
            "player": "83916381",
            "prestige": "99",
            "prestigeclass": "2",
            "tgroup": null,
            "tournament_name": null,
            "type_id": "16"
           }
          ]
         },
         "83958033": {
          "awards": [
           {
            "championship_name": null,
            "date": "1528957291",
            "defending": "1",
            "game": "14",
            "id": "9477342",
            "linked_tournament": null,
            "name": "50victory",
            "player": "83958033",
            "prestige": "248",
            "prestigeclass": "3",
            "tgroup": null,
            "tournament_name": null,
            "type_id": "5"
           },
           {
            "championship_name": null,
            "date": "1513975995",
            "defending": "1",
            "game": "14",
            "id": "8018918",
            "linked_tournament": null,
            "name": "100played",
            "player": "83958033",
            "prestige": "99",
            "prestigeclass": "2",
            "tgroup": null,
            "tournament_name": null,
            "type_id": "16"
           },
           {
            "championship_name": null,
            "date": "1537766818",
            "defending": "1",
            "game": "14",
            "id": "10482743",
            "linked_tournament": null,
            "name": "1500elo",
            "player": "83958033",
            "prestige": "50",
            "prestigeclass": "2",
            "tgroup": null,
            "tournament_name": null,
            "type_id": "36"
           }
          ]
         },
         "84121080": {
          "awards": [
           {
            "championship_name": null,
            "date": "1467483436",
            "defending": "1",
            "game": "14",
            "id": "4215086",
            "linked_tournament": null,
            "name": "500played",
            "player": "84121080",
            "prestige": "528",
            "prestigeclass": "4",
            "tgroup": null,
            "tournament_name": null,
            "type_id": "18"
           },
           {
            "championship_name": null,
            "date": "1456191543",
            "defending": "1",
            "game": "14",
            "id": "3689491",
            "linked_tournament": null,
            "name": "100victory",
            "player": "84121080",
            "prestige": "512",
            "prestigeclass": "4",
            "tgroup": null,
            "tournament_name": null,
            "type_id": "6"
           },
           {
            "championship_name": null,
            "date": "1533015175",
            "defending": "1",
            "game": "14",
            "id": "9949868",
            "linked_tournament": null,
            "name": "1600elo",
            "player": "84121080",
            "prestige": "100",
            "prestigeclass": "3",
            "tgroup": null,
            "tournament_name": null,
            "type_id": "25"
           }
          ]
         }
        },
        "pma": false,
        "presentation": "",
        "progression": "0",
        "reputation_filter": {
         "details": {
          "clock": 0,
          "karma": 0,
          "leave": 0,
          "opinion": 0
         },
         "label": ""
        },
        "reputation_filter_r": "0",
        "result": {
         "concede": "0",
         "endgame_reason": "normal_end",
         "game_id": "14",
         "game_name": "puertorico",
         "id": "43641588",
         "losers_not_ranked": false,
         "penalties": {
          "4480056": {
           "clock": -1,
           "leave": -1
          },
          "83916381": {
           "clock": -1,
           "leave": -1
          },
          "83958033": {
           "clock": -1,
           "leave": -1
          },
          "84121080": {
           "clock": "1",
           "leave": -1
          }
         },
         "player": [
          {
           "avatar": "000000",
           "country": {
            "cur": "HKD",
            "flag": 95,
            "flag_x": 144,
            "flag_y": 55,
            "name": "Hong Kong"
           },
           "finish_game": "1",
           "gamerank": "1",
           "gender": "1",
           "is_beginner": "0",
           "is_premium": "0",
           "is_tie": "0",
           "name": "gogogomorton",
           "player_id": "83916381",
           "point_win": "15.987203551314",
           "rank_after_game": "1691.8700909487",
           "score": "42",
           "score_aux": "5",
           "th_name": null
          },
          {
           "avatar": "000000",
           "country": {
            "cur": "GBP",
            "flag": 78,
            "flag_x": 112,
            "flag_y": 88,
            "name": "United Kingdom"
           },
           "finish_game": "1",
           "gamerank": "2",
           "gender": "1",
           "is_beginner": "0",
           "is_premium": "0",
           "is_tie": "0",
           "name": "masonator",
           "player_id": "83958033",
           "point_win": "9.3307782872091",
           "rank_after_game": "1593.0909141713",
           "score": "42",
           "score_aux": "4",
           "th_name": null
          },
          {
           "avatar": "000000",
           "country": {
            "cur": "CNY",
            "flag": 46,
            "flag_x": 64,
            "flag_y": 66,
            "name": "China"
           },
           "finish_game": "1",
           "gamerank": "3",
           "gender": null,
           "is_beginner": "0",
           "is_premium": "0",
           "is_tie": "0",
           "name": "duomeng666",
           "player_id": "84121080",
           "point_win": "-13.285642974916",
           "rank_after_game": "1699.7527007595",
           "score": "30",
           "score_aux": "10",
           "th_name": null
          },
          {
           "avatar": "a6ccc7f55a",
           "country": {
            "cur": "EUR",
            "flag": 76,
            "flag_x": 112,
            "flag_y": 66,
            "name": "France"
           },
           "finish_game": "1",
           "gamerank": "4",
           "gender": "1",
           "is_beginner": "0",
           "is_premium": "1",
           "is_tie": "0",
           "name": "Drareg",
           "player_id": "4480056",
           "point_win": "-12.032338863607",
           "rank_after_game": "1495.731962926",
           "score": "26",
           "score_aux": "3",
           "th_name": null
          }
         ],
         "stats": {
          "player": {
           "big_buildings_owned": {
            "id": 19,
            "name": "Large buildings",
            "type": "int",
            "valuelabels": [],
            "values": {
             "4480056": "*masked*",
             "83916381": "*masked*",
             "83958033": "*masked*",
             "84121080": "*masked*"
            }
           },
           "building_victory_points": {
            "id": 11,
            "name": "Victory points earned by building",
            "type": "int",
            "valuelabels": [],
            "values": {
             "4480056": "*masked*",
             "83916381": "*masked*",
             "83958033": "*masked*",
             "84121080": "*masked*"
            }
           },
           "colonists_owned": {
            "id": 15,
            "name": "Colonists",
            "type": "int",
            "valuelabels": [],
            "values": {
             "4480056": "*masked*",
             "83916381": "*masked*",
             "83958033": "*masked*",
             "84121080": "*masked*"
            }
           },
           "doubloons_owned": {
            "id": 13,
            "name": "Doubloons owned at game end",
            "type": "int",
            "valuelabels": [],
            "values": {
             "4480056": "*masked*",
             "83916381": "*masked*",
             "83958033": "*masked*",
             "84121080": "*masked*"
            }
           },
           "goods_owned": {
            "id": 14,
            "name": "Good barrels owned at game end",
            "type": "int",
            "valuelabels": [],
            "values": {
             "4480056": "*masked*",
             "83916381": "*masked*",
             "83958033": "*masked*",
             "84121080": "*masked*"
            }
           },
           "large_building_victory_points": {
            "id": 12,
            "name": "Victory points earned through occupied large buildings",
            "type": "int",
            "valuelabels": [],
            "values": {
             "4480056": "*masked*",
             "83916381": "*masked*",
             "83958033": "*masked*",
             "84121080": "*masked*"
            }
           },
           "plantations_owned": {
            "id": 16,
            "name": "Plantations",
            "type": "int",
            "valuelabels": [],
            "values": {
             "4480056": "*masked*",
             "83916381": "*masked*",
             "83958033": "*masked*",
             "84121080": "*masked*"
            }
           },
           "quarries_owned": {
            "id": 17,
            "name": "Quarries",
            "type": "int",
            "valuelabels": [],
            "values": {
             "4480056": "*masked*",
             "83916381": "*masked*",
             "83958033": "*masked*",
             "84121080": "*masked*"
            }
           },
           "reflexion_time": {
            "id": 1,
            "name": "Thinking time",
            "type": "int",
            "unit": "min",
            "valuelabels": [],
            "values": {
             "4480056": "*masked*",
             "83916381": "*masked*",
             "83958033": "*masked*",
             "84121080": "*masked*"
            }
           },
           "shipping_victory_points": {
            "id": 10,
            "name": "Victory points earned by shipping",
            "type": "int",
            "valuelabels": [],
            "values": {
             "4480056": "*masked*",
             "83916381": "*masked*",
             "83958033": "*masked*",
             "84121080": "*masked*"
            }
           },
           "small_buildings_owned": {
            "id": 18,
            "name": "Small buildings",
            "type": "int",
            "valuelabels": [],
            "values": {
             "4480056": "*masked*",
             "83916381": "*masked*",
             "83958033": "*masked*",
             "84121080": "*masked*"
            }
           }
          },
          "table": {
           "avg_points": {
            "id": 2,
            "name": "Average score",
            "type": "float",
            "value": "*masked*"
           },
           "best_score": {
            "id": 3,
            "name": "Best score",
            "type": "int",
            "value": "*masked*"
           },
           "doubloons_bank": {
            "id": 12,
            "name": "Doubloons in the bank",
            "type": "int",
            "value": "*masked*"
           },
           "player_number": {
            "id": 1,
            "name": "Number of players",
            "type": "int",
            "value": "*masked*"
           },
           "unclaimed_big_buildings": {
            "id": 16,
            "name": "Unclaimed large buildings",
            "type": "int",
            "value": "*masked*"
           },
           "unclaimed_colonists": {
            "id": 11,
            "name": "Unclaimed colonists",
            "type": "int",
            "value": "*masked*"
           },
           "unclaimed_plantations": {
            "id": 13,
            "name": "Unclaimed plantations",
            "type": "int",
            "value": "*masked*"
           },
           "unclaimed_quarries": {
            "id": 14,
            "name": "Unclaimed quarries",
            "type": "int",
            "value": "*masked*"
           },
           "unclaimed_small_buildings": {
            "id": 15,
            "name": "Unclaimed small buildings",
            "type": "int",
            "value": "*masked*"
           },
           "unclaimed_victory_points": {
            "id": 10,
            "name": "Unclaimed victory points",
            "type": "int",
            "value": "*masked*"
           }
          }
         },
         "table_level": "1620.1114172014",
         "time_duration": "1805596",
         "time_end": "2018-09-26 19:11:24",
         "time_start": "2018-09-05 21:38:08",
         "trophies": {
          "4480056": [
           {
            "championship_name": null,
            "date": "1537981884",
            "defending": "1",
            "game": "14",
            "id": "10504548",
            "linked_tournament": null,
            "name": "1400elo",
            "player": "4480056",
            "prestige": "10",
            "tournament_name": null,
            "type_id": "35"
           }
          ]
         }
        },
        "rtc_mode": null,
        "sandbox": "0",
        "scheduled": "1536171666",
        "scheduled_string": "tomorrow at 21:21",
        "siteversion": "180822-2022",
        "slow": "174",
        "status": "finished",
        "suggested": [],
        "thumbs": {
         "29724467": {
          "n": "0",
          "po_subject": "29724467",
          "t": "1"
         },
         "33357709": {
          "n": "0",
          "po_subject": "33357709",
          "t": "1"
         },
         "3666569": {
          "n": "0",
          "po_subject": "3666569",
          "t": "1"
         },
         "83903620": {
          "n": "0",
          "po_subject": "83903620",
          "t": "1"
         },
         "83934148": {
          "n": "0",
          "po_subject": "83934148",
          "t": "1"
         },
         "83941687": {
          "n": "0",
          "po_subject": "83941687",
          "t": "1"
         },
         "83948137": {
          "n": "0",
          "po_subject": "83948137",
          "t": "1"
         },
         "83974152": {
          "n": "0",
          "po_subject": "83974152",
          "t": "1"
         },
         "83977191": {
          "n": "0",
          "po_subject": "83977191",
          "t": "1"
         },
         "84013724": {
          "n": "0",
          "po_subject": "84013724",
          "t": "1"
         },
         "84049173": {
          "n": "0",
          "po_subject": "84049173",
          "t": "1"
         },
         "84120761": {
          "n": "0",
          "po_subject": "84120761",
          "t": "1"
         },
         "84145684": {
          "n": "0",
          "po_subject": "84145684",
          "t": "1"
         },
         "84149715": {
          "n": "0",
          "po_subject": "84149715",
          "t": "1"
         },
         "84152507": {
          "n": "0",
          "po_subject": "84152507",
          "t": "1"
         },
         "84159359": {
          "n": "0",
          "po_subject": "84159359",
          "t": "1"
         },
         "84164045": {
          "n": "0",
          "po_subject": "84164045",
          "t": "1"
         },
         "84164812": {
          "n": "0",
          "po_subject": "84164812",
          "t": "1"
         },
         "84173318": {
          "n": "0",
          "po_subject": "84173318",
          "t": "1"
         },
         "84177719": {
          "n": "0",
          "po_subject": "84177719",
          "t": "1"
         },
         "84188837": {
          "n": "0",
          "po_subject": "84188837",
          "t": "1"
         },
         "84191406": {
          "n": "0",
          "po_subject": "84191406",
          "t": "1"
         },
         "84191935": {
          "n": "0",
          "po_subject": "84191935",
          "t": "1"
         },
         "84204819": {
          "n": "0",
          "po_subject": "84204819",
          "t": "1"
         },
         "84205772": {
          "n": "0",
          "po_subject": "84205772",
          "t": "1"
         },
         "84219791": {
          "n": "0",
          "po_subject": "84219791",
          "t": "1"
         },
         "84223999": {
          "n": "0",
          "po_subject": "84223999",
          "t": "1"
         },
         "84225896": {
          "n": "0",
          "po_subject": "84225896",
          "t": "1"
         },
         "84234536": {
          "n": "0",
          "po_subject": "84234536",
          "t": "1"
         },
         "84235146": {
          "n": "0",
          "po_subject": "84235146",
          "t": "1"
         }
        },
        "time_profile": {
         "additional_time_per_move": 21600,
         "extra_time_to_think_to_expel": 64800,
         "initial_time_to_thing": 129600,
         "maximum_time_per_move": 86400
        },
        "unranked": "0",
        "visitors": []
       }
      ],
      "text/plain": [
       "<IPython.core.display.JSON object>"
      ]
     },
     "execution_count": 20,
     "metadata": {
      "application/json": {
       "expanded": false
      }
     },
     "output_type": "execute_result"
    }
   ],
   "source": [
    "JSON(list(filter(contains('$.options.\"101\".value', '1'), infos)))"
   ]
  },
  {
   "cell_type": "code",
   "execution_count": 92,
   "metadata": {},
   "outputs": [],
   "source": [
    "\n"
   ]
  },
  {
   "cell_type": "markdown",
   "metadata": {},
   "source": [
    "## Generic bga functions"
   ]
  },
  {
   "cell_type": "code",
   "execution_count": null,
   "metadata": {},
   "outputs": [],
   "source": [
    "def load_game(fn):\n",
    "    return load_from_json_file(fn)['data']['data']['data']"
   ]
  },
  {
   "cell_type": "code",
   "execution_count": null,
   "metadata": {},
   "outputs": [],
   "source": [
    "def get_step(game, move_id=0, sub_move_id=0, **kvargs):\n",
    "    return game[move_id]['data'][sub_move_id]"
   ]
  },
  {
   "cell_type": "code",
   "execution_count": null,
   "metadata": {},
   "outputs": [],
   "source": [
    "def move_to_next_step(game, game_state):\n",
    "    move_id     = game_state.get('move_id', 0)\n",
    "    sub_move_id = game_state.get('sub_move_id', 0) + 1\n",
    "    \n",
    "    if len(game[move_id]['data']) <= sub_move_id:\n",
    "        move_id    += 1\n",
    "        sub_move_id = 0\n",
    "    \n",
    "    return alter_dict(game_state,\n",
    "        move_id     = move_id,\n",
    "        sub_move_id = sub_move_id\n",
    "    )"
   ]
  },
  {
   "cell_type": "code",
   "execution_count": null,
   "metadata": {},
   "outputs": [],
   "source": [
    "def default_action(game_state, step):\n",
    "    print(\"Unknown action '%s' :(\" % step['type'])\n",
    "    display(JSON({'state': game_state, 'step': step}, indent=4))\n",
    "    return None"
   ]
  },
  {
   "cell_type": "code",
   "execution_count": null,
   "metadata": {},
   "outputs": [],
   "source": [
    "def apply_step(game_state, step):\n",
    "    if not step['args']: \n",
    "        step['args'] = dict()\n",
    "    elif not isinstance(step['args'], dict): \n",
    "        step['args'] = {str(i):v for i,v in enumerate(step['args'])}\n",
    "        \n",
    "    if step['log']:\n",
    "        print_log('[{step_type}] ' + step['log'], step_type=step['type'], **step['args'])\n",
    "        \n",
    "    a = actions.get(step['type'], None)\n",
    "    if a:\n",
    "        return a(game_state, **step['args'])\n",
    "    else:\n",
    "        return default_action(game_state, step)        "
   ]
  },
  {
   "cell_type": "code",
   "execution_count": null,
   "metadata": {},
   "outputs": [],
   "source": [
    "def debug(state, step, fn=None):\n",
    "    if not fn:\n",
    "        fn = globals()[step['type']]\n",
    "    display(\n",
    "        JSON(state, root='state'), \n",
    "        JSON(step, root='step'), \n",
    "    )\n",
    "    new_state = fn(state, **step['args'])\n",
    "    pprint(get_diff(state, new_state), width=10)"
   ]
  },
  {
   "cell_type": "markdown",
   "metadata": {},
   "source": [
    "## Puerto rico functions"
   ]
  },
  {
   "cell_type": "markdown",
   "metadata": {},
   "source": [
    "## initialization"
   ]
  },
  {
   "cell_type": "code",
   "execution_count": null,
   "metadata": {},
   "outputs": [],
   "source": [
    "good_types = ['corn', 'indigo', 'sugar', 'tobacco', 'coffee']\n",
    "\n",
    "def setup_buildings(buildings, **kvargs):\n",
    "    result = {}\n",
    "    def inc(d, k): d[k] = 1 + d.get(k, 0) \n",
    "    for b in buildings.values():\n",
    "        inc(result, b['bld_type'])\n",
    "    return result\n",
    "\n",
    "def setup_plantations(plantations_to_set, **kvargs):\n",
    "    result = [p['res_type'] for p in plantations_to_set.values()]\n",
    "    return result\n",
    "\n",
    "def setup_ships(ships, **kvargs): \n",
    "    result = {v['shp_id']:{\n",
    "        'capacity': int(v['shp_capacity']),\n",
    "        'goods': 0,\n",
    "        'res_type': None\n",
    "    } for v in ships.values()}\n",
    "    return result\n",
    "\n",
    "def setup_stock(**kvargs):\n",
    "    result = []\n",
    "    return result\n",
    "\n",
    "def setup_VPs(counters, **kvargs): \n",
    "    return int(counters['shipping_points_bank']['counter_value'])\n",
    "\n",
    "def setup_bank(counters, **kvargs): \n",
    "    return int(counters['doubloons_bank']['counter_value'])\n",
    "\n",
    "def setup_workers(counters, **kvargs): \n",
    "    result = {\n",
    "        'available': int(counters['colonists_bank']['counter_value']),\n",
    "        'arriving':  int(counters['colonists_ship']['counter_value'])\n",
    "    }\n",
    "    return result\n",
    "\n",
    "def setup_goods(counters, **kvargs): \n",
    "    result = {\n",
    "        'coffee'  : int(counters['resource_coffee_bank']['counter_value']),\n",
    "        'corn'    : int(counters['resource_corn_bank']['counter_value']),\n",
    "        'indigo'  : int(counters['resource_indigo_bank']['counter_value']),\n",
    "        'sugar'   : int(counters['resource_sugar_bank']['counter_value']),\n",
    "        'tobacco' : int(counters['resource_tobacco_bank']['counter_value']),\n",
    "    }\n",
    "    return result\n",
    "\n",
    "def setup_roles(role_tooltips, **kvargs):\n",
    "    result = {v['rol_id']:{\n",
    "        'money': int(v['money']), \n",
    "        'rol_type': v['rol_type'], \n",
    "        'selected': False\n",
    "    } for v in role_tooltips.values()}\n",
    "    return result\n",
    "    \n",
    "def setup_playerorder(playerorder, **kvargs):\n",
    "    result = [str(v) for v in playerorder]\n",
    "    return result\n",
    "\n",
    "def setup_player(index, username, money, plantaion, **kvargs):\n",
    "    result = {\n",
    "        '_': username,\n",
    "        'money': int(money),\n",
    "        'building_vp': 0,\n",
    "        'delivery_vp': 0,\n",
    "        'buildings': {'commercial': {}, 'factories': {g:{'jobs':0, 'workers':0} for g in good_types}},\n",
    "        'goods': {g:0 for g in good_types},\n",
    "        'plantations': {g:{'jobs':1 if g == plantaion else 0, 'workers':0}  for g in (good_types + ['rock'])},\n",
    "        'potential_vp': {'commercial': 0, 'factories': 0, 'workers': 0},\n",
    "        'slots': {'buildings': 12, 'plantations': 11},\n",
    "        'workers': {'total': 0, 'unemployed': 0}\n",
    "    }\n",
    "    result['goods']['stored'] = {}\n",
    "    return result\n",
    "\n",
    "def setup_players(players, playerorder, counters, plantations_owned, **kvargs):\n",
    "    result = {}\n",
    "    for index,id in enumerate(playerorder):\n",
    "        id = str(id)\n",
    "        money = counters['doubloons_player_'+id]['counter_value']\n",
    "        plantation = [v['res_type'] for k,v in plantations_owned.items() if v['player_id'] == id][0]\n",
    "        result[id] = setup_player(index, players[id]['name'], money, plantation)\n",
    "    return result\n",
    "\n",
    "def setup_table(datas):\n",
    "    r = {\n",
    "        'buildings': setup_buildings(**datas),\n",
    "        'plantations': setup_plantations(**datas),\n",
    "        'ships': setup_ships(**datas),\n",
    "        'stock': setup_stock(**datas),\n",
    "        'VPs': setup_VPs(**datas),\n",
    "        'money': setup_bank(**datas),\n",
    "        'workers': setup_workers(**datas),\n",
    "        'goods': setup_goods(**datas),\n",
    "        'roles': setup_roles(**datas),\n",
    "        'playerorder': setup_playerorder(**datas)\n",
    "    }\n",
    "    return r\n",
    "\n",
    "def setup(datas):\n",
    "    return {\n",
    "        'move_id': 0,\n",
    "        'sub_move_id': 0,\n",
    "        'table': setup_table(datas),\n",
    "        'players': setup_players(**datas),\n",
    "        'governor': datas['governor']\n",
    "    }"
   ]
  },
  {
   "cell_type": "code",
   "execution_count": null,
   "metadata": {},
   "outputs": [],
   "source": [
    "def setup_lookups(buildings, plantations_owned, **kvargs):\n",
    "    global building_lookup\n",
    "    building_lookup = {k:{\n",
    "        'name': b['bld_type'],\n",
    "        'type': 'factories' if b['res_type'] else 'commercial',\n",
    "        'res_type': b['res_type'],\n",
    "        'potential_vp': 1 if b['bld_valence'] == \"1\" else 2,\n",
    "        'tile_size': 2 if b['bld_max_discount'] == \"4\" else 1,\n",
    "        'jobs': int(b['bld_valence']),\n",
    "        'cost': int(b['bld_cost']),\n",
    "        'max_discount': int(b['bld_max_discount']),\n",
    "        'vp': int(b['bld_score'])\n",
    "    } for k,b in buildings.items()}\n",
    "    \n",
    "    global plantation_lookup\n",
    "    plantation_lookup = {k:p['res_type'] for k,p in plantations_owned.items()}\n",
    "    \n",
    "    global colonist_lookup\n",
    "    colonist_lookup = {}    \n",
    "    \n",
    "    global run_limits\n",
    "    run_limits = {}   "
   ]
  },
  {
   "cell_type": "code",
   "execution_count": null,
   "metadata": {},
   "outputs": [],
   "source": [
    "new_game_state = 1\n",
    "if not 'actions' in globals():\n",
    "    global actions\n",
    "    actions = dict()    \n",
    "\n",
    "game_log = load_game('table_27174212.json')\n",
    "datas = load_from_json_file('datas_27174212.json')[7]\n",
    "game_state = setup(datas)\n",
    "setup_lookups(**datas)"
   ]
  },
  {
   "cell_type": "markdown",
   "metadata": {},
   "source": [
    "### Unverified"
   ]
  },
  {
   "cell_type": "code",
   "execution_count": null,
   "metadata": {},
   "outputs": [],
   "source": [
    "def get_player(state, player_id=None, **args):\n",
    "    return state['players'].get(str(player_id), None)\n",
    "\n",
    "def prepare(state, **kvargs):\n",
    "    new_state = alter_dict(state)\n",
    "    player = get_player(new_state, **kvargs)\n",
    "    table = new_state['table']\n",
    "    return new_state, player, table"
   ]
  },
  {
   "cell_type": "code",
   "execution_count": null,
   "metadata": {},
   "outputs": [],
   "source": [
    "def do_nothing(log=None):\n",
    "    def dn(state, **args):\n",
    "        print_log(log, **args)\n",
    "        return state\n",
    "    return dn\n",
    "log = ' - d:${description:70} t:${type}, n:${name}'#', a:${action}'#', possible_actions:${possibleactions}'\n",
    "\n",
    "actions['leaveGameState']      = do_nothing('<-[leaveGameState ]' + log)\n",
    "actions['gameStateChange']     = do_nothing('->[gameStateChange]' + log)\n",
    "actions['updateReflexionTime'] = do_nothing('  [updateReflexionTime]')\n",
    "actions['message' ]            = do_nothing()\n",
    "actions['gameStateMultipleActiveUpdate'] = do_nothing('  gameStateMultipleActiveUpdate')"
   ]
  },
  {
   "cell_type": "code",
   "execution_count": null,
   "metadata": {
    "scrolled": false
   },
   "outputs": [],
   "source": [
    "def roleSelected(state, rol_id, rol_type, unavailable_roles, **args):\n",
    "    new_state = alter_dict(state)\n",
    "    r = new_state['table']['roles'][rol_id]\n",
    "    new_state['table']['money'] += r['money']\n",
    "    r['money'] = 0\n",
    "    r['selected'] = True\n",
    "    return new_state\n",
    "\n",
    "actions['roleSelected'] = roleSelected"
   ]
  },
  {
   "cell_type": "code",
   "execution_count": null,
   "metadata": {},
   "outputs": [],
   "source": [
    "def plantationSettlement(state, player_id, **args):\n",
    "    new_state = alter_dict(state)\n",
    "    pl = get_player(new_state, player_id)\n",
    "#     update_counter(new_state['table'], **args)\n",
    "    pick_field(new_state['table'], pl, **args)\n",
    "    return new_state\n",
    "\n",
    "def pick_field(table, player, res_type, pla_id, **args):\n",
    "    player['plantations'][res_type]['jobs'] += 1\n",
    "    player['slots']['plantations'] -= 1\n",
    "    if res_type in table['plantations']:\n",
    "        table['plantations'].remove(res_type)\n",
    "    plantation_lookup[pla_id] = res_type\n",
    "\n",
    "\n",
    "def update_counter(target, counter_name=None, counter_delta=0, **args):\n",
    "    if counter_name is not None:\n",
    "        target[counter_name] += counter_delta\n",
    "\n",
    "actions['plantationSettlement'] = plantationSettlement"
   ]
  },
  {
   "cell_type": "code",
   "execution_count": null,
   "metadata": {},
   "outputs": [],
   "source": [
    "def discardPlantations(state, **args):\n",
    "    return state\n",
    "\n",
    "actions['discardPlantations'] = discardPlantations"
   ]
  },
  {
   "cell_type": "code",
   "execution_count": null,
   "metadata": {},
   "outputs": [],
   "source": [
    "def drawPlantations(state, plantations_to_set, **args):\n",
    "    new_state = alter_dict(state)\n",
    "    new_state['table']['plantations'] = setup_plantations(plantations_to_set)\n",
    "    return new_state\n",
    "\n",
    "actions['drawPlantations'] = drawPlantations"
   ]
  },
  {
   "cell_type": "code",
   "execution_count": null,
   "metadata": {},
   "outputs": [],
   "source": [
    "def buildingBought(state, bld_type_tr, cost, **kvargs):\n",
    "    new_state, p, t = prepare(state, **kvargs)\n",
    "    cost = int(cost)\n",
    "        \n",
    "    add_building_to_player(p, bld_type_tr, **kvargs)\n",
    "    t['buildings'][bld_type_tr] -= 1\n",
    "    \n",
    "    p['money'] -= cost\n",
    "    t['money'] += cost\n",
    "    return new_state\n",
    "\n",
    "def add_building_to_player(player, bld_type_tr, score_delta, bld_id, **kvargs):\n",
    "    b = building_lookup[bld_id]\n",
    "    player['slots']['buildings'] -= b['tile_size']\n",
    "    player['building_vp'] += int(score_delta)\n",
    "    player['potential_vp'][b['type']] += b['potential_vp']\n",
    "    if b['type'] == 'commercial':\n",
    "        player['buildings']['commercial'][b['name']] = False  \n",
    "    else:\n",
    "        player['buildings']['factories'][b['res_type']]['jobs'] += b['jobs']\n",
    "    \n",
    "actions['buildingBought'] = buildingBought"
   ]
  },
  {
   "cell_type": "code",
   "execution_count": null,
   "metadata": {},
   "outputs": [],
   "source": [
    "def colonistsEarnedFromShip(state, delta, **kvargs):\n",
    "    new_state, p, t = prepare(state, **kvargs)\n",
    "\n",
    "    p['workers']['total'] += delta\n",
    "    p['workers']['unemployed'] += delta\n",
    "    t['workers']['arriving'] -= delta\n",
    "  \n",
    "    return new_state\n",
    "\n",
    "def colonistsEarnedFromSupply(state, delta, **kvargs):\n",
    "    new_state, p, t = prepare(state, **kvargs)\n",
    "    \n",
    "    p['workers']['total'] += delta\n",
    "    p['workers']['unemployed'] += delta\n",
    "    t['workers']['available'] -= delta\n",
    "    \n",
    "    return new_state\n",
    "\n",
    "actions['colonistsEarnedFromSupply'] = colonistsEarnedFromSupply\n",
    "actions['colonistsEarnedFromShip'] = colonistsEarnedFromShip"
   ]
  },
  {
   "cell_type": "code",
   "execution_count": null,
   "metadata": {},
   "outputs": [],
   "source": [
    "def colonistToBuilding(state, col_id, bld_id, delta, **kvargs):\n",
    "    new_state = alter_dict(state)\n",
    "    colonist_lookup[col_id] = {'id': bld_id, 'type': 'bld'}\n",
    "    b = building_lookup[bld_id]\n",
    "    pl = get_player(new_state, **kvargs)\n",
    "    pb = pl['buildings'][b['type']]\n",
    "\n",
    "    if b['type'] != 'commercial':\n",
    "        pb[b['res_type']]['workers'] += delta\n",
    "    else:\n",
    "        pb[b['name']] = True\n",
    "    pl['workers']['unemployed'] -= delta\n",
    "    return new_state\n",
    "\n",
    "def colonistToPlantation(state, col_id, pla_id, delta, **kvargs):\n",
    "    new_state = alter_dict(state)\n",
    "    colonist_lookup[col_id] = {'id': pla_id, 'type': 'pla'}\n",
    "    p = get_player(new_state, **kvargs)\n",
    "    res_type = plantation_lookup[pla_id]\n",
    "    \n",
    "    p['plantations'][res_type]['workers'] += delta\n",
    "    p['workers']['unemployed'] -= delta\n",
    "    return new_state\n",
    "\n",
    "def colonistToSanJuan(state, col_id, delta, **kvargs):\n",
    "    id = colonist_lookup[col_id]['id']\n",
    "    type = colonist_lookup[col_id]['type']\n",
    "    if type == 'pla':\n",
    "        state = colonistToPlantation(state, col_id, id, -delta, **kvargs)\n",
    "    else:\n",
    "        state = colonistToBuilding(state, col_id, id, -delta, **kvargs)\n",
    "    return state\n",
    "    \n",
    "actions['colonistToBuilding'] = colonistToBuilding\n",
    "actions['colonistToPlantation'] = colonistToPlantation\n",
    "actions['colonistToSanJuan'] = colonistToSanJuan"
   ]
  },
  {
   "cell_type": "code",
   "execution_count": null,
   "metadata": {},
   "outputs": [],
   "source": [
    "def colonistsToShip(state, delta, **kvargs):\n",
    "    new_state = alter_dict(state)\n",
    "    delta = int(delta)\n",
    "    new_state['table']['workers']['available'] -= delta\n",
    "    new_state['table']['workers']['arriving']  += delta\n",
    "    return new_state\n",
    "\n",
    "actions['colonistsToShip'] = colonistsToShip"
   ]
  },
  {
   "cell_type": "code",
   "execution_count": null,
   "metadata": {},
   "outputs": [],
   "source": [
    "def produceGoods(state, res_type, delta, **kvargs):\n",
    "    new_state, p, t = prepare(state, **kvargs)    \n",
    "    delta = int(delta)    \n",
    "    t['goods'][res_type] -= delta\n",
    "    p['goods'][res_type] += delta\n",
    "    return new_state\n",
    "\n",
    "actions['produceGoods'] = produceGoods"
   ]
  },
  {
   "cell_type": "code",
   "execution_count": null,
   "metadata": {},
   "outputs": [],
   "source": [
    "def doubloonsEarned(state, delta, **kvargs):\n",
    "    new_state, p, t = prepare(state, **kvargs) \n",
    "    delta = int(delta)\n",
    "    t['money'] -= delta\n",
    "    p['money'] += delta\n",
    "    return new_state\n",
    "\n",
    "actions['doubloonsEarned'] = doubloonsEarned"
   ]
  },
  {
   "cell_type": "code",
   "execution_count": null,
   "metadata": {},
   "outputs": [],
   "source": [
    "def doubloonToRole(state, **kvargs):\n",
    "    new_state, p, t = prepare(state, **kvargs)\n",
    "    rol_id = dict(kvargs['role_tooltips']).popitem()[0]\n",
    "    t['money'] -= 1\n",
    "    t['roles'][rol_id]['money'] += 1\n",
    "    return new_state\n",
    "\n",
    "actions['doubloonToRole'] = doubloonToRole"
   ]
  },
  {
   "cell_type": "code",
   "execution_count": null,
   "metadata": {},
   "outputs": [],
   "source": [
    "def newGovernor(state, new_governor_player_id, **kvargs):\n",
    "    new_state = alter_dict(state)\n",
    "    new_state['governor'] = new_governor_player_id\n",
    "    for r in new_state['table']['roles'].values():\n",
    "        r['selected'] = False\n",
    "    return new_state\n",
    "\n",
    "actions['newGovernor'] = newGovernor"
   ]
  },
  {
   "cell_type": "code",
   "execution_count": null,
   "metadata": {},
   "outputs": [],
   "source": [
    "def goodsShipped(state, shp_id, res_type, delta, **kvargs):\n",
    "    new_state, p, t = prepare(state, **kvargs)\n",
    "    \n",
    "    if shp_id:\n",
    "        t['ships'][shp_id]['res_type'] = res_type\n",
    "        t['ships'][shp_id]['goods'] += delta\n",
    "        p['goods'][res_type] -= delta\n",
    "    else:\n",
    "        t['goods'][res_type] += delta\n",
    "        p['goods'][res_type] -= delta\n",
    "\n",
    "    return new_state\n",
    "\n",
    "def victoryPointsEarned(state, delta, **kvargs):\n",
    "    new_state, p, t = prepare(state, **kvargs)\n",
    "    \n",
    "    t['VPs'] -= delta\n",
    "    p['delivery_vp'] += delta\n",
    "\n",
    "    return new_state\n",
    "\n",
    "  \n",
    "actions['selectShip'] = do_nothing('selectShip')\n",
    "actions['selectWharf'] = do_nothing('selectWharf')\n",
    "actions['goodsShipped'] = goodsShipped\n",
    "actions['victoryPointsEarned'] = victoryPointsEarned"
   ]
  },
  {
   "cell_type": "code",
   "execution_count": null,
   "metadata": {},
   "outputs": [],
   "source": [
    "def moveGoodsToSupply(state, **kvargs):\n",
    "    new_state = alter_dict(state)\n",
    "    \n",
    "    for s in new_state['table']['ships'].values():\n",
    "        if int(s['capacity']) <= s['goods']:\n",
    "            new_state['table']['goods'][s['res_type']] += s['goods']\n",
    "            s['goods'] = 0\n",
    "            s['res_type'] = None\n",
    "            \n",
    "    if len(new_state['table']['stock']) == 4:\n",
    "        for res_type in new_state['table']['stock']:\n",
    "            new_state['table']['goods'][res_type] += 1\n",
    "        new_state['table']['stock'] = []\n",
    "            \n",
    "    return new_state\n",
    "\n",
    "actions['moveGoodsToSupply'] = moveGoodsToSupply"
   ]
  },
  {
   "cell_type": "code",
   "execution_count": null,
   "metadata": {},
   "outputs": [],
   "source": [
    "def check_limit(limit):\n",
    "    if run_limits[limit] == 0:\n",
    "        raise Exception('\"{}\" must be reviewed'.format(limit))\n",
    "    else:\n",
    "        run_limits[limit] -= 1"
   ]
  },
  {
   "cell_type": "code",
   "execution_count": null,
   "metadata": {},
   "outputs": [],
   "source": [
    "def goodStored(state, res_type, one_by_one, **kvargs):\n",
    "    new_state, p, t = prepare(state, **kvargs)\n",
    "    p['goods']['stored'][res_type] = {'one_by_one': one_by_one}\n",
    "    return new_state\n",
    "\n",
    "def goodUnstored(state, res_type, one_by_one, **kvargs):\n",
    "    new_state, p, t = prepare(state, **kvargs)\n",
    "       \n",
    "    del p['goods']['stored'][res_type]\n",
    "    return new_state\n",
    "\n",
    "def endOfStorage(state, **kvargs):\n",
    "    pprint(kvargs)\n",
    "    return state\n",
    "\n",
    "actions['goodStored'] = goodStored\n",
    "actions['goodUnstored'] = goodUnstored\n",
    "actions['endOfStorage'] = endOfStorage"
   ]
  },
  {
   "cell_type": "code",
   "execution_count": null,
   "metadata": {},
   "outputs": [],
   "source": [
    "def lostGoodsToSupply(state, **kvargs):\n",
    "    new_state, p, t = prepare(state, **kvargs)\n",
    "    for res_type in good_types:\n",
    "        if res_type not in p['goods']['stored']:\n",
    "            t['goods'][res_type] += p['goods'][res_type]\n",
    "            p['goods'][res_type] = 0\n",
    "        elif 'one_by_one' in p['goods']['stored'][res_type] and p['goods']['stored'][res_type]['one_by_one']:\n",
    "            t['goods'][res_type] += p['goods'][res_type] - 1\n",
    "            p['goods'][res_type] = 1\n",
    "        \n",
    "    p['goods']['stored'] = {}\n",
    "            \n",
    "    return new_state\n",
    "\n",
    "actions['lostGoodsToSupply'] = lostGoodsToSupply"
   ]
  },
  {
   "cell_type": "code",
   "execution_count": null,
   "metadata": {},
   "outputs": [],
   "source": [
    "def resourceSold(state, res_type, **kvargs):\n",
    "    new_state, p, t = prepare(state, **kvargs)\n",
    "    \n",
    "    p['goods'][res_type] -= 1\n",
    "    t['stock'].append(res_type)\n",
    "            \n",
    "    return new_state\n",
    "\n",
    "actions['resourceSold'] = resourceSold"
   ]
  },
  {
   "cell_type": "code",
   "execution_count": null,
   "metadata": {},
   "outputs": [],
   "source": [
    "actions['draftCompleted'] = do_nothing('draftCompleted')\n",
    "actions['reshufflePlantations'] = do_nothing('reshufflePlantations')\n",
    "actions['lastYear'] = do_nothing()\n",
    "actions['scoreShippingPoints'] = do_nothing()\n",
    "actions['scoreConditionalPoints'] = do_nothing()\n",
    "actions['scoreEndPoints'] = do_nothing()\n",
    "actions['endOfGame'] = do_nothing()\n",
    "actions['simpleNode'] = do_nothing()"
   ]
  },
  {
   "cell_type": "code",
   "execution_count": null,
   "metadata": {},
   "outputs": [],
   "source": [
    "# x = debug(game_state, next_step, lostGoodsToSupply)"
   ]
  },
  {
   "cell_type": "markdown",
   "metadata": {},
   "source": [
    "\n",
    "# ACTIVE DEVELOPMENT ZONE\n"
   ]
  },
  {
   "cell_type": "code",
   "execution_count": null,
   "metadata": {
    "scrolled": false
   },
   "outputs": [],
   "source": [
    "new_game_state = 1\n",
    "while new_game_state and len(game_log) > game_state['move_id']:\n",
    "        \n",
    "    next_step = get_step(game_log, **game_state)\n",
    "    if next_step['type'] not in ('gameStateChange', 'updateReflexionTime', 'message'):\n",
    "        display(JSON(next_step, root='next_step'))\n",
    "        print_line('.')\n",
    "        print()\n",
    "        \n",
    "    new_game_state = apply_step(game_state, next_step)\n",
    "    \n",
    "    if new_game_state:\n",
    "        if not game_state is new_game_state:\n",
    "            print()    \n",
    "            print_diff(game_state, new_game_state, consumer=lambda l: pprint(l, width=10))\n",
    "            print_line('-')    \n",
    "            \n",
    "        game_state = move_to_next_step(game_log, new_game_state)\n",
    "        if not game_state['sub_move_id']: \n",
    "            print()\n",
    "            print_line('=')\n",
    "            print('move {move_id}.{sub_move_id}'.format(**game_state))\n",
    "            display(JSON(game_state, root='game_state'))\n",
    "#             break          \n",
    "            print_line('=')"
   ]
  },
  {
   "cell_type": "raw",
   "metadata": {},
   "source": [
    "def get_active_player(game_state, step):\n",
    "    if step['args']['type'] == 'activeplayer':\n",
    "        player_id = step['args']['active_player']\n",
    "        return game_state['players'][player_id]['_']\n",
    "    else:\n",
    "        return None"
   ]
  },
  {
   "cell_type": "raw",
   "metadata": {},
   "source": [
    "for step in game_log[game_state['move_id']]['data']:\n",
    "    if step['type'] == 'gameStateChange':\n",
    "        print_log('> gameStateChange: ' + step['args']['description'], actplayer = get_active_player(game_state, step), **step['args'])\n",
    "    elif step['type'] in ('updateReflexionTime', 'gameStateMultipleActiveUpdate'):\n",
    "        print_log(step['type'] + ': ' + step['log'])\n",
    "    else: \n",
    "        print_log(step['type'] + ': ' + step['log'], **dict(step['args']))\n",
    "        print()\n",
    "        display(JSON(step['args'], expanded=False, root='step_args'))\n",
    "    print('-' * width)"
   ]
  },
  {
   "cell_type": "raw",
   "metadata": {},
   "source": [
    "\n",
    "\n",
    "\n",
    "\n",
    "\n",
    "\n",
    "\n",
    "\n",
    "\n",
    "\n",
    "\n",
    "\n",
    "\n",
    "\n",
    "\n",
    "\n"
   ]
  },
  {
   "cell_type": "raw",
   "metadata": {},
   "source": [
    "def steps(log):\n",
    "    for move_id, move in enumerate(log):\n",
    "        for sub_move_id, sub_move in enumerate(move['data']):\n",
    "#             if sub_move_id != 0:\n",
    "                yield sub_move"
   ]
  },
  {
   "cell_type": "raw",
   "metadata": {},
   "source": [
    "c = collections.Counter([s['type'] for s in steps(game_log) if s['type'] not in actions])\n",
    "c.most_common(20)"
   ]
  },
  {
   "cell_type": "raw",
   "metadata": {},
   "source": [
    "c = collections.Counter([s['args']['name']+str([k for k in s['args'].keys() if k not in exclude]) for s in steps(game_log) if s['type'] == 'gameStateChange'])\n",
    "c.most_common(30)"
   ]
  },
  {
   "cell_type": "raw",
   "metadata": {},
   "source": [
    "exclude = {'name', 'description', 'descriptionmyturn', 'type', 'action', 'active_player', 'args', 'reflexion', 'transitions', 'updateGameProgression', 'possibleactions'}\n",
    "# JSON(sorted({str(s['args']['possibleactions']) for s in steps(game_log) if s['type'] == 'gameStateChange' and 'possibleactions' in s['args'].keys()}), expanded=False)\n",
    "for s in steps(game_log):\n",
    "    if s['type'] == 'gameStateChange':\n",
    "        print_log(log, **dict(s['args']))"
   ]
  }
 ],
 "metadata": {
  "kernelspec": {
   "display_name": "Python 3",
   "language": "python",
   "name": "python3"
  },
  "language_info": {
   "codemirror_mode": {
    "name": "ipython",
    "version": 3
   },
   "file_extension": ".py",
   "mimetype": "text/x-python",
   "name": "python",
   "nbconvert_exporter": "python",
   "pygments_lexer": "ipython3",
   "version": "3.6.6"
  }
 },
 "nbformat": 4,
 "nbformat_minor": 2
}
